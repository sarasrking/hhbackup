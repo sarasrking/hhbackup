{
 "cells": [
  {
   "cell_type": "markdown",
   "metadata": {},
   "source": [
    "# Get a random work from Trove using queries and facets\n",
    "\n",
    "Here's another way you can get a random work from Trove's `book`, `article`, `picture`, `map`, `music`, or `collection` zones. This approach is particularly useful if you want to get a random result from a search, or want to apply a variety of facets. It's not as quick as [pinging random work ids at Trove](notebooks/random_work_by_id.ipynb), but it's more flexible.\n",
    "\n",
    "Basically this method gets all the available facets for a particular search. If the search has more than 100 results, it chooses one of the facets at random and applies it. It keeps doing this until the search returns less that 100 results. Then it chooses a work at random from the results. If you don't supply a query, it uses a random stop word to mix things up a bit.\n",
    "\n",
    "The problem with this approach is that facets can't always be extracted from records, and there's no way of finding records without a particular facet. For example, you can use the `year` facet to limit results to a particular year, but what about records that don't have a `year` value. Once you start using that facet, they're invisible. I'm worried that this will mean that certain parts of Trove will never be surfaced. It would of course be much better if Trove just supported random sorting so I didn't have to do all these stupid workarounds.\n",
    "\n",
    "Collection searches (ie using NUC identifiers) are particularly tricky, because items from a single collection can share very similar facet values. To try and limit the results in this sort of situation, I've provided a couple of extra parameters:\n",
    "\n",
    "* `add_word` – adds a random stopword to the query\n",
    "* `add_number` – adds a random two digit number to the query (useful if the records use numeric identifiers)\n",
    "\n",
    "These can help increase the degree of randomness, but again I suspect some parts of collections will never be reached."
   ]
  },
  {
   "cell_type": "code",
   "execution_count": 1,
   "metadata": {},
   "outputs": [],
   "source": [
    "import requests\n",
    "import json\n",
    "import random\n",
    "from requests.adapters import HTTPAdapter\n",
    "from requests.packages.urllib3.util.retry import Retry\n",
    "from IPython.display import display, HTML\n",
    "\n",
    "s = requests.Session()\n",
    "retries = Retry(total=5, backoff_factor=1, status_forcelist=[ 502, 503, 504 ])\n",
    "s.mount('https://', HTTPAdapter(max_retries=retries))\n",
    "s.mount('http://', HTTPAdapter(max_retries=retries))\n",
    "\n",
    "with open('stopwords.json', 'r') as json_file:\n",
    "    STOPWORDS = json.load(json_file)"
   ]
  },
  {
   "cell_type": "code",
   "execution_count": 2,
   "metadata": {},
   "outputs": [],
   "source": [
    "API_KEY = 'YOUR API KEY'\n",
    "API_URL = 'http://api.trove.nla.gov.au/v2/result'"
   ]
  },
  {
   "cell_type": "code",
   "execution_count": 3,
   "metadata": {},
   "outputs": [],
   "source": [
    "def get_facet_terms(terms):\n",
    "    '''\n",
    "    Get all the terms in a facet.\n",
    "    '''\n",
    "    facet_terms = []\n",
    "    for term in terms:\n",
    "        facet_terms.append(term['search'])\n",
    "        if 'term' in term:\n",
    "            facet_terms += get_facet_terms(term['term'])\n",
    "    return facet_terms\n",
    "\n",
    "def get_facets(data):\n",
    "    '''\n",
    "    Get the names/terms of facets available from a search.\n",
    "    '''\n",
    "    facets = []\n",
    "    for facet in data['response']['zone'][0]['facets']['facet']:\n",
    "        if facet['name'][:3] != 'adv' and facet['name'] != 'decade':\n",
    "            terms = get_facet_terms(facet['term'])\n",
    "            facets.append({'facet': facet['name'], 'terms': terms})\n",
    "    return facets\n",
    "\n",
    "\n",
    "def set_query(params, query=None, add_word=False, add_number=False):\n",
    "    '''\n",
    "    Add a 'q' value to the parameters, including random words and numbers if required.\n",
    "    '''\n",
    "    random_word = random.choice(STOPWORDS)\n",
    "    random_number = random.randrange(1, 100)\n",
    "    if query:\n",
    "        if add_word:\n",
    "            params['q'] = f'{query} \"{random_word}\"'\n",
    "        elif add_number:\n",
    "            params['q'] = f'{query} \"{random_number:02}\"'\n",
    "        else:\n",
    "            params['q'] = query\n",
    "    else:\n",
    "        params['q'] = f'\"{random_word}\"'\n",
    "    return params\n",
    "\n",
    "\n",
    "def get_random_work_from_zone(zone, query, **kwargs):\n",
    "    total = 0\n",
    "    applied_facets = []\n",
    "    params = {\n",
    "        'zone': zone,\n",
    "        'encoding': 'json',\n",
    "        # Keeping this at 0 until we've filtered the results speeds things up\n",
    "        'n': '0',\n",
    "        'key': API_KEY,\n",
    "        'facet': 'all',\n",
    "        'include': 'links'\n",
    "    }\n",
    "    params['q'] = query\n",
    "    for key, value in kwargs.items():\n",
    "        params[f'l-{key}'] = value\n",
    "        applied_facets.append(key)\n",
    "    response = s.get(API_URL, params=params)\n",
    "    data = response.json()\n",
    "    total = int(data['response']['zone'][0]['records']['total'])\n",
    "    facets = get_facets(data)\n",
    "    facets[:] = [f for f in facets if f.get('facet') not in applied_facets]\n",
    "    # Keep going until we either have less than 100 results or we run out of facets\n",
    "    while total > 100 and len(facets) > 0:\n",
    "        # print(f'Facets: {len(facets)}')\n",
    "        # Select another facet\n",
    "        new_facet = random.choice(facets)\n",
    "        # Add it to the applied list\n",
    "        applied_facets.append(new_facet['facet'])\n",
    "        # Add the new facet as a parameter\n",
    "        params[f'l-{new_facet[\"facet\"]}'] = random.choice(new_facet['terms'])\n",
    "        # Get the new results\n",
    "        response = s.get(API_URL, params=params)\n",
    "        data = response.json()\n",
    "        # Get the facets available from the new search\n",
    "        facets = get_facets(data)\n",
    "        # Remove facets from the list that have already been applied\n",
    "        facets[:] = [f for f in facets if f.get('facet') not in applied_facets]\n",
    "        total = int(data['response']['zone'][0]['records']['total'])\n",
    "        # print(total)\n",
    "        # print(response.url)\n",
    "    if total > 0:\n",
    "        params['n'] = '100'\n",
    "        # Cleaning up a bit\n",
    "        params.pop('facet', None)\n",
    "        response = s.get(API_URL, params=params)\n",
    "        data = response.json()\n",
    "        work = random.choice(data['response']['zone'][0]['records']['work'])\n",
    "        return work\n",
    "\n",
    "\n",
    "def get_zones(data):\n",
    "    '''\n",
    "    Find which zones have results in them.\n",
    "    '''\n",
    "    zones = []\n",
    "    for zone in data['response']['zone']:\n",
    "        if int(zone['records']['total']) > 0:\n",
    "            zones.append(zone['name'])\n",
    "    return zones\n",
    "\n",
    "\n",
    "def get_random_work(zone=None, query=None, add_word=False, add_number=False, **kwargs):\n",
    "    tries = 0\n",
    "    zones = []\n",
    "    params = {\n",
    "        'encoding': 'json',\n",
    "        'n': '0',\n",
    "        'key': API_KEY,\n",
    "    }\n",
    "    if zone:\n",
    "        params['zone'] = zone\n",
    "    else:\n",
    "        params['zone'] = 'book,article,picture,map,music,collection'\n",
    "    params = set_query(params, query, add_word)\n",
    "    # Add any supplied facets\n",
    "    for key, value in kwargs.items():\n",
    "        params[f'l-{key}'] = value\n",
    "    # Make sure that at least some zones have results\n",
    "    while len(zones) == 0 and tries <=10:\n",
    "        params = set_query(params, query, add_word, add_number)\n",
    "        response = s.get(API_URL, params=params)\n",
    "        #print(response.url)\n",
    "        data = response.json()\n",
    "        zones = get_zones(data)\n",
    "        tries += 1\n",
    "    if len(zones) > 0:\n",
    "        work = get_random_work_from_zone(zone=random.choice(zones), query=params['q'], **kwargs)\n",
    "        return work"
   ]
  },
  {
   "cell_type": "markdown",
   "metadata": {},
   "source": [
    "## Get a work from Chinese-Australian Historical Images in Australia (CHIA)\n",
    "\n",
    "This is a collection were facets aren't terribly useful in slicing up the results because the range of values is very limited. However, items in this collection do have numeric identifiers, and so including the `add_number` parameter seems to help divide it up into chunks of less than 100."
   ]
  },
  {
   "cell_type": "code",
   "execution_count": 5,
   "metadata": {},
   "outputs": [
    {
     "data": {
      "text/plain": [
       "{'id': '197896039',\n",
       " 'url': '/work/197896039',\n",
       " 'troveUrl': 'https://trove.nla.gov.au/work/197896039',\n",
       " 'title': 'ä¸\\xadæ¾³å\\x8d\\x94æ\\x9c\\x83æ\\xad¡è¿\\x8eå¾\\x90æ¨¡å\\x85¬ä½¿é¤\\x90æ\\x9c\\x83 Dinner for Dr. Hsu Mo held by the Australian Chinese Association',\n",
       " 'contributor': ['unknown'],\n",
       " 'issued': 1941,\n",
       " 'type': ['Photograph'],\n",
       " 'holdingsCount': 1,\n",
       " 'versionCount': 1,\n",
       " 'relevance': {'score': '818.7215', 'value': 'very relevant'},\n",
       " 'identifier': [{'type': 'url',\n",
       "   'linktype': 'fulltext',\n",
       "   'value': 'http://www.chia.chinesemuseum.com.au/objects/D003879.htm'},\n",
       "  {'type': 'url',\n",
       "   'linktype': 'thumbnail',\n",
       "   'value': 'http://www.chia.chinesemuseum.com.au/objects/thumbs/tn_KMT02.JPG'}]}"
      ]
     },
     "execution_count": 5,
     "metadata": {},
     "output_type": "execute_result"
    }
   ],
   "source": [
    "get_random_work(query='(nuc:\"VMUS:CHIA\")', add_number=True)"
   ]
  },
  {
   "cell_type": "markdown",
   "metadata": {},
   "source": [
    "## Get a photo with a thumbnail\n",
    "\n",
    "Using the new `imageInd` parameter in the query to find records with thumbnails."
   ]
  },
  {
   "cell_type": "code",
   "execution_count": 6,
   "metadata": {},
   "outputs": [
    {
     "data": {
      "text/plain": [
       "{'id': '238875250',\n",
       " 'url': '/work/238875250',\n",
       " 'troveUrl': 'https://trove.nla.gov.au/work/238875250',\n",
       " 'title': 'Police Officers group photo',\n",
       " 'type': ['Photograph'],\n",
       " 'holdingsCount': 1,\n",
       " 'versionCount': 1,\n",
       " 'relevance': {'score': '0.016939448', 'value': 'vaguely relevant'},\n",
       " 'snippet': ' taken in the Temperance Hotel, Russel ST // Jim Ogden and <b>myself</b> were the only members of force who had',\n",
       " 'identifier': [{'type': 'url',\n",
       "   'linktype': 'fulltext',\n",
       "   'linktext': 'Explore further with Victorian Collections',\n",
       "   'value': 'https://victoriancollections.net.au/items/5de9d99b21ea680ba8f6ed49'},\n",
       "  {'type': 'url',\n",
       "   'linktype': 'thumbnail',\n",
       "   'value': 'https://victoriancollections.net.au/media/collectors/4f729f7997f83e0308601885/items/5de9d99b21ea680ba8f6ed49/item-media/5de9d9c621ea680ba8f74c29/item-130x0.jpg'}]}"
      ]
     },
     "execution_count": 6,
     "metadata": {},
     "output_type": "execute_result"
    }
   ],
   "source": [
    "get_random_work(zone='picture', q='imageInd:thumbnail', format='Photograph')"
   ]
  },
  {
   "cell_type": "markdown",
   "metadata": {},
   "source": [
    "## Get a work tagged 'Japan'\n",
    "\n",
    "You can include as many additional facets as you want. Here's an example using `publictag`."
   ]
  },
  {
   "cell_type": "code",
   "execution_count": 7,
   "metadata": {},
   "outputs": [
    {
     "data": {
      "text/plain": [
       "{'id': '182020307',\n",
       " 'url': '/work/182020307',\n",
       " 'troveUrl': 'https://trove.nla.gov.au/work/182020307',\n",
       " 'title': 'Harold S. Williams Collection',\n",
       " 'contributor': ['Williams, Harold S. (Harold Stannett), 1898-1987'],\n",
       " 'issued': '1800-2000',\n",
       " 'type': ['Published'],\n",
       " 'holdingsCount': 1,\n",
       " 'versionCount': 1,\n",
       " 'relevance': {'score': '0.013777803', 'value': 'vaguely relevant'},\n",
       " 'snippet': ' the publications are in English, but there are a <b>few</b> works in French and Japanese.    The main part of'}"
      ]
     },
     "execution_count": 7,
     "metadata": {},
     "output_type": "execute_result"
    }
   ],
   "source": [
    "get_random_work(publictag='Japan')"
   ]
  },
  {
   "cell_type": "markdown",
   "metadata": {},
   "source": [
    "## Display a random thumbnail\n",
    "\n",
    "Just to cheer myself up a bit..."
   ]
  },
  {
   "cell_type": "code",
   "execution_count": 9,
   "metadata": {},
   "outputs": [
    {
     "data": {
      "text/html": [
       "<img src=\"https://eprints.utas.edu.au/17063/3/cover.jpg\">"
      ],
      "text/plain": [
       "<IPython.core.display.HTML object>"
      ]
     },
     "metadata": {},
     "output_type": "display_data"
    }
   ],
   "source": [
    "record = get_random_work(zone='picture', q='imageInd:thumbnail', format='Photograph')\n",
    "for link in record['identifier']:\n",
    "    if link['linktype'] == 'thumbnail':\n",
    "        url = link['value']\n",
    "        break\n",
    "display(HTML(f'<img src=\"{url}\">'))"
   ]
  },
  {
   "cell_type": "markdown",
   "metadata": {},
   "source": [
    "## Speed test"
   ]
  },
  {
   "cell_type": "code",
   "execution_count": 10,
   "metadata": {},
   "outputs": [
    {
     "name": "stdout",
     "output_type": "stream",
     "text": [
      "The slowest run took 4.66 times longer than the fastest. This could mean that an intermediate result is being cached.\n",
      "2.63 s ± 1.11 s per loop (mean ± std. dev. of 7 runs, 1 loop each)\n"
     ]
    }
   ],
   "source": [
    "%%timeit\n",
    "get_random_work()"
   ]
  },
  {
   "cell_type": "markdown",
   "metadata": {},
   "source": [
    "----\n",
    "\n",
    "Created by [Tim Sherratt](https://timsherratt.org/) for the [GLAM Workbench](https://glam-workbench.github.io/).\n"
   ]
  }
 ],
 "metadata": {
  "kernelspec": {
   "display_name": "Python 3",
   "language": "python",
   "name": "python3"
  },
  "language_info": {
   "codemirror_mode": {
    "name": "ipython",
    "version": 3
   },
   "file_extension": ".py",
   "mimetype": "text/x-python",
   "name": "python",
   "nbconvert_exporter": "python",
   "pygments_lexer": "ipython3",
   "version": "3.7.7"
  }
 },
 "nbformat": 4,
 "nbformat_minor": 4
}
