{
 "cells": [
  {
   "cell_type": "markdown",
   "metadata": {},
   "source": [
    "# Get a random work from Trove\n",
    "\n",
    "Here's a way you can get a random work from Trove's `book`, `article`, `picture`, `map`, `music`, or `collection` zones. It generates random work id prefixes and performs a wildcard search using the `id` index. If the prefix returns no results, a digit is sliced off the end. If a prefix returns more than 100 results, a digit is added to the end. This continues until the result set hits the sweet spot between 0 and 100.\n",
    "\n",
    "This method should also work ok with the `format` facet, however, the further you go down the format hierarchy the smaller the slices, and therefore the harder it will be to match a work id. But certainly you should be able to get random works with specific top-level formats without any drama – for example, a random thesis from the book zone.\n",
    "\n",
    "This method is probably not going to work for specific collections (ie with a NUC id), or in combination with other search queries. Basically, the more you limit the pool of potential resources, the harder it will be to match on random work ids. In that case you might want to [try using facets](notebooks/random_work_by_facets.ipynb)."
   ]
  },
  {
   "cell_type": "code",
   "execution_count": 1,
   "metadata": {},
   "outputs": [],
   "source": [
    "import requests\n",
    "import random\n",
    "from requests.adapters import HTTPAdapter\n",
    "from requests.packages.urllib3.util.retry import Retry\n",
    "\n",
    "s = requests.Session()\n",
    "retries = Retry(total=5, backoff_factor=1, status_forcelist=[ 502, 503, 504 ])\n",
    "s.mount('https://', HTTPAdapter(max_retries=retries))\n",
    "s.mount('http://', HTTPAdapter(max_retries=retries))"
   ]
  },
  {
   "cell_type": "code",
   "execution_count": 2,
   "metadata": {},
   "outputs": [],
   "source": [
    "API_KEY = 'YOUR API KEY'\n",
    "API_URL = 'http://api.trove.nla.gov.au/v2/result'"
   ]
  },
  {
   "cell_type": "code",
   "execution_count": 3,
   "metadata": {},
   "outputs": [],
   "source": [
    "def get_random_work_from_zone(zone, work_format=None):\n",
    "    total = 0\n",
    "    params = {\n",
    "        'zone': zone,\n",
    "        'encoding': 'json',\n",
    "        'n': '100',\n",
    "        'key': API_KEY\n",
    "    }\n",
    "    if work_format:\n",
    "        params['l-format'] = work_format\n",
    "    random_id = None\n",
    "    random_sequence = list(range(0, 10))\n",
    "    random.shuffle(random_sequence)\n",
    "    pos = 0\n",
    "    while total == 0 or total > 100:\n",
    "        if total == 0 and random_id is None:\n",
    "            random_id = str(random.randrange(10000, 100000))\n",
    "        elif total == 0:\n",
    "            if len(random_id) >= 4:\n",
    "                random_id = random_id[:-1]\n",
    "            else:\n",
    "                random_id = str(random.randrange(10000, 100000))\n",
    "        if total > 100 and pos < 10:\n",
    "            random_id = f'{random_id}{random_sequence[pos]}'\n",
    "            pos += 1\n",
    "        elif pos == 10:\n",
    "            random_id = str(random.randrange(10000, 100000))\n",
    "            pos = 0\n",
    "        params['q'] = f'id:{random_id}*'\n",
    "        response = s.get(API_URL, params=params)\n",
    "        data = response.json()\n",
    "        total = int(data['response']['zone'][0]['records']['total'])\n",
    "        # print(total)\n",
    "        # print(response.url)\n",
    "    return random.choice(data['response']['zone'][0]['records']['work'])\n",
    "\n",
    "def get_random_work():\n",
    "    zone = random.choice(['book', 'article', 'picture', 'map', 'music', 'collection'])\n",
    "    work = get_random_work_from_zone(zone)\n",
    "    return work"
   ]
  },
  {
   "cell_type": "markdown",
   "metadata": {},
   "source": [
    "## Get a random work from a random zone"
   ]
  },
  {
   "cell_type": "code",
   "execution_count": 4,
   "metadata": {},
   "outputs": [
    {
     "data": {
      "text/plain": [
       "{'id': '421149',\n",
       " 'url': '/work/421149',\n",
       " 'troveUrl': 'https://trove.nla.gov.au/work/421149',\n",
       " 'title': 'The history of the 67th regiment Indiana infantry volunteers : war of the rebellion',\n",
       " 'contributor': ['Scott, Reuben B. comp'],\n",
       " 'issued': 1892,\n",
       " 'type': ['Book'],\n",
       " 'holdingsCount': 0,\n",
       " 'versionCount': 1,\n",
       " 'relevance': {'score': '6.0044403', 'value': 'very relevant'},\n",
       " 'identifier': [{'type': 'url',\n",
       "   'linktype': 'restricted',\n",
       "   'linktext': 'Direct link to full text: http://openlibrary.org/details/historyof67threg00scot',\n",
       "   'value': 'http://openlibrary.org/books/OL178491M'}]}"
      ]
     },
     "execution_count": 4,
     "metadata": {},
     "output_type": "execute_result"
    }
   ],
   "source": [
    "get_random_work()"
   ]
  },
  {
   "cell_type": "markdown",
   "metadata": {},
   "source": [
    "## Get a random work from the `picture` zone\n",
    "\n",
    "You can specify one of `book`, `article`, `picture`, `map`, `music`, or `collection`. For example:"
   ]
  },
  {
   "cell_type": "code",
   "execution_count": 5,
   "metadata": {},
   "outputs": [
    {
     "data": {
      "text/plain": [
       "{'id': '7245034',\n",
       " 'url': '/work/7245034',\n",
       " 'troveUrl': 'https://trove.nla.gov.au/work/7245034',\n",
       " 'title': \"The pilgrim's progress from this world to that which is to come. The second part : delivered under the similitude of a dream : wherein is set forth the manner of the setting out of Christian's wife and children, their dangerous journey, and safe arrival at the desired country / John Bunyan\",\n",
       " 'contributor': ['Bunyan, John, 1628-1688'],\n",
       " 'issued': '1684-1986',\n",
       " 'type': ['Book', 'Book/Illustrated', 'Photograph', 'Microform'],\n",
       " 'holdingsCount': 4,\n",
       " 'versionCount': 4,\n",
       " 'relevance': {'score': '7.799999E-6', 'value': 'vaguely relevant'},\n",
       " 'identifier': [{'type': 'url',\n",
       "   'linktype': 'restricted',\n",
       "   'value': 'http://gateway.proquest.com/openurl?ctx_ver=Z39.88-2003&res_id=xri:eebo&rft_val_fmt=&rft_id=xri:eebo:image:108572'},\n",
       "  {'type': 'url',\n",
       "   'linktype': 'thumbnail',\n",
       "   'value': 'https://repository.monash.edu/files/thumbnails/e33d20c3f7436f29a420eed4a072f600.jpg'}]}"
      ]
     },
     "execution_count": 5,
     "metadata": {},
     "output_type": "execute_result"
    }
   ],
   "source": [
    "get_random_work_from_zone('picture')"
   ]
  },
  {
   "cell_type": "markdown",
   "metadata": {},
   "source": [
    "## Get a random thesis from the `book` zone"
   ]
  },
  {
   "cell_type": "code",
   "execution_count": 6,
   "metadata": {},
   "outputs": [
    {
     "data": {
      "text/plain": [
       "{'id': '5874780',\n",
       " 'url': '/work/5874780',\n",
       " 'troveUrl': 'https://trove.nla.gov.au/work/5874780',\n",
       " 'title': 'A study of certain components contributing to knowledge and understanding in physical education of fifth grade boys / Barry W. Clark',\n",
       " 'contributor': ['Clark, Barry W'],\n",
       " 'issued': 1975,\n",
       " 'type': ['Thesis'],\n",
       " 'holdingsCount': 0,\n",
       " 'versionCount': 1,\n",
       " 'relevance': {'score': '6.0044403', 'value': 'very relevant'}}"
      ]
     },
     "execution_count": 6,
     "metadata": {},
     "output_type": "execute_result"
    }
   ],
   "source": [
    "get_random_work_from_zone('book', work_format='Thesis')"
   ]
  },
  {
   "cell_type": "markdown",
   "metadata": {},
   "source": [
    "## Speed test"
   ]
  },
  {
   "cell_type": "code",
   "execution_count": 7,
   "metadata": {},
   "outputs": [
    {
     "name": "stdout",
     "output_type": "stream",
     "text": [
      "The slowest run took 4.35 times longer than the fastest. This could mean that an intermediate result is being cached.\n",
      "537 ms ± 223 ms per loop (mean ± std. dev. of 7 runs, 1 loop each)\n"
     ]
    }
   ],
   "source": [
    "%%timeit\n",
    "get_random_work()"
   ]
  },
  {
   "cell_type": "markdown",
   "metadata": {},
   "source": [
    "----\n",
    "\n",
    "Created by [Tim Sherratt](https://timsherratt.org/) for the [GLAM Workbench](https://glam-workbench.github.io/).\n"
   ]
  }
 ],
 "metadata": {
  "kernelspec": {
   "display_name": "Python 3",
   "language": "python",
   "name": "python3"
  },
  "language_info": {
   "codemirror_mode": {
    "name": "ipython",
    "version": 3
   },
   "file_extension": ".py",
   "mimetype": "text/x-python",
   "name": "python",
   "nbconvert_exporter": "python",
   "pygments_lexer": "ipython3",
   "version": "3.7.7"
  }
 },
 "nbformat": 4,
 "nbformat_minor": 4
}
