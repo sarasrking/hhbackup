{
 "cells": [
  {
   "cell_type": "markdown",
   "metadata": {},
   "source": [
    "# Get an random newspaper article from Trove\n",
    "\n",
    "Changes to the Trove API mean that the techniques I've previously used to select resources at random [will no longer work](https://updates.timsherratt.org/2019/10/09/creators-and-users.html). This notebook provides one alternative.\n",
    "\n",
    "I wanted something that would work efficiently, but would also expose as much of the content as possible. Applying multiple facets together with a randomly-generated query seems to do a good job of getting the result set below 100 (the maximum available from a single API call). This should mean that *most* of the newspaper articles are reachable, but it's a bit hard to quantify.\n",
    "\n",
    "Thanks to Mitchell Harrop for [suggesting I could use randomly selected stopwords](https://twitter.com/mharropesquire/status/1182175315860213760) as queries. I've supplemented the stopwords with letters and digits, and together they seem to do a good job of applying an initial filter and mixing up the relevance ranking.\n",
    "\n",
    "As you can see from the examples below, you can supply any of the facets available in the newspapers zone – for example: `state`, `title`, `year`, `illType`, `category`."
   ]
  },
  {
   "cell_type": "code",
   "execution_count": 1,
   "metadata": {},
   "outputs": [],
   "source": [
    "import random\n",
    "import requests\n",
    "from requests.adapters import HTTPAdapter\n",
    "from requests.packages.urllib3.util.retry import Retry\n",
    "import json\n",
    "\n",
    "s = requests.Session()\n",
    "retries = Retry(total=5, backoff_factor=1, status_forcelist=[ 502, 503, 504 ])\n",
    "s.mount('https://', HTTPAdapter(max_retries=retries))\n",
    "s.mount('http://', HTTPAdapter(max_retries=retries))\n",
    "\n",
    "with open('stopwords.json', 'r') as json_file:\n",
    "    STOPWORDS = json.load(json_file)"
   ]
  },
  {
   "cell_type": "code",
   "execution_count": 2,
   "metadata": {},
   "outputs": [],
   "source": [
    "API_KEY = 'YOUR API KEY'\n",
    "API_URL = 'http://api.trove.nla.gov.au/v2/result'"
   ]
  },
  {
   "cell_type": "code",
   "execution_count": 3,
   "metadata": {},
   "outputs": [],
   "source": [
    "def get_random_facet_value(params, facet):\n",
    "    '''\n",
    "    Get values for the supplied facet and choose one at random.\n",
    "    '''\n",
    "    these_params = params.copy()\n",
    "    these_params['facet'] = facet\n",
    "    response = s.get(API_URL, params=these_params)\n",
    "    data = response.json()\n",
    "    try:\n",
    "        values = [t['search'] for t in data['response']['zone'][0]['facets']['facet']['term']]\n",
    "    except TypeError:\n",
    "        return None\n",
    "    return random.choice(values)\n",
    "\n",
    "    \n",
    "def get_total_results(params):\n",
    "    response = s.get(API_URL, params=params)\n",
    "    data = response.json()\n",
    "    total = int(data['response']['zone'][0]['records']['total'])\n",
    "    return total\n",
    "\n",
    "\n",
    "def get_random_article(query=None, **kwargs):\n",
    "    '''\n",
    "    Get a random article.\n",
    "    The kwargs can be any of the available facets, such as 'state', 'title', 'illtype', 'year'.\n",
    "    '''\n",
    "    total = 0\n",
    "    applied_facets = []\n",
    "    facets = ['month', 'year', 'decade', 'word', 'illustrated', 'category', 'title']\n",
    "    tries = 0\n",
    "    params = {\n",
    "        'zone': 'newspaper',\n",
    "        'encoding': 'json',\n",
    "        # Note that keeping n at 0 until we've filtered the result set speeds things up considerably\n",
    "        'n': '0',\n",
    "        # Uncomment these if you need more than the basic data\n",
    "        #'reclevel': 'full',\n",
    "        #'include': 'articleText',\n",
    "        'key': API_KEY\n",
    "    }\n",
    "    if query:\n",
    "        params['q'] = query\n",
    "    # If there's no query supplied then use a random stopword to mix up the results\n",
    "    else:\n",
    "        random_word = random.choice(STOPWORDS)\n",
    "        params['q'] = f'\"{random_word}\"'\n",
    "    # Apply any supplied factes\n",
    "    for key, value in kwargs.items():\n",
    "        params[f'l-{key}'] = value\n",
    "        applied_facets.append(key)\n",
    "    # Remove any facets that have already been applied from the list of available facets\n",
    "    facets[:] = [f for f in facets if f not in applied_facets]\n",
    "    total = get_total_results(params)\n",
    "    # If our randomly selected stopword has produced no results\n",
    "    # keep trying with new queries until we get some (give up after 10 tries)\n",
    "    while total == 0 and tries <= 10:\n",
    "        if not query:\n",
    "            random_word = random.choice(STOPWORDS)\n",
    "            params['q'] = f'\"{random_word}\"'\n",
    "        tries += 1\n",
    "    # Apply facets one at a time until we have less than 100 results, or we run out of facets\n",
    "    while total > 100 and len(facets) > 0:\n",
    "        # Get the next facet\n",
    "        facet = facets.pop()\n",
    "        # Set the facet to a randomly selected value\n",
    "        params[f'l-{facet}'] = get_random_facet_value(params, facet)\n",
    "        total = get_total_results(params)\n",
    "        #print(total)\n",
    "        #print(response.url)\n",
    "    # If we've ended up with some results, then select one (of the first 100) at random\n",
    "    if total > 0:\n",
    "        params['n'] = '100'\n",
    "        response = s.get(API_URL, params=params)\n",
    "        data = response.json()\n",
    "        article = random.choice(data['response']['zone'][0]['records']['article'])\n",
    "        return article"
   ]
  },
  {
   "cell_type": "markdown",
   "metadata": {},
   "source": [
    "## Get any old article..."
   ]
  },
  {
   "cell_type": "code",
   "execution_count": 4,
   "metadata": {},
   "outputs": [
    {
     "data": {
      "text/plain": [
       "{'id': '254828266',\n",
       " 'url': '/newspaper/254828266',\n",
       " 'heading': 'monday APRIL 24',\n",
       " 'category': 'Detailed lists, results, guides',\n",
       " 'title': {'id': '1500',\n",
       "  'value': 'The Bananacoast Opinion (Coffs Harbour, NSW : 1973 - 1978)'},\n",
       " 'date': '1978-04-19',\n",
       " 'page': 7,\n",
       " 'pageSequence': 7,\n",
       " 'relevance': {'score': '0.5012544', 'value': 'likely to be relevant'},\n",
       " 'troveUrl': 'https://trove.nla.gov.au/ndp/del/article/254828266?searchTerm=%22she%27s%22'}"
      ]
     },
     "execution_count": 4,
     "metadata": {},
     "output_type": "execute_result"
    }
   ],
   "source": [
    "get_random_article()"
   ]
  },
  {
   "cell_type": "markdown",
   "metadata": {},
   "source": [
    "## Get a random article about pademelons"
   ]
  },
  {
   "cell_type": "code",
   "execution_count": 8,
   "metadata": {},
   "outputs": [
    {
     "data": {
      "text/plain": [
       "{'id': '204735164',\n",
       " 'url': '/newspaper/204735164',\n",
       " 'heading': 'MELBOURNE. June 28.',\n",
       " 'category': 'Article',\n",
       " 'title': {'id': '970', 'value': 'The Millicent Times (SA : 1891 - 1905)'},\n",
       " 'date': '1893-07-15',\n",
       " 'page': 4,\n",
       " 'pageSequence': 4,\n",
       " 'relevance': {'score': '24.534437', 'value': 'very relevant'},\n",
       " 'snippet': 'Each successive day sees a new scheme for settling the people on the land or at least brings amendments of earlier proposals. A great truth is struck by a “Farmer” writing',\n",
       " 'troveUrl': 'https://trove.nla.gov.au/ndp/del/article/204735164?searchTerm=pademelon'}"
      ]
     },
     "execution_count": 8,
     "metadata": {},
     "output_type": "execute_result"
    }
   ],
   "source": [
    "get_random_article(query='pademelon')"
   ]
  },
  {
   "cell_type": "markdown",
   "metadata": {},
   "source": [
    "## Get a random article from Tasmania"
   ]
  },
  {
   "cell_type": "code",
   "execution_count": 9,
   "metadata": {},
   "outputs": [
    {
     "data": {
      "text/plain": [
       "{'id': '65216403',\n",
       " 'url': '/newspaper/65216403',\n",
       " 'heading': 'Advertising',\n",
       " 'category': 'Advertising',\n",
       " 'title': {'id': '116',\n",
       "  'value': 'Emu Bay Times and North West and West Coast Advocate (Tas. : 1897 - 1899)'},\n",
       " 'date': '1898-02-01',\n",
       " 'page': 2,\n",
       " 'pageSequence': 2,\n",
       " 'relevance': {'score': '0.030104881', 'value': 'may have relevance'},\n",
       " 'troveUrl': 'https://trove.nla.gov.au/ndp/del/article/65216403?searchTerm=%22had%22'}"
      ]
     },
     "execution_count": 9,
     "metadata": {},
     "output_type": "execute_result"
    }
   ],
   "source": [
    "get_random_article(state='Tasmania')"
   ]
  },
  {
   "cell_type": "markdown",
   "metadata": {},
   "source": [
    "## Get a random article from the _Sydney Morning Herald_"
   ]
  },
  {
   "cell_type": "code",
   "execution_count": 10,
   "metadata": {},
   "outputs": [
    {
     "data": {
      "text/plain": [
       "{'id': '15981248',\n",
       " 'url': '/newspaper/15981248',\n",
       " 'heading': 'CANADIAN ELECTIONS. GOVERNMENT ROUTED. OTTAWA, Dec. 7.',\n",
       " 'category': 'Article',\n",
       " 'title': {'id': '35',\n",
       "  'value': 'The Sydney Morning Herald (NSW : 1842 - 1954)'},\n",
       " 'date': '1921-12-09',\n",
       " 'page': 9,\n",
       " 'pageSequence': 9,\n",
       " 'relevance': {'score': '645.6865', 'value': 'very relevant'},\n",
       " 'snippet': 'Final election returns show that the Liberals overwhelmed the Government, taking 121 seats against the Conservatives 53, Farmers 58, and Independents 2. The Premier, Mr.',\n",
       " 'troveUrl': 'https://trove.nla.gov.au/ndp/del/article/15981248?searchTerm=%227%22'}"
      ]
     },
     "execution_count": 10,
     "metadata": {},
     "output_type": "execute_result"
    }
   ],
   "source": [
    "get_random_article(title='35', category='Article')"
   ]
  },
  {
   "cell_type": "markdown",
   "metadata": {},
   "source": [
    "## Get a random illustrated article"
   ]
  },
  {
   "cell_type": "code",
   "execution_count": 11,
   "metadata": {},
   "outputs": [
    {
     "data": {
      "text/plain": [
       "{'id': '258856101',\n",
       " 'url': '/newspaper/258856101',\n",
       " 'heading': 'FOOTBALL The Australian Code DAMPIER ASSOCIATION PREMIERSHIP AND BURTON CUP THE FINAL Mukinbudin Victors NUNGARIN DISAPPOINT  Another Big Attendance',\n",
       " 'category': 'Article',\n",
       " 'title': {'id': '1656', 'value': 'The Nungarin Standard (WA : 1934 - 1939)'},\n",
       " 'date': '1935-09-12',\n",
       " 'page': 1,\n",
       " 'pageSequence': 1,\n",
       " 'status': 'coming soon',\n",
       " 'relevance': {'score': '0.47818616', 'value': 'likely to be relevant'},\n",
       " 'snippet': 'In brilliant sunshine and little wind, Mukinbudin and Nungarin contested the final match on Saturday afternoon last, when the former registered'}"
      ]
     },
     "execution_count": 11,
     "metadata": {},
     "output_type": "execute_result"
    }
   ],
   "source": [
    "get_random_article(illustrated='true')"
   ]
  },
  {
   "cell_type": "markdown",
   "metadata": {},
   "source": [
    "## Get a random illustrated advertisement from the _Australian Womens Weekly_"
   ]
  },
  {
   "cell_type": "code",
   "execution_count": 12,
   "metadata": {},
   "outputs": [
    {
     "data": {
      "text/plain": [
       "{'id': '51197885',\n",
       " 'url': '/newspaper/51197885',\n",
       " 'heading': 'Advertising',\n",
       " 'category': 'Advertising',\n",
       " 'title': {'id': '112',\n",
       "  'value': \"The Australian Women's Weekly (1933 - 1982)\"},\n",
       " 'date': '1980-03-19',\n",
       " 'page': 66,\n",
       " 'pageSequence': 66,\n",
       " 'relevance': {'score': '1.054913', 'value': 'likely to be relevant'},\n",
       " 'troveUrl': 'https://trove.nla.gov.au/ndp/del/article/51197885?searchTerm=%22needn%22'}"
      ]
     },
     "execution_count": 12,
     "metadata": {},
     "output_type": "execute_result"
    }
   ],
   "source": [
    "get_random_article(title='112', illustrated='true', category='Advertising')"
   ]
  },
  {
   "cell_type": "markdown",
   "metadata": {},
   "source": [
    "## Get a random cartoon"
   ]
  },
  {
   "cell_type": "code",
   "execution_count": 13,
   "metadata": {},
   "outputs": [
    {
     "data": {
      "text/plain": [
       "{'id': '132061740',\n",
       " 'url': '/newspaper/132061740',\n",
       " 'heading': 'The Bookworm Criticises',\n",
       " 'category': 'Detailed lists, results, guides',\n",
       " 'title': {'id': '505', 'value': 'Sunday Times (Sydney, NSW : 1895 - 1930)'},\n",
       " 'date': '1930-04-13',\n",
       " 'page': 3,\n",
       " 'pageSequence': '3 S',\n",
       " 'relevance': {'score': '0.30180344', 'value': 'likely to be relevant'},\n",
       " 'troveUrl': 'https://trove.nla.gov.au/ndp/del/article/132061740?searchTerm=%22what%22'}"
      ]
     },
     "execution_count": 13,
     "metadata": {},
     "output_type": "execute_result"
    }
   ],
   "source": [
    "get_random_article(illtype='Cartoon')"
   ]
  },
  {
   "cell_type": "markdown",
   "metadata": {},
   "source": [
    "## Get a random article from 1930"
   ]
  },
  {
   "cell_type": "code",
   "execution_count": 14,
   "metadata": {},
   "outputs": [
    {
     "data": {
      "text/plain": [
       "{'id': '250504028',\n",
       " 'url': '/newspaper/250504028',\n",
       " 'heading': 'TRACES OF ANCIENT CIVILISATION IN NEW GUINEA',\n",
       " 'category': 'Article',\n",
       " 'title': {'id': '1375',\n",
       "  'value': 'Papuan Courier (Port Moresby, Papua New Guinea : 1917 - 1942)'},\n",
       " 'date': '1930-08-15',\n",
       " 'page': 3,\n",
       " 'pageSequence': 3,\n",
       " 'relevance': {'score': '23.659304', 'value': 'very relevant'},\n",
       " 'snippet': '“Sea Nomad”: E. W. P. Chinnery Government anthropologist, states, that circles of standing stone resembling the relics left by the',\n",
       " 'troveUrl': 'https://trove.nla.gov.au/ndp/del/article/250504028?searchTerm=%22won%27t%22'}"
      ]
     },
     "execution_count": 14,
     "metadata": {},
     "output_type": "execute_result"
    }
   ],
   "source": [
    "get_random_article(year='1930')"
   ]
  },
  {
   "cell_type": "markdown",
   "metadata": {},
   "source": [
    "## Get a random article tagged 'poem'"
   ]
  },
  {
   "cell_type": "code",
   "execution_count": 15,
   "metadata": {},
   "outputs": [
    {
     "data": {
      "text/plain": [
       "{'id': '4221723',\n",
       " 'url': '/newspaper/4221723',\n",
       " 'heading': 'THE KANGAROOS: A FABLE.',\n",
       " 'category': 'Article',\n",
       " 'title': {'id': '19',\n",
       "  'value': 'The Hobart Town Courier (Tas. : 1827 - 1839)'},\n",
       " 'date': '1828-07-19',\n",
       " 'page': 2,\n",
       " 'pageSequence': 2,\n",
       " 'relevance': {'score': '1.035787', 'value': 'likely to be relevant'},\n",
       " 'snippet': 'A pair of married kangaroos (The case is oft a human one too,) Were greatly puzzled once to choose, A trade to put their eldest son to,',\n",
       " 'troveUrl': 'https://trove.nla.gov.au/ndp/del/article/4221723?searchTerm=%22again%22'}"
      ]
     },
     "execution_count": 15,
     "metadata": {},
     "output_type": "execute_result"
    }
   ],
   "source": [
    "get_random_article(publictag='poem')"
   ]
  },
  {
   "cell_type": "markdown",
   "metadata": {},
   "source": [
    "## Speed test"
   ]
  },
  {
   "cell_type": "code",
   "execution_count": 16,
   "metadata": {},
   "outputs": [
    {
     "name": "stdout",
     "output_type": "stream",
     "text": [
      "The slowest run took 4.73 times longer than the fastest. This could mean that an intermediate result is being cached.\n",
      "2.87 s ± 1.62 s per loop (mean ± std. dev. of 7 runs, 1 loop each)\n"
     ]
    }
   ],
   "source": [
    "%%timeit\n",
    "get_random_article()"
   ]
  },
  {
   "cell_type": "markdown",
   "metadata": {},
   "source": [
    "----\n",
    "\n",
    "Created by [Tim Sherratt](https://timsherratt.org/) for the [GLAM Workbench](https://glam-workbench.github.io/).\n"
   ]
  }
 ],
 "metadata": {
  "kernelspec": {
   "display_name": "Python 3",
   "language": "python",
   "name": "python3"
  },
  "language_info": {
   "codemirror_mode": {
    "name": "ipython",
    "version": 3
   },
   "file_extension": ".py",
   "mimetype": "text/x-python",
   "name": "python",
   "nbconvert_exporter": "python",
   "pygments_lexer": "ipython3",
   "version": "3.7.7"
  }
 },
 "nbformat": 4,
 "nbformat_minor": 4
}
