{
 "cells": [
  {
   "cell_type": "markdown",
   "metadata": {},
   "source": [
    "# Hacking heritage: Day 2, Morning"
   ]
  },
  {
   "cell_type": "markdown",
   "metadata": {},
   "source": [
    "## Running Jupyter\n",
    "\n",
    "\n",
    "\n",
    "## Getting to know the GLAM Workbench\n",
    "\n",
    "GLAM Workbench or GLAM Workbenches -- GW for individual researchers, research projects, GLAM organisations. Other examples.\n",
    "\n",
    "So I'm talking about my collection but also in a more generic way about using similar technologies and approaches.\n",
    "\n",
    "Types of notebooks:\n",
    "\n",
    "* Tutorials\n",
    "* Tools\n",
    "* Hacks\n",
    "* Apps\n",
    "\n"
   ]
  },
  {
   "cell_type": "markdown",
   "metadata": {},
   "source": [
    "## Pathways and pipelines"
   ]
  },
  {
   "cell_type": "markdown",
   "metadata": {},
   "source": [
    "## Activity: Zooming in"
   ]
  },
  {
   "cell_type": "markdown",
   "metadata": {},
   "source": [
    "## Some JupyterLab tricks\n",
    "\n",
    "\n",
    "## Building blocks\n",
    "\n",
    "Familiar patterns\n",
    "\n",
    "Start to breakdown some possible projects into components."
   ]
  }
 ],
 "metadata": {
  "kernelspec": {
   "display_name": "Python 3",
   "language": "python",
   "name": "python3"
  },
  "language_info": {
   "codemirror_mode": {
    "name": "ipython",
    "version": 3
   },
   "file_extension": ".py",
   "mimetype": "text/x-python",
   "name": "python",
   "nbconvert_exporter": "python",
   "pygments_lexer": "ipython3",
   "version": "3.7.7"
  }
 },
 "nbformat": 4,
 "nbformat_minor": 4
}
