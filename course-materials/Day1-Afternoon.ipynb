{
 "cells": [
  {
   "cell_type": "markdown",
   "metadata": {},
   "source": [
    "# Hacking heritage: Day 1, Afternoon"
   ]
  },
  {
   "cell_type": "markdown",
   "metadata": {},
   "source": [
    "## 1. What is GLAM data?"
   ]
  },
  {
   "cell_type": "code",
   "execution_count": 1,
   "metadata": {
    "jupyter": {
     "source_hidden": true
    }
   },
   "outputs": [
    {
     "data": {
      "text/html": [
       "\n",
       "        <iframe\n",
       "            width=\"600\"\n",
       "            height=\"438\"\n",
       "            src=\"https://slides.com/wragge/hh2020-glam-data/embed?token=S804-5hr\"\n",
       "            frameborder=\"0\"\n",
       "            allowfullscreen\n",
       "        ></iframe>\n",
       "        "
      ],
      "text/plain": [
       "<IPython.lib.display.IFrame at 0x104a72b10>"
      ]
     },
     "execution_count": 1,
     "metadata": {},
     "output_type": "execute_result"
    }
   ],
   "source": [
    "from IPython.display import IFrame\n",
    "IFrame('https://slides.com/wragge/hh2020-glam-data/embed?token=S804-5hr', 600, 438)"
   ]
  },
  {
   "cell_type": "markdown",
   "metadata": {},
   "source": [
    "## 2. Sources of GLAM data"
   ]
  },
  {
   "cell_type": "markdown",
   "metadata": {},
   "source": [
    "## 3. Activities\n",
    "\n",
    "### Structured data\n",
    "\n",
    "#### 1. GLAM CSV Explorer\n",
    "\n",
    "The list of [GLAM datasets from government open data portals](https://glam-workbench.github.io/glam-datasets-from-gov-portals/) helps us get an overview of  data being made available by GLAM organisations around the country. But it's still difficult to get a sense of **what's in** all those datasets. It's one of those *why* questions again – why would I be interested in this?\n",
    "\n",
    "To help give potential users a peek inside all those datasets, I made the GLAM CSV Explorer. You select a dataset from the dropdown list, and the code analyses the CSV, visualising the results.\n",
    "\n",
    "The CSV Explorer is made to be run in Appmode. But because of the way this server is configured, I can't just point you to a version running in Appmode. However, we can create a link by using the following bit of code. Just run it, and then click on the link it creates."
   ]
  },
  {
   "cell_type": "code",
   "execution_count": null,
   "metadata": {},
   "outputs": [],
   "source": [
    "from notebook.notebookapp import list_running_servers\n",
    "from IPython.display import HTML, display\n",
    "\n",
    "# Get current running servers\n",
    "servers = list_running_servers()\n",
    "# Get the current base url\n",
    "base_url = next(servers)['base_url']\n",
    "app_url = f'{base_url}apps/hackingheritage2020/csv-explorer/csv-explorer.ipynb'\n",
    "display(HTML(f'<a href=\"{app_url}\">Open CSV Explorer in Appmode</a>'))"
   ]
  },
  {
   "cell_type": "markdown",
   "metadata": {},
   "source": [
    "* Click on the cell above and run it (yep **Shift+Enter** again). Click on the link it creates.\n",
    "* Once the CSV Explorer loads, try selecting a dataset from the dropdown lists.\n",
    "* Spend some time exploring the available datasets. What can you discover? What surprises are there? What questions would you like to pursue further?\n",
    "\n",
    "<div class=\"alert alert-info\"><img src=\"../images/hhicon.png\" width=\"50px\" style=\"vertical-align: bottom; margin-right: 10px;\">Remember to share your discoveries in the Slack #discussion channel.</div>\n",
    "\n",
    "* Of course, the CSV Explorer has to make a lot of assumptions and guesses about the data, and these won't always be helpful. Where does it do well? And we're does it fall down? \n",
    "* If you're curious, you can click on the 'Edit App' button to peek at the code underneath."
   ]
  },
  {
   "cell_type": "markdown",
   "metadata": {},
   "source": [
    "#### 2. Some manual CSV exploration\n",
    "\n",
    "The GLAM CSV Explorer works by analysing each column in the dataset – what sorts of values does it contain, what is the range of values, how many are there? Whenever we come across a new source of structured data it can be useful to explore its size and shape.\n",
    "\n",
    "Here's a notebook that opens up one of the CSV files from the GLAM data list and uses Pandas to extract some basic information. Open it up and work your way through.\n",
    "\n",
    "* [The size and shape of a CSV file](building-blocks/size-and-shape-of-structured-data.ipynb)\n",
    "\n",
    "\n",
    "\n",
    "### Text\n",
    "\n",
    "\n",
    "### Images\n",
    "\n"
   ]
  },
  {
   "cell_type": "code",
   "execution_count": null,
   "metadata": {},
   "outputs": [],
   "source": [
    "\n",
    "### \n",
    "\n",
    "Text\n",
    "\n",
    "Images\n",
    "\n",
    "Index by type.."
   ]
  },
  {
   "cell_type": "code",
   "execution_count": null,
   "metadata": {},
   "outputs": [],
   "source": []
  }
 ],
 "metadata": {
  "kernelspec": {
   "display_name": "Python 3",
   "language": "python",
   "name": "python3"
  },
  "language_info": {
   "codemirror_mode": {
    "name": "ipython",
    "version": 3
   },
   "file_extension": ".py",
   "mimetype": "text/x-python",
   "name": "python",
   "nbconvert_exporter": "python",
   "pygments_lexer": "ipython3",
   "version": "3.7.7"
  }
 },
 "nbformat": 4,
 "nbformat_minor": 4
}
