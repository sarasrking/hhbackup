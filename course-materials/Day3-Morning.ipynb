{
 "cells": [
  {
   "cell_type": "markdown",
   "metadata": {},
   "source": [
    "# Hacking heritage: Day 3, Morning"
   ]
  },
  {
   "cell_type": "markdown",
   "metadata": {},
   "source": [
    "## Saving your work\n",
    "\n",
    "There's a couple of ways you can save the notebooks and datasets you've been using on this JupyterHub server. The simplest is to simply right-click on any of the files you want to save in the files explorer, and choose the 'Download' option. They'll then be saved.\n",
    "\n",
    "The second is by connecting the whole collection of notebooks and course materials to your own GitHub account.\n",
    "\n",
    "1. First of all you need to generate a Personal Access Token for your GitHub account. Follow [the instructions here](https://docs.github.com/en/github/authenticating-to-github/creating-a-personal-access-token) and under 'Select scope' check the 'repo' box. Make sure you keep a copy of the token as you can't retrieve it again later (although you can just make another). Personal Access Tokens offer an extra level of security because you can limit their scope, and delete them when you've finished with htem.\n",
    "\n",
    "2. Now go to your GitHub account and create a new repository. Just click on the '+' icon in the top menu bar and choose 'New repository'. Give it any name you like, such as 'hhbackup'.\n",
    "\n",
    "![GitHub url to copy](../images/github-url.png)\n",
    "\n",
    "3. Once you've created the repository, you'll see something like the image above. Copy the url in the box.\n",
    "\n",
    "4. Come back to the JupyterHub server, and click on the '+' sign in the top left menu. This will open a new 'Launcher' window.\n",
    "\n",
    "5. From the Launcher, click on the 'Terminal' button. This will open a terminal where you can use the command line to change the git settings.\n",
    "\n",
    "6. Enter the following commands in the terminal. First move into the main course folder:\n",
    "\n",
    "```bash\n",
    "cd hackingheritage2020\n",
    "```\n",
    "\n",
    "7. Then add a link to your GitHub repository (paste the GitHub url you copied as indicated)\n",
    "\n",
    "```bash\n",
    "git remote add mybackup YOUR_GITHUB_REPO_URL\n",
    "```\n",
    "\n",
    "8. Ok now we can copy the notebooks to your new repo:\n",
    "\n",
    "```bash\n",
    "git push mybackup master\n",
    "```\n",
    "\n",
    "9. You'll then be asked for your GitHub username & password, but use your Personal Access Token instead of your password.\n",
    "\n",
    "10. Done! Go and check your repository – all the code should be there (you might have to reload the repository page).\n",
    "\n",
    "If you make changes to your notebooks after you've created and copied the code to your repository. You'll have to commit and push your changes.\n",
    "\n",
    "1. In the terminal, type the following to stage changed files:\n",
    "\n",
    "```bash\n",
    "git add .\n",
    "```\n",
    "\n",
    "2. Then commit the changes (the message in the quotes can be whatever you want):\n",
    "\n",
    "```bash\n",
    "git commit -m 'My latest changes'\n",
    "```\n",
    "\n",
    "3. Now push the changes on to GitHub:\n",
    "\n",
    "```bash\n",
    "git push mybackup master\n",
    "```"
   ]
  },
  {
   "cell_type": "markdown",
   "metadata": {},
   "source": [
    "## Guess what? Your new repository is Binder enabled!"
   ]
  },
  {
   "cell_type": "code",
   "execution_count": null,
   "metadata": {},
   "outputs": [],
   "source": []
  }
 ],
 "metadata": {
  "kernelspec": {
   "display_name": "Python 3",
   "language": "python",
   "name": "python3"
  },
  "language_info": {
   "codemirror_mode": {
    "name": "ipython",
    "version": 3
   },
   "file_extension": ".py",
   "mimetype": "text/x-python",
   "name": "python",
   "nbconvert_exporter": "python",
   "pygments_lexer": "ipython3",
   "version": "3.7.7"
  }
 },
 "nbformat": 4,
 "nbformat_minor": 4
}
