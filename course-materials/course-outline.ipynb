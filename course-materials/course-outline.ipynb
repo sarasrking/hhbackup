{
 "cells": [
  {
   "cell_type": "markdown",
   "metadata": {
    "slideshow": {
     "slide_type": "slide"
    }
   },
   "source": [
    "# Hacking heritage: the GLAM Workbench\n",
    "\n",
    "![Hacking heritage logo](../images/hhbar-nla.obj-504133589-39.png)"
   ]
  },
  {
   "cell_type": "markdown",
   "metadata": {},
   "source": [
    "## Summary\n",
    "\n",
    "More and more data is being made available by GLAM organisations (Galleries, Libraries, Archives and Museums), but how do we develop and share the skills to use that data?\n",
    "\n",
    "This three day intensive workshop will introduce you to the GLAM Workbench, a set of tools designed to help researchers make use of digital cultural heritage collections without the need for advanced coding skills. You will learn how to create and share your own Jupyter notebooks to foster new research and applications, and reveal new perspectives on cultural collections.\n",
    "\n",
    "## Key outcomes\n",
    "\n",
    "* Use the GLAM Workbench to download, analyse, and visualise data from a range of GLAM organisations.\n",
    "* Understand how Jupyter notebooks can be used to support the exploration of digital collection data.\n",
    "* Learn how to create and share Jupyter notebooks, making use of free services such as GitHub, NBViewer and Binder.\n",
    "\n",
    "## Highlights\n",
    "\n",
    "This is a practical, hands on, workshop designed to develop your confidence and skills while working with real GLAM data. You will learn how Jupyter notebooks can be used to create a variety of resources for exploring collection data, from web-based tools to detailed tutorials. Using the GLAM Workbench as a starting point, you will be encouraged to ask your own questions of collection data, and create your own pathways for data processing and analysis. By the end of the workshop you will have your own set of customised notebooks that you can save and download for further development.\n",
    "\n",
    "## Requirements\n",
    "\n",
    "* Participants are expected to have a stable internet connection and PC or laptop including: CPU, monitor, webcam and microphone.\n",
    "* Participants will also need to download free Zoom video conferencing software.\n",
    "* Ideally, participants will be able to install software on their computers, however, all the workshop activities will be conducted in a customised online environment that can be accessed using a web browser.\n",
    "* Instructions on setting up the necessary user accounts will be circulated prior to the workshop.\n",
    "\n",
    "## Time & date\n",
    "\n",
    "Wednesday 22 July to Friday 24 July (3 days)\n",
    "10.00 am – 4.30 pm each day\n",
    "\n",
    "Zoom meetings will be held at the beginning and end of each day to introduce the day’s activities and discuss their outcomes. In between, participants will undertake a series of guided activities, supported by online chat. \n",
    "\n",
    "## Related articles or readings\n",
    "\n",
    "* [Explore the GLAM Workbench](https://glam-workbench.github.io/)\n",
    "* For background you can read Quinn Dombrowski, Tassie Gniady, and David Kloster, ‘Introduction to Jupyter Notebooks’, The Programming Historian, 8 (2019), https://doi.org/10.46430/phen0087, but don’t worry about the technical details."
   ]
  },
  {
   "cell_type": "code",
   "execution_count": null,
   "metadata": {},
   "outputs": [],
   "source": []
  }
 ],
 "metadata": {
  "kernelspec": {
   "display_name": "Python 3",
   "language": "python",
   "name": "python3"
  },
  "language_info": {
   "codemirror_mode": {
    "name": "ipython",
    "version": 3
   },
   "file_extension": ".py",
   "mimetype": "text/x-python",
   "name": "python",
   "nbconvert_exporter": "python",
   "pygments_lexer": "ipython3",
   "version": "3.7.7"
  }
 },
 "nbformat": 4,
 "nbformat_minor": 4
}
