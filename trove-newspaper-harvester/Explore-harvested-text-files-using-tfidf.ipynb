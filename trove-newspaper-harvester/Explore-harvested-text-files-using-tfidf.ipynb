{
 "cells": [
  {
   "cell_type": "markdown",
   "metadata": {},
   "source": [
    "# Explore harvested text files using TF-IDF"
   ]
  },
  {
   "cell_type": "code",
   "execution_count": 1,
   "metadata": {},
   "outputs": [],
   "source": [
    "import os\n",
    "import pandas as pd\n",
    "import fileinput\n",
    "from sklearn.feature_extraction.text import TfidfVectorizer, CountVectorizer\n",
    "from textblob import TextBlob\n",
    "from operator import itemgetter\n",
    "from pathlib import Path\n",
    "import nltk\n",
    "import numpy as np\n",
    "import altair as alt\n",
    "\n",
    "# Are you using Jupyter Lab?\n",
    "# If so either don't run this cell or comment out the line below\n",
    "\n",
    "# alt.renderers.enable('notebook')\n",
    "\n",
    "# If you forget, run this cell, and then get strange warnings when you make a chart,\n",
    "# uncomment the following line and run this cell to reset the chart renderer\n",
    "\n",
    "# alt.renderers.enable('default')\n",
    "\n",
    "#nltk.download('stopwords')\n",
    "#nltk.download('punkt')\n",
    "#stopwords = nltk.corpus.stopwords.words('english')"
   ]
  },
  {
   "cell_type": "code",
   "execution_count": null,
   "metadata": {},
   "outputs": [],
   "source": [
    "# Import a harvest zip file you've created previously\n",
    "# First upload the zip file to the data directory, then run this cell\n",
    "import zipfile\n",
    "for zipped in sorted(Path('data').glob('*.zip')):\n",
    "    print(f'Unzipping {zipped}...')\n",
    "    with zipfile.ZipFile(zipped, 'r') as zip_file:\n",
    "        zip_file.extractall(Path(f'data/{zipped.stem}'))"
   ]
  },
  {
   "cell_type": "code",
   "execution_count": 2,
   "metadata": {},
   "outputs": [],
   "source": [
    "def get_latest_harvest():\n",
    "    '''\n",
    "    Get the timestamp of the most recent harvest.\n",
    "    '''\n",
    "    harvests = sorted([d for d in Path('data').iterdir() if d.is_dir() and not d.name.startswith('.')])\n",
    "    try:\n",
    "        harvest = harvests[-1]\n",
    "    except IndexError:\n",
    "        print('No harvests!')\n",
    "        harvest = None\n",
    "    return harvest"
   ]
  },
  {
   "cell_type": "code",
   "execution_count": 3,
   "metadata": {},
   "outputs": [],
   "source": [
    "def get_docs(harvest):\n",
    "    docs_path = get_docs_path(harvest)\n",
    "    for p in docs_path:\n",
    "        yield p.read_text(encoding='utf-8').strip()\n",
    "        \n",
    "def get_docs_path(harvest):\n",
    "    path = Path(f'{harvest}/text')\n",
    "    docs_path = [p for p in sorted(path.glob('*.txt'))]\n",
    "    return docs_path\n",
    "\n",
    "def get_file_names(harvest):\n",
    "    return [p.stem for p in get_docs_path(harvest)]\n",
    "\n",
    "def get_years(harvest):\n",
    "    return list(set([int(d.stem[:4]) for d in get_docs_path(harvest)]))\n",
    "\n",
    "def get_docs_year(harvest):\n",
    "    path = Path(f'{harvest}/text')\n",
    "    for year in get_years(harvest):\n",
    "        docs_path = [p for p in sorted(path.glob(f'{year}*.txt'))]\n",
    "        year_doc = ' '.join([p.read_text(encoding='utf-8').strip() for p in docs_path])\n",
    "        yield year_doc"
   ]
  },
  {
   "cell_type": "code",
   "execution_count": 4,
   "metadata": {},
   "outputs": [],
   "source": [
    "harvest = get_latest_harvest()"
   ]
  },
  {
   "cell_type": "markdown",
   "metadata": {},
   "source": [
    "## By article"
   ]
  },
  {
   "cell_type": "code",
   "execution_count": 5,
   "metadata": {},
   "outputs": [],
   "source": [
    "vectorizer = TfidfVectorizer(stop_words='english', max_features=10000, ngram_range=(1,1), min_df=5, max_df=0.5)\n",
    "# preprocessor = lambda x: re.sub(r'(\\d[\\d\\.])+', 'NUM', x.lower())\n",
    "X_freq = np.asarray(vectorizer.fit_transform(get_docs(harvest)).todense())\n",
    "df_freq = pd.DataFrame(X_freq, columns=vectorizer.get_feature_names(), index=get_file_names(harvest))"
   ]
  },
  {
   "cell_type": "code",
   "execution_count": 6,
   "metadata": {},
   "outputs": [
    {
     "data": {
      "text/html": [
       "<div>\n",
       "<style scoped>\n",
       "    .dataframe tbody tr th:only-of-type {\n",
       "        vertical-align: middle;\n",
       "    }\n",
       "\n",
       "    .dataframe tbody tr th {\n",
       "        vertical-align: top;\n",
       "    }\n",
       "\n",
       "    .dataframe thead th {\n",
       "        text-align: right;\n",
       "    }\n",
       "</style>\n",
       "<table border=\"1\" class=\"dataframe\">\n",
       "  <thead>\n",
       "    <tr style=\"text-align: right;\">\n",
       "      <th></th>\n",
       "      <th>0</th>\n",
       "      <th>1</th>\n",
       "      <th>2</th>\n",
       "      <th>3</th>\n",
       "      <th>4</th>\n",
       "      <th>5</th>\n",
       "      <th>6</th>\n",
       "      <th>7</th>\n",
       "      <th>8</th>\n",
       "      <th>9</th>\n",
       "      <th>10</th>\n",
       "      <th>11</th>\n",
       "      <th>12</th>\n",
       "      <th>13</th>\n",
       "      <th>14</th>\n",
       "      <th>15</th>\n",
       "      <th>16</th>\n",
       "      <th>17</th>\n",
       "      <th>18</th>\n",
       "      <th>19</th>\n",
       "    </tr>\n",
       "  </thead>\n",
       "  <tbody>\n",
       "    <tr>\n",
       "      <th>18601224-13-5696044</th>\n",
       "      <td>cases</td>\n",
       "      <td>packages</td>\n",
       "      <td>casks</td>\n",
       "      <td>case</td>\n",
       "      <td>bundles</td>\n",
       "      <td>bags</td>\n",
       "      <td>hardware</td>\n",
       "      <td>brothers</td>\n",
       "      <td>kegs</td>\n",
       "      <td>barrels</td>\n",
       "      <td>dec</td>\n",
       "      <td>bales</td>\n",
       "      <td>tons</td>\n",
       "      <td>hhds</td>\n",
       "      <td>boxes</td>\n",
       "      <td>22</td>\n",
       "      <td>portland</td>\n",
       "      <td>schooner</td>\n",
       "      <td>nails</td>\n",
       "      <td>agents</td>\n",
       "    </tr>\n",
       "    <tr>\n",
       "      <th>18620111-319-196391314</th>\n",
       "      <td>tons</td>\n",
       "      <td>agents</td>\n",
       "      <td>passengers</td>\n",
       "      <td>brig</td>\n",
       "      <td>ult</td>\n",
       "      <td>agent</td>\n",
       "      <td>mrs</td>\n",
       "      <td>otago</td>\n",
       "      <td>ship</td>\n",
       "      <td>barque</td>\n",
       "      <td>ballast</td>\n",
       "      <td>newcastle</td>\n",
       "      <td>captain</td>\n",
       "      <td>steerage</td>\n",
       "      <td>cabin</td>\n",
       "      <td>miss</td>\n",
       "      <td>castle</td>\n",
       "      <td>schooner</td>\n",
       "      <td>28th</td>\n",
       "      <td>rev</td>\n",
       "    </tr>\n",
       "    <tr>\n",
       "      <th>18630905-319-197290261</th>\n",
       "      <td>tons</td>\n",
       "      <td>agents</td>\n",
       "      <td>passengers</td>\n",
       "      <td>cabin</td>\n",
       "      <td>mrs</td>\n",
       "      <td>ballast</td>\n",
       "      <td>steerage</td>\n",
       "      <td>schooner</td>\n",
       "      <td>ship</td>\n",
       "      <td>miss</td>\n",
       "      <td>agent</td>\n",
       "      <td>brig</td>\n",
       "      <td>barque</td>\n",
       "      <td>bremen</td>\n",
       "      <td>brothers</td>\n",
       "      <td>messrs</td>\n",
       "      <td>september</td>\n",
       "      <td>june</td>\n",
       "      <td>white</td>\n",
       "      <td>wm</td>\n",
       "    </tr>\n",
       "    <tr>\n",
       "      <th>18640220-319-197293051</th>\n",
       "      <td>tho</td>\n",
       "      <td>despatch</td>\n",
       "      <td>hughes</td>\n",
       "      <td>gallons</td>\n",
       "      <td>county</td>\n",
       "      <td>annum</td>\n",
       "      <td>majesty</td>\n",
       "      <td>meeting</td>\n",
       "      <td>shock</td>\n",
       "      <td>melbourne</td>\n",
       "      <td>frederick</td>\n",
       "      <td>bo</td>\n",
       "      <td>author</td>\n",
       "      <td>wine</td>\n",
       "      <td>copy</td>\n",
       "      <td>act</td>\n",
       "      <td>sir</td>\n",
       "      <td>1863</td>\n",
       "      <td>deceased</td>\n",
       "      <td>appears</td>\n",
       "    </tr>\n",
       "    <tr>\n",
       "      <th>18641115-809-155019508</th>\n",
       "      <td>tho</td>\n",
       "      <td>defendant</td>\n",
       "      <td>plaintiff</td>\n",
       "      <td>aud</td>\n",
       "      <td>ho</td>\n",
       "      <td>committee</td>\n",
       "      <td>court</td>\n",
       "      <td>bryant</td>\n",
       "      <td>league</td>\n",
       "      <td>meeting</td>\n",
       "      <td>election</td>\n",
       "      <td>10s</td>\n",
       "      <td>case</td>\n",
       "      <td>having</td>\n",
       "      <td>wa3</td>\n",
       "      <td>held</td>\n",
       "      <td>yesterday</td>\n",
       "      <td>resolution</td>\n",
       "      <td>fitzroy</td>\n",
       "      <td>wero</td>\n",
       "    </tr>\n",
       "  </tbody>\n",
       "</table>\n",
       "</div>"
      ],
      "text/plain": [
       "                           0          1           2        3        4   \\\n",
       "18601224-13-5696044     cases   packages       casks     case  bundles   \n",
       "18620111-319-196391314   tons     agents  passengers     brig      ult   \n",
       "18630905-319-197290261   tons     agents  passengers    cabin      mrs   \n",
       "18640220-319-197293051    tho   despatch      hughes  gallons   county   \n",
       "18641115-809-155019508    tho  defendant   plaintiff      aud       ho   \n",
       "\n",
       "                               5         6         7       8          9   \\\n",
       "18601224-13-5696044          bags  hardware  brothers    kegs    barrels   \n",
       "18620111-319-196391314      agent       mrs     otago    ship     barque   \n",
       "18630905-319-197290261    ballast  steerage  schooner    ship       miss   \n",
       "18640220-319-197293051      annum   majesty   meeting   shock  melbourne   \n",
       "18641115-809-155019508  committee     court    bryant  league    meeting   \n",
       "\n",
       "                               10         11       12        13        14  \\\n",
       "18601224-13-5696044           dec      bales     tons      hhds     boxes   \n",
       "18620111-319-196391314    ballast  newcastle  captain  steerage     cabin   \n",
       "18630905-319-197290261      agent       brig   barque    bremen  brothers   \n",
       "18640220-319-197293051  frederick         bo   author      wine      copy   \n",
       "18641115-809-155019508   election        10s     case    having       wa3   \n",
       "\n",
       "                            15         16          17        18       19  \n",
       "18601224-13-5696044         22   portland    schooner     nails   agents  \n",
       "18620111-319-196391314    miss     castle    schooner      28th      rev  \n",
       "18630905-319-197290261  messrs  september        june     white       wm  \n",
       "18640220-319-197293051     act        sir        1863  deceased  appears  \n",
       "18641115-809-155019508    held  yesterday  resolution   fitzroy     wero  "
      ]
     },
     "execution_count": 6,
     "metadata": {},
     "output_type": "execute_result"
    }
   ],
   "source": [
    "# The number of words you want to show\n",
    "num_words = 20\n",
    "top_words = pd.DataFrame({n: df_freq.T[col].nlargest(num_words).index.tolist() for n, col in enumerate(df_freq.T)}).T\n",
    "top_words.index = get_file_names(harvest)\n",
    "top_words.head()"
   ]
  },
  {
   "cell_type": "markdown",
   "metadata": {},
   "source": [
    "## By year"
   ]
  },
  {
   "cell_type": "code",
   "execution_count": 7,
   "metadata": {},
   "outputs": [],
   "source": [
    "vectorizer = TfidfVectorizer(stop_words='english', max_features=10000, ngram_range=(1,1), min_df=5, max_df=0.5)\n",
    "# preprocessor = lambda x: re.sub(r'(\\d[\\d\\.])+', 'NUM', x.lower())\n",
    "X_freq = np.asarray(vectorizer.fit_transform(get_docs_year(harvest)).todense())\n",
    "df_tfidf_years = pd.DataFrame(X_freq, columns=vectorizer.get_feature_names(), index=get_years(harvest))"
   ]
  },
  {
   "cell_type": "code",
   "execution_count": 8,
   "metadata": {},
   "outputs": [
    {
     "data": {
      "text/html": [
       "<div>\n",
       "<style scoped>\n",
       "    .dataframe tbody tr th:only-of-type {\n",
       "        vertical-align: middle;\n",
       "    }\n",
       "\n",
       "    .dataframe tbody tr th {\n",
       "        vertical-align: top;\n",
       "    }\n",
       "\n",
       "    .dataframe thead th {\n",
       "        text-align: right;\n",
       "    }\n",
       "</style>\n",
       "<table border=\"1\" class=\"dataframe\">\n",
       "  <thead>\n",
       "    <tr style=\"text-align: right;\">\n",
       "      <th></th>\n",
       "      <th>00</th>\n",
       "      <th>000ft</th>\n",
       "      <th>001</th>\n",
       "      <th>002</th>\n",
       "      <th>003</th>\n",
       "      <th>005</th>\n",
       "      <th>01</th>\n",
       "      <th>010</th>\n",
       "      <th>011</th>\n",
       "      <th>01in</th>\n",
       "      <th>...</th>\n",
       "      <th>youthful</th>\n",
       "      <th>ys</th>\n",
       "      <th>zea</th>\n",
       "      <th>zeal</th>\n",
       "      <th>zeehan</th>\n",
       "      <th>zenith</th>\n",
       "      <th>zephyr</th>\n",
       "      <th>zone</th>\n",
       "      <th>zones</th>\n",
       "      <th>íb</th>\n",
       "    </tr>\n",
       "  </thead>\n",
       "  <tbody>\n",
       "    <tr>\n",
       "      <th>1860</th>\n",
       "      <td>0.008031</td>\n",
       "      <td>0.011601</td>\n",
       "      <td>0.0</td>\n",
       "      <td>0.000000</td>\n",
       "      <td>0.000000</td>\n",
       "      <td>0.000000</td>\n",
       "      <td>0.0</td>\n",
       "      <td>0.000000</td>\n",
       "      <td>0.000000</td>\n",
       "      <td>0.0</td>\n",
       "      <td>...</td>\n",
       "      <td>0.0</td>\n",
       "      <td>0.0</td>\n",
       "      <td>0.0</td>\n",
       "      <td>0.000000</td>\n",
       "      <td>0.0</td>\n",
       "      <td>0.0</td>\n",
       "      <td>0.0</td>\n",
       "      <td>0.0</td>\n",
       "      <td>0.0</td>\n",
       "      <td>0.0</td>\n",
       "    </tr>\n",
       "    <tr>\n",
       "      <th>1862</th>\n",
       "      <td>0.013601</td>\n",
       "      <td>0.000000</td>\n",
       "      <td>0.0</td>\n",
       "      <td>0.000000</td>\n",
       "      <td>0.000000</td>\n",
       "      <td>0.000000</td>\n",
       "      <td>0.0</td>\n",
       "      <td>0.000000</td>\n",
       "      <td>0.000000</td>\n",
       "      <td>0.0</td>\n",
       "      <td>...</td>\n",
       "      <td>0.0</td>\n",
       "      <td>0.0</td>\n",
       "      <td>0.0</td>\n",
       "      <td>0.000000</td>\n",
       "      <td>0.0</td>\n",
       "      <td>0.0</td>\n",
       "      <td>0.0</td>\n",
       "      <td>0.0</td>\n",
       "      <td>0.0</td>\n",
       "      <td>0.0</td>\n",
       "    </tr>\n",
       "    <tr>\n",
       "      <th>1863</th>\n",
       "      <td>0.000000</td>\n",
       "      <td>0.000000</td>\n",
       "      <td>0.0</td>\n",
       "      <td>0.000000</td>\n",
       "      <td>0.000000</td>\n",
       "      <td>0.000000</td>\n",
       "      <td>0.0</td>\n",
       "      <td>0.000000</td>\n",
       "      <td>0.000000</td>\n",
       "      <td>0.0</td>\n",
       "      <td>...</td>\n",
       "      <td>0.0</td>\n",
       "      <td>0.0</td>\n",
       "      <td>0.0</td>\n",
       "      <td>0.000000</td>\n",
       "      <td>0.0</td>\n",
       "      <td>0.0</td>\n",
       "      <td>0.0</td>\n",
       "      <td>0.0</td>\n",
       "      <td>0.0</td>\n",
       "      <td>0.0</td>\n",
       "    </tr>\n",
       "    <tr>\n",
       "      <th>1864</th>\n",
       "      <td>0.012404</td>\n",
       "      <td>0.000000</td>\n",
       "      <td>0.0</td>\n",
       "      <td>0.013705</td>\n",
       "      <td>0.024394</td>\n",
       "      <td>0.041116</td>\n",
       "      <td>0.0</td>\n",
       "      <td>0.033405</td>\n",
       "      <td>0.004915</td>\n",
       "      <td>0.0</td>\n",
       "      <td>...</td>\n",
       "      <td>0.0</td>\n",
       "      <td>0.0</td>\n",
       "      <td>0.0</td>\n",
       "      <td>0.022965</td>\n",
       "      <td>0.0</td>\n",
       "      <td>0.0</td>\n",
       "      <td>0.0</td>\n",
       "      <td>0.0</td>\n",
       "      <td>0.0</td>\n",
       "      <td>0.0</td>\n",
       "    </tr>\n",
       "    <tr>\n",
       "      <th>1867</th>\n",
       "      <td>0.000000</td>\n",
       "      <td>0.000000</td>\n",
       "      <td>0.0</td>\n",
       "      <td>0.000000</td>\n",
       "      <td>0.000000</td>\n",
       "      <td>0.000000</td>\n",
       "      <td>0.0</td>\n",
       "      <td>0.000000</td>\n",
       "      <td>0.000000</td>\n",
       "      <td>0.0</td>\n",
       "      <td>...</td>\n",
       "      <td>0.0</td>\n",
       "      <td>0.0</td>\n",
       "      <td>0.0</td>\n",
       "      <td>0.000000</td>\n",
       "      <td>0.0</td>\n",
       "      <td>0.0</td>\n",
       "      <td>0.0</td>\n",
       "      <td>0.0</td>\n",
       "      <td>0.0</td>\n",
       "      <td>0.0</td>\n",
       "    </tr>\n",
       "  </tbody>\n",
       "</table>\n",
       "<p>5 rows × 10000 columns</p>\n",
       "</div>"
      ],
      "text/plain": [
       "            00     000ft  001       002       003       005   01       010  \\\n",
       "1860  0.008031  0.011601  0.0  0.000000  0.000000  0.000000  0.0  0.000000   \n",
       "1862  0.013601  0.000000  0.0  0.000000  0.000000  0.000000  0.0  0.000000   \n",
       "1863  0.000000  0.000000  0.0  0.000000  0.000000  0.000000  0.0  0.000000   \n",
       "1864  0.012404  0.000000  0.0  0.013705  0.024394  0.041116  0.0  0.033405   \n",
       "1867  0.000000  0.000000  0.0  0.000000  0.000000  0.000000  0.0  0.000000   \n",
       "\n",
       "           011  01in  ...  youthful   ys  zea      zeal  zeehan  zenith  \\\n",
       "1860  0.000000   0.0  ...       0.0  0.0  0.0  0.000000     0.0     0.0   \n",
       "1862  0.000000   0.0  ...       0.0  0.0  0.0  0.000000     0.0     0.0   \n",
       "1863  0.000000   0.0  ...       0.0  0.0  0.0  0.000000     0.0     0.0   \n",
       "1864  0.004915   0.0  ...       0.0  0.0  0.0  0.022965     0.0     0.0   \n",
       "1867  0.000000   0.0  ...       0.0  0.0  0.0  0.000000     0.0     0.0   \n",
       "\n",
       "      zephyr  zone  zones   íb  \n",
       "1860     0.0   0.0    0.0  0.0  \n",
       "1862     0.0   0.0    0.0  0.0  \n",
       "1863     0.0   0.0    0.0  0.0  \n",
       "1864     0.0   0.0    0.0  0.0  \n",
       "1867     0.0   0.0    0.0  0.0  \n",
       "\n",
       "[5 rows x 10000 columns]"
      ]
     },
     "execution_count": 8,
     "metadata": {},
     "output_type": "execute_result"
    }
   ],
   "source": [
    "df_tfidf_years.head()"
   ]
  },
  {
   "cell_type": "markdown",
   "metadata": {},
   "source": [
    "## Highest scores each year"
   ]
  },
  {
   "cell_type": "code",
   "execution_count": 9,
   "metadata": {},
   "outputs": [
    {
     "data": {
      "text/html": [
       "<div>\n",
       "<style scoped>\n",
       "    .dataframe tbody tr th:only-of-type {\n",
       "        vertical-align: middle;\n",
       "    }\n",
       "\n",
       "    .dataframe tbody tr th {\n",
       "        vertical-align: top;\n",
       "    }\n",
       "\n",
       "    .dataframe thead th {\n",
       "        text-align: right;\n",
       "    }\n",
       "</style>\n",
       "<table border=\"1\" class=\"dataframe\">\n",
       "  <thead>\n",
       "    <tr style=\"text-align: right;\">\n",
       "      <th></th>\n",
       "      <th>0</th>\n",
       "      <th>1</th>\n",
       "      <th>2</th>\n",
       "      <th>3</th>\n",
       "      <th>4</th>\n",
       "      <th>5</th>\n",
       "      <th>6</th>\n",
       "      <th>7</th>\n",
       "      <th>8</th>\n",
       "      <th>9</th>\n",
       "    </tr>\n",
       "  </thead>\n",
       "  <tbody>\n",
       "    <tr>\n",
       "      <th>1860</th>\n",
       "      <td>packages</td>\n",
       "      <td>casks</td>\n",
       "      <td>bundles</td>\n",
       "      <td>hardware</td>\n",
       "      <td>kegs</td>\n",
       "      <td>bags</td>\n",
       "      <td>barrels</td>\n",
       "      <td>brothers</td>\n",
       "      <td>hhds</td>\n",
       "      <td>dec</td>\n",
       "    </tr>\n",
       "    <tr>\n",
       "      <th>1862</th>\n",
       "      <td>agents</td>\n",
       "      <td>brig</td>\n",
       "      <td>ult</td>\n",
       "      <td>otago</td>\n",
       "      <td>newcastle</td>\n",
       "      <td>ballast</td>\n",
       "      <td>barque</td>\n",
       "      <td>tonb</td>\n",
       "      <td>cabin</td>\n",
       "      <td>steerage</td>\n",
       "    </tr>\n",
       "    <tr>\n",
       "      <th>1863</th>\n",
       "      <td>agents</td>\n",
       "      <td>cabin</td>\n",
       "      <td>ballast</td>\n",
       "      <td>steerage</td>\n",
       "      <td>schooner</td>\n",
       "      <td>brig</td>\n",
       "      <td>bremen</td>\n",
       "      <td>barque</td>\n",
       "      <td>brothers</td>\n",
       "      <td>wm</td>\n",
       "    </tr>\n",
       "    <tr>\n",
       "      <th>1864</th>\n",
       "      <td>colony</td>\n",
       "      <td>6d</td>\n",
       "      <td>majesty</td>\n",
       "      <td>lb</td>\n",
       "      <td>1s</td>\n",
       "      <td>10s</td>\n",
       "      <td>bearing</td>\n",
       "      <td>nov</td>\n",
       "      <td>circulation</td>\n",
       "      <td>bunches</td>\n",
       "    </tr>\n",
       "    <tr>\n",
       "      <th>1867</th>\n",
       "      <td>duke</td>\n",
       "      <td>lamps</td>\n",
       "      <td>edinburgh</td>\n",
       "      <td>prince</td>\n",
       "      <td>hume</td>\n",
       "      <td>deposited</td>\n",
       "      <td>stranger</td>\n",
       "      <td>proceeded</td>\n",
       "      <td>geelong</td>\n",
       "      <td>ye</td>\n",
       "    </tr>\n",
       "  </tbody>\n",
       "</table>\n",
       "</div>"
      ],
      "text/plain": [
       "             0      1          2         3          4          5         6  \\\n",
       "1860  packages  casks    bundles  hardware       kegs       bags   barrels   \n",
       "1862    agents   brig        ult     otago  newcastle    ballast    barque   \n",
       "1863    agents  cabin    ballast  steerage   schooner       brig    bremen   \n",
       "1864    colony     6d    majesty        lb         1s        10s   bearing   \n",
       "1867      duke  lamps  edinburgh    prince       hume  deposited  stranger   \n",
       "\n",
       "              7            8         9  \n",
       "1860   brothers         hhds       dec  \n",
       "1862       tonb        cabin  steerage  \n",
       "1863     barque     brothers        wm  \n",
       "1864        nov  circulation   bunches  \n",
       "1867  proceeded      geelong        ye  "
      ]
     },
     "execution_count": 9,
     "metadata": {},
     "output_type": "execute_result"
    }
   ],
   "source": [
    "# Top words per year\n",
    "df_years_top = pd.DataFrame({n: df_tfidf_years.T[col].nlargest(10).index.tolist() for n, col in enumerate(df_tfidf_years.T)}).T\n",
    "df_years_top.index = get_years(harvest)\n",
    "df_years_top.head()"
   ]
  },
  {
   "cell_type": "markdown",
   "metadata": {},
   "source": [
    "## Visualise highest scores per year"
   ]
  },
  {
   "cell_type": "code",
   "execution_count": 10,
   "metadata": {},
   "outputs": [
    {
     "data": {
      "application/vnd.vegalite.v3+json": {
       "$schema": "https://vega.github.io/schema/vega-lite/v3.4.0.json",
       "config": {
        "mark": {
         "tooltip": null
        },
        "view": {
         "height": 300,
         "width": 400
        }
       },
       "data": {
        "name": "data-4cd8a5137e8b8202eff9962d4b33d563"
       },
       "datasets": {
        "data-00a7c53200704e75d34d1b4fea4d88d8": [
         {
          "count": 0.7042398872093881,
          "word": "cs"
         },
         {
          "count": 0.5044837459286334,
          "word": "bgs"
         },
         {
          "count": 0.27867797499906266,
          "word": "shippers"
         },
         {
          "count": 0.1386912446350626,
          "word": "beef"
         },
         {
          "count": 0.1331061063573277,
          "word": "pty"
         },
         {
          "count": 0.12389166572235136,
          "word": "bxs"
         },
         {
          "count": 0.12112779634617483,
          "word": "flour"
         },
         {
          "count": 0.119453902606778,
          "word": "sundry"
         },
         {
          "count": 0.1068031601054753,
          "word": "sks"
         },
         {
          "count": 0.08158260907364043,
          "word": "ox"
         }
        ],
        "data-00f5f49ed0a304081e973e21165bdf04": [
         {
          "count": 0.30654531991969053,
          "word": "kosciusko"
         },
         {
          "count": 0.2109201166616875,
          "word": "fog"
         },
         {
          "count": 0.17631121409672001,
          "word": "boulders"
         },
         {
          "count": 0.16284013716521262,
          "word": "today"
         },
         {
          "count": 0.15680970880371178,
          "word": "canberra"
         },
         {
          "count": 0.1556151368886638,
          "word": "nbsp"
         },
         {
          "count": 0.15287954937655165,
          "word": "alpine"
         },
         {
          "count": 0.15159680226900402,
          "word": "sky"
         },
         {
          "count": 0.14258289615127984,
          "word": "granite"
         },
         {
          "count": 0.13137656567986736,
          "word": "fogs"
         }
        ],
        "data-0544052a9fc904661dcddee5978c55e8": [
         {
          "count": 0.21726113976792116,
          "word": "str"
         },
         {
          "count": 0.18053339336088042,
          "word": "hail"
         },
         {
          "count": 0.11844865015259913,
          "word": "newcastle"
         },
         {
          "count": 0.11372772696730687,
          "word": "thc"
         },
         {
          "count": 0.1035544261129223,
          "word": "vortex"
         },
         {
          "count": 0.10097162325935485,
          "word": "barton"
         },
         {
          "count": 0.09448783562612648,
          "word": "barque"
         },
         {
          "count": 0.09405941502835787,
          "word": "antarctic"
         },
         {
          "count": 0.08763407267496791,
          "word": "cloudy"
         },
         {
          "count": 0.08293880929934679,
          "word": "cloud"
         }
        ],
        "data-0952130b21fc790a500081b6b5fabf4a": [
         {
          "count": 0.29503864012327635,
          "word": "shop"
         },
         {
          "count": 0.25160772295322087,
          "word": "torn"
         },
         {
          "count": 0.19468051508511824,
          "word": "chimney"
         },
         {
          "count": 0.1894991361662164,
          "word": "wero"
         },
         {
          "count": 0.1682155141439743,
          "word": "burnie"
         },
         {
          "count": 0.1558941307780601,
          "word": "oft"
         },
         {
          "count": 0.14601038631383867,
          "word": "galvanised"
         },
         {
          "count": 0.14601038631383867,
          "word": "verandah"
         },
         {
          "count": 0.13813164486196644,
          "word": "blown"
         },
         {
          "count": 0.12032075506615163,
          "word": "largo"
         }
        ],
        "data-0957704c054e178768d104e4f1eb9291": [
         {
          "count": 0.22091118918917263,
          "word": "cloudy"
         },
         {
          "count": 0.17631234639733678,
          "word": "str"
         },
         {
          "count": 0.14727412612611507,
          "word": "squalls"
         },
         {
          "count": 0.14188262396873835,
          "word": "colony"
         },
         {
          "count": 0.1369880840620111,
          "word": "nbsp"
         },
         {
          "count": 0.12665574846845898,
          "word": "unsettled"
         },
         {
          "count": 0.12641055892778622,
          "word": "pkgs"
         },
         {
          "count": 0.12418545938331846,
          "word": "rough"
         },
         {
          "count": 0.12336390368286886,
          "word": "variable"
         },
         {
          "count": 0.12097048459457094,
          "word": "moderate"
         }
        ],
        "data-0b0f40e908d901582e7d4d1be79c00f9": [
         {
          "count": 0.17023664171207104,
          "word": "shearing"
         },
         {
          "count": 0.14585401028361297,
          "word": "freights"
         },
         {
          "count": 0.1313729330839573,
          "word": "vicar"
         },
         {
          "count": 0.12286037275311446,
          "word": "fares"
         },
         {
          "count": 0.12011838766928482,
          "word": "picture"
         },
         {
          "count": 0.11857910093265679,
          "word": "earlier"
         },
         {
          "count": 0.1179411094372601,
          "word": "argued"
         },
         {
          "count": 0.11349109447471402,
          "word": "aramac"
         },
         {
          "count": 0.11141564976400349,
          "word": "ewes"
         },
         {
          "count": 0.10942854910641728,
          "word": "dawson"
         }
        ],
        "data-0bef9aec83432dcfba84323cc647a7b4": [
         {
          "count": 0.22350949607647677,
          "word": "cairns"
         },
         {
          "count": 0.12858048987908333,
          "word": "monsoon"
         },
         {
          "count": 0.12724445000464946,
          "word": "chamber"
         },
         {
          "count": 0.12578907191463615,
          "word": "hunt"
         },
         {
          "count": 0.10700217593462938,
          "word": "marry"
         },
         {
          "count": 0.10500740006791805,
          "word": "doesn"
         },
         {
          "count": 0.10301769753187606,
          "word": "placid"
         },
         {
          "count": 0.10089562470200696,
          "word": "wos"
         },
         {
          "count": 0.09999263010017806,
          "word": "strongest"
         },
         {
          "count": 0.09638600049321847,
          "word": "weapons"
         }
        ],
        "data-0cfc810689f6d1e1a6bf40bb3ecb52af": [
         {
          "count": 0.3231664680457925,
          "word": "glow"
         },
         {
          "count": 0.3095808844104217,
          "word": "dust"
         },
         {
          "count": 0.23565415280949303,
          "word": "steerage"
         },
         {
          "count": 0.23471855581488713,
          "word": "temperature"
         },
         {
          "count": 0.14595679336682768,
          "word": "phenomena"
         },
         {
          "count": 0.1454733137066224,
          "word": "agents"
         },
         {
          "count": 0.1444704355374076,
          "word": "meteoric"
         },
         {
          "count": 0.1426870118533158,
          "word": "vapor"
         },
         {
          "count": 0.1331394141395512,
          "word": "volcanic"
         },
         {
          "count": 0.1282862597622062,
          "word": "instant"
         }
        ],
        "data-116a5ec8e4534beb171e1f198d91de2a": [
         {
          "count": 0.30161431793629,
          "word": "fremantle"
         },
         {
          "count": 0.12756850875639444,
          "word": "wives"
         },
         {
          "count": 0.12025081860783184,
          "word": "emma"
         },
         {
          "count": 0.1185188603930171,
          "word": "students"
         },
         {
          "count": 0.11349655690546336,
          "word": "motor"
         },
         {
          "count": 0.09624977796395527,
          "word": "silk"
         },
         {
          "count": 0.09072167923626509,
          "word": "conduct"
         },
         {
          "count": 0.09072167923626509,
          "word": "league"
         },
         {
          "count": 0.09072167923626509,
          "word": "training"
         },
         {
          "count": 0.09018811395587387,
          "word": "nautical"
         }
        ],
        "data-156eb1c13549880a702e5b99b5b3b650": [
         {
          "count": 0.30984157355685665,
          "word": "1920"
         },
         {
          "count": 0.21725517400072777,
          "word": "1914"
         },
         {
          "count": 0.16748899846117804,
          "word": "1925"
         },
         {
          "count": 0.1397103396211157,
          "word": "prophecies"
         },
         {
          "count": 0.11415215867884192,
          "word": "dispatch"
         },
         {
          "count": 0.10930021898392288,
          "word": "dubbo"
         },
         {
          "count": 0.106526598063704,
          "word": "markedly"
         },
         {
          "count": 0.09784470743900735,
          "word": "marino"
         },
         {
          "count": 0.09167756731559709,
          "word": "convict"
         },
         {
          "count": 0.08528702396204242,
          "word": "1924"
         }
        ],
        "data-1682efd96b062c61c51e34f5cbe96fab": [
         {
          "count": 0.16541202737766125,
          "word": "lismore"
         },
         {
          "count": 0.16254319382384602,
          "word": "scientist"
         },
         {
          "count": 0.14900097385139682,
          "word": "1902"
         },
         {
          "count": 0.1318990524758794,
          "word": "lecture"
         },
         {
          "count": 0.1289234065907331,
          "word": "1900"
         },
         {
          "count": 0.11671415642302,
          "word": "astronomer"
         },
         {
          "count": 0.10995975982087887,
          "word": "founded"
         },
         {
          "count": 0.1033651258965119,
          "word": "ley"
         },
         {
          "count": 0.10184150755880525,
          "word": "sta"
         },
         {
          "count": 0.09573730566502214,
          "word": "1914"
         }
        ],
        "data-1aa2ba7e561aadab1f859762d5ea4661": [
         {
          "count": 0.31535064853884126,
          "word": "cloudy"
         },
         {
          "count": 0.21175719877728957,
          "word": "unsettled"
         },
         {
          "count": 0.16493728767437185,
          "word": "colony"
         },
         {
          "count": 0.15097724645957905,
          "word": "showers"
         },
         {
          "count": 0.1292147604834235,
          "word": "moderate"
         },
         {
          "count": 0.11529162365735472,
          "word": "capo"
         },
         {
          "count": 0.09705776591169835,
          "word": "smooth"
         },
         {
          "count": 0.09499647766789572,
          "word": "fino"
         },
         {
          "count": 0.08493947557243181,
          "word": "02in"
         },
         {
          "count": 0.08454168796980406,
          "word": "variable"
         }
        ],
        "data-21f488e1f0b01310a7317199d9dfd536": [
         {
          "count": 0.45186652244115433,
          "word": "sunspot"
         },
         {
          "count": 0.1947286802513875,
          "word": "furlongs"
         },
         {
          "count": 0.18335085356625094,
          "word": "minimum"
         },
         {
          "count": 0.13379656881861554,
          "word": "maximum"
         },
         {
          "count": 0.13015424953839236,
          "word": "thc"
         },
         {
          "count": 0.1185305010225837,
          "word": "periodic"
         },
         {
          "count": 0.11006403666382772,
          "word": "bah"
         },
         {
          "count": 0.10941298850341379,
          "word": "electrical"
         },
         {
          "count": 0.10614165297851257,
          "word": "minima"
         },
         {
          "count": 0.1012250507977485,
          "word": "wars"
         }
        ],
        "data-24b0d593c9dfc9760a9c61c10e1dc447": [
         {
          "count": 0.19897516461683154,
          "word": "nbsp"
         },
         {
          "count": 0.12747604738856438,
          "word": "thc"
         },
         {
          "count": 0.10647277725243187,
          "word": "minimum"
         },
         {
          "count": 0.10082854825864677,
          "word": "declination"
         },
         {
          "count": 0.09828256361762942,
          "word": "maximum"
         },
         {
          "count": 0.09029553356689976,
          "word": "russell"
         },
         {
          "count": 0.08095712379999678,
          "word": "parliament"
         },
         {
          "count": 0.07727725453636056,
          "word": "cycle"
         },
         {
          "count": 0.07707821073535381,
          "word": "lunar"
         },
         {
          "count": 0.06996584874828715,
          "word": "cobar"
         }
        ],
        "data-26936c306a2f3bf4081c4b35ef9557c8": [
         {
          "count": 0.21943797112867494,
          "word": "hobart"
         },
         {
          "count": 0.17725357449989826,
          "word": "porter"
         },
         {
          "count": 0.15198830841295824,
          "word": "schooner"
         },
         {
          "count": 0.1363839224593085,
          "word": "balloons"
         },
         {
          "count": 0.12373743007758721,
          "word": "burnie"
         },
         {
          "count": 0.11843618938627745,
          "word": "pier"
         },
         {
          "count": 0.11573938284100053,
          "word": "fleet"
         },
         {
          "count": 0.11369406799545069,
          "word": "devonport"
         },
         {
          "count": 0.11219065967742713,
          "word": "flinders"
         },
         {
          "count": 0.10642674481849138,
          "word": "lee"
         }
        ],
        "data-26e5615c26a89b20389cba4447295f60": [
         {
          "count": 0.36484858190342934,
          "word": "bullock"
         },
         {
          "count": 0.2748581386495996,
          "word": "snakes"
         },
         {
          "count": 0.21923540397229208,
          "word": "potato"
         },
         {
          "count": 0.20241324940791816,
          "word": "moth"
         },
         {
          "count": 0.19881312776033003,
          "word": "jim"
         },
         {
          "count": 0.15621383286964863,
          "word": "snake"
         },
         {
          "count": 0.1374290693247998,
          "word": "paddy"
         },
         {
          "count": 0.1288384894761416,
          "word": "leonta"
         },
         {
          "count": 0.12216645241039077,
          "word": "lad"
         },
         {
          "count": 0.11734615960339807,
          "word": "weight"
         }
        ],
        "data-27c957fa569cf903eb0b3ba41f89ad8b": [
         {
          "count": 0.3077544983495582,
          "word": "hector"
         },
         {
          "count": 0.2032144684729144,
          "word": "aborigines"
         },
         {
          "count": 0.1545644154470376,
          "word": "battle"
         },
         {
          "count": 0.1503477774288084,
          "word": "odds"
         },
         {
          "count": 0.1503477774288084,
          "word": "tragic"
         },
         {
          "count": 0.1470323483480094,
          "word": "chapter"
         },
         {
          "count": 0.11974360371514448,
          "word": "disasters"
         },
         {
          "count": 0.11075822619040693,
          "word": "stable"
         },
         {
          "count": 0.1091256323826606,
          "word": "devoted"
         },
         {
          "count": 0.10450137222457664,
          "word": "author"
         }
        ],
        "data-2dc3e7603efdaa96c65aaa643cc5ace2": [
         {
          "count": 0.4765817014522755,
          "word": "summit"
         },
         {
          "count": 0.2299101546163506,
          "word": "fog"
         },
         {
          "count": 0.17903291729669393,
          "word": "readings"
         },
         {
          "count": 0.17880135054033267,
          "word": "nevis"
         },
         {
          "count": 0.17659364524247698,
          "word": "ice"
         },
         {
          "count": 0.14740298264021945,
          "word": "plateau"
         },
         {
          "count": 0.1450027797308625,
          "word": "mountain"
         },
         {
          "count": 0.13520870703422627,
          "word": "annie"
         },
         {
          "count": 0.1319312023290402,
          "word": "ben"
         },
         {
          "count": 0.12273662379718103,
          "word": "fort"
         }
        ],
        "data-364303f54f637da8cee44aaa4ef76af1": [
         {
          "count": 0.16714487134885686,
          "word": "prophet"
         },
         {
          "count": 0.14654593162907772,
          "word": "existence"
         },
         {
          "count": 0.14162488915882207,
          "word": "predictions"
         },
         {
          "count": 0.14069426015139463,
          "word": "1912"
         },
         {
          "count": 0.136644673123439,
          "word": "exceed"
         },
         {
          "count": 0.10732824083015917,
          "word": "simple"
         },
         {
          "count": 0.1040599675769813,
          "word": "annum"
         },
         {
          "count": 0.09807622379884154,
          "word": "1500"
         },
         {
          "count": 0.09592641668060999,
          "word": "1911"
         },
         {
          "count": 0.09368199227630017,
          "word": "1913"
         }
        ],
        "data-36ac54ef309b27d1eaa10ab74e4a11bd": [
         {
          "count": 0.2038847139498572,
          "word": "colony"
         },
         {
          "count": 0.11877183811909044,
          "word": "rockhampton"
         },
         {
          "count": 0.0827714637892589,
          "word": "lukin"
         },
         {
          "count": 0.0803480902858629,
          "word": "temperature"
         },
         {
          "count": 0.07272738595439525,
          "word": "colonies"
         },
         {
          "count": 0.07272738595439525,
          "word": "maryborough"
         },
         {
          "count": 0.06872518447747995,
          "word": "telegram"
         },
         {
          "count": 0.0674132035161094,
          "word": "unsettled"
         },
         {
          "count": 0.06687558509723125,
          "word": "costs"
         },
         {
          "count": 0.06645569500551113,
          "word": "females"
         }
        ],
        "data-3ec5375334546a86e30b498f65ae24bc": [
         {
          "count": 0.3048373212590504,
          "word": "southport"
         },
         {
          "count": 0.21529718098599343,
          "word": "beach"
         },
         {
          "count": 0.21268268651842642,
          "word": "nerang"
         },
         {
          "count": 0.18540370241382154,
          "word": "ferry"
         },
         {
          "count": 0.17284158811271813,
          "word": "growers"
         },
         {
          "count": 0.16193283009476214,
          "word": "tweed"
         },
         {
          "count": 0.1591749657018401,
          "word": "federation"
         },
         {
          "count": 0.15116151540325942,
          "word": "owned"
         },
         {
          "count": 0.14499428233444975,
          "word": "thc"
         },
         {
          "count": 0.1214496225710716,
          "word": "edwards"
         }
        ],
        "data-42c50fc11bf27f06fd93d3ee03991b38": [
         {
          "count": 0.17336159354345498,
          "word": "plaintiff"
         },
         {
          "count": 0.15331118098708962,
          "word": "havo"
         },
         {
          "count": 0.12677311830121324,
          "word": "councillor"
         },
         {
          "count": 0.12056105959709032,
          "word": "sandhurst"
         },
         {
          "count": 0.12056105959709032,
          "word": "skeleton"
         },
         {
          "count": 0.11513616240230115,
          "word": "defendant"
         },
         {
          "count": 0.10164111917315875,
          "word": "holidays"
         },
         {
          "count": 0.09892831173604341,
          "word": "forfeited"
         },
         {
          "count": 0.09644884767767226,
          "word": "privy"
         },
         {
          "count": 0.09467171491258808,
          "word": "teachers"
         }
        ],
        "data-44fa86ba74eef74e3c4a4cec3e3a6f8e": [
         {
          "count": 0.23521115732252137,
          "word": "inigo"
         },
         {
          "count": 0.19599776179649836,
          "word": "ingham"
         },
         {
          "count": 0.1741742907971061,
          "word": "jupiter"
         },
         {
          "count": 0.1465382177463907,
          "word": "cairns"
         },
         {
          "count": 0.1398763373013959,
          "word": "willis"
         },
         {
          "count": 0.138397205649369,
          "word": "traffic"
         },
         {
          "count": 0.13309919835017378,
          "word": "96"
         },
         {
          "count": 0.13134036684679434,
          "word": "cycle"
         },
         {
          "count": 0.1257925433534655,
          "word": "telephone"
         },
         {
          "count": 0.12382171657650323,
          "word": "71"
         }
        ],
        "data-4c03c54ef171f9e9e8c9b207b329a3d9": [
         {
          "count": 0.19001934946559118,
          "word": "comet"
         },
         {
          "count": 0.17093121255646526,
          "word": "radium"
         },
         {
          "count": 0.15226126093979972,
          "word": "universe"
         },
         {
          "count": 0.1440131793162497,
          "word": "vibrations"
         },
         {
          "count": 0.13257126097074837,
          "word": "lecture"
         },
         {
          "count": 0.13155139187896547,
          "word": "171"
         },
         {
          "count": 0.12830029324913678,
          "word": "ether"
         },
         {
          "count": 0.12687313954222573,
          "word": "albury"
         },
         {
          "count": 0.1151826222625218,
          "word": "earthquakes"
         },
         {
          "count": 0.11250178622016004,
          "word": "lecturer"
         }
        ],
        "data-4cd8a5137e8b8202eff9962d4b33d563": [
         {
          "count": 0.4636962804463104,
          "word": "packages"
         },
         {
          "count": 0.4027205284554072,
          "word": "casks"
         },
         {
          "count": 0.25310685189290943,
          "word": "bundles"
         },
         {
          "count": 0.2262621118028153,
          "word": "hardware"
         },
         {
          "count": 0.19686088480559621,
          "word": "kegs"
         },
         {
          "count": 0.19534256087913768,
          "word": "bags"
         },
         {
          "count": 0.19137761921549934,
          "word": "barrels"
         },
         {
          "count": 0.18321823389071612,
          "word": "brothers"
         },
         {
          "count": 0.17044432309046384,
          "word": "hhds"
         },
         {
          "count": 0.16465020318684598,
          "word": "dec"
         }
        ],
        "data-4e2c917e086809f8cd705611b4dae586": [
         {
          "count": 0.14772908396008808,
          "word": "colony"
         },
         {
          "count": 0.14738597399007458,
          "word": "cloudy"
         },
         {
          "count": 0.13243014826819763,
          "word": "nbsp"
         },
         {
          "count": 0.11735679805880926,
          "word": "rough"
         },
         {
          "count": 0.10907596541750837,
          "word": "kosciusko"
         },
         {
          "count": 0.10836783790851356,
          "word": "showers"
         },
         {
          "count": 0.1053641066013236,
          "word": "thc"
         },
         {
          "count": 0.10104615466338482,
          "word": "eline"
         },
         {
          "count": 0.10032154532097513,
          "word": "squalls"
         },
         {
          "count": 0.09337128870443472,
          "word": "gladstone"
         }
        ],
        "data-4fdae70557a760cc14eeb8b1a4358cb0": [
         {
          "count": 0.8538934808650852,
          "word": "ditto"
         },
         {
          "count": 0.10903150123997785,
          "word": "schooner"
         },
         {
          "count": 0.09786557566632818,
          "word": "sundries"
         },
         {
          "count": 0.09607587937061948,
          "word": "ketch"
         },
         {
          "count": 0.09251467558131683,
          "word": "cargo"
         },
         {
          "count": 0.07115593656361448,
          "word": "tamar"
         },
         {
          "count": 0.06622771972444719,
          "word": "cutter"
         },
         {
          "count": 0.062401351228693905,
          "word": "bags"
         },
         {
          "count": 0.055547177601772094,
          "word": "pkgs"
         },
         {
          "count": 0.051646500587357924,
          "word": "barque"
         }
        ],
        "data-51e70eeb09df922f368950a1f5b5adf1": [
         {
          "count": 0.39431210026508756,
          "word": "colonies"
         },
         {
          "count": 0.22465831485159962,
          "word": "nbsp"
         },
         {
          "count": 0.15035575380693456,
          "word": "colonial"
         },
         {
          "count": 0.1503467943803768,
          "word": "1874"
         },
         {
          "count": 0.1336495589394974,
          "word": "presence"
         },
         {
          "count": 0.1318490568085012,
          "word": "acres"
         },
         {
          "count": 0.12823020254075707,
          "word": "1872"
         },
         {
          "count": 0.12546294099343697,
          "word": "inquiry"
         },
         {
          "count": 0.11077613698222227,
          "word": "hop"
         },
         {
          "count": 0.11077613698222227,
          "word": "rumour"
         }
        ],
        "data-58efe940215621b8561c2996e596ea48": [
         {
          "count": 0.16100774081148153,
          "word": "hunt"
         },
         {
          "count": 0.1454477885015331,
          "word": "variations"
         },
         {
          "count": 0.13548514166634293,
          "word": "cycle"
         },
         {
          "count": 0.1329426591350031,
          "word": "seasonal"
         },
         {
          "count": 0.12120649041794422,
          "word": "jupiter"
         },
         {
          "count": 0.11763761772596863,
          "word": "mother"
         },
         {
          "count": 0.11078554927916925,
          "word": "observa"
         },
         {
          "count": 0.10921950792729647,
          "word": "author"
         },
         {
          "count": 0.10921950792729647,
          "word": "magnetic"
         },
         {
          "count": 0.10716855327371169,
          "word": "mist"
         }
        ],
        "data-59b0b62260f81ff40a94574223f1cd26": [
         {
          "count": 0.38559613773649315,
          "word": "thc"
         },
         {
          "count": 0.17081234180642824,
          "word": "ants"
         },
         {
          "count": 0.15239708208563718,
          "word": "sunspot"
         },
         {
          "count": 0.12173318635820217,
          "word": "cycles"
         },
         {
          "count": 0.12064241679267386,
          "word": "cairns"
         },
         {
          "count": 0.10813028520830308,
          "word": "cycle"
         },
         {
          "count": 0.10204748479012503,
          "word": "1893"
         },
         {
          "count": 0.1003461466754854,
          "word": "sigma"
         },
         {
          "count": 0.0968226682171782,
          "word": "leonta"
         },
         {
          "count": 0.08737740737403601,
          "word": "seasonal"
         }
        ],
        "data-59baddd5b5ae0c7f96986516bdfa73c1": [
         {
          "count": 0.11787657290241611,
          "word": "tbo"
         },
         {
          "count": 0.11426473060827415,
          "word": "treasurer"
         },
         {
          "count": 0.11030180532911447,
          "word": "hon"
         },
         {
          "count": 0.105386780087349,
          "word": "ministry"
         },
         {
          "count": 0.09507892930073271,
          "word": "debentures"
         },
         {
          "count": 0.09088147940449189,
          "word": "richmond"
         },
         {
          "count": 0.08962859350917816,
          "word": "colony"
         },
         {
          "count": 0.08840742967681209,
          "word": "havo"
         },
         {
          "count": 0.08792488736144746,
          "word": "asylum"
         },
         {
          "count": 0.08792488736144746,
          "word": "jan"
         }
        ],
        "data-5c89b860be1e6afe27e5ccc7feb18724": [
         {
          "count": 0.28515388927144814,
          "word": "str"
         },
         {
          "count": 0.17676347148796887,
          "word": "tbo"
         },
         {
          "count": 0.12950005196243508,
          "word": "hobart"
         },
         {
          "count": 0.11087397937990372,
          "word": "sailed"
         },
         {
          "count": 0.10424297073071077,
          "word": "strahan"
         },
         {
          "count": 0.10163448109824506,
          "word": "newcastle"
         },
         {
          "count": 0.10082194447940315,
          "word": "whioh"
         },
         {
          "count": 0.097017341745536,
          "word": "bgs"
         },
         {
          "count": 0.08938170475837949,
          "word": "cloudy"
         },
         {
          "count": 0.08633336797495672,
          "word": "nbsp"
         }
        ],
        "data-60d4c54107510027bbe29bb0aabdb5c7": [
         {
          "count": 0.9508766140052123,
          "word": "tte"
         },
         {
          "count": 0.11179975096005271,
          "word": "transit"
         },
         {
          "count": 0.08785223135901749,
          "word": "planet"
         },
         {
          "count": 0.0817325523817423,
          "word": "ef"
         },
         {
          "count": 0.05770925998683825,
          "word": "contact"
         },
         {
          "count": 0.04947731564975504,
          "word": "aad"
         },
         {
          "count": 0.0452686500778638,
          "word": "external"
         },
         {
          "count": 0.03956605618809018,
          "word": "southerly"
         },
         {
          "count": 0.037291152208756534,
          "word": "isobars"
         },
         {
          "count": 0.03593903582819508,
          "word": "cf"
         }
        ],
        "data-6192bb20386db0977d543d58cfdef1ed": [
         {
          "count": 0.16380876629370694,
          "word": "scientists"
         },
         {
          "count": 0.16237758419294418,
          "word": "1913"
         },
         {
          "count": 0.16157691892234438,
          "word": "russell"
         },
         {
          "count": 0.1540605883165551,
          "word": "predict"
         },
         {
          "count": 0.1421064905356313,
          "word": "depressions"
         },
         {
          "count": 0.13607456406341384,
          "word": "wise"
         },
         {
          "count": 0.13429511172322203,
          "word": "preceded"
         },
         {
          "count": 0.13390134664412365,
          "word": "anxiety"
         },
         {
          "count": 0.12970869494343204,
          "word": "justify"
         },
         {
          "count": 0.12117546813518813,
          "word": "climax"
         }
        ],
        "data-656d9d9db4c09b6d34fe8b3e96b4190d": [
         {
          "count": 0.16709781364967122,
          "word": "seasonal"
         },
         {
          "count": 0.1381183356810676,
          "word": "whioh"
         },
         {
          "count": 0.11668701565226418,
          "word": "colonies"
         },
         {
          "count": 0.11080890479798397,
          "word": "canal"
         },
         {
          "count": 0.0985743460895326,
          "word": "instruments"
         },
         {
          "count": 0.09606614830511494,
          "word": "barometric"
         },
         {
          "count": 0.09478302508608903,
          "word": "blown"
         },
         {
          "count": 0.09467059760466717,
          "word": "charts"
         },
         {
          "count": 0.08864379411968137,
          "word": "velvet"
         },
         {
          "count": 0.08549482795673556,
          "word": "verandah"
         }
        ],
        "data-6d8203a1ae447523b1586c1601380475": [
         {
          "count": 0.4751098122075781,
          "word": "charlie"
         },
         {
          "count": 0.10173942984674475,
          "word": "boss"
         },
         {
          "count": 0.0958613390599683,
          "word": "vic"
         },
         {
          "count": 0.09518244383662156,
          "word": "birth"
         },
         {
          "count": 0.09083350058090853,
          "word": "wright"
         },
         {
          "count": 0.0892780771950602,
          "word": "maker"
         },
         {
          "count": 0.08687456209147121,
          "word": "faith"
         },
         {
          "count": 0.08590954198930395,
          "word": "wodonga"
         },
         {
          "count": 0.08433848916488176,
          "word": "silence"
         },
         {
          "count": 0.08283431028485597,
          "word": "mist"
         }
        ],
        "data-718f4ce86a7bb63e4fd5b6019876187c": [
         {
          "count": 0.22252343338054953,
          "word": "hunt"
         },
         {
          "count": 0.15655270349088504,
          "word": "rats"
         },
         {
          "count": 0.12005618932010009,
          "word": "julia"
         },
         {
          "count": 0.1140257391013643,
          "word": "governors"
         },
         {
          "count": 0.10966745462970064,
          "word": "townsvllle"
         },
         {
          "count": 0.10218266215636536,
          "word": "prophecy"
         },
         {
          "count": 0.10047907036143272,
          "word": "rat"
         },
         {
          "count": 0.09142083031571499,
          "word": "appointment"
         },
         {
          "count": 0.08463662076902394,
          "word": "output"
         },
         {
          "count": 0.08225059097227547,
          "word": "1925"
         }
        ],
        "data-719c0eb4bd88cd002fe88a88d1244d43": [
         {
          "count": 0.37293849222539005,
          "word": "fleet"
         },
         {
          "count": 0.2936358522959779,
          "word": "pearling"
         },
         {
          "count": 0.28812173161958876,
          "word": "melville"
         },
         {
          "count": 0.2595362579109966,
          "word": "willis"
         },
         {
          "count": 0.19797738344719057,
          "word": "hurricanes"
         },
         {
          "count": 0.1832993800282539,
          "word": "1899"
         },
         {
          "count": 0.17620780907081537,
          "word": "warnings"
         },
         {
          "count": 0.1697116593408755,
          "word": "colored"
         },
         {
          "count": 0.1439873413482015,
          "word": "townsvllle"
         },
         {
          "count": 0.14019228544933143,
          "word": "307"
         }
        ],
        "data-77434a957fd15c558b0c25ccfca9e19c": [
         {
          "count": 0.11772872269126773,
          "word": "albury"
         },
         {
          "count": 0.11250610810406239,
          "word": "wade"
         },
         {
          "count": 0.10301959407289292,
          "word": "liberal"
         },
         {
          "count": 0.1015738539656857,
          "word": "commonwealth"
         },
         {
          "count": 0.09801689469765835,
          "word": "hunt"
         },
         {
          "count": 0.08821520522789252,
          "word": "labor"
         },
         {
          "count": 0.08632712310990084,
          "word": "lecture"
         },
         {
          "count": 0.082226453210317,
          "word": "boys"
         },
         {
          "count": 0.08093167791553203,
          "word": "railways"
         },
         {
          "count": 0.07963167021063897,
          "word": "melba"
         }
        ],
        "data-78bf9223d07b5d840d194aa75cad6e97": [
         {
          "count": 0.5685290463740924,
          "word": "dec"
         },
         {
          "count": 0.36228745216808256,
          "word": "derby"
         },
         {
          "count": 0.24350223370738444,
          "word": "fairway"
         },
         {
          "count": 0.201460335539278,
          "word": "jan"
         },
         {
          "count": 0.19023900838017554,
          "word": "stakes"
         },
         {
          "count": 0.12543007322901564,
          "word": "str"
         },
         {
          "count": 0.12296881797314115,
          "word": "minstrel"
         },
         {
          "count": 0.12175931266917546,
          "word": "winner"
         },
         {
          "count": 0.11982612925052888,
          "word": "handicap"
         },
         {
          "count": 0.10777967721474394,
          "word": "bubbles"
         }
        ],
        "data-7d7d1205ed57860484df806346000a80": [
         {
          "count": 0.30871815643242956,
          "word": "confusion"
         },
         {
          "count": 0.27391992877688587,
          "word": "hurricane"
         },
         {
          "count": 0.2355427029365137,
          "word": "andrew"
         },
         {
          "count": 0.21088548657597703,
          "word": "using"
         },
         {
          "count": 0.20813177334691824,
          "word": "military"
         },
         {
          "count": 0.19410520602962889,
          "word": "longitude"
         },
         {
          "count": 0.1807652413144324,
          "word": "richard"
         },
         {
          "count": 0.17484741095644538,
          "word": "politicians"
         },
         {
          "count": 0.1720452228564903,
          "word": "wraggc"
         },
         {
          "count": 0.16671963872357862,
          "word": "hurricanes"
         }
        ],
        "data-8420d47e4dc567998cff7a297664697f": [
         {
          "count": 0.5802486953101471,
          "word": "nbsp"
         },
         {
          "count": 0.15803449107914863,
          "word": "1925"
         },
         {
          "count": 0.15386919625545653,
          "word": "1920"
         },
         {
          "count": 0.13981322370297752,
          "word": "moods"
         },
         {
          "count": 0.11035218305380086,
          "word": "bales"
         },
         {
          "count": 0.08925242562331781,
          "word": "assistance"
         },
         {
          "count": 0.08594198544711916,
          "word": "cooling"
         },
         {
          "count": 0.07500636780058088,
          "word": "maxima"
         },
         {
          "count": 0.07321122831299418,
          "word": "computed"
         },
         {
          "count": 0.07026159555666728,
          "word": "fearful"
         }
        ],
        "data-85287153fe69f6b83775cdb4107e5458": [
         {
          "count": 0.1987764387776916,
          "word": "cooroy"
         },
         {
          "count": 0.18372700954900445,
          "word": "alpha"
         },
         {
          "count": 0.16242250762866534,
          "word": "lightning"
         },
         {
          "count": 0.15288047744805827,
          "word": "downs"
         },
         {
          "count": 0.13298050779625176,
          "word": "ended"
         },
         {
          "count": 0.12798341471897437,
          "word": "ilfracombe"
         },
         {
          "count": 0.12441000027980333,
          "word": "deg"
         },
         {
          "count": 0.12425626114202204,
          "word": "75"
         },
         {
          "count": 0.1207502333909573,
          "word": "graziers"
         },
         {
          "count": 0.1169487398176837,
          "word": "110"
         }
        ],
        "data-893e937f34b0feee319a59d378108e6e": [
         {
          "count": 0.28941782270764765,
          "word": "constable"
         },
         {
          "count": 0.16614222097830186,
          "word": "shearers"
         },
         {
          "count": 0.1345847522137789,
          "word": "scrub"
         },
         {
          "count": 0.12768270566531886,
          "word": "bullocks"
         },
         {
          "count": 0.10338455585837376,
          "word": "downs"
         },
         {
          "count": 0.09980662370173568,
          "word": "poisoning"
         },
         {
          "count": 0.09980662370173568,
          "word": "stealing"
         },
         {
          "count": 0.09930533589965562,
          "word": "inspector"
         },
         {
          "count": 0.09788239605882869,
          "word": "tangorin"
         },
         {
          "count": 0.09530252229297953,
          "word": "pledges"
         }
        ],
        "data-8a4cfd28cadccf4d3dfe30895e92d0fc": [
         {
          "count": 0.6208910048478438,
          "word": "agents"
         },
         {
          "count": 0.3144881406032192,
          "word": "cabin"
         },
         {
          "count": 0.30297695283872644,
          "word": "ballast"
         },
         {
          "count": 0.2616688349661736,
          "word": "steerage"
         },
         {
          "count": 0.21324538955963504,
          "word": "schooner"
         },
         {
          "count": 0.18484128669192218,
          "word": "brig"
         },
         {
          "count": 0.1622712151500084,
          "word": "bremen"
         },
         {
          "count": 0.14927177269174455,
          "word": "barque"
         },
         {
          "count": 0.12428222515447443,
          "word": "brothers"
         },
         {
          "count": 0.09661932778946855,
          "word": "wm"
         }
        ],
        "data-8a76ee28157711ccfddf398ee5c288a7": [
         {
          "count": 0.60398199808183,
          "word": "agents"
         },
         {
          "count": 0.32964693661146577,
          "word": "brig"
         },
         {
          "count": 0.2792206844140526,
          "word": "ult"
         },
         {
          "count": 0.2534476841594111,
          "word": "otago"
         },
         {
          "count": 0.1580061064004682,
          "word": "newcastle"
         },
         {
          "count": 0.15718711672483018,
          "word": "ballast"
         },
         {
          "count": 0.15212118606816505,
          "word": "barque"
         },
         {
          "count": 0.12270776979208765,
          "word": "tonb"
         },
         {
          "count": 0.12080057820930272,
          "word": "cabin"
         },
         {
          "count": 0.11878658807127356,
          "word": "steerage"
         }
        ],
        "data-8c2f791852b60a24e9bb0d4d293a7112": [
         {
          "count": 0.47130241744048584,
          "word": "inigo"
         },
         {
          "count": 0.30871753674044194,
          "word": "orthodox"
         },
         {
          "count": 0.2718410712818534,
          "word": "scientists"
         },
         {
          "count": 0.2481067438230276,
          "word": "seasonal"
         },
         {
          "count": 0.22906923488376893,
          "word": "primary"
         },
         {
          "count": 0.19665659758709295,
          "word": "crohamhurst"
         },
         {
          "count": 0.13334821072244532,
          "word": "sonal"
         },
         {
          "count": 0.1287787421056658,
          "word": "labor"
         },
         {
          "count": 0.12633540457402762,
          "word": "producers"
         },
         {
          "count": 0.09787491525695213,
          "word": "proof"
         }
        ],
        "data-909d653655f95b058d8f4bb787b6a66a": [
         {
          "count": 0.2429712256596574,
          "word": "nbsp"
         },
         {
          "count": 0.11020120317324919,
          "word": "clay"
         },
         {
          "count": 0.09713207344947059,
          "word": "lb"
         },
         {
          "count": 0.09279948549937801,
          "word": "antarctic"
         },
         {
          "count": 0.09251936776805798,
          "word": "thc"
         },
         {
          "count": 0.08802594156358273,
          "word": "minimum"
         },
         {
          "count": 0.08348026956756782,
          "word": "monsoon"
         },
         {
          "count": 0.08319637298852081,
          "word": "degrees"
         },
         {
          "count": 0.07779018651023903,
          "word": "coronation"
         },
         {
          "count": 0.0758844323823989,
          "word": "maximum"
         }
        ],
        "data-94699de8524f2360ff5dd00d08d87dc8": [
         {
          "count": 0.17322970251855752,
          "word": "colony"
         },
         {
          "count": 0.1468218060167492,
          "word": "convention"
         },
         {
          "count": 0.11169026036271446,
          "word": "colonies"
         },
         {
          "count": 0.11084964136550506,
          "word": "nevis"
         },
         {
          "count": 0.1086322633736751,
          "word": "russell"
         },
         {
          "count": 0.10554392471329331,
          "word": "antarctic"
         },
         {
          "count": 0.10059266644749751,
          "word": "hon"
         },
         {
          "count": 0.09751340870249925,
          "word": "wellington"
         },
         {
          "count": 0.09565048703941872,
          "word": "hobart"
         },
         {
          "count": 0.09456354968669807,
          "word": "ben"
         }
        ],
        "data-956917f87f9d0a6ee41f77158d06c372": [
         {
          "count": 0.15790712596002848,
          "word": "whioh"
         },
         {
          "count": 0.14831051255902075,
          "word": "colony"
         },
         {
          "count": 0.1460437194851697,
          "word": "grainger"
         },
         {
          "count": 0.12809491754083074,
          "word": "unsettled"
         },
         {
          "count": 0.12141210438748573,
          "word": "colonies"
         },
         {
          "count": 0.11284552259549377,
          "word": "cloudy"
         },
         {
          "count": 0.11135365020730113,
          "word": "rough"
         },
         {
          "count": 0.10979564360642637,
          "word": "caledonia"
         },
         {
          "count": 0.09496040307328196,
          "word": "australasia"
         },
         {
          "count": 0.093403142385219,
          "word": "lecture"
         }
        ],
        "data-98c800fc84c01e8ab492a0150f4e6eec": [
         {
          "count": 0.1798055529664025,
          "word": "thc"
         },
         {
          "count": 0.17045577158957062,
          "word": "ami"
         },
         {
          "count": 0.1417915999562881,
          "word": "copper"
         },
         {
          "count": 0.1102823555215574,
          "word": "screen"
         },
         {
          "count": 0.10628369711183992,
          "word": "nbsp"
         },
         {
          "count": 0.10611542648803822,
          "word": "lantern"
         },
         {
          "count": 0.10516684085284085,
          "word": "audience"
         },
         {
          "count": 0.10238375364101088,
          "word": "lecture"
         },
         {
          "count": 0.09372672986383239,
          "word": "harbor"
         },
         {
          "count": 0.09309027257326513,
          "word": "lecturer"
         }
        ],
        "data-9a5f50691213073b0bbb494baeba8fb6": [
         {
          "count": 0.1830213895903469,
          "word": "petersen"
         },
         {
          "count": 0.16419535344093444,
          "word": "babinda"
         },
         {
          "count": 0.14944264522811793,
          "word": "senator"
         },
         {
          "count": 0.13392258011056504,
          "word": "rent"
         },
         {
          "count": 0.13288828730103505,
          "word": "downs"
         },
         {
          "count": 0.11130943977224853,
          "word": "moods"
         },
         {
          "count": 0.09916905181886317,
          "word": "normal"
         },
         {
          "count": 0.0974514106874257,
          "word": "auckland"
         },
         {
          "count": 0.0974514106874257,
          "word": "thc"
         },
         {
          "count": 0.09096508839972396,
          "word": "stove"
         }
        ],
        "data-9c3704b0aca182ba1c977109b9ff34b9": [
         {
          "count": 0.3164026281687297,
          "word": "duke"
         },
         {
          "count": 0.14494366592448496,
          "word": "lamps"
         },
         {
          "count": 0.14222180189140965,
          "word": "edinburgh"
         },
         {
          "count": 0.1287639939660865,
          "word": "prince"
         },
         {
          "count": 0.12650042770289371,
          "word": "hume"
         },
         {
          "count": 0.10666635141855724,
          "word": "deposited"
         },
         {
          "count": 0.10471571277252886,
          "word": "stranger"
         },
         {
          "count": 0.10035121324532818,
          "word": "proceeded"
         },
         {
          "count": 0.09454376096586076,
          "word": "geelong"
         },
         {
          "count": 0.09454376096586076,
          "word": "ye"
         }
        ],
        "data-9c38df898c45d5f6752919b947c26855": [
         {
          "count": 0.46962621959298906,
          "word": "inigo"
         },
         {
          "count": 0.32659530648566504,
          "word": "crohamhurst"
         },
         {
          "count": 0.20501790498763114,
          "word": "planets"
         },
         {
          "count": 0.17173287494165526,
          "word": "jupiter"
         },
         {
          "count": 0.17089976430376594,
          "word": "165"
         },
         {
          "count": 0.1547489745094598,
          "word": "magnetic"
         },
         {
          "count": 0.15046324240646042,
          "word": "hurst"
         },
         {
          "count": 0.13711696702761647,
          "word": "cycle"
         },
         {
          "count": 0.13299011882229483,
          "word": "reaches"
         },
         {
          "count": 0.12301074299257866,
          "word": "cycles"
         }
        ],
        "data-9d21e154a4f264e37090fac63040540c": [
         {
          "count": 0.33137795556047367,
          "word": "sunspot"
         },
         {
          "count": 0.18743253896193549,
          "word": "cyclical"
         },
         {
          "count": 0.1621627394970573,
          "word": "fo"
         },
         {
          "count": 0.14745833405373018,
          "word": "cr"
         },
         {
          "count": 0.14519355128302563,
          "word": "crohamhurst"
         },
         {
          "count": 0.1391869330723138,
          "word": "inigo"
         },
         {
          "count": 0.1345810141085091,
          "word": "seasonal"
         },
         {
          "count": 0.12689698915018138,
          "word": "ay"
         },
         {
          "count": 0.10937307589164626,
          "word": "planets"
         },
         {
          "count": 0.10848927405214234,
          "word": "dray"
         }
        ],
        "data-9f15251bc51d067d329dec6461dd3df1": [
         {
          "count": 0.25290207734266407,
          "word": "lengths"
         },
         {
          "count": 0.24321579387232295,
          "word": "olds"
         },
         {
          "count": 0.23590878852157743,
          "word": "winner"
         },
         {
          "count": 0.2318269042307754,
          "word": "derby"
         },
         {
          "count": 0.22430197956043965,
          "word": "cup"
         },
         {
          "count": 0.20251615577482177,
          "word": "count"
         },
         {
          "count": 0.1990185715139938,
          "word": "furlongs"
         },
         {
          "count": 0.17993141221231684,
          "word": "bred"
         },
         {
          "count": 0.17821708312776652,
          "word": "ascot"
         },
         {
          "count": 0.15200987117020182,
          "word": "aga"
         }
        ],
        "data-a2253b7ea6d341770726c3b2eeb853d4": [
         {
          "count": 0.5340714495917517,
          "word": "inigo"
         },
         {
          "count": 0.27231478578910684,
          "word": "bruckner"
         },
         {
          "count": 0.2480267725642414,
          "word": "sunspots"
         },
         {
          "count": 0.17542470176275776,
          "word": "cycle"
         },
         {
          "count": 0.13989109441619785,
          "word": "planets"
         },
         {
          "count": 0.1358268377126229,
          "word": "theories"
         },
         {
          "count": 0.11318903142718574,
          "word": "insurance"
         },
         {
          "count": 0.10696021812936479,
          "word": "walker"
         },
         {
          "count": 0.09745816764597653,
          "word": "crop"
         },
         {
          "count": 0.0961396852039954,
          "word": "adjourned"
         }
        ],
        "data-a3754b5fa6c8aaf14b5bf47d5985fbeb": [
         {
          "count": 0.7296822808144795,
          "word": "str"
         },
         {
          "count": 0.20939430197339903,
          "word": "arr"
         },
         {
          "count": 0.20007218437035656,
          "word": "dec"
         },
         {
          "count": 0.12518746669974395,
          "word": "labor"
         },
         {
          "count": 0.11821508373894717,
          "word": "newcastle"
         },
         {
          "count": 0.11130746656492062,
          "word": "1920"
         },
         {
          "count": 0.09318200596565494,
          "word": "handicap"
         },
         {
          "count": 0.08343341628443307,
          "word": "dep"
         },
         {
          "count": 0.0770586773026601,
          "word": "airs"
         },
         {
          "count": 0.07546150279678837,
          "word": "4ft"
         }
        ],
        "data-a654cca3bd3607c33e0f7f62d38eb757": [
         {
          "count": 0.32381856649826674,
          "word": "earthquake"
         },
         {
          "count": 0.285637480166839,
          "word": "belt"
         },
         {
          "count": 0.24780593768472856,
          "word": "italian"
         },
         {
          "count": 0.1623750231102249,
          "word": "earthquakes"
         },
         {
          "count": 0.16192732138747867,
          "word": "hemisphere"
         },
         {
          "count": 0.1551806742686436,
          "word": "maximum"
         },
         {
          "count": 0.1443101524985334,
          "word": "mood"
         },
         {
          "count": 0.11367987134325452,
          "word": "rainy"
         },
         {
          "count": 0.10309205229739993,
          "word": "auckland"
         },
         {
          "count": 0.10177154947088385,
          "word": "telescope"
         }
        ],
        "data-a8782e46734ff2fcf6e70620a4452cbe": [
         {
          "count": 0.17226223771000435,
          "word": "colony"
         },
         {
          "count": 0.15499963688728455,
          "word": "6d"
         },
         {
          "count": 0.13342082177143533,
          "word": "majesty"
         },
         {
          "count": 0.13100267221372516,
          "word": "lb"
         },
         {
          "count": 0.11865196033340378,
          "word": "1s"
         },
         {
          "count": 0.11849103822217524,
          "word": "10s"
         },
         {
          "count": 0.11790240499235265,
          "word": "bearing"
         },
         {
          "count": 0.11708583709047393,
          "word": "nov"
         },
         {
          "count": 0.10483064567755632,
          "word": "circulation"
         },
         {
          "count": 0.10371208051158465,
          "word": "bunches"
         }
        ],
        "data-a966d5ce604352d60606da1884d861e8": [
         {
          "count": 0.19075386212602466,
          "word": "drier"
         },
         {
          "count": 0.18071418517202337,
          "word": "zenith"
         },
         {
          "count": 0.17938412015551594,
          "word": "plums"
         },
         {
          "count": 0.16276867072861126,
          "word": "1907"
         },
         {
          "count": 0.16276867072861126,
          "word": "climax"
         },
         {
          "count": 0.1601387749922323,
          "word": "mad"
         },
         {
          "count": 0.15504626811111494,
          "word": "foolish"
         },
         {
          "count": 0.1523799020438911,
          "word": "crest"
         },
         {
          "count": 0.14981584886794003,
          "word": "embrace"
         },
         {
          "count": 0.14692528670041277,
          "word": "begins"
         }
        ],
        "data-a9e7a6cd983ba79c54723c0284e2cc12": [
         {
          "count": 0.3584160126777117,
          "word": "taree"
         },
         {
          "count": 0.3004539342857304,
          "word": "max"
         },
         {
          "count": 0.2988489214220575,
          "word": "1920"
         },
         {
          "count": 0.19102875272748523,
          "word": "1924"
         },
         {
          "count": 0.1841633219221258,
          "word": "1919"
         },
         {
          "count": 0.17593124844316768,
          "word": "degs"
         },
         {
          "count": 0.13946282999696016,
          "word": "1918"
         },
         {
          "count": 0.11953956856882297,
          "word": "hardware"
         },
         {
          "count": 0.097470488122916,
          "word": "costs"
         },
         {
          "count": 0.09012848208001138,
          "word": "tendency"
         }
        ],
        "data-aad3f714555b1277d44449260cb57897": [
         {
          "count": 0.3500357979816739,
          "word": "blayney"
         },
         {
          "count": 0.22283452976800736,
          "word": "cup"
         },
         {
          "count": 0.13568164475860772,
          "word": "barry"
         },
         {
          "count": 0.11916949851683105,
          "word": "68"
         },
         {
          "count": 0.11718270177856596,
          "word": "78"
         },
         {
          "count": 0.11298087613933858,
          "word": "mick"
         },
         {
          "count": 0.11081780623676091,
          "word": "rams"
         },
         {
          "count": 0.10352102939014954,
          "word": "competition"
         },
         {
          "count": 0.10117207676448736,
          "word": "merino"
         },
         {
          "count": 0.09919169803371296,
          "word": "beach"
         }
        ],
        "data-ad132d6fd52810d2ea03bbb3261789da": [
         {
          "count": 0.3274113594242992,
          "word": "satellite"
         },
         {
          "count": 0.3226956926193362,
          "word": "introduction"
         },
         {
          "count": 0.21513046174622416,
          "word": "guns"
         },
         {
          "count": 0.1976090220216844,
          "word": "observer"
         },
         {
          "count": 0.15539605740096182,
          "word": "balloon"
         },
         {
          "count": 0.14492991381172943,
          "word": "coastline"
         },
         {
          "count": 0.14235900719698535,
          "word": "75"
         },
         {
          "count": 0.14235900719698535,
          "word": "using"
         },
         {
          "count": 0.1389342022123796,
          "word": "charleville"
         },
         {
          "count": 0.13690578857782357,
          "word": "cloud"
         }
        ],
        "data-af7a3d6a7e0e63329a5f63bba6336a1b": [
         {
          "count": 0.1840821246540216,
          "word": "balloon"
         },
         {
          "count": 0.1710918988995633,
          "word": "colony"
         },
         {
          "count": 0.16555733096905037,
          "word": "temperature"
         },
         {
          "count": 0.12311727440652455,
          "word": "tariff"
         },
         {
          "count": 0.11461661374780409,
          "word": "hon"
         },
         {
          "count": 0.09806145340464097,
          "word": "mountain"
         },
         {
          "count": 0.09786606284735212,
          "word": "treasurer"
         },
         {
          "count": 0.09412377976907478,
          "word": "ben"
         },
         {
          "count": 0.09301423970174605,
          "word": "nevis"
         },
         {
          "count": 0.0919711638266331,
          "word": "vertical"
         }
        ],
        "data-b01a4c5ba4f6c76310853718c0413da5": [
         {
          "count": 0.30972518802416166,
          "word": "darwin"
         },
         {
          "count": 0.15944186437127328,
          "word": "arrow"
         },
         {
          "count": 0.15523947559012508,
          "word": "canberra"
         },
         {
          "count": 0.15486259401208083,
          "word": "van"
         },
         {
          "count": 0.1483861178009642,
          "word": "defence"
         },
         {
          "count": 0.14433802856976996,
          "word": "role"
         },
         {
          "count": 0.14050427042892508,
          "word": "disaster"
         },
         {
          "count": 0.1300610103581257,
          "word": "aborigines"
         },
         {
          "count": 0.11495717455662238,
          "word": "deputy"
         },
         {
          "count": 0.11495717455662238,
          "word": "disasters"
         }
        ],
        "data-b2f568b264722ecae107962676f9e127": [
         {
          "count": 0.28345498320390883,
          "word": "barque"
         },
         {
          "count": 0.17843675659926198,
          "word": "sailed"
         },
         {
          "count": 0.17124077878724975,
          "word": "arrive"
         },
         {
          "count": 0.1607812389224097,
          "word": "chat"
         },
         {
          "count": 0.1607812389224097,
          "word": "venus"
         },
         {
          "count": 0.16034354301147577,
          "word": "bar"
         },
         {
          "count": 0.14000852437032468,
          "word": "tonnage"
         },
         {
          "count": 0.1364994570674474,
          "word": "ditto"
         },
         {
          "count": 0.13323259356503922,
          "word": "uv"
         },
         {
          "count": 0.13017664684678143,
          "word": "tamar"
         }
        ],
        "data-b4e7ce6f6458ee0c6e1ab08392c46dd3": [
         {
          "count": 0.33578705296370215,
          "word": "1918"
         },
         {
          "count": 0.27773575380993853,
          "word": "cycle"
         },
         {
          "count": 0.16601731203169529,
          "word": "cask"
         },
         {
          "count": 0.153278635555372,
          "word": "cyclical"
         },
         {
          "count": 0.14923869020608985,
          "word": "bruckner"
         },
         {
          "count": 0.1303075661140408,
          "word": "eline"
         },
         {
          "count": 0.11495897666652899,
          "word": "macrossan"
         },
         {
          "count": 0.11051350241558322,
          "word": "tidal"
         },
         {
          "count": 0.10651203835175807,
          "word": "weir"
         },
         {
          "count": 0.10537628836490459,
          "word": "bread"
         }
        ],
        "data-b4f1556484305ced4ebaad2149d0923e": [
         {
          "count": 0.22375074394323433,
          "word": "cloudy"
         },
         {
          "count": 0.19976970419766418,
          "word": "showers"
         },
         {
          "count": 0.1710789988358607,
          "word": "colony"
         },
         {
          "count": 0.1280836532415895,
          "word": "showery"
         },
         {
          "count": 0.1256196282580892,
          "word": "nbsp"
         },
         {
          "count": 0.11114185650657211,
          "word": "boer"
         },
         {
          "count": 0.10676652680259596,
          "word": "cairns"
         },
         {
          "count": 0.10535839789388125,
          "word": "rough"
         },
         {
          "count": 0.10398264264972747,
          "word": "dust"
         },
         {
          "count": 0.09504692417493225,
          "word": "colonies"
         }
        ],
        "data-b72fb44b566f08e95e63d1e945c8227f": [
         {
          "count": 0.23000453733843387,
          "word": "lhe"
         },
         {
          "count": 0.21621043914141,
          "word": "cycles"
         },
         {
          "count": 0.1940445865746923,
          "word": "rents"
         },
         {
          "count": 0.18525981475777778,
          "word": "rental"
         },
         {
          "count": 0.14728652333419093,
          "word": "keogh"
         },
         {
          "count": 0.13528270917582846,
          "word": "1918"
         },
         {
          "count": 0.13357185045105674,
          "word": "willis"
         },
         {
          "count": 0.1273627703665986,
          "word": "hurricanes"
         },
         {
          "count": 0.11995935777896025,
          "word": "fleet"
         },
         {
          "count": 0.11824084136198473,
          "word": "77"
         }
        ],
        "data-bbb13236d2a866cb8010cb8bc1c81061": [
         {
          "count": 0.32861329154450397,
          "word": "inigo"
         },
         {
          "count": 0.18458171446394325,
          "word": "crohamhurst"
         },
         {
          "count": 0.16090700103386635,
          "word": "rider"
         },
         {
          "count": 0.1418759750541737,
          "word": "supreme"
         },
         {
          "count": 0.13792028660045685,
          "word": "registrar"
         },
         {
          "count": 0.13457193017617508,
          "word": "justice"
         },
         {
          "count": 0.1262922970189619,
          "word": "bunch"
         },
         {
          "count": 0.12583672728077497,
          "word": "ring"
         },
         {
          "count": 0.12255319149289047,
          "word": "sheriff"
         },
         {
          "count": 0.12148177049553949,
          "word": "boxing"
         }
        ],
        "data-c441d96768fac58c20ae9b03b25c1300": [
         {
          "count": 0.3156084866837181,
          "word": "prize"
         },
         {
          "count": 0.1998867103457296,
          "word": "robertson"
         },
         {
          "count": 0.19838050021349143,
          "word": "duchess"
         },
         {
          "count": 0.1798465155016837,
          "word": "judges"
         },
         {
          "count": 0.16607606188724172,
          "word": "tooth"
         },
         {
          "count": 0.16055392666906956,
          "word": "wallan"
         },
         {
          "count": 0.15527469885671172,
          "word": "prince"
         },
         {
          "count": 0.14939060235290377,
          "word": "bull"
         },
         {
          "count": 0.1488942096043317,
          "word": "commended"
         },
         {
          "count": 0.1452694676604433,
          "word": "filly"
         }
        ],
        "data-c6c3adab3826bd40844ee3658589fec4": [
         {
          "count": 0.32919816264695323,
          "word": "gd"
         },
         {
          "count": 0.2270422480824001,
          "word": "10s"
         },
         {
          "count": 0.2002815138801816,
          "word": "od"
         },
         {
          "count": 0.1904313074638226,
          "word": "bales"
         },
         {
          "count": 0.18475191029536345,
          "word": "havo"
         },
         {
          "count": 0.17467453337016178,
          "word": "rates"
         },
         {
          "count": 0.14415380830628577,
          "word": "3d"
         },
         {
          "count": 0.12924101278037212,
          "word": "bags"
         },
         {
          "count": 0.12185686719849545,
          "word": "trado"
         },
         {
          "count": 0.12092131719114563,
          "word": "0s"
         }
        ],
        "data-c6e929a04827e814938031c9996d1372": [
         {
          "count": 0.19491692823066148,
          "word": "ipswich"
         },
         {
          "count": 0.1910118955116896,
          "word": "nbsp"
         },
         {
          "count": 0.15850335476701632,
          "word": "bulimba"
         },
         {
          "count": 0.1275793810980441,
          "word": "flooded"
         },
         {
          "count": 0.12451779545260666,
          "word": "dutton"
         },
         {
          "count": 0.10285255912167901,
          "word": "ben"
         },
         {
          "count": 0.09303976828305159,
          "word": "temperature"
         },
         {
          "count": 0.0918474872003971,
          "word": "cloud"
         },
         {
          "count": 0.09177523694431833,
          "word": "logan"
         },
         {
          "count": 0.09128750268767265,
          "word": "radiation"
         }
        ],
        "data-c719ed8cb1ff64351d50ef728dc038de": [
         {
          "count": 0.380187299818085,
          "word": "nbsp"
         },
         {
          "count": 0.21996879410352863,
          "word": "instruments"
         },
         {
          "count": 0.17000245113816811,
          "word": "hunt"
         },
         {
          "count": 0.12529058644350857,
          "word": "cairns"
         },
         {
          "count": 0.11906313110359766,
          "word": "climate"
         },
         {
          "count": 0.11745913462971366,
          "word": "showers"
         },
         {
          "count": 0.09635642387809405,
          "word": "word"
         },
         {
          "count": 0.09596990273017503,
          "word": "yongala"
         },
         {
          "count": 0.09593127066805496,
          "word": "specially"
         },
         {
          "count": 0.09456836489355915,
          "word": "commonwealth"
         }
        ],
        "data-c810cb1440fd956a9dd454afa5902c28": [
         {
          "count": 0.2512611946165193,
          "word": "temperature"
         },
         {
          "count": 0.23733325983047474,
          "word": "bulb"
         },
         {
          "count": 0.22952629964944268,
          "word": "nbsp"
         },
         {
          "count": 0.15561275528203453,
          "word": "vapor"
         },
         {
          "count": 0.1511024939332252,
          "word": "sept"
         },
         {
          "count": 0.15101294474801116,
          "word": "str"
         },
         {
          "count": 0.14938210416659156,
          "word": "torrens"
         },
         {
          "count": 0.1379294876363488,
          "word": "suns"
         },
         {
          "count": 0.1225542225232766,
          "word": "rays"
         },
         {
          "count": 0.12071047569034458,
          "word": "telescope"
         }
        ],
        "data-cc626027bcf9da1a48f439c0409a5ff3": [
         {
          "count": 0.32551552541785234,
          "word": "1903"
         },
         {
          "count": 0.24364731822022553,
          "word": "1897"
         },
         {
          "count": 0.2169349094887472,
          "word": "mulgrave"
         },
         {
          "count": 0.20881100019416615,
          "word": "1896"
         },
         {
          "count": 0.16519458130888498,
          "word": "cairns"
         },
         {
          "count": 0.1449847858668374,
          "word": "towers"
         },
         {
          "count": 0.14462327299249814,
          "word": "mareeba"
         },
         {
          "count": 0.12182365911011277,
          "word": "ounces"
         },
         {
          "count": 0.1193205715395235,
          "word": "inigo"
         },
         {
          "count": 0.1193205715395235,
          "word": "leonta"
         }
        ],
        "data-cf5e17b2714ab07ba419ab7cb559aeee": [
         {
          "count": 0.45435949344525,
          "word": "mesdames"
         },
         {
          "count": 0.24087151864569123,
          "word": "birthday"
         },
         {
          "count": 0.23230241766759288,
          "word": "burnie"
         },
         {
          "count": 0.2304429251649732,
          "word": "sunspot"
         },
         {
          "count": 0.1866697556845315,
          "word": "mothers"
         },
         {
          "count": 0.16593029833399492,
          "word": "notify"
         },
         {
          "count": 0.15279102619066698,
          "word": "attend"
         },
         {
          "count": 0.1403830974983505,
          "word": "bers"
         },
         {
          "count": 0.1226296078703232,
          "word": "cycle"
         },
         {
          "count": 0.11372264140093737,
          "word": "mem"
         }
        ],
        "data-db50e58f3e27b0b1d1f589480b6ad277": [
         {
          "count": 0.2999559878434406,
          "word": "pills"
         },
         {
          "count": 0.21737831136553964,
          "word": "pink"
         },
         {
          "count": 0.1781428793908105,
          "word": "blood"
         },
         {
          "count": 0.14378185099937377,
          "word": "der"
         },
         {
          "count": 0.12698833306246188,
          "word": "1904"
         },
         {
          "count": 0.12559635767786734,
          "word": "zenith"
         },
         {
          "count": 0.11671430029053102,
          "word": "thc"
         },
         {
          "count": 0.11360748511849644,
          "word": "williams"
         },
         {
          "count": 0.112036432639085,
          "word": "grow"
         },
         {
          "count": 0.11110447025349804,
          "word": "drier"
         }
        ],
        "data-dbf293816a295bad65ca456b3a3089ad": [
         {
          "count": 0.42176640736256094,
          "word": "cairns"
         },
         {
          "count": 0.2726689697499137,
          "word": "rotary"
         },
         {
          "count": 0.15845464736045192,
          "word": "willis"
         },
         {
          "count": 0.13281922669768365,
          "word": "wireless"
         },
         {
          "count": 0.13186286714622997,
          "word": "yongala"
         },
         {
          "count": 0.12434417045552408,
          "word": "inigo"
         },
         {
          "count": 0.12276944654258644,
          "word": "reef"
         },
         {
          "count": 0.1205697269249724,
          "word": "transmitted"
         },
         {
          "count": 0.1205697269249724,
          "word": "tully"
         },
         {
          "count": 0.1195156463620865,
          "word": "cardwell"
         }
        ],
        "data-ddbe18194480bbd23281cbee124411a2": [
         {
          "count": 0.21359040786120673,
          "word": "hobart"
         },
         {
          "count": 0.1768248458523105,
          "word": "nbsp"
         },
         {
          "count": 0.14967450549163228,
          "word": "antarctic"
         },
         {
          "count": 0.14181493038839438,
          "word": "mu"
         },
         {
          "count": 0.1348918382825822,
          "word": "colony"
         },
         {
          "count": 0.12195700447466334,
          "word": "wellington"
         },
         {
          "count": 0.11278137417987882,
          "word": "cloudy"
         },
         {
          "count": 0.10795843631466968,
          "word": "nevis"
         },
         {
          "count": 0.10329372183451802,
          "word": "rough"
         },
         {
          "count": 0.10014748519910777,
          "word": "alphabets"
         }
        ],
        "data-e73e6f6e437dcdd0d984e2964b5e73a3": [
         {
          "count": 0.2145296979507272,
          "word": "leura"
         },
         {
          "count": 0.19508312506125816,
          "word": "helen"
         },
         {
          "count": 0.18140136283021782,
          "word": "engineer"
         },
         {
          "count": 0.17182452674831272,
          "word": "coal"
         },
         {
          "count": 0.1697146942677765,
          "word": "aboard"
         },
         {
          "count": 0.1600906803575312,
          "word": "nicoll"
         },
         {
          "count": 0.1462877308398083,
          "word": "rushed"
         },
         {
          "count": 0.14318710562359396,
          "word": "terrible"
         },
         {
          "count": 0.1242014040767368,
          "word": "sharks"
         },
         {
          "count": 0.12103840123230428,
          "word": "coffee"
         }
        ],
        "data-e8584345ccae0bcbcb3da8792abed66e": [
         {
          "count": 0.2363614042776335,
          "word": "babinda"
         },
         {
          "count": 0.1817189122637931,
          "word": "experiencing"
         },
         {
          "count": 0.135902689965612,
          "word": "venture"
         },
         {
          "count": 0.13382290839522257,
          "word": "1925"
         },
         {
          "count": 0.13029575515276443,
          "word": "1920"
         },
         {
          "count": 0.1270301213196349,
          "word": "1930"
         },
         {
          "count": 0.12115316080622265,
          "word": "officials"
         },
         {
          "count": 0.11637284920630103,
          "word": "prophet"
         },
         {
          "count": 0.11595572708246227,
          "word": "1915"
         },
         {
          "count": 0.11595572708246227,
          "word": "urday"
         }
        ],
        "data-e9242484037f9becdcb553031b340a3e": [
         {
          "count": 0.2938449926281453,
          "word": "nbsp"
         },
         {
          "count": 0.1772068694496563,
          "word": "relief"
         },
         {
          "count": 0.16704868055760236,
          "word": "der"
         },
         {
          "count": 0.15927423808193228,
          "word": "rising"
         },
         {
          "count": 0.13994798920639526,
          "word": "houses"
         },
         {
          "count": 0.12761572692616932,
          "word": "ipswich"
         },
         {
          "count": 0.10818543041711295,
          "word": "raining"
         },
         {
          "count": 0.10529664211440071,
          "word": "flooded"
         },
         {
          "count": 0.10488528863204509,
          "word": "thc"
         },
         {
          "count": 0.10458161860250262,
          "word": "whioh"
         }
        ],
        "data-f488cc1a794c74d8cfb71def68e5ca6b": [
         {
          "count": 0.24636199429256517,
          "word": "observatories"
         },
         {
          "count": 0.20901164893105148,
          "word": "000ft"
         },
         {
          "count": 0.18051483506489485,
          "word": "summit"
         },
         {
          "count": 0.16673677489735794,
          "word": "winch"
         },
         {
          "count": 0.1466383585532969,
          "word": "positions"
         },
         {
          "count": 0.13730674503083642,
          "word": "cloud"
         },
         {
          "count": 0.13730674503083642,
          "word": "lead"
         },
         {
          "count": 0.13730674503083642,
          "word": "mountain"
         },
         {
          "count": 0.13053157961180267,
          "word": "dee"
         },
         {
          "count": 0.11989328910166312,
          "word": "census"
         }
        ],
        "data-f65e0485d4aa3f889acf33498c3f3f53": [
         {
          "count": 0.18277438420861225,
          "word": "townsvllle"
         },
         {
          "count": 0.15511748461955094,
          "word": "leonta"
         },
         {
          "count": 0.15467911267105,
          "word": "sequence"
         },
         {
          "count": 0.1370807881564592,
          "word": "westerlies"
         },
         {
          "count": 0.12737733171457918,
          "word": "cycle"
         },
         {
          "count": 0.11633811346466319,
          "word": "displays"
         },
         {
          "count": 0.11183717087248407,
          "word": "group"
         },
         {
          "count": 0.11182048001396494,
          "word": "pearling"
         },
         {
          "count": 0.10882729954936965,
          "word": "quiet"
         },
         {
          "count": 0.10771413562681825,
          "word": "ingham"
         }
        ],
        "data-f8013481a47ab136bd268c4db6dad4bb": [
         {
          "count": 0.15497922417442672,
          "word": "socialism"
         },
         {
          "count": 0.15330804788309654,
          "word": "sewerage"
         },
         {
          "count": 0.13157635447587174,
          "word": "policy"
         },
         {
          "count": 0.09469553487255351,
          "word": "lhat"
         },
         {
          "count": 0.08855955667110098,
          "word": "abolition"
         },
         {
          "count": 0.08855955667110098,
          "word": "socialist"
         },
         {
          "count": 0.08783042400666556,
          "word": "electors"
         },
         {
          "count": 0.08547355321927931,
          "word": "europe"
         },
         {
          "count": 0.08272496921169753,
          "word": "wireless"
         },
         {
          "count": 0.07817259888225331,
          "word": "china"
         }
        ],
        "data-fb0502d9ae8b3b582370fb0daf07bf85": [
         {
          "count": 0.23446738878835474,
          "word": "wraggc"
         },
         {
          "count": 0.20454978199184834,
          "word": "conservation"
         },
         {
          "count": 0.16422847949884048,
          "word": "degrees"
         },
         {
          "count": 0.13685706624903374,
          "word": "hunt"
         },
         {
          "count": 0.13161460553981846,
          "word": "cycle"
         },
         {
          "count": 0.12785967566076292,
          "word": "lecturer"
         },
         {
          "count": 0.12272986919510902,
          "word": "1913"
         },
         {
          "count": 0.12020816189813271,
          "word": "declination"
         },
         {
          "count": 0.1038188858347018,
          "word": "sigma"
         },
         {
          "count": 0.10337227252018977,
          "word": "cirrus"
         }
        ],
        "data-fc6328fa9c1799c039c3146647b80e17": [
         {
          "count": 0.26148830551864266,
          "word": "thc"
         },
         {
          "count": 0.15881728769536088,
          "word": "cloudy"
         },
         {
          "count": 0.15802137890896206,
          "word": "nbsp"
         },
         {
          "count": 0.13167229462207827,
          "word": "colony"
         },
         {
          "count": 0.12457037579635781,
          "word": "flooded"
         },
         {
          "count": 0.10715383266193024,
          "word": "unsettled"
         },
         {
          "count": 0.10489683561457754,
          "word": "whioh"
         },
         {
          "count": 0.1026580407848089,
          "word": "tht"
         },
         {
          "count": 0.09870162425551914,
          "word": "noith"
         },
         {
          "count": 0.09029144926086446,
          "word": "rising"
         }
        ],
        "data-fca35c9b455446180f66b901f1f549db": [
         {
          "count": 0.6321060629809051,
          "word": "les"
         },
         {
          "count": 0.36135084156349445,
          "word": "des"
         },
         {
          "count": 0.31987598726113786,
          "word": "et"
         },
         {
          "count": 0.2905630064139414,
          "word": "du"
         },
         {
          "count": 0.22912955966253692,
          "word": "sont"
         },
         {
          "count": 0.21144094148515655,
          "word": "qu"
         },
         {
          "count": 0.21114092794496395,
          "word": "pour"
         },
         {
          "count": 0.12668455676697837,
          "word": "stan"
         },
         {
          "count": 0.11665494292701217,
          "word": "ont"
         },
         {
          "count": 0.11485115588954643,
          "word": "fin"
         }
        ],
        "data-fe2373fb0fd03d608155529c9520813b": [
         {
          "count": 0.17412444100181312,
          "word": "tbey"
         },
         {
          "count": 0.15362867475396255,
          "word": "moderate"
         },
         {
          "count": 0.15182716520831205,
          "word": "cloudy"
         },
         {
          "count": 0.14325028172589424,
          "word": "instant"
         },
         {
          "count": 0.11297811766923062,
          "word": "thc"
         },
         {
          "count": 0.107965984148133,
          "word": "unsettled"
         },
         {
          "count": 0.0950015058563451,
          "word": "colonies"
         },
         {
          "count": 0.09050660263494478,
          "word": "smooth"
         },
         {
          "count": 0.09036980867880152,
          "word": "showers"
         },
         {
          "count": 0.08179832062900888,
          "word": "cloud"
         }
        ]
       },
       "vconcat": [
        {
         "hconcat": [
          {
           "columns": 4,
           "encoding": {
            "x": {
             "field": "count",
             "type": "quantitative"
            },
            "y": {
             "field": "word",
             "type": "nominal"
            }
           },
           "height": 120,
           "mark": "bar",
           "title": "1860",
           "width": 120
          },
          {
           "columns": 4,
           "data": {
            "name": "data-8a76ee28157711ccfddf398ee5c288a7"
           },
           "encoding": {
            "x": {
             "field": "count",
             "type": "quantitative"
            },
            "y": {
             "field": "word",
             "type": "nominal"
            }
           },
           "height": 120,
           "mark": "bar",
           "title": "1862",
           "width": 120
          },
          {
           "columns": 4,
           "data": {
            "name": "data-8a4cfd28cadccf4d3dfe30895e92d0fc"
           },
           "encoding": {
            "x": {
             "field": "count",
             "type": "quantitative"
            },
            "y": {
             "field": "word",
             "type": "nominal"
            }
           },
           "height": 120,
           "mark": "bar",
           "title": "1863",
           "width": 120
          },
          {
           "columns": 4,
           "data": {
            "name": "data-a8782e46734ff2fcf6e70620a4452cbe"
           },
           "encoding": {
            "x": {
             "field": "count",
             "type": "quantitative"
            },
            "y": {
             "field": "word",
             "type": "nominal"
            }
           },
           "height": 120,
           "mark": "bar",
           "title": "1864",
           "width": 120
          }
         ]
        },
        {
         "data": {
          "name": "data-9c3704b0aca182ba1c977109b9ff34b9"
         },
         "hconcat": [
          {
           "columns": 4,
           "encoding": {
            "x": {
             "field": "count",
             "type": "quantitative"
            },
            "y": {
             "field": "word",
             "type": "nominal"
            }
           },
           "height": 120,
           "mark": "bar",
           "title": "1867",
           "width": 120
          },
          {
           "columns": 4,
           "data": {
            "name": "data-59baddd5b5ae0c7f96986516bdfa73c1"
           },
           "encoding": {
            "x": {
             "field": "count",
             "type": "quantitative"
            },
            "y": {
             "field": "word",
             "type": "nominal"
            }
           },
           "height": 120,
           "mark": "bar",
           "title": "1872",
           "width": 120
          },
          {
           "columns": 4,
           "data": {
            "name": "data-42c50fc11bf27f06fd93d3ee03991b38"
           },
           "encoding": {
            "x": {
             "field": "count",
             "type": "quantitative"
            },
            "y": {
             "field": "word",
             "type": "nominal"
            }
           },
           "height": 120,
           "mark": "bar",
           "title": "1873",
           "width": 120
          },
          {
           "columns": 4,
           "data": {
            "name": "data-51e70eeb09df922f368950a1f5b5adf1"
           },
           "encoding": {
            "x": {
             "field": "count",
             "type": "quantitative"
            },
            "y": {
             "field": "word",
             "type": "nominal"
            }
           },
           "height": 120,
           "mark": "bar",
           "title": "1874",
           "width": 120
          }
         ]
        },
        {
         "data": {
          "name": "data-4fdae70557a760cc14eeb8b1a4358cb0"
         },
         "hconcat": [
          {
           "columns": 4,
           "encoding": {
            "x": {
             "field": "count",
             "type": "quantitative"
            },
            "y": {
             "field": "word",
             "type": "nominal"
            }
           },
           "height": 120,
           "mark": "bar",
           "title": "1877",
           "width": 120
          },
          {
           "columns": 4,
           "data": {
            "name": "data-c441d96768fac58c20ae9b03b25c1300"
           },
           "encoding": {
            "x": {
             "field": "count",
             "type": "quantitative"
            },
            "y": {
             "field": "word",
             "type": "nominal"
            }
           },
           "height": 120,
           "mark": "bar",
           "title": "1878",
           "width": 120
          },
          {
           "columns": 4,
           "data": {
            "name": "data-b2f568b264722ecae107962676f9e127"
           },
           "encoding": {
            "x": {
             "field": "count",
             "type": "quantitative"
            },
            "y": {
             "field": "word",
             "type": "nominal"
            }
           },
           "height": 120,
           "mark": "bar",
           "title": "1879",
           "width": 120
          },
          {
           "columns": 4,
           "data": {
            "name": "data-c6c3adab3826bd40844ee3658589fec4"
           },
           "encoding": {
            "x": {
             "field": "count",
             "type": "quantitative"
            },
            "y": {
             "field": "word",
             "type": "nominal"
            }
           },
           "height": 120,
           "mark": "bar",
           "title": "1880",
           "width": 120
          }
         ]
        },
        {
         "data": {
          "name": "data-60d4c54107510027bbe29bb0aabdb5c7"
         },
         "hconcat": [
          {
           "columns": 4,
           "encoding": {
            "x": {
             "field": "count",
             "type": "quantitative"
            },
            "y": {
             "field": "word",
             "type": "nominal"
            }
           },
           "height": 120,
           "mark": "bar",
           "title": "1881",
           "width": 120
          },
          {
           "columns": 4,
           "data": {
            "name": "data-f488cc1a794c74d8cfb71def68e5ca6b"
           },
           "encoding": {
            "x": {
             "field": "count",
             "type": "quantitative"
            },
            "y": {
             "field": "word",
             "type": "nominal"
            }
           },
           "height": 120,
           "mark": "bar",
           "title": "1883",
           "width": 120
          },
          {
           "columns": 4,
           "data": {
            "name": "data-0cfc810689f6d1e1a6bf40bb3ecb52af"
           },
           "encoding": {
            "x": {
             "field": "count",
             "type": "quantitative"
            },
            "y": {
             "field": "word",
             "type": "nominal"
            }
           },
           "height": 120,
           "mark": "bar",
           "title": "1884",
           "width": 120
          },
          {
           "columns": 4,
           "data": {
            "name": "data-af7a3d6a7e0e63329a5f63bba6336a1b"
           },
           "encoding": {
            "x": {
             "field": "count",
             "type": "quantitative"
            },
            "y": {
             "field": "word",
             "type": "nominal"
            }
           },
           "height": 120,
           "mark": "bar",
           "title": "1885",
           "width": 120
          }
         ]
        },
        {
         "data": {
          "name": "data-c810cb1440fd956a9dd454afa5902c28"
         },
         "hconcat": [
          {
           "columns": 4,
           "encoding": {
            "x": {
             "field": "count",
             "type": "quantitative"
            },
            "y": {
             "field": "word",
             "type": "nominal"
            }
           },
           "height": 120,
           "mark": "bar",
           "title": "1886",
           "width": 120
          },
          {
           "columns": 4,
           "data": {
            "name": "data-c6e929a04827e814938031c9996d1372"
           },
           "encoding": {
            "x": {
             "field": "count",
             "type": "quantitative"
            },
            "y": {
             "field": "word",
             "type": "nominal"
            }
           },
           "height": 120,
           "mark": "bar",
           "title": "1887",
           "width": 120
          },
          {
           "columns": 4,
           "data": {
            "name": "data-36ac54ef309b27d1eaa10ab74e4a11bd"
           },
           "encoding": {
            "x": {
             "field": "count",
             "type": "quantitative"
            },
            "y": {
             "field": "word",
             "type": "nominal"
            }
           },
           "height": 120,
           "mark": "bar",
           "title": "1888",
           "width": 120
          },
          {
           "columns": 4,
           "data": {
            "name": "data-1aa2ba7e561aadab1f859762d5ea4661"
           },
           "encoding": {
            "x": {
             "field": "count",
             "type": "quantitative"
            },
            "y": {
             "field": "word",
             "type": "nominal"
            }
           },
           "height": 120,
           "mark": "bar",
           "title": "1889",
           "width": 120
          }
         ]
        },
        {
         "data": {
          "name": "data-fc6328fa9c1799c039c3146647b80e17"
         },
         "hconcat": [
          {
           "columns": 4,
           "encoding": {
            "x": {
             "field": "count",
             "type": "quantitative"
            },
            "y": {
             "field": "word",
             "type": "nominal"
            }
           },
           "height": 120,
           "mark": "bar",
           "title": "1890",
           "width": 120
          },
          {
           "columns": 4,
           "data": {
            "name": "data-fe2373fb0fd03d608155529c9520813b"
           },
           "encoding": {
            "x": {
             "field": "count",
             "type": "quantitative"
            },
            "y": {
             "field": "word",
             "type": "nominal"
            }
           },
           "height": 120,
           "mark": "bar",
           "title": "1891",
           "width": 120
          },
          {
           "columns": 4,
           "data": {
            "name": "data-656d9d9db4c09b6d34fe8b3e96b4190d"
           },
           "encoding": {
            "x": {
             "field": "count",
             "type": "quantitative"
            },
            "y": {
             "field": "word",
             "type": "nominal"
            }
           },
           "height": 120,
           "mark": "bar",
           "title": "1892",
           "width": 120
          },
          {
           "columns": 4,
           "data": {
            "name": "data-e9242484037f9becdcb553031b340a3e"
           },
           "encoding": {
            "x": {
             "field": "count",
             "type": "quantitative"
            },
            "y": {
             "field": "word",
             "type": "nominal"
            }
           },
           "height": 120,
           "mark": "bar",
           "title": "1893",
           "width": 120
          }
         ]
        },
        {
         "data": {
          "name": "data-956917f87f9d0a6ee41f77158d06c372"
         },
         "hconcat": [
          {
           "columns": 4,
           "encoding": {
            "x": {
             "field": "count",
             "type": "quantitative"
            },
            "y": {
             "field": "word",
             "type": "nominal"
            }
           },
           "height": 120,
           "mark": "bar",
           "title": "1894",
           "width": 120
          },
          {
           "columns": 4,
           "data": {
            "name": "data-ddbe18194480bbd23281cbee124411a2"
           },
           "encoding": {
            "x": {
             "field": "count",
             "type": "quantitative"
            },
            "y": {
             "field": "word",
             "type": "nominal"
            }
           },
           "height": 120,
           "mark": "bar",
           "title": "1895",
           "width": 120
          },
          {
           "columns": 4,
           "data": {
            "name": "data-5c89b860be1e6afe27e5ccc7feb18724"
           },
           "encoding": {
            "x": {
             "field": "count",
             "type": "quantitative"
            },
            "y": {
             "field": "word",
             "type": "nominal"
            }
           },
           "height": 120,
           "mark": "bar",
           "title": "1896",
           "width": 120
          },
          {
           "columns": 4,
           "data": {
            "name": "data-94699de8524f2360ff5dd00d08d87dc8"
           },
           "encoding": {
            "x": {
             "field": "count",
             "type": "quantitative"
            },
            "y": {
             "field": "word",
             "type": "nominal"
            }
           },
           "height": 120,
           "mark": "bar",
           "title": "1897",
           "width": 120
          }
         ]
        },
        {
         "data": {
          "name": "data-4e2c917e086809f8cd705611b4dae586"
         },
         "hconcat": [
          {
           "columns": 4,
           "encoding": {
            "x": {
             "field": "count",
             "type": "quantitative"
            },
            "y": {
             "field": "word",
             "type": "nominal"
            }
           },
           "height": 120,
           "mark": "bar",
           "title": "1898",
           "width": 120
          },
          {
           "columns": 4,
           "data": {
            "name": "data-0957704c054e178768d104e4f1eb9291"
           },
           "encoding": {
            "x": {
             "field": "count",
             "type": "quantitative"
            },
            "y": {
             "field": "word",
             "type": "nominal"
            }
           },
           "height": 120,
           "mark": "bar",
           "title": "1899",
           "width": 120
          },
          {
           "columns": 4,
           "data": {
            "name": "data-b4f1556484305ced4ebaad2149d0923e"
           },
           "encoding": {
            "x": {
             "field": "count",
             "type": "quantitative"
            },
            "y": {
             "field": "word",
             "type": "nominal"
            }
           },
           "height": 120,
           "mark": "bar",
           "title": "1900",
           "width": 120
          },
          {
           "columns": 4,
           "data": {
            "name": "data-0544052a9fc904661dcddee5978c55e8"
           },
           "encoding": {
            "x": {
             "field": "count",
             "type": "quantitative"
            },
            "y": {
             "field": "word",
             "type": "nominal"
            }
           },
           "height": 120,
           "mark": "bar",
           "title": "1901",
           "width": 120
          }
         ]
        },
        {
         "data": {
          "name": "data-909d653655f95b058d8f4bb787b6a66a"
         },
         "hconcat": [
          {
           "columns": 4,
           "encoding": {
            "x": {
             "field": "count",
             "type": "quantitative"
            },
            "y": {
             "field": "word",
             "type": "nominal"
            }
           },
           "height": 120,
           "mark": "bar",
           "title": "1902",
           "width": 120
          },
          {
           "columns": 4,
           "data": {
            "name": "data-24b0d593c9dfc9760a9c61c10e1dc447"
           },
           "encoding": {
            "x": {
             "field": "count",
             "type": "quantitative"
            },
            "y": {
             "field": "word",
             "type": "nominal"
            }
           },
           "height": 120,
           "mark": "bar",
           "title": "1903",
           "width": 120
          },
          {
           "columns": 4,
           "data": {
            "name": "data-db50e58f3e27b0b1d1f589480b6ad277"
           },
           "encoding": {
            "x": {
             "field": "count",
             "type": "quantitative"
            },
            "y": {
             "field": "word",
             "type": "nominal"
            }
           },
           "height": 120,
           "mark": "bar",
           "title": "1904",
           "width": 120
          },
          {
           "columns": 4,
           "data": {
            "name": "data-a966d5ce604352d60606da1884d861e8"
           },
           "encoding": {
            "x": {
             "field": "count",
             "type": "quantitative"
            },
            "y": {
             "field": "word",
             "type": "nominal"
            }
           },
           "height": 120,
           "mark": "bar",
           "title": "1905",
           "width": 120
          }
         ]
        },
        {
         "data": {
          "name": "data-98c800fc84c01e8ab492a0150f4e6eec"
         },
         "hconcat": [
          {
           "columns": 4,
           "encoding": {
            "x": {
             "field": "count",
             "type": "quantitative"
            },
            "y": {
             "field": "word",
             "type": "nominal"
            }
           },
           "height": 120,
           "mark": "bar",
           "title": "1906",
           "width": 120
          },
          {
           "columns": 4,
           "data": {
            "name": "data-6192bb20386db0977d543d58cfdef1ed"
           },
           "encoding": {
            "x": {
             "field": "count",
             "type": "quantitative"
            },
            "y": {
             "field": "word",
             "type": "nominal"
            }
           },
           "height": 120,
           "mark": "bar",
           "title": "1907",
           "width": 120
          },
          {
           "columns": 4,
           "data": {
            "name": "data-116a5ec8e4534beb171e1f198d91de2a"
           },
           "encoding": {
            "x": {
             "field": "count",
             "type": "quantitative"
            },
            "y": {
             "field": "word",
             "type": "nominal"
            }
           },
           "height": 120,
           "mark": "bar",
           "title": "1908",
           "width": 120
          },
          {
           "columns": 4,
           "data": {
            "name": "data-a654cca3bd3607c33e0f7f62d38eb757"
           },
           "encoding": {
            "x": {
             "field": "count",
             "type": "quantitative"
            },
            "y": {
             "field": "word",
             "type": "nominal"
            }
           },
           "height": 120,
           "mark": "bar",
           "title": "1909",
           "width": 120
          }
         ]
        },
        {
         "data": {
          "name": "data-4c03c54ef171f9e9e8c9b207b329a3d9"
         },
         "hconcat": [
          {
           "columns": 4,
           "encoding": {
            "x": {
             "field": "count",
             "type": "quantitative"
            },
            "y": {
             "field": "word",
             "type": "nominal"
            }
           },
           "height": 120,
           "mark": "bar",
           "title": "1910",
           "width": 120
          },
          {
           "columns": 4,
           "data": {
            "name": "data-77434a957fd15c558b0c25ccfca9e19c"
           },
           "encoding": {
            "x": {
             "field": "count",
             "type": "quantitative"
            },
            "y": {
             "field": "word",
             "type": "nominal"
            }
           },
           "height": 120,
           "mark": "bar",
           "title": "1911",
           "width": 120
          },
          {
           "columns": 4,
           "data": {
            "name": "data-364303f54f637da8cee44aaa4ef76af1"
           },
           "encoding": {
            "x": {
             "field": "count",
             "type": "quantitative"
            },
            "y": {
             "field": "word",
             "type": "nominal"
            }
           },
           "height": 120,
           "mark": "bar",
           "title": "1912",
           "width": 120
          },
          {
           "columns": 4,
           "data": {
            "name": "data-c719ed8cb1ff64351d50ef728dc038de"
           },
           "encoding": {
            "x": {
             "field": "count",
             "type": "quantitative"
            },
            "y": {
             "field": "word",
             "type": "nominal"
            }
           },
           "height": 120,
           "mark": "bar",
           "title": "1913",
           "width": 120
          }
         ]
        },
        {
         "data": {
          "name": "data-0bef9aec83432dcfba84323cc647a7b4"
         },
         "hconcat": [
          {
           "columns": 4,
           "encoding": {
            "x": {
             "field": "count",
             "type": "quantitative"
            },
            "y": {
             "field": "word",
             "type": "nominal"
            }
           },
           "height": 120,
           "mark": "bar",
           "title": "1914",
           "width": 120
          },
          {
           "columns": 4,
           "data": {
            "name": "data-8420d47e4dc567998cff7a297664697f"
           },
           "encoding": {
            "x": {
             "field": "count",
             "type": "quantitative"
            },
            "y": {
             "field": "word",
             "type": "nominal"
            }
           },
           "height": 120,
           "mark": "bar",
           "title": "1915",
           "width": 120
          },
          {
           "columns": 4,
           "data": {
            "name": "data-fb0502d9ae8b3b582370fb0daf07bf85"
           },
           "encoding": {
            "x": {
             "field": "count",
             "type": "quantitative"
            },
            "y": {
             "field": "word",
             "type": "nominal"
            }
           },
           "height": 120,
           "mark": "bar",
           "title": "1916",
           "width": 120
          },
          {
           "columns": 4,
           "data": {
            "name": "data-0b0f40e908d901582e7d4d1be79c00f9"
           },
           "encoding": {
            "x": {
             "field": "count",
             "type": "quantitative"
            },
            "y": {
             "field": "word",
             "type": "nominal"
            }
           },
           "height": 120,
           "mark": "bar",
           "title": "1917",
           "width": 120
          }
         ]
        },
        {
         "data": {
          "name": "data-9a5f50691213073b0bbb494baeba8fb6"
         },
         "hconcat": [
          {
           "columns": 4,
           "encoding": {
            "x": {
             "field": "count",
             "type": "quantitative"
            },
            "y": {
             "field": "word",
             "type": "nominal"
            }
           },
           "height": 120,
           "mark": "bar",
           "title": "1918",
           "width": 120
          },
          {
           "columns": 4,
           "data": {
            "name": "data-156eb1c13549880a702e5b99b5b3b650"
           },
           "encoding": {
            "x": {
             "field": "count",
             "type": "quantitative"
            },
            "y": {
             "field": "word",
             "type": "nominal"
            }
           },
           "height": 120,
           "mark": "bar",
           "title": "1919",
           "width": 120
          },
          {
           "columns": 4,
           "data": {
            "name": "data-a3754b5fa6c8aaf14b5bf47d5985fbeb"
           },
           "encoding": {
            "x": {
             "field": "count",
             "type": "quantitative"
            },
            "y": {
             "field": "word",
             "type": "nominal"
            }
           },
           "height": 120,
           "mark": "bar",
           "title": "1920",
           "width": 120
          },
          {
           "columns": 4,
           "data": {
            "name": "data-e8584345ccae0bcbcb3da8792abed66e"
           },
           "encoding": {
            "x": {
             "field": "count",
             "type": "quantitative"
            },
            "y": {
             "field": "word",
             "type": "nominal"
            }
           },
           "height": 120,
           "mark": "bar",
           "title": "1921",
           "width": 120
          }
         ]
        },
        {
         "data": {
          "name": "data-f8013481a47ab136bd268c4db6dad4bb"
         },
         "hconcat": [
          {
           "columns": 4,
           "encoding": {
            "x": {
             "field": "count",
             "type": "quantitative"
            },
            "y": {
             "field": "word",
             "type": "nominal"
            }
           },
           "height": 120,
           "mark": "bar",
           "title": "1922",
           "width": 120
          },
          {
           "columns": 4,
           "data": {
            "name": "data-21f488e1f0b01310a7317199d9dfd536"
           },
           "encoding": {
            "x": {
             "field": "count",
             "type": "quantitative"
            },
            "y": {
             "field": "word",
             "type": "nominal"
            }
           },
           "height": 120,
           "mark": "bar",
           "title": "1923",
           "width": 120
          },
          {
           "columns": 4,
           "data": {
            "name": "data-a9e7a6cd983ba79c54723c0284e2cc12"
           },
           "encoding": {
            "x": {
             "field": "count",
             "type": "quantitative"
            },
            "y": {
             "field": "word",
             "type": "nominal"
            }
           },
           "height": 120,
           "mark": "bar",
           "title": "1924",
           "width": 120
          },
          {
           "columns": 4,
           "data": {
            "name": "data-718f4ce86a7bb63e4fd5b6019876187c"
           },
           "encoding": {
            "x": {
             "field": "count",
             "type": "quantitative"
            },
            "y": {
             "field": "word",
             "type": "nominal"
            }
           },
           "height": 120,
           "mark": "bar",
           "title": "1925",
           "width": 120
          }
         ]
        },
        {
         "data": {
          "name": "data-e73e6f6e437dcdd0d984e2964b5e73a3"
         },
         "hconcat": [
          {
           "columns": 4,
           "encoding": {
            "x": {
             "field": "count",
             "type": "quantitative"
            },
            "y": {
             "field": "word",
             "type": "nominal"
            }
           },
           "height": 120,
           "mark": "bar",
           "title": "1926",
           "width": 120
          },
          {
           "columns": 4,
           "data": {
            "name": "data-59b0b62260f81ff40a94574223f1cd26"
           },
           "encoding": {
            "x": {
             "field": "count",
             "type": "quantitative"
            },
            "y": {
             "field": "word",
             "type": "nominal"
            }
           },
           "height": 120,
           "mark": "bar",
           "title": "1927",
           "width": 120
          },
          {
           "columns": 4,
           "data": {
            "name": "data-78bf9223d07b5d840d194aa75cad6e97"
           },
           "encoding": {
            "x": {
             "field": "count",
             "type": "quantitative"
            },
            "y": {
             "field": "word",
             "type": "nominal"
            }
           },
           "height": 120,
           "mark": "bar",
           "title": "1928",
           "width": 120
          },
          {
           "columns": 4,
           "data": {
            "name": "data-9f15251bc51d067d329dec6461dd3df1"
           },
           "encoding": {
            "x": {
             "field": "count",
             "type": "quantitative"
            },
            "y": {
             "field": "word",
             "type": "nominal"
            }
           },
           "height": 120,
           "mark": "bar",
           "title": "1929",
           "width": 120
          }
         ]
        },
        {
         "data": {
          "name": "data-58efe940215621b8561c2996e596ea48"
         },
         "hconcat": [
          {
           "columns": 4,
           "encoding": {
            "x": {
             "field": "count",
             "type": "quantitative"
            },
            "y": {
             "field": "word",
             "type": "nominal"
            }
           },
           "height": 120,
           "mark": "bar",
           "title": "1930",
           "width": 120
          },
          {
           "columns": 4,
           "data": {
            "name": "data-6d8203a1ae447523b1586c1601380475"
           },
           "encoding": {
            "x": {
             "field": "count",
             "type": "quantitative"
            },
            "y": {
             "field": "word",
             "type": "nominal"
            }
           },
           "height": 120,
           "mark": "bar",
           "title": "1931",
           "width": 120
          },
          {
           "columns": 4,
           "data": {
            "name": "data-aad3f714555b1277d44449260cb57897"
           },
           "encoding": {
            "x": {
             "field": "count",
             "type": "quantitative"
            },
            "y": {
             "field": "word",
             "type": "nominal"
            }
           },
           "height": 120,
           "mark": "bar",
           "title": "1932",
           "width": 120
          },
          {
           "columns": 4,
           "data": {
            "name": "data-893e937f34b0feee319a59d378108e6e"
           },
           "encoding": {
            "x": {
             "field": "count",
             "type": "quantitative"
            },
            "y": {
             "field": "word",
             "type": "nominal"
            }
           },
           "height": 120,
           "mark": "bar",
           "title": "1933",
           "width": 120
          }
         ]
        },
        {
         "data": {
          "name": "data-dbf293816a295bad65ca456b3a3089ad"
         },
         "hconcat": [
          {
           "columns": 4,
           "encoding": {
            "x": {
             "field": "count",
             "type": "quantitative"
            },
            "y": {
             "field": "word",
             "type": "nominal"
            }
           },
           "height": 120,
           "mark": "bar",
           "title": "1934",
           "width": 120
          },
          {
           "columns": 4,
           "data": {
            "name": "data-26936c306a2f3bf4081c4b35ef9557c8"
           },
           "encoding": {
            "x": {
             "field": "count",
             "type": "quantitative"
            },
            "y": {
             "field": "word",
             "type": "nominal"
            }
           },
           "height": 120,
           "mark": "bar",
           "title": "1935",
           "width": 120
          },
          {
           "columns": 4,
           "data": {
            "name": "data-85287153fe69f6b83775cdb4107e5458"
           },
           "encoding": {
            "x": {
             "field": "count",
             "type": "quantitative"
            },
            "y": {
             "field": "word",
             "type": "nominal"
            }
           },
           "height": 120,
           "mark": "bar",
           "title": "1936",
           "width": 120
          },
          {
           "columns": 4,
           "data": {
            "name": "data-0952130b21fc790a500081b6b5fabf4a"
           },
           "encoding": {
            "x": {
             "field": "count",
             "type": "quantitative"
            },
            "y": {
             "field": "word",
             "type": "nominal"
            }
           },
           "height": 120,
           "mark": "bar",
           "title": "1937",
           "width": 120
          }
         ]
        },
        {
         "data": {
          "name": "data-9d21e154a4f264e37090fac63040540c"
         },
         "hconcat": [
          {
           "columns": 4,
           "encoding": {
            "x": {
             "field": "count",
             "type": "quantitative"
            },
            "y": {
             "field": "word",
             "type": "nominal"
            }
           },
           "height": 120,
           "mark": "bar",
           "title": "1938",
           "width": 120
          },
          {
           "columns": 4,
           "data": {
            "name": "data-bbb13236d2a866cb8010cb8bc1c81061"
           },
           "encoding": {
            "x": {
             "field": "count",
             "type": "quantitative"
            },
            "y": {
             "field": "word",
             "type": "nominal"
            }
           },
           "height": 120,
           "mark": "bar",
           "title": "1939",
           "width": 120
          },
          {
           "columns": 4,
           "data": {
            "name": "data-44fa86ba74eef74e3c4a4cec3e3a6f8e"
           },
           "encoding": {
            "x": {
             "field": "count",
             "type": "quantitative"
            },
            "y": {
             "field": "word",
             "type": "nominal"
            }
           },
           "height": 120,
           "mark": "bar",
           "title": "1940",
           "width": 120
          },
          {
           "columns": 4,
           "data": {
            "name": "data-00a7c53200704e75d34d1b4fea4d88d8"
           },
           "encoding": {
            "x": {
             "field": "count",
             "type": "quantitative"
            },
            "y": {
             "field": "word",
             "type": "nominal"
            }
           },
           "height": 120,
           "mark": "bar",
           "title": "1941",
           "width": 120
          }
         ]
        },
        {
         "data": {
          "name": "data-8c2f791852b60a24e9bb0d4d293a7112"
         },
         "hconcat": [
          {
           "columns": 4,
           "encoding": {
            "x": {
             "field": "count",
             "type": "quantitative"
            },
            "y": {
             "field": "word",
             "type": "nominal"
            }
           },
           "height": 120,
           "mark": "bar",
           "title": "1942",
           "width": 120
          },
          {
           "columns": 4,
           "data": {
            "name": "data-f65e0485d4aa3f889acf33498c3f3f53"
           },
           "encoding": {
            "x": {
             "field": "count",
             "type": "quantitative"
            },
            "y": {
             "field": "word",
             "type": "nominal"
            }
           },
           "height": 120,
           "mark": "bar",
           "title": "1944",
           "width": 120
          },
          {
           "columns": 4,
           "data": {
            "name": "data-b4e7ce6f6458ee0c6e1ab08392c46dd3"
           },
           "encoding": {
            "x": {
             "field": "count",
             "type": "quantitative"
            },
            "y": {
             "field": "word",
             "type": "nominal"
            }
           },
           "height": 120,
           "mark": "bar",
           "title": "1945",
           "width": 120
          },
          {
           "columns": 4,
           "data": {
            "name": "data-1682efd96b062c61c51e34f5cbe96fab"
           },
           "encoding": {
            "x": {
             "field": "count",
             "type": "quantitative"
            },
            "y": {
             "field": "word",
             "type": "nominal"
            }
           },
           "height": 120,
           "mark": "bar",
           "title": "1946",
           "width": 120
          }
         ]
        },
        {
         "data": {
          "name": "data-3ec5375334546a86e30b498f65ae24bc"
         },
         "hconcat": [
          {
           "columns": 4,
           "encoding": {
            "x": {
             "field": "count",
             "type": "quantitative"
            },
            "y": {
             "field": "word",
             "type": "nominal"
            }
           },
           "height": 120,
           "mark": "bar",
           "title": "1947",
           "width": 120
          },
          {
           "columns": 4,
           "data": {
            "name": "data-cc626027bcf9da1a48f439c0409a5ff3"
           },
           "encoding": {
            "x": {
             "field": "count",
             "type": "quantitative"
            },
            "y": {
             "field": "word",
             "type": "nominal"
            }
           },
           "height": 120,
           "mark": "bar",
           "title": "1948",
           "width": 120
          },
          {
           "columns": 4,
           "data": {
            "name": "data-b72fb44b566f08e95e63d1e945c8227f"
           },
           "encoding": {
            "x": {
             "field": "count",
             "type": "quantitative"
            },
            "y": {
             "field": "word",
             "type": "nominal"
            }
           },
           "height": 120,
           "mark": "bar",
           "title": "1949",
           "width": 120
          },
          {
           "columns": 4,
           "data": {
            "name": "data-cf5e17b2714ab07ba419ab7cb559aeee"
           },
           "encoding": {
            "x": {
             "field": "count",
             "type": "quantitative"
            },
            "y": {
             "field": "word",
             "type": "nominal"
            }
           },
           "height": 120,
           "mark": "bar",
           "title": "1950",
           "width": 120
          }
         ]
        },
        {
         "data": {
          "name": "data-719c0eb4bd88cd002fe88a88d1244d43"
         },
         "hconcat": [
          {
           "columns": 4,
           "encoding": {
            "x": {
             "field": "count",
             "type": "quantitative"
            },
            "y": {
             "field": "word",
             "type": "nominal"
            }
           },
           "height": 120,
           "mark": "bar",
           "title": "1951",
           "width": 120
          },
          {
           "columns": 4,
           "data": {
            "name": "data-9c38df898c45d5f6752919b947c26855"
           },
           "encoding": {
            "x": {
             "field": "count",
             "type": "quantitative"
            },
            "y": {
             "field": "word",
             "type": "nominal"
            }
           },
           "height": 120,
           "mark": "bar",
           "title": "1952",
           "width": 120
          },
          {
           "columns": 4,
           "data": {
            "name": "data-26e5615c26a89b20389cba4447295f60"
           },
           "encoding": {
            "x": {
             "field": "count",
             "type": "quantitative"
            },
            "y": {
             "field": "word",
             "type": "nominal"
            }
           },
           "height": 120,
           "mark": "bar",
           "title": "1953",
           "width": 120
          },
          {
           "columns": 4,
           "data": {
            "name": "data-a2253b7ea6d341770726c3b2eeb853d4"
           },
           "encoding": {
            "x": {
             "field": "count",
             "type": "quantitative"
            },
            "y": {
             "field": "word",
             "type": "nominal"
            }
           },
           "height": 120,
           "mark": "bar",
           "title": "1954",
           "width": 120
          }
         ]
        },
        {
         "data": {
          "name": "data-2dc3e7603efdaa96c65aaa643cc5ace2"
         },
         "hconcat": [
          {
           "columns": 4,
           "encoding": {
            "x": {
             "field": "count",
             "type": "quantitative"
            },
            "y": {
             "field": "word",
             "type": "nominal"
            }
           },
           "height": 120,
           "mark": "bar",
           "title": "1955",
           "width": 120
          },
          {
           "columns": 4,
           "data": {
            "name": "data-27c957fa569cf903eb0b3ba41f89ad8b"
           },
           "encoding": {
            "x": {
             "field": "count",
             "type": "quantitative"
            },
            "y": {
             "field": "word",
             "type": "nominal"
            }
           },
           "height": 120,
           "mark": "bar",
           "title": "1972",
           "width": 120
          },
          {
           "columns": 4,
           "data": {
            "name": "data-b01a4c5ba4f6c76310853718c0413da5"
           },
           "encoding": {
            "x": {
             "field": "count",
             "type": "quantitative"
            },
            "y": {
             "field": "word",
             "type": "nominal"
            }
           },
           "height": 120,
           "mark": "bar",
           "title": "1975",
           "width": 120
          },
          {
           "columns": 4,
           "data": {
            "name": "data-ad132d6fd52810d2ea03bbb3261789da"
           },
           "encoding": {
            "x": {
             "field": "count",
             "type": "quantitative"
            },
            "y": {
             "field": "word",
             "type": "nominal"
            }
           },
           "height": 120,
           "mark": "bar",
           "title": "1982",
           "width": 120
          }
         ]
        },
        {
         "data": {
          "name": "data-7d7d1205ed57860484df806346000a80"
         },
         "hconcat": [
          {
           "columns": 4,
           "encoding": {
            "x": {
             "field": "count",
             "type": "quantitative"
            },
            "y": {
             "field": "word",
             "type": "nominal"
            }
           },
           "height": 120,
           "mark": "bar",
           "title": "1986",
           "width": 120
          },
          {
           "columns": 4,
           "data": {
            "name": "data-00f5f49ed0a304081e973e21165bdf04"
           },
           "encoding": {
            "x": {
             "field": "count",
             "type": "quantitative"
            },
            "y": {
             "field": "word",
             "type": "nominal"
            }
           },
           "height": 120,
           "mark": "bar",
           "title": "1987",
           "width": 120
          },
          {
           "columns": 4,
           "data": {
            "name": "data-fca35c9b455446180f66b901f1f549db"
           },
           "encoding": {
            "x": {
             "field": "count",
             "type": "quantitative"
            },
            "y": {
             "field": "word",
             "type": "nominal"
            }
           },
           "height": 120,
           "mark": "bar",
           "title": "2005",
           "width": 120
          }
         ]
        }
       ]
      },
      "image/png": "[encoded data removed]",
      "text/plain": [
       "<VegaLite 3 object>\n",
       "\n",
       "If you see this message, it means the renderer has not been properly enabled\n",
       "for the frontend that you are using. For more information, see\n",
       "https://altair-viz.github.io/user_guide/troubleshooting.html\n"
      ]
     },
     "execution_count": 10,
     "metadata": {},
     "output_type": "execute_result"
    }
   ],
   "source": [
    "compound_chart = alt.vconcat()\n",
    "years = get_years(harvest)\n",
    "# Number of columns\n",
    "cols = 4\n",
    "start = 0\n",
    "while start < len(years):\n",
    "    row = alt.hconcat()\n",
    "    for year in years[start:start+cols]:\n",
    "        df_year_word_count = pd.DataFrame([{'word': w, 'count': df_tfidf_years.loc[year][w]} for w in df_years_top.loc[year].tolist()])\n",
    "        chart = alt.Chart(df_year_word_count).mark_bar().encode(\n",
    "            y='word:N',\n",
    "            x='count:Q',\n",
    "        ).properties(width=120, height=120, title=str(year), columns=4)\n",
    "        row |= chart\n",
    "    compound_chart &= row\n",
    "    start += cols\n",
    "compound_chart"
   ]
  },
  {
   "cell_type": "markdown",
   "metadata": {},
   "source": [
    "## Visualise word TF-IDF values over time"
   ]
  },
  {
   "cell_type": "code",
   "execution_count": 11,
   "metadata": {},
   "outputs": [],
   "source": [
    "def words_by_year(df, words):\n",
    "    df_words = pd.DataFrame()\n",
    "    for word in words:\n",
    "        try:\n",
    "            df_word = df_tfidf_years.T.loc[word].to_frame().reset_index().rename({'index':'year', word: 'count'}, axis=1)\n",
    "        except KeyError:\n",
    "            print(f\"'{word}' not found\")\n",
    "        else:\n",
    "            df_word['word'] = word\n",
    "            df_words = df_words.append(df_word, ignore_index=True, sort=True)\n",
    "    return df_words"
   ]
  },
  {
   "cell_type": "code",
   "execution_count": 12,
   "metadata": {},
   "outputs": [
    {
     "name": "stdout",
     "output_type": "stream",
     "text": [
      "'drought' not found\n"
     ]
    }
   ],
   "source": [
    "df_words = words_by_year(df_tfidf_years, ['planets', 'islands', 'prediction', 'drought'])"
   ]
  },
  {
   "cell_type": "markdown",
   "metadata": {},
   "source": [
    "### Create a faceted chart"
   ]
  },
  {
   "cell_type": "code",
   "execution_count": 13,
   "metadata": {},
   "outputs": [
    {
     "data": {
      "application/vnd.vegalite.v3+json": {
       "$schema": "https://vega.github.io/schema/vega-lite/v3.4.0.json",
       "columns": 1,
       "config": {
        "mark": {
         "tooltip": null
        },
        "view": {
         "height": 300,
         "width": 400
        }
       },
       "data": {
        "name": "data-43c6196c504f616f160e008614a5dc00"
       },
       "datasets": {
        "data-43c6196c504f616f160e008614a5dc00": [
         {
          "count": 0,
          "word": "planets",
          "year": 1860
         },
         {
          "count": 0,
          "word": "planets",
          "year": 1862
         },
         {
          "count": 0,
          "word": "planets",
          "year": 1863
         },
         {
          "count": 0,
          "word": "planets",
          "year": 1864
         },
         {
          "count": 0,
          "word": "planets",
          "year": 1867
         },
         {
          "count": 0,
          "word": "planets",
          "year": 1872
         },
         {
          "count": 0,
          "word": "planets",
          "year": 1873
         },
         {
          "count": 0,
          "word": "planets",
          "year": 1874
         },
         {
          "count": 0,
          "word": "planets",
          "year": 1877
         },
         {
          "count": 0,
          "word": "planets",
          "year": 1878
         },
         {
          "count": 0,
          "word": "planets",
          "year": 1879
         },
         {
          "count": 0,
          "word": "planets",
          "year": 1880
         },
         {
          "count": 0,
          "word": "planets",
          "year": 1881
         },
         {
          "count": 0,
          "word": "planets",
          "year": 1883
         },
         {
          "count": 0,
          "word": "planets",
          "year": 1884
         },
         {
          "count": 0,
          "word": "planets",
          "year": 1885
         },
         {
          "count": 0.04627400432536828,
          "word": "planets",
          "year": 1886
         },
         {
          "count": 0,
          "word": "planets",
          "year": 1887
         },
         {
          "count": 0.002496785315411459,
          "word": "planets",
          "year": 1888
         },
         {
          "count": 0,
          "word": "planets",
          "year": 1889
         },
         {
          "count": 0,
          "word": "planets",
          "year": 1890
         },
         {
          "count": 0,
          "word": "planets",
          "year": 1891
         },
         {
          "count": 0,
          "word": "planets",
          "year": 1892
         },
         {
          "count": 0.003219262834728284,
          "word": "planets",
          "year": 1893
         },
         {
          "count": 0,
          "word": "planets",
          "year": 1894
         },
         {
          "count": 0,
          "word": "planets",
          "year": 1895
         },
         {
          "count": 0.006620867019139221,
          "word": "planets",
          "year": 1896
         },
         {
          "count": 0.010002808192428615,
          "word": "planets",
          "year": 1897
         },
         {
          "count": 0.003715612789665745,
          "word": "planets",
          "year": 1898
         },
         {
          "count": 0.0029454825225223016,
          "word": "planets",
          "year": 1899
         },
         {
          "count": 0,
          "word": "planets",
          "year": 1900
         },
         {
          "count": 0.004960419208017051,
          "word": "planets",
          "year": 1901
         },
         {
          "count": 0.009787948398922785,
          "word": "planets",
          "year": 1902
         },
         {
          "count": 0.0073362094024646265,
          "word": "planets",
          "year": 1903
         },
         {
          "count": 0.003393788963928152,
          "word": "planets",
          "year": 1904
         },
         {
          "count": 0,
          "word": "planets",
          "year": 1905
         },
         {
          "count": 0.022924262123643728,
          "word": "planets",
          "year": 1906
         },
         {
          "count": 0.02678026932882473,
          "word": "planets",
          "year": 1907
         },
         {
          "count": 0,
          "word": "planets",
          "year": 1908
         },
         {
          "count": 0.02034143172445538,
          "word": "planets",
          "year": 1909
         },
         {
          "count": 0.04617418421563693,
          "word": "planets",
          "year": 1910
         },
         {
          "count": 0.011275307114343353,
          "word": "planets",
          "year": 1911
         },
         {
          "count": 0.00480684927547188,
          "word": "planets",
          "year": 1912
         },
         {
          "count": 0.0035556576105608656,
          "word": "planets",
          "year": 1913
         },
         {
          "count": 0,
          "word": "planets",
          "year": 1914
         },
         {
          "count": 0.01756539888916682,
          "word": "planets",
          "year": 1915
         },
         {
          "count": 0,
          "word": "planets",
          "year": 1916
         },
         {
          "count": 0,
          "word": "planets",
          "year": 1917
         },
         {
          "count": 0.034261616404848066,
          "word": "planets",
          "year": 1918
         },
         {
          "count": 0.03350926677695655,
          "word": "planets",
          "year": 1919
         },
         {
          "count": 0.008471091451423177,
          "word": "planets",
          "year": 1920
         },
         {
          "count": 0,
          "word": "planets",
          "year": 1921
         },
         {
          "count": 0,
          "word": "planets",
          "year": 1922
         },
         {
          "count": 0.03195878039985731,
          "word": "planets",
          "year": 1923
         },
         {
          "count": 0,
          "word": "planets",
          "year": 1924
         },
         {
          "count": 0,
          "word": "planets",
          "year": 1925
         },
         {
          "count": 0,
          "word": "planets",
          "year": 1926
         },
         {
          "count": 0,
          "word": "planets",
          "year": 1927
         },
         {
          "count": 0,
          "word": "planets",
          "year": 1928
         },
         {
          "count": 0,
          "word": "planets",
          "year": 1929
         },
         {
          "count": 0.023151770557461603,
          "word": "planets",
          "year": 1930
         },
         {
          "count": 0,
          "word": "planets",
          "year": 1931
         },
         {
          "count": 0,
          "word": "planets",
          "year": 1932
         },
         {
          "count": 0.016319317250874384,
          "word": "planets",
          "year": 1933
         },
         {
          "count": 0.019541926949205896,
          "word": "planets",
          "year": 1934
         },
         {
          "count": 0.007011916229839195,
          "word": "planets",
          "year": 1935
         },
         {
          "count": 0,
          "word": "planets",
          "year": 1936
         },
         {
          "count": 0,
          "word": "planets",
          "year": 1937
         },
         {
          "count": 0.10937307589164626,
          "word": "planets",
          "year": 1938
         },
         {
          "count": 0,
          "word": "planets",
          "year": 1939
         },
         {
          "count": 0.11089734011323775,
          "word": "planets",
          "year": 1940
         },
         {
          "count": 0,
          "word": "planets",
          "year": 1941
         },
         {
          "count": 0,
          "word": "planets",
          "year": 1942
         },
         {
          "count": 0,
          "word": "planets",
          "year": 1944
         },
         {
          "count": 0.025555184406253113,
          "word": "planets",
          "year": 1945
         },
         {
          "count": 0,
          "word": "planets",
          "year": 1946
         },
         {
          "count": 0,
          "word": "planets",
          "year": 1947
         },
         {
          "count": 0,
          "word": "planets",
          "year": 1948
         },
         {
          "count": 0,
          "word": "planets",
          "year": 1949
         },
         {
          "count": 0,
          "word": "planets",
          "year": 1950
         },
         {
          "count": 0,
          "word": "planets",
          "year": 1951
         },
         {
          "count": 0.20501790498763114,
          "word": "planets",
          "year": 1952
         },
         {
          "count": 0,
          "word": "planets",
          "year": 1953
         },
         {
          "count": 0.13989109441619785,
          "word": "planets",
          "year": 1954
         },
         {
          "count": 0,
          "word": "planets",
          "year": 1955
         },
         {
          "count": 0,
          "word": "planets",
          "year": 1972
         },
         {
          "count": 0,
          "word": "planets",
          "year": 1975
         },
         {
          "count": 0,
          "word": "planets",
          "year": 1982
         },
         {
          "count": 0,
          "word": "planets",
          "year": 1986
         },
         {
          "count": 0,
          "word": "planets",
          "year": 1987
         },
         {
          "count": 0,
          "word": "planets",
          "year": 2005
         },
         {
          "count": 0,
          "word": "islands",
          "year": 1860
         },
         {
          "count": 0.012907684493095112,
          "word": "islands",
          "year": 1862
         },
         {
          "count": 0,
          "word": "islands",
          "year": 1863
         },
         {
          "count": 0.007847946804627727,
          "word": "islands",
          "year": 1864
         },
         {
          "count": 0,
          "word": "islands",
          "year": 1867
         },
         {
          "count": 0,
          "word": "islands",
          "year": 1872
         },
         {
          "count": 0,
          "word": "islands",
          "year": 1873
         },
         {
          "count": 0,
          "word": "islands",
          "year": 1874
         },
         {
          "count": 0,
          "word": "islands",
          "year": 1877
         },
         {
          "count": 0,
          "word": "islands",
          "year": 1878
         },
         {
          "count": 0.04008588575286894,
          "word": "islands",
          "year": 1879
         },
         {
          "count": 0.021720912547145397,
          "word": "islands",
          "year": 1880
         },
         {
          "count": 0,
          "word": "islands",
          "year": 1881
         },
         {
          "count": 0,
          "word": "islands",
          "year": 1883
         },
         {
          "count": 0.004371899942041391,
          "word": "islands",
          "year": 1884
         },
         {
          "count": 0.01005758496457856,
          "word": "islands",
          "year": 1885
         },
         {
          "count": 0.009102434715612508,
          "word": "islands",
          "year": 1886
         },
         {
          "count": 0.007065191323107469,
          "word": "islands",
          "year": 1887
         },
         {
          "count": 0.02922258678483168,
          "word": "islands",
          "year": 1888
         },
         {
          "count": 0.015283191294447761,
          "word": "islands",
          "year": 1889
         },
         {
          "count": 0.033592969616654575,
          "word": "islands",
          "year": 1890
         },
         {
          "count": 0.03384758094993471,
          "word": "islands",
          "year": 1891
         },
         {
          "count": 0.017060944515496026,
          "word": "islands",
          "year": 1892
         },
         {
          "count": 0.05472357181711217,
          "word": "islands",
          "year": 1893
         },
         {
          "count": 0.07904123581931502,
          "word": "islands",
          "year": 1894
         },
         {
          "count": 0.062296048380760145,
          "word": "islands",
          "year": 1895
         },
         {
          "count": 0.03597805171748326,
          "word": "islands",
          "year": 1896
         },
         {
          "count": 0.053310352012734284,
          "word": "islands",
          "year": 1897
         },
         {
          "count": 0.06419634522636967,
          "word": "islands",
          "year": 1898
         },
         {
          "count": 0.07387323620810285,
          "word": "islands",
          "year": 1899
         },
         {
          "count": 0.01948510161166375,
          "word": "islands",
          "year": 1900
         },
         {
          "count": 0.02764626976644893,
          "word": "islands",
          "year": 1901
         },
         {
          "count": 0.026366748675600238,
          "word": "islands",
          "year": 1902
         },
         {
          "count": 0.017172723230302347,
          "word": "islands",
          "year": 1903
         },
         {
          "count": 0.014186140519461573,
          "word": "islands",
          "year": 1904
         },
         {
          "count": 0.011793434260326712,
          "word": "islands",
          "year": 1905
         },
         {
          "count": 0,
          "word": "islands",
          "year": 1906
         },
         {
          "count": 0,
          "word": "islands",
          "year": 1907
         },
         {
          "count": 0,
          "word": "islands",
          "year": 1908
         },
         {
          "count": 0.0034011119946144846,
          "word": "islands",
          "year": 1909
         },
         {
          "count": 0.0038601897325775936,
          "word": "islands",
          "year": 1910
         },
         {
          "count": 0.018852449910618057,
          "word": "islands",
          "year": 1911
         },
         {
          "count": 0.004018555072368947,
          "word": "islands",
          "year": 1912
         },
         {
          "count": 0.014862756358346527,
          "word": "islands",
          "year": 1913
         },
         {
          "count": 0.016571312729165524,
          "word": "islands",
          "year": 1914
         },
         {
          "count": 0,
          "word": "islands",
          "year": 1915
         },
         {
          "count": 0.026322921107963693,
          "word": "islands",
          "year": 1916
         },
         {
          "count": 0,
          "word": "islands",
          "year": 1917
         },
         {
          "count": 0.020459227552326556,
          "word": "islands",
          "year": 1918
         },
         {
          "count": 0,
          "word": "islands",
          "year": 1919
         },
         {
          "count": 0.00708188369756529,
          "word": "islands",
          "year": 1920
         },
         {
          "count": 0,
          "word": "islands",
          "year": 1921
         },
         {
          "count": 0,
          "word": "islands",
          "year": 1922
         },
         {
          "count": 0.01781182249502568,
          "word": "islands",
          "year": 1923
         },
         {
          "count": 0.011408470805969325,
          "word": "islands",
          "year": 1924
         },
         {
          "count": 0,
          "word": "islands",
          "year": 1925
         },
         {
          "count": 0,
          "word": "islands",
          "year": 1926
         },
         {
          "count": 0,
          "word": "islands",
          "year": 1927
         },
         {
          "count": 0,
          "word": "islands",
          "year": 1928
         },
         {
          "count": 0,
          "word": "islands",
          "year": 1929
         },
         {
          "count": 0,
          "word": "islands",
          "year": 1930
         },
         {
          "count": 0,
          "word": "islands",
          "year": 1931
         },
         {
          "count": 0.014855635317867157,
          "word": "islands",
          "year": 1932
         },
         {
          "count": 0.013643047942180677,
          "word": "islands",
          "year": 1933
         },
         {
          "count": 0,
          "word": "islands",
          "year": 1934
         },
         {
          "count": 0.00586200438533207,
          "word": "islands",
          "year": 1935
         },
         {
          "count": 0,
          "word": "islands",
          "year": 1936
         },
         {
          "count": 0,
          "word": "islands",
          "year": 1937
         },
         {
          "count": 0,
          "word": "islands",
          "year": 1938
         },
         {
          "count": 0,
          "word": "islands",
          "year": 1939
         },
         {
          "count": 0,
          "word": "islands",
          "year": 1940
         },
         {
          "count": 0,
          "word": "islands",
          "year": 1941
         },
         {
          "count": 0,
          "word": "islands",
          "year": 1942
         },
         {
          "count": 0,
          "word": "islands",
          "year": 1944
         },
         {
          "count": 0.021364288754610654,
          "word": "islands",
          "year": 1945
         },
         {
          "count": 0.028804623512054803,
          "word": "islands",
          "year": 1946
         },
         {
          "count": 0,
          "word": "islands",
          "year": 1947
         },
         {
          "count": 0,
          "word": "islands",
          "year": 1948
         },
         {
          "count": 0.025821890720582746,
          "word": "islands",
          "year": 1949
         },
         {
          "count": 0,
          "word": "islands",
          "year": 1950
         },
         {
          "count": 0.08027699689329222,
          "word": "islands",
          "year": 1951
         },
         {
          "count": 0,
          "word": "islands",
          "year": 1952
         },
         {
          "count": 0,
          "word": "islands",
          "year": 1953
         },
         {
          "count": 0,
          "word": "islands",
          "year": 1954
         },
         {
          "count": 0,
          "word": "islands",
          "year": 1955
         },
         {
          "count": 0,
          "word": "islands",
          "year": 1972
         },
         {
          "count": 0,
          "word": "islands",
          "year": 1975
         },
         {
          "count": 0,
          "word": "islands",
          "year": 1982
         },
         {
          "count": 0,
          "word": "islands",
          "year": 1986
         },
         {
          "count": 0.059861651046522975,
          "word": "islands",
          "year": 1987
         },
         {
          "count": 0,
          "word": "islands",
          "year": 2005
         },
         {
          "count": 0,
          "word": "prediction",
          "year": 1860
         },
         {
          "count": 0,
          "word": "prediction",
          "year": 1862
         },
         {
          "count": 0,
          "word": "prediction",
          "year": 1863
         },
         {
          "count": 0,
          "word": "prediction",
          "year": 1864
         },
         {
          "count": 0,
          "word": "prediction",
          "year": 1867
         },
         {
          "count": 0,
          "word": "prediction",
          "year": 1872
         },
         {
          "count": 0,
          "word": "prediction",
          "year": 1873
         },
         {
          "count": 0,
          "word": "prediction",
          "year": 1874
         },
         {
          "count": 0,
          "word": "prediction",
          "year": 1877
         },
         {
          "count": 0,
          "word": "prediction",
          "year": 1878
         },
         {
          "count": 0,
          "word": "prediction",
          "year": 1879
         },
         {
          "count": 0,
          "word": "prediction",
          "year": 1880
         },
         {
          "count": 0,
          "word": "prediction",
          "year": 1881
         },
         {
          "count": 0,
          "word": "prediction",
          "year": 1883
         },
         {
          "count": 0,
          "word": "prediction",
          "year": 1884
         },
         {
          "count": 0.005519093512889138,
          "word": "prediction",
          "year": 1885
         },
         {
          "count": 0,
          "word": "prediction",
          "year": 1886
         },
         {
          "count": 0,
          "word": "prediction",
          "year": 1887
         },
         {
          "count": 0,
          "word": "prediction",
          "year": 1888
         },
         {
          "count": 0.005591094497436334,
          "word": "prediction",
          "year": 1889
         },
         {
          "count": 0.007022522379844174,
          "word": "prediction",
          "year": 1890
         },
         {
          "count": 0,
          "word": "prediction",
          "year": 1891
         },
         {
          "count": 0.024965820596987615,
          "word": "prediction",
          "year": 1892
         },
         {
          "count": 0.007876597010388092,
          "word": "prediction",
          "year": 1893
         },
         {
          "count": 0.016789869346304234,
          "word": "prediction",
          "year": 1894
         },
         {
          "count": 0.0036956668022625253,
          "word": "prediction",
          "year": 1895
         },
         {
          "count": 0.003037374395538291,
          "word": "prediction",
          "year": 1896
         },
         {
          "count": 0.004588866291882318,
          "word": "prediction",
          "year": 1897
         },
         {
          "count": 0.004545510275695017,
          "word": "prediction",
          "year": 1898
         },
         {
          "count": 0.0027025261708331113,
          "word": "prediction",
          "year": 1899
         },
         {
          "count": 0.008553949941793034,
          "word": "prediction",
          "year": 1900
         },
         {
          "count": 0.0030341746783341247,
          "word": "prediction",
          "year": 1901
         },
         {
          "count": 0.003991375720403355,
          "word": "prediction",
          "year": 1902
         },
         {
          "count": 0.010769738542068015,
          "word": "prediction",
          "year": 1903
         },
         {
          "count": 0.003113854325452368,
          "word": "prediction",
          "year": 1904
         },
         {
          "count": 0,
          "word": "prediction",
          "year": 1905
         },
         {
          "count": 0,
          "word": "prediction",
          "year": 1906
         },
         {
          "count": 0.05733306820279743,
          "word": "prediction",
          "year": 1907
         },
         {
          "count": 0.018394961917708497,
          "word": "prediction",
          "year": 1908
         },
         {
          "count": 0.011198148588669347,
          "word": "prediction",
          "year": 1909
         },
         {
          "count": 0.008473106888630885,
          "word": "prediction",
          "year": 1910
         },
         {
          "count": 0.015517905297872784,
          "word": "prediction",
          "year": 1911
         },
         {
          "count": 0.03087251445838516,
          "word": "prediction",
          "year": 1912
         },
         {
          "count": 0.009787114002802483,
          "word": "prediction",
          "year": 1913
         },
         {
          "count": 0,
          "word": "prediction",
          "year": 1914
         },
         {
          "count": 0,
          "word": "prediction",
          "year": 1915
         },
         {
          "count": 0,
          "word": "prediction",
          "year": 1916
         },
         {
          "count": 0,
          "word": "prediction",
          "year": 1917
         },
         {
          "count": 0.05838033985239105,
          "word": "prediction",
          "year": 1918
         },
         {
          "count": 0.020496850060547345,
          "word": "prediction",
          "year": 1919
         },
         {
          "count": 0,
          "word": "prediction",
          "year": 1920
         },
         {
          "count": 0,
          "word": "prediction",
          "year": 1921
         },
         {
          "count": 0,
          "word": "prediction",
          "year": 1922
         },
         {
          "count": 0.004887113274769552,
          "word": "prediction",
          "year": 1923
         },
         {
          "count": 0.037562347684237815,
          "word": "prediction",
          "year": 1924
         },
         {
          "count": 0.03355201527740753,
          "word": "prediction",
          "year": 1925
         },
         {
          "count": 0,
          "word": "prediction",
          "year": 1926
         },
         {
          "count": 0.02792302445154423,
          "word": "prediction",
          "year": 1927
         },
         {
          "count": 0,
          "word": "prediction",
          "year": 1928
         },
         {
          "count": 0.016411409626732234,
          "word": "prediction",
          "year": 1929
         },
         {
          "count": 0.021242110708259935,
          "word": "prediction",
          "year": 1930
         },
         {
          "count": 0,
          "word": "prediction",
          "year": 1931
         },
         {
          "count": 0,
          "word": "prediction",
          "year": 1932
         },
         {
          "count": 0,
          "word": "prediction",
          "year": 1933
         },
         {
          "count": 0.01793002287567908,
          "word": "prediction",
          "year": 1934
         },
         {
          "count": 0.045034797802235044,
          "word": "prediction",
          "year": 1935
         },
         {
          "count": 0.09537981640594757,
          "word": "prediction",
          "year": 1936
         },
         {
          "count": 0,
          "word": "prediction",
          "year": 1937
         },
         {
          "count": 0.01433592908663852,
          "word": "prediction",
          "year": 1938
         },
         {
          "count": 0,
          "word": "prediction",
          "year": 1939
         },
         {
          "count": 0,
          "word": "prediction",
          "year": 1940
         },
         {
          "count": 0,
          "word": "prediction",
          "year": 1941
         },
         {
          "count": 0,
          "word": "prediction",
          "year": 1942
         },
         {
          "count": 0,
          "word": "prediction",
          "year": 1944
         },
         {
          "count": 0.023447280413405457,
          "word": "prediction",
          "year": 1945
         },
         {
          "count": 0,
          "word": "prediction",
          "year": 1946
         },
         {
          "count": 0,
          "word": "prediction",
          "year": 1947
         },
         {
          "count": 0.06452113625648404,
          "word": "prediction",
          "year": 1948
         },
         {
          "count": 0.11335797217197831,
          "word": "prediction",
          "year": 1949
         },
         {
          "count": 0,
          "word": "prediction",
          "year": 1950
         },
         {
          "count": 0,
          "word": "prediction",
          "year": 1951
         },
         {
          "count": 0,
          "word": "prediction",
          "year": 1952
         },
         {
          "count": 0,
          "word": "prediction",
          "year": 1953
         },
         {
          "count": 0,
          "word": "prediction",
          "year": 1954
         },
         {
          "count": 0,
          "word": "prediction",
          "year": 1955
         },
         {
          "count": 0,
          "word": "prediction",
          "year": 1972
         },
         {
          "count": 0,
          "word": "prediction",
          "year": 1975
         },
         {
          "count": 0,
          "word": "prediction",
          "year": 1982
         },
         {
          "count": 0,
          "word": "prediction",
          "year": 1986
         },
         {
          "count": 0,
          "word": "prediction",
          "year": 1987
         },
         {
          "count": 0,
          "word": "prediction",
          "year": 2005
         }
        ]
       },
       "encoding": {
        "color": {
         "field": "word",
         "type": "nominal"
        },
        "facet": {
         "field": "word",
         "type": "nominal"
        },
        "x": {
         "axis": {
          "format": "c",
          "title": "Year"
         },
         "field": "year",
         "type": "quantitative"
        },
        "y": {
         "field": "count",
         "type": "quantitative"
        }
       },
       "height": 100,
       "mark": "line",
       "width": 700
      },
      "image/png": "[encoded data removed]",
      "text/plain": [
       "<VegaLite 3 object>\n",
       "\n",
       "If you see this message, it means the renderer has not been properly enabled\n",
       "for the frontend that you are using. For more information, see\n",
       "https://altair-viz.github.io/user_guide/troubleshooting.html\n"
      ]
     },
     "execution_count": 13,
     "metadata": {},
     "output_type": "execute_result"
    }
   ],
   "source": [
    "alt.Chart(df_words.loc[df_words['year'] > 0]).mark_line().encode(\n",
    "    x=alt.X('year:Q', axis=alt.Axis(format='c', title='Year')),\n",
    "    y='count:Q',\n",
    "    color='word:N',\n",
    "    facet='word:N'\n",
    ").properties(width=700, height=100, columns=1)"
   ]
  },
  {
   "cell_type": "markdown",
   "metadata": {},
   "source": [
    "### Create a bubbleline chart"
   ]
  },
  {
   "cell_type": "code",
   "execution_count": 14,
   "metadata": {},
   "outputs": [
    {
     "data": {
      "application/vnd.vegalite.v3+json": {
       "$schema": "https://vega.github.io/schema/vega-lite/v3.4.0.json",
       "config": {
        "mark": {
         "tooltip": null
        },
        "view": {
         "height": 300,
         "width": 400
        }
       },
       "data": {
        "name": "data-43c6196c504f616f160e008614a5dc00"
       },
       "datasets": {
        "data-43c6196c504f616f160e008614a5dc00": [
         {
          "count": 0,
          "word": "planets",
          "year": 1860
         },
         {
          "count": 0,
          "word": "planets",
          "year": 1862
         },
         {
          "count": 0,
          "word": "planets",
          "year": 1863
         },
         {
          "count": 0,
          "word": "planets",
          "year": 1864
         },
         {
          "count": 0,
          "word": "planets",
          "year": 1867
         },
         {
          "count": 0,
          "word": "planets",
          "year": 1872
         },
         {
          "count": 0,
          "word": "planets",
          "year": 1873
         },
         {
          "count": 0,
          "word": "planets",
          "year": 1874
         },
         {
          "count": 0,
          "word": "planets",
          "year": 1877
         },
         {
          "count": 0,
          "word": "planets",
          "year": 1878
         },
         {
          "count": 0,
          "word": "planets",
          "year": 1879
         },
         {
          "count": 0,
          "word": "planets",
          "year": 1880
         },
         {
          "count": 0,
          "word": "planets",
          "year": 1881
         },
         {
          "count": 0,
          "word": "planets",
          "year": 1883
         },
         {
          "count": 0,
          "word": "planets",
          "year": 1884
         },
         {
          "count": 0,
          "word": "planets",
          "year": 1885
         },
         {
          "count": 0.04627400432536828,
          "word": "planets",
          "year": 1886
         },
         {
          "count": 0,
          "word": "planets",
          "year": 1887
         },
         {
          "count": 0.002496785315411459,
          "word": "planets",
          "year": 1888
         },
         {
          "count": 0,
          "word": "planets",
          "year": 1889
         },
         {
          "count": 0,
          "word": "planets",
          "year": 1890
         },
         {
          "count": 0,
          "word": "planets",
          "year": 1891
         },
         {
          "count": 0,
          "word": "planets",
          "year": 1892
         },
         {
          "count": 0.003219262834728284,
          "word": "planets",
          "year": 1893
         },
         {
          "count": 0,
          "word": "planets",
          "year": 1894
         },
         {
          "count": 0,
          "word": "planets",
          "year": 1895
         },
         {
          "count": 0.006620867019139221,
          "word": "planets",
          "year": 1896
         },
         {
          "count": 0.010002808192428615,
          "word": "planets",
          "year": 1897
         },
         {
          "count": 0.003715612789665745,
          "word": "planets",
          "year": 1898
         },
         {
          "count": 0.0029454825225223016,
          "word": "planets",
          "year": 1899
         },
         {
          "count": 0,
          "word": "planets",
          "year": 1900
         },
         {
          "count": 0.004960419208017051,
          "word": "planets",
          "year": 1901
         },
         {
          "count": 0.009787948398922785,
          "word": "planets",
          "year": 1902
         },
         {
          "count": 0.0073362094024646265,
          "word": "planets",
          "year": 1903
         },
         {
          "count": 0.003393788963928152,
          "word": "planets",
          "year": 1904
         },
         {
          "count": 0,
          "word": "planets",
          "year": 1905
         },
         {
          "count": 0.022924262123643728,
          "word": "planets",
          "year": 1906
         },
         {
          "count": 0.02678026932882473,
          "word": "planets",
          "year": 1907
         },
         {
          "count": 0,
          "word": "planets",
          "year": 1908
         },
         {
          "count": 0.02034143172445538,
          "word": "planets",
          "year": 1909
         },
         {
          "count": 0.04617418421563693,
          "word": "planets",
          "year": 1910
         },
         {
          "count": 0.011275307114343353,
          "word": "planets",
          "year": 1911
         },
         {
          "count": 0.00480684927547188,
          "word": "planets",
          "year": 1912
         },
         {
          "count": 0.0035556576105608656,
          "word": "planets",
          "year": 1913
         },
         {
          "count": 0,
          "word": "planets",
          "year": 1914
         },
         {
          "count": 0.01756539888916682,
          "word": "planets",
          "year": 1915
         },
         {
          "count": 0,
          "word": "planets",
          "year": 1916
         },
         {
          "count": 0,
          "word": "planets",
          "year": 1917
         },
         {
          "count": 0.034261616404848066,
          "word": "planets",
          "year": 1918
         },
         {
          "count": 0.03350926677695655,
          "word": "planets",
          "year": 1919
         },
         {
          "count": 0.008471091451423177,
          "word": "planets",
          "year": 1920
         },
         {
          "count": 0,
          "word": "planets",
          "year": 1921
         },
         {
          "count": 0,
          "word": "planets",
          "year": 1922
         },
         {
          "count": 0.03195878039985731,
          "word": "planets",
          "year": 1923
         },
         {
          "count": 0,
          "word": "planets",
          "year": 1924
         },
         {
          "count": 0,
          "word": "planets",
          "year": 1925
         },
         {
          "count": 0,
          "word": "planets",
          "year": 1926
         },
         {
          "count": 0,
          "word": "planets",
          "year": 1927
         },
         {
          "count": 0,
          "word": "planets",
          "year": 1928
         },
         {
          "count": 0,
          "word": "planets",
          "year": 1929
         },
         {
          "count": 0.023151770557461603,
          "word": "planets",
          "year": 1930
         },
         {
          "count": 0,
          "word": "planets",
          "year": 1931
         },
         {
          "count": 0,
          "word": "planets",
          "year": 1932
         },
         {
          "count": 0.016319317250874384,
          "word": "planets",
          "year": 1933
         },
         {
          "count": 0.019541926949205896,
          "word": "planets",
          "year": 1934
         },
         {
          "count": 0.007011916229839195,
          "word": "planets",
          "year": 1935
         },
         {
          "count": 0,
          "word": "planets",
          "year": 1936
         },
         {
          "count": 0,
          "word": "planets",
          "year": 1937
         },
         {
          "count": 0.10937307589164626,
          "word": "planets",
          "year": 1938
         },
         {
          "count": 0,
          "word": "planets",
          "year": 1939
         },
         {
          "count": 0.11089734011323775,
          "word": "planets",
          "year": 1940
         },
         {
          "count": 0,
          "word": "planets",
          "year": 1941
         },
         {
          "count": 0,
          "word": "planets",
          "year": 1942
         },
         {
          "count": 0,
          "word": "planets",
          "year": 1944
         },
         {
          "count": 0.025555184406253113,
          "word": "planets",
          "year": 1945
         },
         {
          "count": 0,
          "word": "planets",
          "year": 1946
         },
         {
          "count": 0,
          "word": "planets",
          "year": 1947
         },
         {
          "count": 0,
          "word": "planets",
          "year": 1948
         },
         {
          "count": 0,
          "word": "planets",
          "year": 1949
         },
         {
          "count": 0,
          "word": "planets",
          "year": 1950
         },
         {
          "count": 0,
          "word": "planets",
          "year": 1951
         },
         {
          "count": 0.20501790498763114,
          "word": "planets",
          "year": 1952
         },
         {
          "count": 0,
          "word": "planets",
          "year": 1953
         },
         {
          "count": 0.13989109441619785,
          "word": "planets",
          "year": 1954
         },
         {
          "count": 0,
          "word": "planets",
          "year": 1955
         },
         {
          "count": 0,
          "word": "planets",
          "year": 1972
         },
         {
          "count": 0,
          "word": "planets",
          "year": 1975
         },
         {
          "count": 0,
          "word": "planets",
          "year": 1982
         },
         {
          "count": 0,
          "word": "planets",
          "year": 1986
         },
         {
          "count": 0,
          "word": "planets",
          "year": 1987
         },
         {
          "count": 0,
          "word": "planets",
          "year": 2005
         },
         {
          "count": 0,
          "word": "islands",
          "year": 1860
         },
         {
          "count": 0.012907684493095112,
          "word": "islands",
          "year": 1862
         },
         {
          "count": 0,
          "word": "islands",
          "year": 1863
         },
         {
          "count": 0.007847946804627727,
          "word": "islands",
          "year": 1864
         },
         {
          "count": 0,
          "word": "islands",
          "year": 1867
         },
         {
          "count": 0,
          "word": "islands",
          "year": 1872
         },
         {
          "count": 0,
          "word": "islands",
          "year": 1873
         },
         {
          "count": 0,
          "word": "islands",
          "year": 1874
         },
         {
          "count": 0,
          "word": "islands",
          "year": 1877
         },
         {
          "count": 0,
          "word": "islands",
          "year": 1878
         },
         {
          "count": 0.04008588575286894,
          "word": "islands",
          "year": 1879
         },
         {
          "count": 0.021720912547145397,
          "word": "islands",
          "year": 1880
         },
         {
          "count": 0,
          "word": "islands",
          "year": 1881
         },
         {
          "count": 0,
          "word": "islands",
          "year": 1883
         },
         {
          "count": 0.004371899942041391,
          "word": "islands",
          "year": 1884
         },
         {
          "count": 0.01005758496457856,
          "word": "islands",
          "year": 1885
         },
         {
          "count": 0.009102434715612508,
          "word": "islands",
          "year": 1886
         },
         {
          "count": 0.007065191323107469,
          "word": "islands",
          "year": 1887
         },
         {
          "count": 0.02922258678483168,
          "word": "islands",
          "year": 1888
         },
         {
          "count": 0.015283191294447761,
          "word": "islands",
          "year": 1889
         },
         {
          "count": 0.033592969616654575,
          "word": "islands",
          "year": 1890
         },
         {
          "count": 0.03384758094993471,
          "word": "islands",
          "year": 1891
         },
         {
          "count": 0.017060944515496026,
          "word": "islands",
          "year": 1892
         },
         {
          "count": 0.05472357181711217,
          "word": "islands",
          "year": 1893
         },
         {
          "count": 0.07904123581931502,
          "word": "islands",
          "year": 1894
         },
         {
          "count": 0.062296048380760145,
          "word": "islands",
          "year": 1895
         },
         {
          "count": 0.03597805171748326,
          "word": "islands",
          "year": 1896
         },
         {
          "count": 0.053310352012734284,
          "word": "islands",
          "year": 1897
         },
         {
          "count": 0.06419634522636967,
          "word": "islands",
          "year": 1898
         },
         {
          "count": 0.07387323620810285,
          "word": "islands",
          "year": 1899
         },
         {
          "count": 0.01948510161166375,
          "word": "islands",
          "year": 1900
         },
         {
          "count": 0.02764626976644893,
          "word": "islands",
          "year": 1901
         },
         {
          "count": 0.026366748675600238,
          "word": "islands",
          "year": 1902
         },
         {
          "count": 0.017172723230302347,
          "word": "islands",
          "year": 1903
         },
         {
          "count": 0.014186140519461573,
          "word": "islands",
          "year": 1904
         },
         {
          "count": 0.011793434260326712,
          "word": "islands",
          "year": 1905
         },
         {
          "count": 0,
          "word": "islands",
          "year": 1906
         },
         {
          "count": 0,
          "word": "islands",
          "year": 1907
         },
         {
          "count": 0,
          "word": "islands",
          "year": 1908
         },
         {
          "count": 0.0034011119946144846,
          "word": "islands",
          "year": 1909
         },
         {
          "count": 0.0038601897325775936,
          "word": "islands",
          "year": 1910
         },
         {
          "count": 0.018852449910618057,
          "word": "islands",
          "year": 1911
         },
         {
          "count": 0.004018555072368947,
          "word": "islands",
          "year": 1912
         },
         {
          "count": 0.014862756358346527,
          "word": "islands",
          "year": 1913
         },
         {
          "count": 0.016571312729165524,
          "word": "islands",
          "year": 1914
         },
         {
          "count": 0,
          "word": "islands",
          "year": 1915
         },
         {
          "count": 0.026322921107963693,
          "word": "islands",
          "year": 1916
         },
         {
          "count": 0,
          "word": "islands",
          "year": 1917
         },
         {
          "count": 0.020459227552326556,
          "word": "islands",
          "year": 1918
         },
         {
          "count": 0,
          "word": "islands",
          "year": 1919
         },
         {
          "count": 0.00708188369756529,
          "word": "islands",
          "year": 1920
         },
         {
          "count": 0,
          "word": "islands",
          "year": 1921
         },
         {
          "count": 0,
          "word": "islands",
          "year": 1922
         },
         {
          "count": 0.01781182249502568,
          "word": "islands",
          "year": 1923
         },
         {
          "count": 0.011408470805969325,
          "word": "islands",
          "year": 1924
         },
         {
          "count": 0,
          "word": "islands",
          "year": 1925
         },
         {
          "count": 0,
          "word": "islands",
          "year": 1926
         },
         {
          "count": 0,
          "word": "islands",
          "year": 1927
         },
         {
          "count": 0,
          "word": "islands",
          "year": 1928
         },
         {
          "count": 0,
          "word": "islands",
          "year": 1929
         },
         {
          "count": 0,
          "word": "islands",
          "year": 1930
         },
         {
          "count": 0,
          "word": "islands",
          "year": 1931
         },
         {
          "count": 0.014855635317867157,
          "word": "islands",
          "year": 1932
         },
         {
          "count": 0.013643047942180677,
          "word": "islands",
          "year": 1933
         },
         {
          "count": 0,
          "word": "islands",
          "year": 1934
         },
         {
          "count": 0.00586200438533207,
          "word": "islands",
          "year": 1935
         },
         {
          "count": 0,
          "word": "islands",
          "year": 1936
         },
         {
          "count": 0,
          "word": "islands",
          "year": 1937
         },
         {
          "count": 0,
          "word": "islands",
          "year": 1938
         },
         {
          "count": 0,
          "word": "islands",
          "year": 1939
         },
         {
          "count": 0,
          "word": "islands",
          "year": 1940
         },
         {
          "count": 0,
          "word": "islands",
          "year": 1941
         },
         {
          "count": 0,
          "word": "islands",
          "year": 1942
         },
         {
          "count": 0,
          "word": "islands",
          "year": 1944
         },
         {
          "count": 0.021364288754610654,
          "word": "islands",
          "year": 1945
         },
         {
          "count": 0.028804623512054803,
          "word": "islands",
          "year": 1946
         },
         {
          "count": 0,
          "word": "islands",
          "year": 1947
         },
         {
          "count": 0,
          "word": "islands",
          "year": 1948
         },
         {
          "count": 0.025821890720582746,
          "word": "islands",
          "year": 1949
         },
         {
          "count": 0,
          "word": "islands",
          "year": 1950
         },
         {
          "count": 0.08027699689329222,
          "word": "islands",
          "year": 1951
         },
         {
          "count": 0,
          "word": "islands",
          "year": 1952
         },
         {
          "count": 0,
          "word": "islands",
          "year": 1953
         },
         {
          "count": 0,
          "word": "islands",
          "year": 1954
         },
         {
          "count": 0,
          "word": "islands",
          "year": 1955
         },
         {
          "count": 0,
          "word": "islands",
          "year": 1972
         },
         {
          "count": 0,
          "word": "islands",
          "year": 1975
         },
         {
          "count": 0,
          "word": "islands",
          "year": 1982
         },
         {
          "count": 0,
          "word": "islands",
          "year": 1986
         },
         {
          "count": 0.059861651046522975,
          "word": "islands",
          "year": 1987
         },
         {
          "count": 0,
          "word": "islands",
          "year": 2005
         },
         {
          "count": 0,
          "word": "prediction",
          "year": 1860
         },
         {
          "count": 0,
          "word": "prediction",
          "year": 1862
         },
         {
          "count": 0,
          "word": "prediction",
          "year": 1863
         },
         {
          "count": 0,
          "word": "prediction",
          "year": 1864
         },
         {
          "count": 0,
          "word": "prediction",
          "year": 1867
         },
         {
          "count": 0,
          "word": "prediction",
          "year": 1872
         },
         {
          "count": 0,
          "word": "prediction",
          "year": 1873
         },
         {
          "count": 0,
          "word": "prediction",
          "year": 1874
         },
         {
          "count": 0,
          "word": "prediction",
          "year": 1877
         },
         {
          "count": 0,
          "word": "prediction",
          "year": 1878
         },
         {
          "count": 0,
          "word": "prediction",
          "year": 1879
         },
         {
          "count": 0,
          "word": "prediction",
          "year": 1880
         },
         {
          "count": 0,
          "word": "prediction",
          "year": 1881
         },
         {
          "count": 0,
          "word": "prediction",
          "year": 1883
         },
         {
          "count": 0,
          "word": "prediction",
          "year": 1884
         },
         {
          "count": 0.005519093512889138,
          "word": "prediction",
          "year": 1885
         },
         {
          "count": 0,
          "word": "prediction",
          "year": 1886
         },
         {
          "count": 0,
          "word": "prediction",
          "year": 1887
         },
         {
          "count": 0,
          "word": "prediction",
          "year": 1888
         },
         {
          "count": 0.005591094497436334,
          "word": "prediction",
          "year": 1889
         },
         {
          "count": 0.007022522379844174,
          "word": "prediction",
          "year": 1890
         },
         {
          "count": 0,
          "word": "prediction",
          "year": 1891
         },
         {
          "count": 0.024965820596987615,
          "word": "prediction",
          "year": 1892
         },
         {
          "count": 0.007876597010388092,
          "word": "prediction",
          "year": 1893
         },
         {
          "count": 0.016789869346304234,
          "word": "prediction",
          "year": 1894
         },
         {
          "count": 0.0036956668022625253,
          "word": "prediction",
          "year": 1895
         },
         {
          "count": 0.003037374395538291,
          "word": "prediction",
          "year": 1896
         },
         {
          "count": 0.004588866291882318,
          "word": "prediction",
          "year": 1897
         },
         {
          "count": 0.004545510275695017,
          "word": "prediction",
          "year": 1898
         },
         {
          "count": 0.0027025261708331113,
          "word": "prediction",
          "year": 1899
         },
         {
          "count": 0.008553949941793034,
          "word": "prediction",
          "year": 1900
         },
         {
          "count": 0.0030341746783341247,
          "word": "prediction",
          "year": 1901
         },
         {
          "count": 0.003991375720403355,
          "word": "prediction",
          "year": 1902
         },
         {
          "count": 0.010769738542068015,
          "word": "prediction",
          "year": 1903
         },
         {
          "count": 0.003113854325452368,
          "word": "prediction",
          "year": 1904
         },
         {
          "count": 0,
          "word": "prediction",
          "year": 1905
         },
         {
          "count": 0,
          "word": "prediction",
          "year": 1906
         },
         {
          "count": 0.05733306820279743,
          "word": "prediction",
          "year": 1907
         },
         {
          "count": 0.018394961917708497,
          "word": "prediction",
          "year": 1908
         },
         {
          "count": 0.011198148588669347,
          "word": "prediction",
          "year": 1909
         },
         {
          "count": 0.008473106888630885,
          "word": "prediction",
          "year": 1910
         },
         {
          "count": 0.015517905297872784,
          "word": "prediction",
          "year": 1911
         },
         {
          "count": 0.03087251445838516,
          "word": "prediction",
          "year": 1912
         },
         {
          "count": 0.009787114002802483,
          "word": "prediction",
          "year": 1913
         },
         {
          "count": 0,
          "word": "prediction",
          "year": 1914
         },
         {
          "count": 0,
          "word": "prediction",
          "year": 1915
         },
         {
          "count": 0,
          "word": "prediction",
          "year": 1916
         },
         {
          "count": 0,
          "word": "prediction",
          "year": 1917
         },
         {
          "count": 0.05838033985239105,
          "word": "prediction",
          "year": 1918
         },
         {
          "count": 0.020496850060547345,
          "word": "prediction",
          "year": 1919
         },
         {
          "count": 0,
          "word": "prediction",
          "year": 1920
         },
         {
          "count": 0,
          "word": "prediction",
          "year": 1921
         },
         {
          "count": 0,
          "word": "prediction",
          "year": 1922
         },
         {
          "count": 0.004887113274769552,
          "word": "prediction",
          "year": 1923
         },
         {
          "count": 0.037562347684237815,
          "word": "prediction",
          "year": 1924
         },
         {
          "count": 0.03355201527740753,
          "word": "prediction",
          "year": 1925
         },
         {
          "count": 0,
          "word": "prediction",
          "year": 1926
         },
         {
          "count": 0.02792302445154423,
          "word": "prediction",
          "year": 1927
         },
         {
          "count": 0,
          "word": "prediction",
          "year": 1928
         },
         {
          "count": 0.016411409626732234,
          "word": "prediction",
          "year": 1929
         },
         {
          "count": 0.021242110708259935,
          "word": "prediction",
          "year": 1930
         },
         {
          "count": 0,
          "word": "prediction",
          "year": 1931
         },
         {
          "count": 0,
          "word": "prediction",
          "year": 1932
         },
         {
          "count": 0,
          "word": "prediction",
          "year": 1933
         },
         {
          "count": 0.01793002287567908,
          "word": "prediction",
          "year": 1934
         },
         {
          "count": 0.045034797802235044,
          "word": "prediction",
          "year": 1935
         },
         {
          "count": 0.09537981640594757,
          "word": "prediction",
          "year": 1936
         },
         {
          "count": 0,
          "word": "prediction",
          "year": 1937
         },
         {
          "count": 0.01433592908663852,
          "word": "prediction",
          "year": 1938
         },
         {
          "count": 0,
          "word": "prediction",
          "year": 1939
         },
         {
          "count": 0,
          "word": "prediction",
          "year": 1940
         },
         {
          "count": 0,
          "word": "prediction",
          "year": 1941
         },
         {
          "count": 0,
          "word": "prediction",
          "year": 1942
         },
         {
          "count": 0,
          "word": "prediction",
          "year": 1944
         },
         {
          "count": 0.023447280413405457,
          "word": "prediction",
          "year": 1945
         },
         {
          "count": 0,
          "word": "prediction",
          "year": 1946
         },
         {
          "count": 0,
          "word": "prediction",
          "year": 1947
         },
         {
          "count": 0.06452113625648404,
          "word": "prediction",
          "year": 1948
         },
         {
          "count": 0.11335797217197831,
          "word": "prediction",
          "year": 1949
         },
         {
          "count": 0,
          "word": "prediction",
          "year": 1950
         },
         {
          "count": 0,
          "word": "prediction",
          "year": 1951
         },
         {
          "count": 0,
          "word": "prediction",
          "year": 1952
         },
         {
          "count": 0,
          "word": "prediction",
          "year": 1953
         },
         {
          "count": 0,
          "word": "prediction",
          "year": 1954
         },
         {
          "count": 0,
          "word": "prediction",
          "year": 1955
         },
         {
          "count": 0,
          "word": "prediction",
          "year": 1972
         },
         {
          "count": 0,
          "word": "prediction",
          "year": 1975
         },
         {
          "count": 0,
          "word": "prediction",
          "year": 1982
         },
         {
          "count": 0,
          "word": "prediction",
          "year": 1986
         },
         {
          "count": 0,
          "word": "prediction",
          "year": 1987
         },
         {
          "count": 0,
          "word": "prediction",
          "year": 2005
         }
        ]
       },
       "encoding": {
        "color": {
         "field": "word",
         "legend": null,
         "type": "nominal"
        },
        "size": {
         "field": "count",
         "legend": {
          "title": "Frequency"
         },
         "scale": {
          "range": [
           0,
           2000
          ]
         },
         "type": "quantitative"
        },
        "tooltip": [
         {
          "field": "word",
          "title": "Word",
          "type": "nominal"
         },
         {
          "field": "year",
          "title": "Year",
          "type": "ordinal"
         },
         {
          "field": "count",
          "format": ",",
          "title": "Frequency",
          "type": "quantitative"
         }
        ],
        "x": {
         "axis": {
          "format": "c",
          "labelAngle": 0,
          "title": "Year"
         },
         "field": "year",
         "type": "ordinal"
        },
        "y": {
         "field": "word",
         "title": "Word",
         "type": "nominal"
        }
       },
       "height": 300,
       "mark": {
        "opacity": 0.8,
        "stroke": "black",
        "strokeWidth": 1,
        "type": "circle"
       },
       "width": 700
      },
      "image/png": "[encoded data removed]",
      "text/plain": [
       "<VegaLite 3 object>\n",
       "\n",
       "If you see this message, it means the renderer has not been properly enabled\n",
       "for the frontend that you are using. For more information, see\n",
       "https://altair-viz.github.io/user_guide/troubleshooting.html\n"
      ]
     },
     "execution_count": 14,
     "metadata": {},
     "output_type": "execute_result"
    }
   ],
   "source": [
    "# Create a chart\n",
    "alt.Chart(df_words.loc[df_words['year'] > 0]).mark_circle(\n",
    "    \n",
    "    # Style the circles\n",
    "    opacity=0.8,\n",
    "    stroke='black',\n",
    "    strokeWidth=1\n",
    ").encode(\n",
    "    \n",
    "    # Year on the X axis\n",
    "    x=alt.X('year:O', axis=alt.Axis(format='c', title='Year', labelAngle=0)),\n",
    "    \n",
    "    # Object type on the Y axis\n",
    "    y=alt.Y('word:N', title='Word'),\n",
    "    \n",
    "    # Size of the circles represents the number of objects\n",
    "    size=alt.Size('count:Q',\n",
    "        scale=alt.Scale(range=[0, 2000]),\n",
    "        legend=alt.Legend(title='Frequency')\n",
    "    ),\n",
    "    \n",
    "    # Color the circles by object type\n",
    "    color=alt.Color('word:N', legend=None),\n",
    "    \n",
    "    # More details on hover\n",
    "    tooltip=[alt.Tooltip('word:N', title='Word'), alt.Tooltip('year:O', title='Year'), alt.Tooltip('count:Q', title='Frequency', format=',')]\n",
    ").properties(\n",
    "    width=700,\n",
    "    height=300\n",
    ")"
   ]
  },
  {
   "cell_type": "markdown",
   "metadata": {},
   "source": [
    "## Visualise word frequences by newspaper\n",
    "\n",
    "The file titles also include the id of the newspaper they were published in. For example, `18601224-13-5696044` was published in the newspaper with the id of `13`, which happenes to be *The Argus*."
   ]
  }
 ],
 "metadata": {
  "kernelspec": {
   "display_name": "Python 3",
   "language": "python",
   "name": "python3"
  },
  "language_info": {
   "codemirror_mode": {
    "name": "ipython",
    "version": 3
   },
   "file_extension": ".py",
   "mimetype": "text/x-python",
   "name": "python",
   "nbconvert_exporter": "python",
   "pygments_lexer": "ipython3",
   "version": "3.7.3"
  }
 },
 "nbformat": 4,
 "nbformat_minor": 4
}
