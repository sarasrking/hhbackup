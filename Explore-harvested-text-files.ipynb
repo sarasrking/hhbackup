{
 "cells": [
  {
   "cell_type": "markdown",
   "metadata": {},
   "source": [
    "# Explore harvested text files"
   ]
  },
  {
   "cell_type": "code",
   "execution_count": 1,
   "metadata": {},
   "outputs": [],
   "source": [
    "import os\n",
    "import pandas as pd\n",
    "import fileinput\n",
    "from sklearn.feature_extraction.text import TfidfVectorizer, CountVectorizer\n",
    "from textblob import TextBlob\n",
    "from operator import itemgetter\n",
    "from pathlib import Path\n",
    "import nltk\n",
    "import numpy as np\n",
    "import altair as alt\n",
    "\n",
    "# Are you using Jupyter Lab?\n",
    "# If so either don't run this cell or comment out the line below\n",
    "\n",
    "# alt.renderers.enable('notebook')\n",
    "\n",
    "# If you forget, run this cell, and then get strange warnings when you make a chart,\n",
    "# uncomment the following line and run this cell to reset the chart renderer\n",
    "\n",
    "# alt.renderers.enable('default')\n",
    "\n",
    "# alt.data_transformers.enable('json')\n",
    "#nltk.download('stopwords')\n",
    "#nltk.download('punkt')\n",
    "#stopwords = nltk.corpus.stopwords.words('english')"
   ]
  },
  {
   "cell_type": "code",
   "execution_count": 2,
   "metadata": {},
   "outputs": [
    {
     "name": "stdout",
     "output_type": "stream",
     "text": [
      "Unzipping data/1561782184.zip...\n",
      "Unzipping data/1565575636.zip...\n"
     ]
    }
   ],
   "source": [
    "# Import a harvest zip file you've created previously\n",
    "# First upload the zip file to the data directory, then run this cell\n",
    "import zipfile\n",
    "for zipped in sorted(Path('data').glob('*.zip')):\n",
    "    print(f'Unzipping {zipped}...')\n",
    "    with zipfile.ZipFile(zipped, 'r') as zip_file:\n",
    "        zip_file.extractall(Path(f'data/{zipped.stem}'))"
   ]
  },
  {
   "cell_type": "code",
   "execution_count": 2,
   "metadata": {},
   "outputs": [],
   "source": [
    "def get_latest_harvest():\n",
    "    '''\n",
    "    Get the timestamp of the most recent harvest.\n",
    "    '''\n",
    "    harvests = sorted([d for d in Path('data').iterdir() if d.is_dir() and not d.name.startswith('.')])\n",
    "    try:\n",
    "        harvest = harvests[-1]\n",
    "    except IndexError:\n",
    "        print('No harvests!')\n",
    "        harvest = None\n",
    "    return harvest"
   ]
  },
  {
   "cell_type": "code",
   "execution_count": 3,
   "metadata": {},
   "outputs": [],
   "source": [
    "def get_docs(harvest):\n",
    "    docs_path = get_docs_path(harvest)\n",
    "    for p in docs_path:\n",
    "        yield p.read_text(encoding='utf-8').strip()\n",
    "        \n",
    "def get_docs_path(harvest):\n",
    "    path = Path(f'{harvest}/text')\n",
    "    docs_path = [p for p in sorted(path.glob('*.txt'))]\n",
    "    return docs_path\n",
    "\n",
    "def get_file_names(harvest):\n",
    "    return [p.stem for p in get_docs_path(harvest)]"
   ]
  },
  {
   "cell_type": "code",
   "execution_count": 4,
   "metadata": {},
   "outputs": [],
   "source": [
    "harvest = get_latest_harvest()"
   ]
  },
  {
   "cell_type": "code",
   "execution_count": 5,
   "metadata": {},
   "outputs": [],
   "source": [
    "vectorizer = CountVectorizer(stop_words='english', max_features=10000, ngram_range=(1,1))\n",
    "# preprocessor = lambda x: re.sub(r'(\\d[\\d\\.])+', 'NUM', x.lower())\n",
    "X_freq = np.asarray(vectorizer.fit_transform(get_docs(harvest)).todense())\n",
    "df_freq = pd.DataFrame(X_freq, columns=vectorizer.get_feature_names(), index=get_file_names(harvest))"
   ]
  },
  {
   "cell_type": "code",
   "execution_count": 6,
   "metadata": {},
   "outputs": [
    {
     "data": {
      "text/plain": [
       "mr            18034\n",
       "tho           16051\n",
       "south          9526\n",
       "weather        6944\n",
       "new            6338\n",
       "day            5458\n",
       "rain           5066\n",
       "north          4990\n",
       "wragge         4715\n",
       "time           4673\n",
       "australia      4340\n",
       "great          4283\n",
       "tbe            4105\n",
       "queensland     3793\n",
       "years          3727\n",
       "brisbane       3550\n",
       "west           3525\n",
       "good           3391\n",
       "ing            3220\n",
       "man            3116\n",
       "dtype: int64"
      ]
     },
     "execution_count": 6,
     "metadata": {},
     "output_type": "execute_result"
    }
   ],
   "source": [
    "df_freq.sum().nlargest(20)"
   ]
  },
  {
   "cell_type": "code",
   "execution_count": 7,
   "metadata": {},
   "outputs": [
    {
     "data": {
      "text/html": [
       "<div>\n",
       "<style scoped>\n",
       "    .dataframe tbody tr th:only-of-type {\n",
       "        vertical-align: middle;\n",
       "    }\n",
       "\n",
       "    .dataframe tbody tr th {\n",
       "        vertical-align: top;\n",
       "    }\n",
       "\n",
       "    .dataframe thead th {\n",
       "        text-align: right;\n",
       "    }\n",
       "</style>\n",
       "<table border=\"1\" class=\"dataframe\">\n",
       "  <thead>\n",
       "    <tr style=\"text-align: right;\">\n",
       "      <th></th>\n",
       "      <th>0</th>\n",
       "      <th>1</th>\n",
       "      <th>2</th>\n",
       "      <th>3</th>\n",
       "      <th>4</th>\n",
       "      <th>5</th>\n",
       "      <th>6</th>\n",
       "      <th>7</th>\n",
       "      <th>8</th>\n",
       "      <th>9</th>\n",
       "      <th>10</th>\n",
       "      <th>11</th>\n",
       "      <th>12</th>\n",
       "      <th>13</th>\n",
       "      <th>14</th>\n",
       "      <th>15</th>\n",
       "      <th>16</th>\n",
       "      <th>17</th>\n",
       "      <th>18</th>\n",
       "      <th>19</th>\n",
       "    </tr>\n",
       "  </thead>\n",
       "  <tbody>\n",
       "    <tr>\n",
       "      <th>18601224-13-5696044</th>\n",
       "      <td>cases</td>\n",
       "      <td>case</td>\n",
       "      <td>casks</td>\n",
       "      <td>packages</td>\n",
       "      <td>tons</td>\n",
       "      <td>bags</td>\n",
       "      <td>brothers</td>\n",
       "      <td>22</td>\n",
       "      <td>bundles</td>\n",
       "      <td>bales</td>\n",
       "      <td>hardware</td>\n",
       "      <td>10</td>\n",
       "      <td>20</td>\n",
       "      <td>30</td>\n",
       "      <td>ship</td>\n",
       "      <td>boxes</td>\n",
       "      <td>barrels</td>\n",
       "      <td>kegs</td>\n",
       "      <td>dec</td>\n",
       "      <td>mrs</td>\n",
       "    </tr>\n",
       "    <tr>\n",
       "      <th>18620111-319-196391314</th>\n",
       "      <td>tons</td>\n",
       "      <td>agents</td>\n",
       "      <td>mr</td>\n",
       "      <td>passengers</td>\n",
       "      <td>mrs</td>\n",
       "      <td>agent</td>\n",
       "      <td>ult</td>\n",
       "      <td>ship</td>\n",
       "      <td>brig</td>\n",
       "      <td>captain</td>\n",
       "      <td>miss</td>\n",
       "      <td>newcastle</td>\n",
       "      <td>barque</td>\n",
       "      <td>january</td>\n",
       "      <td>new</td>\n",
       "      <td>otago</td>\n",
       "      <td>messrs</td>\n",
       "      <td>rev</td>\n",
       "      <td>white</td>\n",
       "      <td>ballast</td>\n",
       "    </tr>\n",
       "    <tr>\n",
       "      <th>18630905-319-197290261</th>\n",
       "      <td>tons</td>\n",
       "      <td>agents</td>\n",
       "      <td>passengers</td>\n",
       "      <td>mrs</td>\n",
       "      <td>mr</td>\n",
       "      <td>ship</td>\n",
       "      <td>cabin</td>\n",
       "      <td>miss</td>\n",
       "      <td>agent</td>\n",
       "      <td>ballast</td>\n",
       "      <td>steerage</td>\n",
       "      <td>messrs</td>\n",
       "      <td>schooner</td>\n",
       "      <td>white</td>\n",
       "      <td>barque</td>\n",
       "      <td>captain</td>\n",
       "      <td>june</td>\n",
       "      <td>september</td>\n",
       "      <td>brig</td>\n",
       "      <td>brothers</td>\n",
       "    </tr>\n",
       "    <tr>\n",
       "      <th>18640220-319-197293051</th>\n",
       "      <td>mr</td>\n",
       "      <td>tho</td>\n",
       "      <td>time</td>\n",
       "      <td>meeting</td>\n",
       "      <td>melbourne</td>\n",
       "      <td>bo</td>\n",
       "      <td>present</td>\n",
       "      <td>sir</td>\n",
       "      <td>having</td>\n",
       "      <td>act</td>\n",
       "      <td>appears</td>\n",
       "      <td>court</td>\n",
       "      <td>despatch</td>\n",
       "      <td>gallons</td>\n",
       "      <td>hughes</td>\n",
       "      <td>000</td>\n",
       "      <td>annum</td>\n",
       "      <td>majesty</td>\n",
       "      <td>received</td>\n",
       "      <td>county</td>\n",
       "    </tr>\n",
       "    <tr>\n",
       "      <th>18641115-809-155019508</th>\n",
       "      <td>tho</td>\n",
       "      <td>mr</td>\n",
       "      <td>aud</td>\n",
       "      <td>ho</td>\n",
       "      <td>defendant</td>\n",
       "      <td>having</td>\n",
       "      <td>case</td>\n",
       "      <td>committee</td>\n",
       "      <td>court</td>\n",
       "      <td>meeting</td>\n",
       "      <td>held</td>\n",
       "      <td>plaintiff</td>\n",
       "      <td>yesterday</td>\n",
       "      <td>bo</td>\n",
       "      <td>day</td>\n",
       "      <td>following</td>\n",
       "      <td>half</td>\n",
       "      <td>man</td>\n",
       "      <td>named</td>\n",
       "      <td>present</td>\n",
       "    </tr>\n",
       "  </tbody>\n",
       "</table>\n",
       "</div>"
      ],
      "text/plain": [
       "                           0       1           2           3          4   \\\n",
       "18601224-13-5696044     cases    case       casks    packages       tons   \n",
       "18620111-319-196391314   tons  agents          mr  passengers        mrs   \n",
       "18630905-319-197290261   tons  agents  passengers         mrs         mr   \n",
       "18640220-319-197293051     mr     tho        time     meeting  melbourne   \n",
       "18641115-809-155019508    tho      mr         aud          ho  defendant   \n",
       "\n",
       "                            5         6          7        8        9   \\\n",
       "18601224-13-5696044       bags  brothers         22  bundles    bales   \n",
       "18620111-319-196391314   agent       ult       ship     brig  captain   \n",
       "18630905-319-197290261    ship     cabin       miss    agent  ballast   \n",
       "18640220-319-197293051      bo   present        sir   having      act   \n",
       "18641115-809-155019508  having      case  committee    court  meeting   \n",
       "\n",
       "                              10         11         12       13      14  \\\n",
       "18601224-13-5696044     hardware         10         20       30    ship   \n",
       "18620111-319-196391314      miss  newcastle     barque  january     new   \n",
       "18630905-319-197290261  steerage     messrs   schooner    white  barque   \n",
       "18640220-319-197293051   appears      court   despatch  gallons  hughes   \n",
       "18641115-809-155019508      held  plaintiff  yesterday       bo     day   \n",
       "\n",
       "                               15       16         17        18        19  \n",
       "18601224-13-5696044         boxes  barrels       kegs       dec       mrs  \n",
       "18620111-319-196391314      otago   messrs        rev     white   ballast  \n",
       "18630905-319-197290261    captain     june  september      brig  brothers  \n",
       "18640220-319-197293051        000    annum    majesty  received    county  \n",
       "18641115-809-155019508  following     half        man     named   present  "
      ]
     },
     "execution_count": 7,
     "metadata": {},
     "output_type": "execute_result"
    }
   ],
   "source": [
    "# The number of words you want to show\n",
    "num_words = 20\n",
    "top_words = pd.DataFrame({n: df_freq.T[col].nlargest(num_words).index.tolist() for n, col in enumerate(df_freq.T)}).T\n",
    "top_words.index = get_file_names(harvest)\n",
    "top_words.head()"
   ]
  },
  {
   "cell_type": "markdown",
   "metadata": {},
   "source": [
    "## Add a 'year' column to the dataframe\n",
    "\n",
    "Each file name includes the date on which the article was published. For example, `18601224-13-5696044` was published on 24 December 1860. We can easily extract the year by just slicing the first four characters off the file name."
   ]
  },
  {
   "cell_type": "code",
   "execution_count": 8,
   "metadata": {},
   "outputs": [],
   "source": [
    "years = [int(p[:4]) for p in get_file_names(harvest)]\n",
    "df_freq_years = df_freq.assign(year=years)"
   ]
  },
  {
   "cell_type": "markdown",
   "metadata": {},
   "source": [
    "## Most frequent words each year"
   ]
  },
  {
   "cell_type": "code",
   "execution_count": 9,
   "metadata": {},
   "outputs": [
    {
     "data": {
      "text/html": [
       "<div>\n",
       "<style scoped>\n",
       "    .dataframe tbody tr th:only-of-type {\n",
       "        vertical-align: middle;\n",
       "    }\n",
       "\n",
       "    .dataframe tbody tr th {\n",
       "        vertical-align: top;\n",
       "    }\n",
       "\n",
       "    .dataframe thead th {\n",
       "        text-align: right;\n",
       "    }\n",
       "</style>\n",
       "<table border=\"1\" class=\"dataframe\">\n",
       "  <thead>\n",
       "    <tr style=\"text-align: right;\">\n",
       "      <th></th>\n",
       "      <th>0</th>\n",
       "      <th>1</th>\n",
       "      <th>2</th>\n",
       "      <th>3</th>\n",
       "      <th>4</th>\n",
       "      <th>5</th>\n",
       "      <th>6</th>\n",
       "      <th>7</th>\n",
       "      <th>8</th>\n",
       "      <th>9</th>\n",
       "    </tr>\n",
       "  </thead>\n",
       "  <tbody>\n",
       "    <tr>\n",
       "      <th>1860</th>\n",
       "      <td>cases</td>\n",
       "      <td>case</td>\n",
       "      <td>casks</td>\n",
       "      <td>packages</td>\n",
       "      <td>tons</td>\n",
       "      <td>bags</td>\n",
       "      <td>brothers</td>\n",
       "      <td>22</td>\n",
       "      <td>bundles</td>\n",
       "      <td>bales</td>\n",
       "    </tr>\n",
       "    <tr>\n",
       "      <th>1862</th>\n",
       "      <td>tons</td>\n",
       "      <td>agents</td>\n",
       "      <td>mr</td>\n",
       "      <td>passengers</td>\n",
       "      <td>mrs</td>\n",
       "      <td>agent</td>\n",
       "      <td>ult</td>\n",
       "      <td>ship</td>\n",
       "      <td>brig</td>\n",
       "      <td>captain</td>\n",
       "    </tr>\n",
       "    <tr>\n",
       "      <th>1863</th>\n",
       "      <td>tons</td>\n",
       "      <td>agents</td>\n",
       "      <td>passengers</td>\n",
       "      <td>mrs</td>\n",
       "      <td>mr</td>\n",
       "      <td>ship</td>\n",
       "      <td>cabin</td>\n",
       "      <td>miss</td>\n",
       "      <td>agent</td>\n",
       "      <td>ballast</td>\n",
       "    </tr>\n",
       "    <tr>\n",
       "      <th>1864</th>\n",
       "      <td>tho</td>\n",
       "      <td>mr</td>\n",
       "      <td>new</td>\n",
       "      <td>melbourne</td>\n",
       "      <td>000</td>\n",
       "      <td>total</td>\n",
       "      <td>having</td>\n",
       "      <td>south</td>\n",
       "      <td>time</td>\n",
       "      <td>great</td>\n",
       "    </tr>\n",
       "    <tr>\n",
       "      <th>1867</th>\n",
       "      <td>mr</td>\n",
       "      <td>duke</td>\n",
       "      <td>john</td>\n",
       "      <td>said</td>\n",
       "      <td>ing</td>\n",
       "      <td>smith</td>\n",
       "      <td>thomas</td>\n",
       "      <td>lord</td>\n",
       "      <td>melbourne</td>\n",
       "      <td>street</td>\n",
       "    </tr>\n",
       "  </tbody>\n",
       "</table>\n",
       "</div>"
      ],
      "text/plain": [
       "          0       1           2           3     4      5         6      7  \\\n",
       "1860  cases    case       casks    packages  tons   bags  brothers     22   \n",
       "1862   tons  agents          mr  passengers   mrs  agent       ult   ship   \n",
       "1863   tons  agents  passengers         mrs    mr   ship     cabin   miss   \n",
       "1864    tho      mr         new   melbourne   000  total    having  south   \n",
       "1867     mr    duke        john        said   ing  smith    thomas   lord   \n",
       "\n",
       "              8        9  \n",
       "1860    bundles    bales  \n",
       "1862       brig  captain  \n",
       "1863      agent  ballast  \n",
       "1864       time    great  \n",
       "1867  melbourne   street  "
      ]
     },
     "execution_count": 9,
     "metadata": {},
     "output_type": "execute_result"
    }
   ],
   "source": [
    "# Top words per year\n",
    "year_groups = df_freq_years.groupby(by='year')\n",
    "year_group_totals = year_groups.sum()\n",
    "df_years = pd.DataFrame({n: year_group_totals.T[col].nlargest(10).index.tolist() for n, col in enumerate(year_group_totals.T)}).T\n",
    "df_years.index = [name for name, _ in year_groups]\n",
    "df_years.head()"
   ]
  },
  {
   "cell_type": "markdown",
   "metadata": {},
   "source": [
    "## Visualise top ten words per year"
   ]
  },
  {
   "cell_type": "code",
   "execution_count": 41,
   "metadata": {},
   "outputs": [
    {
     "data": {
      "application/vnd.vegalite.v3+json": {
       "$schema": "https://vega.github.io/schema/vega-lite/v3.4.0.json",
       "config": {
        "mark": {
         "tooltip": null
        },
        "view": {
         "height": 300,
         "width": 400
        }
       },
       "data": {
        "name": "data-452986df88cf2313503d0ed7a0bf8697"
       },
       "datasets": {
        "data-003c1842f56e98d59c5a238eeaa5f0fd": [
         {
          "count": 1135,
          "word": "mr"
         },
         {
          "count": 971,
          "word": "tho"
         },
         {
          "count": 631,
          "word": "south"
         },
         {
          "count": 528,
          "word": "weather"
         },
         {
          "count": 487,
          "word": "new"
         },
         {
          "count": 403,
          "word": "day"
         },
         {
          "count": 356,
          "word": "tbe"
         },
         {
          "count": 348,
          "word": "great"
         },
         {
          "count": 335,
          "word": "wragge"
         },
         {
          "count": 310,
          "word": "australia"
         }
        ],
        "data-0050f798267b7f1c23aa51f88931963f": [
         {
          "count": 244,
          "word": "mr"
         },
         {
          "count": 216,
          "word": "weather"
         },
         {
          "count": 192,
          "word": "south"
         },
         {
          "count": 148,
          "word": "queensland"
         },
         {
          "count": 132,
          "word": "north"
         },
         {
          "count": 123,
          "word": "nbsp"
         },
         {
          "count": 104,
          "word": "west"
         },
         {
          "count": 103,
          "word": "australia"
         },
         {
          "count": 96,
          "word": "rain"
         },
         {
          "count": 94,
          "word": "tho"
         }
        ],
        "data-060fda3b493a88d27eed21ffb6dae29c": [
         {
          "count": 345,
          "word": "tho"
         },
         {
          "count": 192,
          "word": "mr"
         },
         {
          "count": 82,
          "word": "new"
         },
         {
          "count": 74,
          "word": "melbourne"
         },
         {
          "count": 53,
          "word": "000"
         },
         {
          "count": 53,
          "word": "total"
         },
         {
          "count": 49,
          "word": "having"
         },
         {
          "count": 48,
          "word": "south"
         },
         {
          "count": 47,
          "word": "time"
         },
         {
          "count": 44,
          "word": "great"
         }
        ],
        "data-076f52013e615ac326dceea8100dae7a": [
         {
          "count": 16,
          "word": "les"
         },
         {
          "count": 15,
          "word": "la"
         },
         {
          "count": 11,
          "word": "le"
         },
         {
          "count": 9,
          "word": "des"
         },
         {
          "count": 9,
          "word": "et"
         },
         {
          "count": 8,
          "word": "par"
         },
         {
          "count": 7,
          "word": "du"
         },
         {
          "count": 5,
          "word": "en"
         },
         {
          "count": 5,
          "word": "pour"
         },
         {
          "count": 4,
          "word": "cyclones"
         }
        ],
        "data-07b6e9cda9c4271548eba5883c0e46ad": [
         {
          "count": 19,
          "word": "weather"
         },
         {
          "count": 13,
          "word": "bureau"
         },
         {
          "count": 7,
          "word": "cyclones"
         },
         {
          "count": 6,
          "word": "introduction"
         },
         {
          "count": 6,
          "word": "queensland"
         },
         {
          "count": 5,
          "word": "names"
         },
         {
          "count": 4,
          "word": "cyclone"
         },
         {
          "count": 4,
          "word": "government"
         },
         {
          "count": 4,
          "word": "guns"
         },
         {
          "count": 4,
          "word": "meteorological"
         }
        ],
        "data-0a13c97c89ef170659bb1a2dead2df88": [
         {
          "count": 27,
          "word": "years"
         },
         {
          "count": 23,
          "word": "tho"
         },
         {
          "count": 22,
          "word": "rain"
         },
         {
          "count": 20,
          "word": "charlie"
         },
         {
          "count": 16,
          "word": "children"
         },
         {
          "count": 16,
          "word": "make"
         },
         {
          "count": 15,
          "word": "ing"
         },
         {
          "count": 15,
          "word": "old"
         },
         {
          "count": 14,
          "word": "day"
         },
         {
          "count": 14,
          "word": "names"
         }
        ],
        "data-0d97561edbe1a54281399610ca68fa67": [
         {
          "count": 27,
          "word": "mr"
         },
         {
          "count": 19,
          "word": "day"
         },
         {
          "count": 19,
          "word": "south"
         },
         {
          "count": 18,
          "word": "constable"
         },
         {
          "count": 18,
          "word": "police"
         },
         {
          "count": 16,
          "word": "said"
         },
         {
          "count": 15,
          "word": "man"
         },
         {
          "count": 15,
          "word": "new"
         },
         {
          "count": 15,
          "word": "state"
         },
         {
          "count": 15,
          "word": "station"
         }
        ],
        "data-0e1f543100f7c6394f0c2fe9bcd2307f": [
         {
          "count": 157,
          "word": "mr"
         },
         {
          "count": 139,
          "word": "sun"
         },
         {
          "count": 133,
          "word": "tho"
         },
         {
          "count": 116,
          "word": "house"
         },
         {
          "count": 96,
          "word": "days"
         },
         {
          "count": 95,
          "word": "earth"
         },
         {
          "count": 76,
          "word": "years"
         },
         {
          "count": 74,
          "word": "north"
         },
         {
          "count": 73,
          "word": "new"
         },
         {
          "count": 72,
          "word": "said"
         }
        ],
        "data-0e8315fcf08db007549c7b3f4b35e16e": [
         {
          "count": 412,
          "word": "tho"
         },
         {
          "count": 273,
          "word": "mr"
         },
         {
          "count": 168,
          "word": "south"
         },
         {
          "count": 144,
          "word": "new"
         },
         {
          "count": 122,
          "word": "day"
         },
         {
          "count": 115,
          "word": "great"
         },
         {
          "count": 108,
          "word": "weather"
         },
         {
          "count": 93,
          "word": "north"
         },
         {
          "count": 91,
          "word": "sea"
         },
         {
          "count": 86,
          "word": "australia"
         }
        ],
        "data-108029f983f62cf31c21020fe7fb44f3": [
         {
          "count": 11,
          "word": "winter"
         },
         {
          "count": 8,
          "word": "mr"
         },
         {
          "count": 8,
          "word": "sun"
         },
         {
          "count": 7,
          "word": "day"
         },
         {
          "count": 7,
          "word": "kosciusko"
         },
         {
          "count": 7,
          "word": "snow"
         },
         {
          "count": 6,
          "word": "clouds"
         },
         {
          "count": 6,
          "word": "wragge"
         },
         {
          "count": 5,
          "word": "fog"
         },
         {
          "count": 5,
          "word": "hour"
         }
        ],
        "data-1b905d0cfc6107e74e2d77051af70927": [
         {
          "count": 68,
          "word": "rain"
         },
         {
          "count": 45,
          "word": "points"
         },
         {
          "count": 27,
          "word": "weather"
         },
         {
          "count": 25,
          "word": "storm"
         },
         {
          "count": 24,
          "word": "district"
         },
         {
          "count": 22,
          "word": "air"
         },
         {
          "count": 21,
          "word": "night"
         },
         {
          "count": 21,
          "word": "storms"
         },
         {
          "count": 20,
          "word": "60"
         },
         {
          "count": 20,
          "word": "years"
         }
        ],
        "data-1fe7883faeeb6b11cbdb1bc2ee6c112b": [
         {
          "count": 13,
          "word": "mr"
         },
         {
          "count": 7,
          "word": "time"
         },
         {
          "count": 7,
          "word": "train"
         },
         {
          "count": 6,
          "word": "10"
         },
         {
          "count": 6,
          "word": "night"
         },
         {
          "count": 5,
          "word": "big"
         },
         {
          "count": 5,
          "word": "day"
         },
         {
          "count": 5,
          "word": "meeting"
         },
         {
          "count": 4,
          "word": "bank"
         },
         {
          "count": 4,
          "word": "charge"
         }
        ],
        "data-20cdc8938c6679fa96b78cc0d2ffc527": [
         {
          "count": 34,
          "word": "mr"
         },
         {
          "count": 18,
          "word": "years"
         },
         {
          "count": 16,
          "word": "tho"
         },
         {
          "count": 16,
          "word": "time"
         },
         {
          "count": 16,
          "word": "wragge"
         },
         {
          "count": 15,
          "word": "day"
         },
         {
          "count": 14,
          "word": "mrs"
         },
         {
          "count": 13,
          "word": "fremantle"
         },
         {
          "count": 12,
          "word": "old"
         },
         {
          "count": 12,
          "word": "said"
         }
        ],
        "data-211e9ef93e446c62e117bd4e8ef67c76": [
         {
          "count": 159,
          "word": "tte"
         },
         {
          "count": 81,
          "word": "tbe"
         },
         {
          "count": 53,
          "word": "south"
         },
         {
          "count": 41,
          "word": "east"
         },
         {
          "count": 31,
          "word": "coast"
         },
         {
          "count": 31,
          "word": "north"
         },
         {
          "count": 28,
          "word": "mr"
         },
         {
          "count": 24,
          "word": "area"
         },
         {
          "count": 24,
          "word": "west"
         },
         {
          "count": 21,
          "word": "centre"
         }
        ],
        "data-217ce60b35644a17768d2875b49f710d": [
         {
          "count": 23,
          "word": "wragge"
         },
         {
          "count": 20,
          "word": "summit"
         },
         {
          "count": 17,
          "word": "snow"
         },
         {
          "count": 14,
          "word": "wind"
         },
         {
          "count": 12,
          "word": "cyclone"
         },
         {
          "count": 11,
          "word": "day"
         },
         {
          "count": 11,
          "word": "feet"
         },
         {
          "count": 11,
          "word": "great"
         },
         {
          "count": 10,
          "word": "ing"
         },
         {
          "count": 10,
          "word": "took"
         }
        ],
        "data-2997babc9b9db0758c35f19ad998dc68": [
         {
          "count": 75,
          "word": "mr"
         },
         {
          "count": 57,
          "word": "drought"
         },
         {
          "count": 50,
          "word": "rain"
         },
         {
          "count": 50,
          "word": "tho"
         },
         {
          "count": 49,
          "word": "time"
         },
         {
          "count": 47,
          "word": "weather"
         },
         {
          "count": 40,
          "word": "good"
         },
         {
          "count": 36,
          "word": "seasons"
         },
         {
          "count": 35,
          "word": "said"
         },
         {
          "count": 35,
          "word": "south"
         }
        ],
        "data-34bfc903519321c8e6af1a5730d89452": [
         {
          "count": 1375,
          "word": "mr"
         },
         {
          "count": 1321,
          "word": "tho"
         },
         {
          "count": 610,
          "word": "south"
         },
         {
          "count": 505,
          "word": "rain"
         },
         {
          "count": 496,
          "word": "new"
         },
         {
          "count": 458,
          "word": "weather"
         },
         {
          "count": 457,
          "word": "day"
         },
         {
          "count": 424,
          "word": "wragge"
         },
         {
          "count": 369,
          "word": "great"
         },
         {
          "count": 347,
          "word": "time"
         }
        ],
        "data-35b7b0180f6e7a8e71c898df12f105ac": [
         {
          "count": 64,
          "word": "tho"
         },
         {
          "count": 46,
          "word": "sea"
         },
         {
          "count": 41,
          "word": "ship"
         },
         {
          "count": 31,
          "word": "ot"
         },
         {
          "count": 31,
          "word": "time"
         },
         {
          "count": 29,
          "word": "water"
         },
         {
          "count": 25,
          "word": "engineer"
         },
         {
          "count": 24,
          "word": "coal"
         },
         {
          "count": 23,
          "word": "hour"
         },
         {
          "count": 23,
          "word": "old"
         }
        ],
        "data-3bc4a7def7712892ef2a5e74a39fafb8": [
         {
          "count": 134,
          "word": "mr"
         },
         {
          "count": 95,
          "word": "weather"
         },
         {
          "count": 76,
          "word": "air"
         },
         {
          "count": 66,
          "word": "day"
         },
         {
          "count": 48,
          "word": "melbourne"
         },
         {
          "count": 38,
          "word": "war"
         },
         {
          "count": 36,
          "word": "hobart"
         },
         {
          "count": 36,
          "word": "island"
         },
         {
          "count": 33,
          "word": "tlie"
         },
         {
          "count": 32,
          "word": "smithton"
         }
        ],
        "data-3c8c8eea8602d6b1584e1fe50e65c41e": [
         {
          "count": 30,
          "word": "tho"
         },
         {
          "count": 27,
          "word": "mr"
         },
         {
          "count": 18,
          "word": "years"
         },
         {
          "count": 15,
          "word": "australia"
         },
         {
          "count": 12,
          "word": "rain"
         },
         {
          "count": 9,
          "word": "drought"
         },
         {
          "count": 9,
          "word": "dry"
         },
         {
          "count": 9,
          "word": "south"
         },
         {
          "count": 8,
          "word": "southern"
         },
         {
          "count": 8,
          "word": "sun"
         }
        ],
        "data-452986df88cf2313503d0ed7a0bf8697": [
         {
          "count": 104,
          "word": "cases"
         },
         {
          "count": 57,
          "word": "case"
         },
         {
          "count": 34,
          "word": "casks"
         },
         {
          "count": 32,
          "word": "packages"
         },
         {
          "count": 25,
          "word": "tons"
         },
         {
          "count": 24,
          "word": "bags"
         },
         {
          "count": 21,
          "word": "brothers"
         },
         {
          "count": 20,
          "word": "22"
         },
         {
          "count": 18,
          "word": "bundles"
         },
         {
          "count": 17,
          "word": "bales"
         }
        ],
        "data-474c3e6d04e2e15f81ae83683cf9dbde": [
         {
          "count": 12,
          "word": "weather"
         },
         {
          "count": 11,
          "word": "jones"
         },
         {
          "count": 10,
          "word": "inigo"
         },
         {
          "count": 9,
          "word": "long"
         },
         {
          "count": 9,
          "word": "range"
         },
         {
          "count": 8,
          "word": "scientists"
         },
         {
          "count": 7,
          "word": "forecasting"
         },
         {
          "count": 7,
          "word": "mr"
         },
         {
          "count": 7,
          "word": "seasonal"
         },
         {
          "count": 6,
          "word": "orthodox"
         }
        ],
        "data-4b90887488a5391e68bc4673e7efe151": [
         {
          "count": 15,
          "word": "tho"
         },
         {
          "count": 10,
          "word": "inst"
         },
         {
          "count": 10,
          "word": "melbourne"
         },
         {
          "count": 9,
          "word": "tons"
         },
         {
          "count": 8,
          "word": "ports"
         },
         {
          "count": 6,
          "word": "barque"
         },
         {
          "count": 6,
          "word": "early"
         },
         {
          "count": 6,
          "word": "lt"
         },
         {
          "count": 6,
          "word": "port"
         },
         {
          "count": 5,
          "word": "morning"
         }
        ],
        "data-4c608207f77403d047817bf95dbd865d": [
         {
          "count": 636,
          "word": "tho"
         },
         {
          "count": 563,
          "word": "mr"
         },
         {
          "count": 386,
          "word": "south"
         },
         {
          "count": 280,
          "word": "day"
         },
         {
          "count": 277,
          "word": "rain"
         },
         {
          "count": 263,
          "word": "north"
         },
         {
          "count": 244,
          "word": "weather"
         },
         {
          "count": 237,
          "word": "brisbane"
         },
         {
          "count": 213,
          "word": "water"
         },
         {
          "count": 211,
          "word": "river"
         }
        ],
        "data-503f6bfae5ff5688fab978f523f129f8": [
         {
          "count": 12,
          "word": "1903"
         },
         {
          "count": 11,
          "word": "rain"
         },
         {
          "count": 10,
          "word": "years"
         },
         {
          "count": 8,
          "word": "1897"
         },
         {
          "count": 8,
          "word": "cairns"
         },
         {
          "count": 7,
          "word": "1896"
         },
         {
          "count": 7,
          "word": "great"
         },
         {
          "count": 7,
          "word": "new"
         },
         {
          "count": 7,
          "word": "south"
         },
         {
          "count": 7,
          "word": "sugar"
         }
        ],
        "data-5481fc7166c7bd32cc832793f55d0db5": [
         {
          "count": 689,
          "word": "mr"
         },
         {
          "count": 566,
          "word": "tho"
         },
         {
          "count": 476,
          "word": "south"
         },
         {
          "count": 348,
          "word": "new"
         },
         {
          "count": 280,
          "word": "tbe"
         },
         {
          "count": 269,
          "word": "weather"
         },
         {
          "count": 236,
          "word": "wragge"
         },
         {
          "count": 222,
          "word": "day"
         },
         {
          "count": 176,
          "word": "time"
         },
         {
          "count": 174,
          "word": "north"
         }
        ],
        "data-565bee0e0c9c3e859fb7ab0304ee8dc4": [
         {
          "count": 8,
          "word": "fleet"
         },
         {
          "count": 8,
          "word": "south"
         },
         {
          "count": 7,
          "word": "cape"
         },
         {
          "count": 7,
          "word": "coast"
         },
         {
          "count": 5,
          "word": "island"
         },
         {
          "count": 5,
          "word": "melville"
         },
         {
          "count": 5,
          "word": "pearling"
         },
         {
          "count": 5,
          "word": "sea"
         },
         {
          "count": 5,
          "word": "willis"
         },
         {
          "count": 4,
          "word": "direction"
         }
        ],
        "data-56c0204e8840d51a88515e3fa3d106ad": [
         {
          "count": 46,
          "word": "tons"
         },
         {
          "count": 33,
          "word": "agents"
         },
         {
          "count": 27,
          "word": "passengers"
         },
         {
          "count": 22,
          "word": "mrs"
         },
         {
          "count": 15,
          "word": "mr"
         },
         {
          "count": 15,
          "word": "ship"
         },
         {
          "count": 13,
          "word": "cabin"
         },
         {
          "count": 13,
          "word": "miss"
         },
         {
          "count": 11,
          "word": "agent"
         },
         {
          "count": 11,
          "word": "ballast"
         }
        ],
        "data-58e49862782b462f41f0a3be8df80699": [
         {
          "count": 887,
          "word": "south"
         },
         {
          "count": 868,
          "word": "tho"
         },
         {
          "count": 746,
          "word": "mr"
         },
         {
          "count": 471,
          "word": "new"
         },
         {
          "count": 425,
          "word": "weather"
         },
         {
          "count": 377,
          "word": "north"
         },
         {
          "count": 309,
          "word": "australia"
         },
         {
          "count": 306,
          "word": "west"
         },
         {
          "count": 265,
          "word": "rain"
         },
         {
          "count": 259,
          "word": "queensland"
         }
        ],
        "data-66f06e1a93c4e0590e8612c540dced7b": [
         {
          "count": 577,
          "word": "tho"
         },
         {
          "count": 502,
          "word": "mr"
         },
         {
          "count": 348,
          "word": "south"
         },
         {
          "count": 247,
          "word": "weather"
         },
         {
          "count": 217,
          "word": "new"
         },
         {
          "count": 162,
          "word": "wragge"
         },
         {
          "count": 158,
          "word": "north"
         },
         {
          "count": 145,
          "word": "australia"
         },
         {
          "count": 129,
          "word": "day"
         },
         {
          "count": 123,
          "word": "queensland"
         }
        ],
        "data-6a74d47f90fda5b97d5dc199b247260f": [
         {
          "count": 284,
          "word": "mr"
         },
         {
          "count": 139,
          "word": "wragge"
         },
         {
          "count": 118,
          "word": "australia"
         },
         {
          "count": 110,
          "word": "weather"
         },
         {
          "count": 102,
          "word": "tho"
         },
         {
          "count": 92,
          "word": "time"
         },
         {
          "count": 90,
          "word": "great"
         },
         {
          "count": 78,
          "word": "man"
         },
         {
          "count": 73,
          "word": "day"
         },
         {
          "count": 71,
          "word": "years"
         }
        ],
        "data-7003330022dc7a388886046c2a396941": [
         {
          "count": 743,
          "word": "mr"
         },
         {
          "count": 665,
          "word": "tho"
         },
         {
          "count": 310,
          "word": "weather"
         },
         {
          "count": 215,
          "word": "south"
         },
         {
          "count": 178,
          "word": "new"
         },
         {
          "count": 172,
          "word": "tbe"
         },
         {
          "count": 158,
          "word": "wragge"
         },
         {
          "count": 155,
          "word": "queensland"
         },
         {
          "count": 151,
          "word": "time"
         },
         {
          "count": 149,
          "word": "brisbane"
         }
        ],
        "data-73ad259e5087790aa75991be8c38af81": [
         {
          "count": 94,
          "word": "mr"
         },
         {
          "count": 27,
          "word": "said"
         },
         {
          "count": 25,
          "word": "meyer"
         },
         {
          "count": 25,
          "word": "tho"
         },
         {
          "count": 14,
          "word": "river"
         },
         {
          "count": 14,
          "word": "southport"
         },
         {
          "count": 13,
          "word": "beach"
         },
         {
          "count": 13,
          "word": "north"
         },
         {
          "count": 13,
          "word": "time"
         },
         {
          "count": 11,
          "word": "man"
         }
        ],
        "data-758f5967a81fe339329b0851749500be": [
         {
          "count": 1040,
          "word": "mr"
         },
         {
          "count": 851,
          "word": "tho"
         },
         {
          "count": 839,
          "word": "south"
         },
         {
          "count": 525,
          "word": "new"
         },
         {
          "count": 505,
          "word": "weather"
         },
         {
          "count": 408,
          "word": "north"
         },
         {
          "count": 387,
          "word": "rain"
         },
         {
          "count": 359,
          "word": "day"
         },
         {
          "count": 330,
          "word": "west"
         },
         {
          "count": 289,
          "word": "queensland"
         }
        ],
        "data-7c866a26541e47f7bd2f6ddf2b47046d": [
         {
          "count": 737,
          "word": "south"
         },
         {
          "count": 703,
          "word": "mr"
         },
         {
          "count": 692,
          "word": "tho"
         },
         {
          "count": 527,
          "word": "tbe"
         },
         {
          "count": 485,
          "word": "north"
         },
         {
          "count": 342,
          "word": "rain"
         },
         {
          "count": 321,
          "word": "queensland"
         },
         {
          "count": 314,
          "word": "west"
         },
         {
          "count": 305,
          "word": "day"
         },
         {
          "count": 304,
          "word": "winds"
         }
        ],
        "data-7d42a2cff490f14185696183603f5c82": [
         {
          "count": 43,
          "word": "tho"
         },
         {
          "count": 22,
          "word": "colonies"
         },
         {
          "count": 19,
          "word": "mr"
         },
         {
          "count": 14,
          "word": "nbsp"
         },
         {
          "count": 12,
          "word": "city"
         },
         {
          "count": 12,
          "word": "good"
         },
         {
          "count": 11,
          "word": "british"
         },
         {
          "count": 10,
          "word": "vessels"
         },
         {
          "count": 10,
          "word": "war"
         },
         {
          "count": 10,
          "word": "yesterday"
         }
        ],
        "data-7edb25f9f4e6616e48e89e1a9aec1476": [
         {
          "count": 33,
          "word": "rain"
         },
         {
          "count": 26,
          "word": "years"
         },
         {
          "count": 25,
          "word": "month"
         },
         {
          "count": 23,
          "word": "tho"
         },
         {
          "count": 20,
          "word": "mr"
         },
         {
          "count": 20,
          "word": "new"
         },
         {
          "count": 18,
          "word": "good"
         },
         {
          "count": 18,
          "word": "max"
         },
         {
          "count": 17,
          "word": "season"
         },
         {
          "count": 16,
          "word": "end"
         }
        ],
        "data-81ea08824fbdbba676f0dfb98ab2c244": [
         {
          "count": 24,
          "word": "mr"
         },
         {
          "count": 11,
          "word": "duke"
         },
         {
          "count": 10,
          "word": "john"
         },
         {
          "count": 10,
          "word": "said"
         },
         {
          "count": 7,
          "word": "ing"
         },
         {
          "count": 7,
          "word": "smith"
         },
         {
          "count": 7,
          "word": "thomas"
         },
         {
          "count": 6,
          "word": "lord"
         },
         {
          "count": 6,
          "word": "melbourne"
         },
         {
          "count": 6,
          "word": "street"
         }
        ],
        "data-82c91bdab9e8920ae22346357d548fc9": [
         {
          "count": 6,
          "word": "darwin"
         },
         {
          "count": 6,
          "word": "department"
         },
         {
          "count": 6,
          "word": "people"
         },
         {
          "count": 5,
          "word": "cyclone"
         },
         {
          "count": 5,
          "word": "just"
         },
         {
          "count": 5,
          "word": "long"
         },
         {
          "count": 5,
          "word": "told"
         },
         {
          "count": 5,
          "word": "way"
         },
         {
          "count": 4,
          "word": "did"
         },
         {
          "count": 4,
          "word": "federal"
         }
        ],
        "data-88df8f25bc4985af2318de646ab59d64": [
         {
          "count": 4,
          "word": "australia"
         },
         {
          "count": 3,
          "word": "great"
         },
         {
          "count": 3,
          "word": "observatories"
         },
         {
          "count": 3,
          "word": "ot"
         },
         {
          "count": 3,
          "word": "world"
         },
         {
          "count": 2,
          "word": "000ft"
         },
         {
          "count": 2,
          "word": "10"
         },
         {
          "count": 2,
          "word": "cloud"
         },
         {
          "count": 2,
          "word": "expected"
         },
         {
          "count": 2,
          "word": "inch"
         }
        ],
        "data-8b1e1aa5750d85479baf6ed144068308": [
         {
          "count": 45,
          "word": "mrs"
         },
         {
          "count": 24,
          "word": "members"
         },
         {
          "count": 17,
          "word": "meeting"
         },
         {
          "count": 16,
          "word": "march"
         },
         {
          "count": 14,
          "word": "held"
         },
         {
          "count": 14,
          "word": "mesdames"
         },
         {
          "count": 11,
          "word": "president"
         },
         {
          "count": 10,
          "word": "afternoon"
         },
         {
          "count": 10,
          "word": "birthday"
         },
         {
          "count": 10,
          "word": "tea"
         }
        ],
        "data-8dfa66b55ab2f81caf9433b461044610": [
         {
          "count": 181,
          "word": "dec"
         },
         {
          "count": 177,
          "word": "aus"
         },
         {
          "count": 136,
          "word": "derby"
         },
         {
          "count": 128,
          "word": "mr"
         },
         {
          "count": 126,
          "word": "left"
         },
         {
          "count": 117,
          "word": "brisbane"
         },
         {
          "count": 99,
          "word": "race"
         },
         {
          "count": 92,
          "word": "won"
         },
         {
          "count": 79,
          "word": "melbourne"
         },
         {
          "count": 78,
          "word": "royal"
         }
        ],
        "data-9066144bbf305c878ce3c57b66e683c2": [
         {
          "count": 103,
          "word": "ditto"
         },
         {
          "count": 89,
          "word": "mr"
         },
         {
          "count": 64,
          "word": "april"
         },
         {
          "count": 40,
          "word": "tons"
         },
         {
          "count": 38,
          "word": "melbourne"
         },
         {
          "count": 35,
          "word": "mrs"
         },
         {
          "count": 28,
          "word": "steamer"
         },
         {
          "count": 23,
          "word": "saturday"
         },
         {
          "count": 21,
          "word": "arrived"
         },
         {
          "count": 21,
          "word": "tho"
         }
        ],
        "data-9119c0820b8afe1514282beb64fa7cc5": [
         {
          "count": 347,
          "word": "mr"
         },
         {
          "count": 230,
          "word": "tho"
         },
         {
          "count": 127,
          "word": "south"
         },
         {
          "count": 107,
          "word": "high"
         },
         {
          "count": 101,
          "word": "great"
         },
         {
          "count": 100,
          "word": "men"
         },
         {
          "count": 99,
          "word": "weather"
         },
         {
          "count": 99,
          "word": "work"
         },
         {
          "count": 92,
          "word": "air"
         },
         {
          "count": 90,
          "word": "adelaide"
         }
        ],
        "data-955f9c4888f0d4b5a0dad10e68dc7a6e": [
         {
          "count": 534,
          "word": "cs"
         },
         {
          "count": 282,
          "word": "bgs"
         },
         {
          "count": 181,
          "word": "shippers"
         },
         {
          "count": 129,
          "word": "tons"
         },
         {
          "count": 116,
          "word": "beef"
         },
         {
          "count": 106,
          "word": "flour"
         },
         {
          "count": 89,
          "word": "sundry"
         },
         {
          "count": 87,
          "word": "bis"
         },
         {
          "count": 75,
          "word": "sailed"
         },
         {
          "count": 73,
          "word": "agents"
         }
        ],
        "data-97122cf35ff0883a888ab588bd955ffc": [
         {
          "count": 62,
          "word": "tho"
         },
         {
          "count": 17,
          "word": "mr"
         },
         {
          "count": 11,
          "word": "weather"
         },
         {
          "count": 8,
          "word": "shop"
         },
         {
          "count": 7,
          "word": "air"
         },
         {
          "count": 6,
          "word": "dry"
         },
         {
          "count": 6,
          "word": "north"
         },
         {
          "count": 6,
          "word": "street"
         },
         {
          "count": 6,
          "word": "torn"
         },
         {
          "count": 6,
          "word": "wind"
         }
        ],
        "data-97605fe9c49191b04331f1c73d74c254": [
         {
          "count": 259,
          "word": "mr"
         },
         {
          "count": 173,
          "word": "tho"
         },
         {
          "count": 74,
          "word": "weather"
         },
         {
          "count": 67,
          "word": "day"
         },
         {
          "count": 67,
          "word": "time"
         },
         {
          "count": 61,
          "word": "work"
         },
         {
          "count": 60,
          "word": "south"
         },
         {
          "count": 58,
          "word": "said"
         },
         {
          "count": 55,
          "word": "wragge"
         },
         {
          "count": 50,
          "word": "australia"
         }
        ],
        "data-9c6d462362af7ad53f380aa60f006073": [
         {
          "count": 221,
          "word": "mr"
         },
         {
          "count": 182,
          "word": "sun"
         },
         {
          "count": 159,
          "word": "feet"
         },
         {
          "count": 155,
          "word": "south"
         },
         {
          "count": 129,
          "word": "weather"
         },
         {
          "count": 125,
          "word": "pressure"
         },
         {
          "count": 112,
          "word": "wragge"
         },
         {
          "count": 109,
          "word": "great"
         },
         {
          "count": 109,
          "word": "temperature"
         },
         {
          "count": 97,
          "word": "nbsp"
         }
        ],
        "data-a088cbe06093f0d2709bab2ee4be478e": [
         {
          "count": 216,
          "word": "tho"
         },
         {
          "count": 172,
          "word": "mr"
         },
         {
          "count": 40,
          "word": "meeting"
         },
         {
          "count": 31,
          "word": "bo"
         },
         {
          "count": 29,
          "word": "committee"
         },
         {
          "count": 26,
          "word": "government"
         },
         {
          "count": 25,
          "word": "held"
         },
         {
          "count": 25,
          "word": "present"
         },
         {
          "count": 24,
          "word": "new"
         },
         {
          "count": 21,
          "word": "melbourne"
         }
        ],
        "data-a31bd40de9c11ed44c087302b8ae0045": [
         {
          "count": 20,
          "word": "weather"
         },
         {
          "count": 19,
          "word": "sun"
         },
         {
          "count": 13,
          "word": "years"
         },
         {
          "count": 11,
          "word": "jones"
         },
         {
          "count": 9,
          "word": "earth"
         },
         {
          "count": 9,
          "word": "inigo"
         },
         {
          "count": 8,
          "word": "spots"
         },
         {
          "count": 7,
          "word": "energy"
         },
         {
          "count": 7,
          "word": "solar"
         },
         {
          "count": 6,
          "word": "crohamhurst"
         }
        ],
        "data-aa67e2ea0410264ba80dca667b464d1e": [
         {
          "count": 80,
          "word": "mr"
         },
         {
          "count": 26,
          "word": "jones"
         },
         {
          "count": 20,
          "word": "brisbane"
         },
         {
          "count": 17,
          "word": "queensland"
         },
         {
          "count": 15,
          "word": "messrs"
         },
         {
          "count": 13,
          "word": "court"
         },
         {
          "count": 13,
          "word": "inigo"
         },
         {
          "count": 13,
          "word": "man"
         },
         {
          "count": 13,
          "word": "street"
         },
         {
          "count": 13,
          "word": "weather"
         }
        ],
        "data-ab6b1da55ee8a08ac8c182a2a1ce9a1a": [
         {
          "count": 38,
          "word": "nbsp"
         },
         {
          "count": 38,
          "word": "sun"
         },
         {
          "count": 25,
          "word": "mr"
         },
         {
          "count": 21,
          "word": "earth"
         },
         {
          "count": 18,
          "word": "years"
         },
         {
          "count": 14,
          "word": "great"
         },
         {
          "count": 13,
          "word": "good"
         },
         {
          "count": 12,
          "word": "miles"
         },
         {
          "count": 12,
          "word": "seasons"
         },
         {
          "count": 11,
          "word": "tho"
         }
        ],
        "data-b1970673e09897bd9e6d8d9ec0fc4d44": [
         {
          "count": 71,
          "word": "tho"
         },
         {
          "count": 54,
          "word": "mr"
         },
         {
          "count": 46,
          "word": "th"
         },
         {
          "count": 31,
          "word": "weather"
         },
         {
          "count": 22,
          "word": "rains"
         },
         {
          "count": 21,
          "word": "mrs"
         },
         {
          "count": 20,
          "word": "rain"
         },
         {
          "count": 19,
          "word": "years"
         },
         {
          "count": 18,
          "word": "sunspot"
         },
         {
          "count": 17,
          "word": "jones"
         }
        ],
        "data-b5586f105833d47f418c96870cc17428": [
         {
          "count": 342,
          "word": "tho"
         },
         {
          "count": 286,
          "word": "mr"
         },
         {
          "count": 146,
          "word": "sun"
         },
         {
          "count": 118,
          "word": "years"
         },
         {
          "count": 101,
          "word": "wragge"
         },
         {
          "count": 84,
          "word": "said"
         },
         {
          "count": 79,
          "word": "earth"
         },
         {
          "count": 73,
          "word": "000"
         },
         {
          "count": 69,
          "word": "great"
         },
         {
          "count": 69,
          "word": "weather"
         }
        ],
        "data-b65eb8e53b6ca89d796732b58006c311": [
         {
          "count": 372,
          "word": "tho"
         },
         {
          "count": 91,
          "word": "mr"
         },
         {
          "count": 78,
          "word": "gd"
         },
         {
          "count": 73,
          "word": "london"
         },
         {
          "count": 66,
          "word": "aro"
         },
         {
          "count": 64,
          "word": "market"
         },
         {
          "count": 63,
          "word": "10s"
         },
         {
          "count": 58,
          "word": "new"
         },
         {
          "count": 58,
          "word": "od"
         },
         {
          "count": 55,
          "word": "havo"
         }
        ],
        "data-b72b162892a34f5a3a5e11c5cd43eace": [
         {
          "count": 84,
          "word": "mr"
         },
         {
          "count": 63,
          "word": "cyclone"
         },
         {
          "count": 49,
          "word": "north"
         },
         {
          "count": 48,
          "word": "damage"
         },
         {
          "count": 47,
          "word": "townsville"
         },
         {
          "count": 42,
          "word": "day"
         },
         {
          "count": 41,
          "word": "weather"
         },
         {
          "count": 40,
          "word": "years"
         },
         {
          "count": 37,
          "word": "heavy"
         },
         {
          "count": 36,
          "word": "jones"
         }
        ],
        "data-ba7e701bf811ba0db354b0f751f1c1c6": [
         {
          "count": 220,
          "word": "sun"
         },
         {
          "count": 210,
          "word": "mr"
         },
         {
          "count": 138,
          "word": "tho"
         },
         {
          "count": 115,
          "word": "new"
         },
         {
          "count": 111,
          "word": "good"
         },
         {
          "count": 108,
          "word": "wragge"
         },
         {
          "count": 106,
          "word": "australia"
         },
         {
          "count": 101,
          "word": "time"
         },
         {
          "count": 98,
          "word": "energy"
         },
         {
          "count": 83,
          "word": "rain"
         }
        ],
        "data-c22f4dde5f1a88b4503e07753d1764ee": [
         {
          "count": 62,
          "word": "mr"
         },
         {
          "count": 47,
          "word": "tho"
         },
         {
          "count": 29,
          "word": "rev"
         },
         {
          "count": 15,
          "word": "st"
         },
         {
          "count": 14,
          "word": "house"
         },
         {
          "count": 14,
          "word": "meeting"
         },
         {
          "count": 14,
          "word": "present"
         },
         {
          "count": 13,
          "word": "bo"
         },
         {
          "count": 13,
          "word": "day"
         },
         {
          "count": 13,
          "word": "having"
         }
        ],
        "data-c2a0ec7613c05a194b8086af9b0854a0": [
         {
          "count": 126,
          "word": "mr"
         },
         {
          "count": 81,
          "word": "wragge"
         },
         {
          "count": 71,
          "word": "sun"
         },
         {
          "count": 68,
          "word": "tho"
         },
         {
          "count": 56,
          "word": "weather"
         },
         {
          "count": 46,
          "word": "time"
         },
         {
          "count": 43,
          "word": "australia"
         },
         {
          "count": 43,
          "word": "great"
         },
         {
          "count": 42,
          "word": "good"
         },
         {
          "count": 41,
          "word": "man"
         }
        ],
        "data-c4adc354577db842767f0640fa8e8c2c": [
         {
          "count": 13,
          "word": "says"
         },
         {
          "count": 10,
          "word": "bullock"
         },
         {
          "count": 8,
          "word": "mr"
         },
         {
          "count": 7,
          "word": "horses"
         },
         {
          "count": 7,
          "word": "ing"
         },
         {
          "count": 7,
          "word": "time"
         },
         {
          "count": 7,
          "word": "years"
         },
         {
          "count": 6,
          "word": "australia"
         },
         {
          "count": 6,
          "word": "know"
         },
         {
          "count": 6,
          "word": "road"
         }
        ],
        "data-c93d6988222be04016e9976a4e7eb691": [
         {
          "count": 10,
          "word": "cyclone"
         },
         {
          "count": 7,
          "word": "cyclones"
         },
         {
          "count": 5,
          "word": "book"
         },
         {
          "count": 4,
          "word": "children"
         },
         {
          "count": 4,
          "word": "hector"
         },
         {
          "count": 4,
          "word": "sea"
         },
         {
          "count": 4,
          "word": "wragge"
         },
         {
          "count": 3,
          "word": "aborigines"
         },
         {
          "count": 3,
          "word": "australia"
         },
         {
          "count": 3,
          "word": "battle"
         }
        ],
        "data-cad34d527876773d3212434fef86ad2e": [
         {
          "count": 899,
          "word": "mr"
         },
         {
          "count": 763,
          "word": "tho"
         },
         {
          "count": 450,
          "word": "south"
         },
         {
          "count": 355,
          "word": "weather"
         },
         {
          "count": 288,
          "word": "new"
         },
         {
          "count": 271,
          "word": "wragge"
         },
         {
          "count": 227,
          "word": "day"
         },
         {
          "count": 222,
          "word": "rain"
         },
         {
          "count": 191,
          "word": "australia"
         },
         {
          "count": 189,
          "word": "west"
         }
        ],
        "data-ccbd53187b54b039877ad803342be61e": [
         {
          "count": 161,
          "word": "mrs"
         },
         {
          "count": 136,
          "word": "miss"
         },
         {
          "count": 99,
          "word": "pressure"
         },
         {
          "count": 82,
          "word": "captain"
         },
         {
          "count": 81,
          "word": "mr"
         },
         {
          "count": 80,
          "word": "high"
         },
         {
          "count": 74,
          "word": "tons"
         },
         {
          "count": 69,
          "word": "dust"
         },
         {
          "count": 59,
          "word": "low"
         },
         {
          "count": 53,
          "word": "air"
         }
        ],
        "data-ceb235ed06d610da2138d97601a0237e": [
         {
          "count": 85,
          "word": "mr"
         },
         {
          "count": 72,
          "word": "weather"
         },
         {
          "count": 63,
          "word": "wragge"
         },
         {
          "count": 56,
          "word": "thc"
         },
         {
          "count": 52,
          "word": "time"
         },
         {
          "count": 50,
          "word": "great"
         },
         {
          "count": 47,
          "word": "cyclone"
         },
         {
          "count": 39,
          "word": "years"
         },
         {
          "count": 35,
          "word": "storm"
         },
         {
          "count": 34,
          "word": "ing"
         }
        ],
        "data-cf6627464a1cf1820d6c5d6b0aadd0ea": [
         {
          "count": 41,
          "word": "mr"
         },
         {
          "count": 31,
          "word": "weather"
         },
         {
          "count": 29,
          "word": "jones"
         },
         {
          "count": 18,
          "word": "inigo"
         },
         {
          "count": 12,
          "word": "10"
         },
         {
          "count": 12,
          "word": "forecast"
         },
         {
          "count": 11,
          "word": "long"
         },
         {
          "count": 10,
          "word": "range"
         },
         {
          "count": 10,
          "word": "sun"
         },
         {
          "count": 10,
          "word": "sunspots"
         }
        ],
        "data-d07ebb3e8eea91dd972094f17342e612": [
         {
          "count": 948,
          "word": "tho"
         },
         {
          "count": 917,
          "word": "mr"
         },
         {
          "count": 659,
          "word": "flood"
         },
         {
          "count": 644,
          "word": "south"
         },
         {
          "count": 634,
          "word": "brisbane"
         },
         {
          "count": 555,
          "word": "water"
         },
         {
          "count": 493,
          "word": "river"
         },
         {
          "count": 389,
          "word": "weather"
         },
         {
          "count": 374,
          "word": "rain"
         },
         {
          "count": 346,
          "word": "day"
         }
        ],
        "data-d0980cad760fdc7902ea18bc5a1538bb": [
         {
          "count": 237,
          "word": "mr"
         },
         {
          "count": 226,
          "word": "south"
         },
         {
          "count": 200,
          "word": "tho"
         },
         {
          "count": 171,
          "word": "weather"
         },
         {
          "count": 167,
          "word": "rain"
         },
         {
          "count": 113,
          "word": "new"
         },
         {
          "count": 99,
          "word": "north"
         },
         {
          "count": 97,
          "word": "west"
         },
         {
          "count": 85,
          "word": "day"
         },
         {
          "count": 81,
          "word": "australia"
         }
        ],
        "data-d09a70a0607c2c84f6f80638638746a1": [
         {
          "count": 59,
          "word": "str"
         },
         {
          "count": 50,
          "word": "mr"
         },
         {
          "count": 44,
          "word": "mrs"
         },
         {
          "count": 30,
          "word": "lt"
         },
         {
          "count": 25,
          "word": "melbourne"
         },
         {
          "count": 23,
          "word": "new"
         },
         {
          "count": 22,
          "word": "steamer"
         },
         {
          "count": 22,
          "word": "sydney"
         },
         {
          "count": 20,
          "word": "miss"
         },
         {
          "count": 18,
          "word": "13"
         }
        ],
        "data-d35098bc96a0562635bc0612dc0430c7": [
         {
          "count": 11,
          "word": "names"
         },
         {
          "count": 8,
          "word": "storms"
         },
         {
          "count": 4,
          "word": "hurricane"
         },
         {
          "count": 4,
          "word": "mr"
         },
         {
          "count": 3,
          "word": "andrew"
         },
         {
          "count": 3,
          "word": "confusion"
         },
         {
          "count": 3,
          "word": "military"
         },
         {
          "count": 3,
          "word": "using"
         },
         {
          "count": 2,
          "word": "arc"
         },
         {
          "count": 2,
          "word": "big"
         }
        ],
        "data-d38d1d9faa3368f65464d6de3026c762": [
         {
          "count": 249,
          "word": "tho"
         },
         {
          "count": 228,
          "word": "mr"
         },
         {
          "count": 177,
          "word": "years"
         },
         {
          "count": 155,
          "word": "sun"
         },
         {
          "count": 110,
          "word": "time"
         },
         {
          "count": 91,
          "word": "south"
         },
         {
          "count": 84,
          "word": "wragge"
         },
         {
          "count": 82,
          "word": "said"
         },
         {
          "count": 77,
          "word": "just"
         },
         {
          "count": 77,
          "word": "period"
         }
        ],
        "data-d3b13c30c1d40bc96ca645075a375ee9": [
         {
          "count": 18,
          "word": "weather"
         },
         {
          "count": 17,
          "word": "mr"
         },
         {
          "count": 15,
          "word": "sun"
         },
         {
          "count": 13,
          "word": "tho"
         },
         {
          "count": 12,
          "word": "ing"
         },
         {
          "count": 12,
          "word": "tlie"
         },
         {
          "count": 12,
          "word": "years"
         },
         {
          "count": 11,
          "word": "sir"
         },
         {
          "count": 11,
          "word": "world"
         },
         {
          "count": 10,
          "word": "time"
         }
        ],
        "data-d3fb8f31b330922259d1deeed3574e1f": [
         {
          "count": 13,
          "word": "weather"
         },
         {
          "count": 6,
          "word": "day"
         },
         {
          "count": 6,
          "word": "far"
         },
         {
          "count": 6,
          "word": "fine"
         },
         {
          "count": 6,
          "word": "time"
         },
         {
          "count": 5,
          "word": "ex"
         },
         {
          "count": 5,
          "word": "land"
         },
         {
          "count": 5,
          "word": "old"
         },
         {
          "count": 5,
          "word": "parts"
         },
         {
          "count": 5,
          "word": "rain"
         }
        ],
        "data-d521dc9d6a1e579948c29355afda59b1": [
         {
          "count": 75,
          "word": "tho"
         },
         {
          "count": 35,
          "word": "mr"
         },
         {
          "count": 19,
          "word": "000"
         },
         {
          "count": 16,
          "word": "public"
         },
         {
          "count": 16,
          "word": "years"
         },
         {
          "count": 15,
          "word": "water"
         },
         {
          "count": 15,
          "word": "week"
         },
         {
          "count": 14,
          "word": "government"
         },
         {
          "count": 14,
          "word": "great"
         },
         {
          "count": 14,
          "word": "land"
         }
        ],
        "data-d6d2fbda7c0b6341b1cef3d0562498f3": [
         {
          "count": 462,
          "word": "mr"
         },
         {
          "count": 334,
          "word": "south"
         },
         {
          "count": 302,
          "word": "tbe"
         },
         {
          "count": 207,
          "word": "tho"
         },
         {
          "count": 172,
          "word": "new"
         },
         {
          "count": 166,
          "word": "weather"
         },
         {
          "count": 145,
          "word": "north"
         },
         {
          "count": 139,
          "word": "australia"
         },
         {
          "count": 130,
          "word": "east"
         },
         {
          "count": 124,
          "word": "sea"
         }
        ],
        "data-da5d969264e8fc389b8cbcfce650c6f0": [
         {
          "count": 27,
          "word": "mr"
         },
         {
          "count": 21,
          "word": "cyclone"
         },
         {
          "count": 20,
          "word": "weather"
         },
         {
          "count": 19,
          "word": "water"
         },
         {
          "count": 13,
          "word": "cycle"
         },
         {
          "count": 12,
          "word": "mackay"
         },
         {
          "count": 11,
          "word": "north"
         },
         {
          "count": 10,
          "word": "sea"
         },
         {
          "count": 10,
          "word": "street"
         },
         {
          "count": 10,
          "word": "wind"
         }
        ],
        "data-dfa9ba0a32904932333171fc254029fc": [
         {
          "count": 639,
          "word": "tho"
         },
         {
          "count": 528,
          "word": "mr"
         },
         {
          "count": 308,
          "word": "south"
         },
         {
          "count": 305,
          "word": "tbe"
         },
         {
          "count": 226,
          "word": "day"
         },
         {
          "count": 217,
          "word": "north"
         },
         {
          "count": 165,
          "word": "rain"
         },
         {
          "count": 155,
          "word": "years"
         },
         {
          "count": 148,
          "word": "east"
         },
         {
          "count": 147,
          "word": "brisbane"
         }
        ],
        "data-dfae0b61a1924331118c121db6c9ff54": [
         {
          "count": 30,
          "word": "sun"
         },
         {
          "count": 16,
          "word": "earth"
         },
         {
          "count": 14,
          "word": "years"
         },
         {
          "count": 12,
          "word": "rain"
         },
         {
          "count": 11,
          "word": "south"
         },
         {
          "count": 10,
          "word": "cyclone"
         },
         {
          "count": 10,
          "word": "great"
         },
         {
          "count": 9,
          "word": "wragge"
         },
         {
          "count": 8,
          "word": "north"
         },
         {
          "count": 8,
          "word": "storm"
         }
        ],
        "data-e01d4d3bccb2f22be6425efa5ed4ca73": [
         {
          "count": 82,
          "word": "mr"
         },
         {
          "count": 65,
          "word": "tho"
         },
         {
          "count": 42,
          "word": "wragge"
         },
         {
          "count": 39,
          "word": "sun"
         },
         {
          "count": 36,
          "word": "weather"
         },
         {
          "count": 32,
          "word": "years"
         },
         {
          "count": 29,
          "word": "period"
         },
         {
          "count": 28,
          "word": "church"
         },
         {
          "count": 27,
          "word": "new"
         },
         {
          "count": 24,
          "word": "general"
         }
        ],
        "data-e65d07ed64f595983e16a0d3fbea0e82": [
         {
          "count": 64,
          "word": "tons"
         },
         {
          "count": 45,
          "word": "agents"
         },
         {
          "count": 44,
          "word": "mr"
         },
         {
          "count": 32,
          "word": "passengers"
         },
         {
          "count": 26,
          "word": "mrs"
         },
         {
          "count": 23,
          "word": "agent"
         },
         {
          "count": 17,
          "word": "ult"
         },
         {
          "count": 16,
          "word": "ship"
         },
         {
          "count": 15,
          "word": "brig"
         },
         {
          "count": 14,
          "word": "captain"
         }
        ],
        "data-ebab390dece8dd9105534996f18f6ede": [
         {
          "count": 300,
          "word": "mr"
         },
         {
          "count": 223,
          "word": "second"
         },
         {
          "count": 103,
          "word": "prize"
         },
         {
          "count": 101,
          "word": "messrs"
         },
         {
          "count": 82,
          "word": "old"
         },
         {
          "count": 58,
          "word": "good"
         },
         {
          "count": 56,
          "word": "robertson"
         },
         {
          "count": 55,
          "word": "prince"
         },
         {
          "count": 52,
          "word": "class"
         },
         {
          "count": 47,
          "word": "judges"
         }
        ],
        "data-edd2c99e8bc085b56826075aacac34c6": [
         {
          "count": 1219,
          "word": "tho"
         },
         {
          "count": 1112,
          "word": "mr"
         },
         {
          "count": 334,
          "word": "years"
         },
         {
          "count": 289,
          "word": "south"
         },
         {
          "count": 286,
          "word": "time"
         },
         {
          "count": 272,
          "word": "new"
         },
         {
          "count": 270,
          "word": "day"
         },
         {
          "count": 270,
          "word": "wragge"
         },
         {
          "count": 265,
          "word": "good"
         },
         {
          "count": 243,
          "word": "weather"
         }
        ],
        "data-ee9c7443277906319eca0be961d3fe2b": [
         {
          "count": 104,
          "word": "years"
         },
         {
          "count": 81,
          "word": "mr"
         },
         {
          "count": 81,
          "word": "rain"
         },
         {
          "count": 72,
          "word": "sunspot"
         },
         {
          "count": 72,
          "word": "tho"
         },
         {
          "count": 68,
          "word": "great"
         },
         {
          "count": 64,
          "word": "drought"
         },
         {
          "count": 54,
          "word": "south"
         },
         {
          "count": 51,
          "word": "man"
         },
         {
          "count": 51,
          "word": "weather"
         }
        ],
        "data-f00ac888e2e5a04523a392721c749b99": [
         {
          "count": 49,
          "word": "cairns"
         },
         {
          "count": 42,
          "word": "weather"
         },
         {
          "count": 31,
          "word": "south"
         },
         {
          "count": 27,
          "word": "cyclone"
         },
         {
          "count": 27,
          "word": "mr"
         },
         {
          "count": 26,
          "word": "far"
         },
         {
          "count": 25,
          "word": "names"
         },
         {
          "count": 25,
          "word": "north"
         },
         {
          "count": 24,
          "word": "wragge"
         },
         {
          "count": 23,
          "word": "australia"
         }
        ],
        "data-f30481db2d1cf7eecdc17655ecc6dbad": [
         {
          "count": 615,
          "word": "mr"
         },
         {
          "count": 263,
          "word": "new"
         },
         {
          "count": 238,
          "word": "north"
         },
         {
          "count": 231,
          "word": "said"
         },
         {
          "count": 198,
          "word": "station"
         },
         {
          "count": 198,
          "word": "time"
         },
         {
          "count": 193,
          "word": "tho"
         },
         {
          "count": 192,
          "word": "south"
         },
         {
          "count": 181,
          "word": "queensland"
         },
         {
          "count": 179,
          "word": "wragge"
         }
        ],
        "data-f637f6c44f6342291f87f9ac1564e178": [
         {
          "count": 55,
          "word": "mr"
         },
         {
          "count": 52,
          "word": "tho"
         },
         {
          "count": 28,
          "word": "weather"
         },
         {
          "count": 27,
          "word": "years"
         },
         {
          "count": 17,
          "word": "man"
         },
         {
          "count": 16,
          "word": "queensland"
         },
         {
          "count": 15,
          "word": "time"
         },
         {
          "count": 14,
          "word": "hunt"
         },
         {
          "count": 13,
          "word": "australia"
         },
         {
          "count": 12,
          "word": "days"
         }
        ],
        "data-f7b4614a1f93e984936c8cd23e8b8945": [
         {
          "count": 724,
          "word": "tho"
         },
         {
          "count": 365,
          "word": "mr"
         },
         {
          "count": 212,
          "word": "brisbane"
         },
         {
          "count": 193,
          "word": "south"
         },
         {
          "count": 187,
          "word": "water"
         },
         {
          "count": 168,
          "word": "rain"
         },
         {
          "count": 158,
          "word": "great"
         },
         {
          "count": 139,
          "word": "day"
         },
         {
          "count": 120,
          "word": "morning"
         },
         {
          "count": 119,
          "word": "weather"
         }
        ],
        "data-f8129714179799db16786791ab40226c": [
         {
          "count": 43,
          "word": "mr"
         },
         {
          "count": 24,
          "word": "weather"
         },
         {
          "count": 23,
          "word": "wragge"
         },
         {
          "count": 14,
          "word": "years"
         },
         {
          "count": 12,
          "word": "said"
         },
         {
          "count": 11,
          "word": "south"
         },
         {
          "count": 10,
          "word": "rain"
         },
         {
          "count": 9,
          "word": "australia"
         },
         {
          "count": 9,
          "word": "came"
         },
         {
          "count": 9,
          "word": "man"
         }
        ],
        "data-fa90c7186f4bb51957afa440e9fed2a1": [
         {
          "count": 31,
          "word": "mr"
         },
         {
          "count": 20,
          "word": "jones"
         },
         {
          "count": 12,
          "word": "said"
         },
         {
          "count": 11,
          "word": "weather"
         },
         {
          "count": 10,
          "word": "cyclone"
         },
         {
          "count": 10,
          "word": "queensland"
         },
         {
          "count": 10,
          "word": "report"
         },
         {
          "count": 9,
          "word": "coast"
         },
         {
          "count": 9,
          "word": "forecasting"
         },
         {
          "count": 8,
          "word": "south"
         }
        ],
        "data-fe51fc9a10926483a57d794df270f175": [
         {
          "count": 105,
          "word": "mr"
         },
         {
          "count": 67,
          "word": "time"
         },
         {
          "count": 65,
          "word": "sun"
         },
         {
          "count": 54,
          "word": "wragge"
         },
         {
          "count": 49,
          "word": "energy"
         },
         {
          "count": 45,
          "word": "australia"
         },
         {
          "count": 44,
          "word": "years"
         },
         {
          "count": 40,
          "word": "probably"
         },
         {
          "count": 39,
          "word": "good"
         },
         {
          "count": 36,
          "word": "old"
         }
        ],
        "data-fe6107f32808a23fb5ce616e73030e56": [
         {
          "count": 17,
          "word": "lt"
         },
         {
          "count": 16,
          "word": "won"
         },
         {
          "count": 15,
          "word": "cup"
         },
         {
          "count": 15,
          "word": "race"
         },
         {
          "count": 14,
          "word": "mr"
         },
         {
          "count": 13,
          "word": "old"
         },
         {
          "count": 13,
          "word": "second"
         },
         {
          "count": 12,
          "word": "count"
         },
         {
          "count": 12,
          "word": "lengths"
         },
         {
          "count": 12,
          "word": "winner"
         }
        ],
        "data-fff2758ced17ca84c712b13928eb8483": [
         {
          "count": 18,
          "word": "mr"
         },
         {
          "count": 15,
          "word": "cup"
         },
         {
          "count": 14,
          "word": "time"
         },
         {
          "count": 13,
          "word": "away"
         },
         {
          "count": 12,
          "word": "blayney"
         },
         {
          "count": 12,
          "word": "townsville"
         },
         {
          "count": 11,
          "word": "ing"
         },
         {
          "count": 10,
          "word": "damage"
         },
         {
          "count": 10,
          "word": "feet"
         },
         {
          "count": 10,
          "word": "large"
         }
        ]
       },
       "vconcat": [
        {
         "hconcat": [
          {
           "columns": 4,
           "encoding": {
            "x": {
             "field": "count",
             "type": "quantitative"
            },
            "y": {
             "field": "word",
             "type": "nominal"
            }
           },
           "height": 120,
           "mark": "bar",
           "title": "1860",
           "width": 120
          },
          {
           "columns": 4,
           "data": {
            "name": "data-e65d07ed64f595983e16a0d3fbea0e82"
           },
           "encoding": {
            "x": {
             "field": "count",
             "type": "quantitative"
            },
            "y": {
             "field": "word",
             "type": "nominal"
            }
           },
           "height": 120,
           "mark": "bar",
           "title": "1862",
           "width": 120
          },
          {
           "columns": 4,
           "data": {
            "name": "data-56c0204e8840d51a88515e3fa3d106ad"
           },
           "encoding": {
            "x": {
             "field": "count",
             "type": "quantitative"
            },
            "y": {
             "field": "word",
             "type": "nominal"
            }
           },
           "height": 120,
           "mark": "bar",
           "title": "1863",
           "width": 120
          },
          {
           "columns": 4,
           "data": {
            "name": "data-060fda3b493a88d27eed21ffb6dae29c"
           },
           "encoding": {
            "x": {
             "field": "count",
             "type": "quantitative"
            },
            "y": {
             "field": "word",
             "type": "nominal"
            }
           },
           "height": 120,
           "mark": "bar",
           "title": "1864",
           "width": 120
          }
         ]
        },
        {
         "data": {
          "name": "data-81ea08824fbdbba676f0dfb98ab2c244"
         },
         "hconcat": [
          {
           "columns": 4,
           "encoding": {
            "x": {
             "field": "count",
             "type": "quantitative"
            },
            "y": {
             "field": "word",
             "type": "nominal"
            }
           },
           "height": 120,
           "mark": "bar",
           "title": "1867",
           "width": 120
          },
          {
           "columns": 4,
           "data": {
            "name": "data-a088cbe06093f0d2709bab2ee4be478e"
           },
           "encoding": {
            "x": {
             "field": "count",
             "type": "quantitative"
            },
            "y": {
             "field": "word",
             "type": "nominal"
            }
           },
           "height": 120,
           "mark": "bar",
           "title": "1872",
           "width": 120
          },
          {
           "columns": 4,
           "data": {
            "name": "data-c22f4dde5f1a88b4503e07753d1764ee"
           },
           "encoding": {
            "x": {
             "field": "count",
             "type": "quantitative"
            },
            "y": {
             "field": "word",
             "type": "nominal"
            }
           },
           "height": 120,
           "mark": "bar",
           "title": "1873",
           "width": 120
          },
          {
           "columns": 4,
           "data": {
            "name": "data-7d42a2cff490f14185696183603f5c82"
           },
           "encoding": {
            "x": {
             "field": "count",
             "type": "quantitative"
            },
            "y": {
             "field": "word",
             "type": "nominal"
            }
           },
           "height": 120,
           "mark": "bar",
           "title": "1874",
           "width": 120
          }
         ]
        },
        {
         "data": {
          "name": "data-9066144bbf305c878ce3c57b66e683c2"
         },
         "hconcat": [
          {
           "columns": 4,
           "encoding": {
            "x": {
             "field": "count",
             "type": "quantitative"
            },
            "y": {
             "field": "word",
             "type": "nominal"
            }
           },
           "height": 120,
           "mark": "bar",
           "title": "1877",
           "width": 120
          },
          {
           "columns": 4,
           "data": {
            "name": "data-ebab390dece8dd9105534996f18f6ede"
           },
           "encoding": {
            "x": {
             "field": "count",
             "type": "quantitative"
            },
            "y": {
             "field": "word",
             "type": "nominal"
            }
           },
           "height": 120,
           "mark": "bar",
           "title": "1878",
           "width": 120
          },
          {
           "columns": 4,
           "data": {
            "name": "data-4b90887488a5391e68bc4673e7efe151"
           },
           "encoding": {
            "x": {
             "field": "count",
             "type": "quantitative"
            },
            "y": {
             "field": "word",
             "type": "nominal"
            }
           },
           "height": 120,
           "mark": "bar",
           "title": "1879",
           "width": 120
          },
          {
           "columns": 4,
           "data": {
            "name": "data-b65eb8e53b6ca89d796732b58006c311"
           },
           "encoding": {
            "x": {
             "field": "count",
             "type": "quantitative"
            },
            "y": {
             "field": "word",
             "type": "nominal"
            }
           },
           "height": 120,
           "mark": "bar",
           "title": "1880",
           "width": 120
          }
         ]
        },
        {
         "data": {
          "name": "data-211e9ef93e446c62e117bd4e8ef67c76"
         },
         "hconcat": [
          {
           "columns": 4,
           "encoding": {
            "x": {
             "field": "count",
             "type": "quantitative"
            },
            "y": {
             "field": "word",
             "type": "nominal"
            }
           },
           "height": 120,
           "mark": "bar",
           "title": "1881",
           "width": 120
          },
          {
           "columns": 4,
           "data": {
            "name": "data-88df8f25bc4985af2318de646ab59d64"
           },
           "encoding": {
            "x": {
             "field": "count",
             "type": "quantitative"
            },
            "y": {
             "field": "word",
             "type": "nominal"
            }
           },
           "height": 120,
           "mark": "bar",
           "title": "1883",
           "width": 120
          },
          {
           "columns": 4,
           "data": {
            "name": "data-ccbd53187b54b039877ad803342be61e"
           },
           "encoding": {
            "x": {
             "field": "count",
             "type": "quantitative"
            },
            "y": {
             "field": "word",
             "type": "nominal"
            }
           },
           "height": 120,
           "mark": "bar",
           "title": "1884",
           "width": 120
          },
          {
           "columns": 4,
           "data": {
            "name": "data-9119c0820b8afe1514282beb64fa7cc5"
           },
           "encoding": {
            "x": {
             "field": "count",
             "type": "quantitative"
            },
            "y": {
             "field": "word",
             "type": "nominal"
            }
           },
           "height": 120,
           "mark": "bar",
           "title": "1885",
           "width": 120
          }
         ]
        },
        {
         "data": {
          "name": "data-9c6d462362af7ad53f380aa60f006073"
         },
         "hconcat": [
          {
           "columns": 4,
           "encoding": {
            "x": {
             "field": "count",
             "type": "quantitative"
            },
            "y": {
             "field": "word",
             "type": "nominal"
            }
           },
           "height": 120,
           "mark": "bar",
           "title": "1886",
           "width": 120
          },
          {
           "columns": 4,
           "data": {
            "name": "data-f7b4614a1f93e984936c8cd23e8b8945"
           },
           "encoding": {
            "x": {
             "field": "count",
             "type": "quantitative"
            },
            "y": {
             "field": "word",
             "type": "nominal"
            }
           },
           "height": 120,
           "mark": "bar",
           "title": "1887",
           "width": 120
          },
          {
           "columns": 4,
           "data": {
            "name": "data-dfa9ba0a32904932333171fc254029fc"
           },
           "encoding": {
            "x": {
             "field": "count",
             "type": "quantitative"
            },
            "y": {
             "field": "word",
             "type": "nominal"
            }
           },
           "height": 120,
           "mark": "bar",
           "title": "1888",
           "width": 120
          },
          {
           "columns": 4,
           "data": {
            "name": "data-7c866a26541e47f7bd2f6ddf2b47046d"
           },
           "encoding": {
            "x": {
             "field": "count",
             "type": "quantitative"
            },
            "y": {
             "field": "word",
             "type": "nominal"
            }
           },
           "height": 120,
           "mark": "bar",
           "title": "1889",
           "width": 120
          }
         ]
        },
        {
         "data": {
          "name": "data-4c608207f77403d047817bf95dbd865d"
         },
         "hconcat": [
          {
           "columns": 4,
           "encoding": {
            "x": {
             "field": "count",
             "type": "quantitative"
            },
            "y": {
             "field": "word",
             "type": "nominal"
            }
           },
           "height": 120,
           "mark": "bar",
           "title": "1890",
           "width": 120
          },
          {
           "columns": 4,
           "data": {
            "name": "data-d6d2fbda7c0b6341b1cef3d0562498f3"
           },
           "encoding": {
            "x": {
             "field": "count",
             "type": "quantitative"
            },
            "y": {
             "field": "word",
             "type": "nominal"
            }
           },
           "height": 120,
           "mark": "bar",
           "title": "1891",
           "width": 120
          },
          {
           "columns": 4,
           "data": {
            "name": "data-7003330022dc7a388886046c2a396941"
           },
           "encoding": {
            "x": {
             "field": "count",
             "type": "quantitative"
            },
            "y": {
             "field": "word",
             "type": "nominal"
            }
           },
           "height": 120,
           "mark": "bar",
           "title": "1892",
           "width": 120
          },
          {
           "columns": 4,
           "data": {
            "name": "data-d07ebb3e8eea91dd972094f17342e612"
           },
           "encoding": {
            "x": {
             "field": "count",
             "type": "quantitative"
            },
            "y": {
             "field": "word",
             "type": "nominal"
            }
           },
           "height": 120,
           "mark": "bar",
           "title": "1893",
           "width": 120
          }
         ]
        },
        {
         "data": {
          "name": "data-66f06e1a93c4e0590e8612c540dced7b"
         },
         "hconcat": [
          {
           "columns": 4,
           "encoding": {
            "x": {
             "field": "count",
             "type": "quantitative"
            },
            "y": {
             "field": "word",
             "type": "nominal"
            }
           },
           "height": 120,
           "mark": "bar",
           "title": "1894",
           "width": 120
          },
          {
           "columns": 4,
           "data": {
            "name": "data-5481fc7166c7bd32cc832793f55d0db5"
           },
           "encoding": {
            "x": {
             "field": "count",
             "type": "quantitative"
            },
            "y": {
             "field": "word",
             "type": "nominal"
            }
           },
           "height": 120,
           "mark": "bar",
           "title": "1895",
           "width": 120
          },
          {
           "columns": 4,
           "data": {
            "name": "data-0e8315fcf08db007549c7b3f4b35e16e"
           },
           "encoding": {
            "x": {
             "field": "count",
             "type": "quantitative"
            },
            "y": {
             "field": "word",
             "type": "nominal"
            }
           },
           "height": 120,
           "mark": "bar",
           "title": "1896",
           "width": 120
          },
          {
           "columns": 4,
           "data": {
            "name": "data-003c1842f56e98d59c5a238eeaa5f0fd"
           },
           "encoding": {
            "x": {
             "field": "count",
             "type": "quantitative"
            },
            "y": {
             "field": "word",
             "type": "nominal"
            }
           },
           "height": 120,
           "mark": "bar",
           "title": "1897",
           "width": 120
          }
         ]
        },
        {
         "data": {
          "name": "data-758f5967a81fe339329b0851749500be"
         },
         "hconcat": [
          {
           "columns": 4,
           "encoding": {
            "x": {
             "field": "count",
             "type": "quantitative"
            },
            "y": {
             "field": "word",
             "type": "nominal"
            }
           },
           "height": 120,
           "mark": "bar",
           "title": "1898",
           "width": 120
          },
          {
           "columns": 4,
           "data": {
            "name": "data-58e49862782b462f41f0a3be8df80699"
           },
           "encoding": {
            "x": {
             "field": "count",
             "type": "quantitative"
            },
            "y": {
             "field": "word",
             "type": "nominal"
            }
           },
           "height": 120,
           "mark": "bar",
           "title": "1899",
           "width": 120
          },
          {
           "columns": 4,
           "data": {
            "name": "data-d0980cad760fdc7902ea18bc5a1538bb"
           },
           "encoding": {
            "x": {
             "field": "count",
             "type": "quantitative"
            },
            "y": {
             "field": "word",
             "type": "nominal"
            }
           },
           "height": 120,
           "mark": "bar",
           "title": "1900",
           "width": 120
          },
          {
           "columns": 4,
           "data": {
            "name": "data-cad34d527876773d3212434fef86ad2e"
           },
           "encoding": {
            "x": {
             "field": "count",
             "type": "quantitative"
            },
            "y": {
             "field": "word",
             "type": "nominal"
            }
           },
           "height": 120,
           "mark": "bar",
           "title": "1901",
           "width": 120
          }
         ]
        },
        {
         "data": {
          "name": "data-34bfc903519321c8e6af1a5730d89452"
         },
         "hconcat": [
          {
           "columns": 4,
           "encoding": {
            "x": {
             "field": "count",
             "type": "quantitative"
            },
            "y": {
             "field": "word",
             "type": "nominal"
            }
           },
           "height": 120,
           "mark": "bar",
           "title": "1902",
           "width": 120
          },
          {
           "columns": 4,
           "data": {
            "name": "data-edd2c99e8bc085b56826075aacac34c6"
           },
           "encoding": {
            "x": {
             "field": "count",
             "type": "quantitative"
            },
            "y": {
             "field": "word",
             "type": "nominal"
            }
           },
           "height": 120,
           "mark": "bar",
           "title": "1903",
           "width": 120
          },
          {
           "columns": 4,
           "data": {
            "name": "data-ba7e701bf811ba0db354b0f751f1c1c6"
           },
           "encoding": {
            "x": {
             "field": "count",
             "type": "quantitative"
            },
            "y": {
             "field": "word",
             "type": "nominal"
            }
           },
           "height": 120,
           "mark": "bar",
           "title": "1904",
           "width": 120
          },
          {
           "columns": 4,
           "data": {
            "name": "data-fe51fc9a10926483a57d794df270f175"
           },
           "encoding": {
            "x": {
             "field": "count",
             "type": "quantitative"
            },
            "y": {
             "field": "word",
             "type": "nominal"
            }
           },
           "height": 120,
           "mark": "bar",
           "title": "1905",
           "width": 120
          }
         ]
        },
        {
         "data": {
          "name": "data-c2a0ec7613c05a194b8086af9b0854a0"
         },
         "hconcat": [
          {
           "columns": 4,
           "encoding": {
            "x": {
             "field": "count",
             "type": "quantitative"
            },
            "y": {
             "field": "word",
             "type": "nominal"
            }
           },
           "height": 120,
           "mark": "bar",
           "title": "1906",
           "width": 120
          },
          {
           "columns": 4,
           "data": {
            "name": "data-2997babc9b9db0758c35f19ad998dc68"
           },
           "encoding": {
            "x": {
             "field": "count",
             "type": "quantitative"
            },
            "y": {
             "field": "word",
             "type": "nominal"
            }
           },
           "height": 120,
           "mark": "bar",
           "title": "1907",
           "width": 120
          },
          {
           "columns": 4,
           "data": {
            "name": "data-20cdc8938c6679fa96b78cc0d2ffc527"
           },
           "encoding": {
            "x": {
             "field": "count",
             "type": "quantitative"
            },
            "y": {
             "field": "word",
             "type": "nominal"
            }
           },
           "height": 120,
           "mark": "bar",
           "title": "1908",
           "width": 120
          },
          {
           "columns": 4,
           "data": {
            "name": "data-d38d1d9faa3368f65464d6de3026c762"
           },
           "encoding": {
            "x": {
             "field": "count",
             "type": "quantitative"
            },
            "y": {
             "field": "word",
             "type": "nominal"
            }
           },
           "height": 120,
           "mark": "bar",
           "title": "1909",
           "width": 120
          }
         ]
        },
        {
         "data": {
          "name": "data-b5586f105833d47f418c96870cc17428"
         },
         "hconcat": [
          {
           "columns": 4,
           "encoding": {
            "x": {
             "field": "count",
             "type": "quantitative"
            },
            "y": {
             "field": "word",
             "type": "nominal"
            }
           },
           "height": 120,
           "mark": "bar",
           "title": "1910",
           "width": 120
          },
          {
           "columns": 4,
           "data": {
            "name": "data-97605fe9c49191b04331f1c73d74c254"
           },
           "encoding": {
            "x": {
             "field": "count",
             "type": "quantitative"
            },
            "y": {
             "field": "word",
             "type": "nominal"
            }
           },
           "height": 120,
           "mark": "bar",
           "title": "1911",
           "width": 120
          },
          {
           "columns": 4,
           "data": {
            "name": "data-6a74d47f90fda5b97d5dc199b247260f"
           },
           "encoding": {
            "x": {
             "field": "count",
             "type": "quantitative"
            },
            "y": {
             "field": "word",
             "type": "nominal"
            }
           },
           "height": 120,
           "mark": "bar",
           "title": "1912",
           "width": 120
          },
          {
           "columns": 4,
           "data": {
            "name": "data-0050f798267b7f1c23aa51f88931963f"
           },
           "encoding": {
            "x": {
             "field": "count",
             "type": "quantitative"
            },
            "y": {
             "field": "word",
             "type": "nominal"
            }
           },
           "height": 120,
           "mark": "bar",
           "title": "1913",
           "width": 120
          }
         ]
        },
        {
         "data": {
          "name": "data-f30481db2d1cf7eecdc17655ecc6dbad"
         },
         "hconcat": [
          {
           "columns": 4,
           "encoding": {
            "x": {
             "field": "count",
             "type": "quantitative"
            },
            "y": {
             "field": "word",
             "type": "nominal"
            }
           },
           "height": 120,
           "mark": "bar",
           "title": "1914",
           "width": 120
          },
          {
           "columns": 4,
           "data": {
            "name": "data-ab6b1da55ee8a08ac8c182a2a1ce9a1a"
           },
           "encoding": {
            "x": {
             "field": "count",
             "type": "quantitative"
            },
            "y": {
             "field": "word",
             "type": "nominal"
            }
           },
           "height": 120,
           "mark": "bar",
           "title": "1915",
           "width": 120
          },
          {
           "columns": 4,
           "data": {
            "name": "data-3c8c8eea8602d6b1584e1fe50e65c41e"
           },
           "encoding": {
            "x": {
             "field": "count",
             "type": "quantitative"
            },
            "y": {
             "field": "word",
             "type": "nominal"
            }
           },
           "height": 120,
           "mark": "bar",
           "title": "1916",
           "width": 120
          },
          {
           "columns": 4,
           "data": {
            "name": "data-1fe7883faeeb6b11cbdb1bc2ee6c112b"
           },
           "encoding": {
            "x": {
             "field": "count",
             "type": "quantitative"
            },
            "y": {
             "field": "word",
             "type": "nominal"
            }
           },
           "height": 120,
           "mark": "bar",
           "title": "1917",
           "width": 120
          }
         ]
        },
        {
         "data": {
          "name": "data-0e1f543100f7c6394f0c2fe9bcd2307f"
         },
         "hconcat": [
          {
           "columns": 4,
           "encoding": {
            "x": {
             "field": "count",
             "type": "quantitative"
            },
            "y": {
             "field": "word",
             "type": "nominal"
            }
           },
           "height": 120,
           "mark": "bar",
           "title": "1918",
           "width": 120
          },
          {
           "columns": 4,
           "data": {
            "name": "data-e01d4d3bccb2f22be6425efa5ed4ca73"
           },
           "encoding": {
            "x": {
             "field": "count",
             "type": "quantitative"
            },
            "y": {
             "field": "word",
             "type": "nominal"
            }
           },
           "height": 120,
           "mark": "bar",
           "title": "1919",
           "width": 120
          },
          {
           "columns": 4,
           "data": {
            "name": "data-d09a70a0607c2c84f6f80638638746a1"
           },
           "encoding": {
            "x": {
             "field": "count",
             "type": "quantitative"
            },
            "y": {
             "field": "word",
             "type": "nominal"
            }
           },
           "height": 120,
           "mark": "bar",
           "title": "1920",
           "width": 120
          },
          {
           "columns": 4,
           "data": {
            "name": "data-d3fb8f31b330922259d1deeed3574e1f"
           },
           "encoding": {
            "x": {
             "field": "count",
             "type": "quantitative"
            },
            "y": {
             "field": "word",
             "type": "nominal"
            }
           },
           "height": 120,
           "mark": "bar",
           "title": "1921",
           "width": 120
          }
         ]
        },
        {
         "data": {
          "name": "data-d521dc9d6a1e579948c29355afda59b1"
         },
         "hconcat": [
          {
           "columns": 4,
           "encoding": {
            "x": {
             "field": "count",
             "type": "quantitative"
            },
            "y": {
             "field": "word",
             "type": "nominal"
            }
           },
           "height": 120,
           "mark": "bar",
           "title": "1922",
           "width": 120
          },
          {
           "columns": 4,
           "data": {
            "name": "data-ee9c7443277906319eca0be961d3fe2b"
           },
           "encoding": {
            "x": {
             "field": "count",
             "type": "quantitative"
            },
            "y": {
             "field": "word",
             "type": "nominal"
            }
           },
           "height": 120,
           "mark": "bar",
           "title": "1923",
           "width": 120
          },
          {
           "columns": 4,
           "data": {
            "name": "data-7edb25f9f4e6616e48e89e1a9aec1476"
           },
           "encoding": {
            "x": {
             "field": "count",
             "type": "quantitative"
            },
            "y": {
             "field": "word",
             "type": "nominal"
            }
           },
           "height": 120,
           "mark": "bar",
           "title": "1924",
           "width": 120
          },
          {
           "columns": 4,
           "data": {
            "name": "data-f637f6c44f6342291f87f9ac1564e178"
           },
           "encoding": {
            "x": {
             "field": "count",
             "type": "quantitative"
            },
            "y": {
             "field": "word",
             "type": "nominal"
            }
           },
           "height": 120,
           "mark": "bar",
           "title": "1925",
           "width": 120
          }
         ]
        },
        {
         "data": {
          "name": "data-35b7b0180f6e7a8e71c898df12f105ac"
         },
         "hconcat": [
          {
           "columns": 4,
           "encoding": {
            "x": {
             "field": "count",
             "type": "quantitative"
            },
            "y": {
             "field": "word",
             "type": "nominal"
            }
           },
           "height": 120,
           "mark": "bar",
           "title": "1926",
           "width": 120
          },
          {
           "columns": 4,
           "data": {
            "name": "data-ceb235ed06d610da2138d97601a0237e"
           },
           "encoding": {
            "x": {
             "field": "count",
             "type": "quantitative"
            },
            "y": {
             "field": "word",
             "type": "nominal"
            }
           },
           "height": 120,
           "mark": "bar",
           "title": "1927",
           "width": 120
          },
          {
           "columns": 4,
           "data": {
            "name": "data-8dfa66b55ab2f81caf9433b461044610"
           },
           "encoding": {
            "x": {
             "field": "count",
             "type": "quantitative"
            },
            "y": {
             "field": "word",
             "type": "nominal"
            }
           },
           "height": 120,
           "mark": "bar",
           "title": "1928",
           "width": 120
          },
          {
           "columns": 4,
           "data": {
            "name": "data-fe6107f32808a23fb5ce616e73030e56"
           },
           "encoding": {
            "x": {
             "field": "count",
             "type": "quantitative"
            },
            "y": {
             "field": "word",
             "type": "nominal"
            }
           },
           "height": 120,
           "mark": "bar",
           "title": "1929",
           "width": 120
          }
         ]
        },
        {
         "data": {
          "name": "data-d3b13c30c1d40bc96ca645075a375ee9"
         },
         "hconcat": [
          {
           "columns": 4,
           "encoding": {
            "x": {
             "field": "count",
             "type": "quantitative"
            },
            "y": {
             "field": "word",
             "type": "nominal"
            }
           },
           "height": 120,
           "mark": "bar",
           "title": "1930",
           "width": 120
          },
          {
           "columns": 4,
           "data": {
            "name": "data-0a13c97c89ef170659bb1a2dead2df88"
           },
           "encoding": {
            "x": {
             "field": "count",
             "type": "quantitative"
            },
            "y": {
             "field": "word",
             "type": "nominal"
            }
           },
           "height": 120,
           "mark": "bar",
           "title": "1931",
           "width": 120
          },
          {
           "columns": 4,
           "data": {
            "name": "data-fff2758ced17ca84c712b13928eb8483"
           },
           "encoding": {
            "x": {
             "field": "count",
             "type": "quantitative"
            },
            "y": {
             "field": "word",
             "type": "nominal"
            }
           },
           "height": 120,
           "mark": "bar",
           "title": "1932",
           "width": 120
          },
          {
           "columns": 4,
           "data": {
            "name": "data-0d97561edbe1a54281399610ca68fa67"
           },
           "encoding": {
            "x": {
             "field": "count",
             "type": "quantitative"
            },
            "y": {
             "field": "word",
             "type": "nominal"
            }
           },
           "height": 120,
           "mark": "bar",
           "title": "1933",
           "width": 120
          }
         ]
        },
        {
         "data": {
          "name": "data-f00ac888e2e5a04523a392721c749b99"
         },
         "hconcat": [
          {
           "columns": 4,
           "encoding": {
            "x": {
             "field": "count",
             "type": "quantitative"
            },
            "y": {
             "field": "word",
             "type": "nominal"
            }
           },
           "height": 120,
           "mark": "bar",
           "title": "1934",
           "width": 120
          },
          {
           "columns": 4,
           "data": {
            "name": "data-3bc4a7def7712892ef2a5e74a39fafb8"
           },
           "encoding": {
            "x": {
             "field": "count",
             "type": "quantitative"
            },
            "y": {
             "field": "word",
             "type": "nominal"
            }
           },
           "height": 120,
           "mark": "bar",
           "title": "1935",
           "width": 120
          },
          {
           "columns": 4,
           "data": {
            "name": "data-1b905d0cfc6107e74e2d77051af70927"
           },
           "encoding": {
            "x": {
             "field": "count",
             "type": "quantitative"
            },
            "y": {
             "field": "word",
             "type": "nominal"
            }
           },
           "height": 120,
           "mark": "bar",
           "title": "1936",
           "width": 120
          },
          {
           "columns": 4,
           "data": {
            "name": "data-97122cf35ff0883a888ab588bd955ffc"
           },
           "encoding": {
            "x": {
             "field": "count",
             "type": "quantitative"
            },
            "y": {
             "field": "word",
             "type": "nominal"
            }
           },
           "height": 120,
           "mark": "bar",
           "title": "1937",
           "width": 120
          }
         ]
        },
        {
         "data": {
          "name": "data-b1970673e09897bd9e6d8d9ec0fc4d44"
         },
         "hconcat": [
          {
           "columns": 4,
           "encoding": {
            "x": {
             "field": "count",
             "type": "quantitative"
            },
            "y": {
             "field": "word",
             "type": "nominal"
            }
           },
           "height": 120,
           "mark": "bar",
           "title": "1938",
           "width": 120
          },
          {
           "columns": 4,
           "data": {
            "name": "data-aa67e2ea0410264ba80dca667b464d1e"
           },
           "encoding": {
            "x": {
             "field": "count",
             "type": "quantitative"
            },
            "y": {
             "field": "word",
             "type": "nominal"
            }
           },
           "height": 120,
           "mark": "bar",
           "title": "1939",
           "width": 120
          },
          {
           "columns": 4,
           "data": {
            "name": "data-b72b162892a34f5a3a5e11c5cd43eace"
           },
           "encoding": {
            "x": {
             "field": "count",
             "type": "quantitative"
            },
            "y": {
             "field": "word",
             "type": "nominal"
            }
           },
           "height": 120,
           "mark": "bar",
           "title": "1940",
           "width": 120
          },
          {
           "columns": 4,
           "data": {
            "name": "data-955f9c4888f0d4b5a0dad10e68dc7a6e"
           },
           "encoding": {
            "x": {
             "field": "count",
             "type": "quantitative"
            },
            "y": {
             "field": "word",
             "type": "nominal"
            }
           },
           "height": 120,
           "mark": "bar",
           "title": "1941",
           "width": 120
          }
         ]
        },
        {
         "data": {
          "name": "data-474c3e6d04e2e15f81ae83683cf9dbde"
         },
         "hconcat": [
          {
           "columns": 4,
           "encoding": {
            "x": {
             "field": "count",
             "type": "quantitative"
            },
            "y": {
             "field": "word",
             "type": "nominal"
            }
           },
           "height": 120,
           "mark": "bar",
           "title": "1942",
           "width": 120
          },
          {
           "columns": 4,
           "data": {
            "name": "data-dfae0b61a1924331118c121db6c9ff54"
           },
           "encoding": {
            "x": {
             "field": "count",
             "type": "quantitative"
            },
            "y": {
             "field": "word",
             "type": "nominal"
            }
           },
           "height": 120,
           "mark": "bar",
           "title": "1944",
           "width": 120
          },
          {
           "columns": 4,
           "data": {
            "name": "data-da5d969264e8fc389b8cbcfce650c6f0"
           },
           "encoding": {
            "x": {
             "field": "count",
             "type": "quantitative"
            },
            "y": {
             "field": "word",
             "type": "nominal"
            }
           },
           "height": 120,
           "mark": "bar",
           "title": "1945",
           "width": 120
          },
          {
           "columns": 4,
           "data": {
            "name": "data-f8129714179799db16786791ab40226c"
           },
           "encoding": {
            "x": {
             "field": "count",
             "type": "quantitative"
            },
            "y": {
             "field": "word",
             "type": "nominal"
            }
           },
           "height": 120,
           "mark": "bar",
           "title": "1946",
           "width": 120
          }
         ]
        },
        {
         "data": {
          "name": "data-73ad259e5087790aa75991be8c38af81"
         },
         "hconcat": [
          {
           "columns": 4,
           "encoding": {
            "x": {
             "field": "count",
             "type": "quantitative"
            },
            "y": {
             "field": "word",
             "type": "nominal"
            }
           },
           "height": 120,
           "mark": "bar",
           "title": "1947",
           "width": 120
          },
          {
           "columns": 4,
           "data": {
            "name": "data-503f6bfae5ff5688fab978f523f129f8"
           },
           "encoding": {
            "x": {
             "field": "count",
             "type": "quantitative"
            },
            "y": {
             "field": "word",
             "type": "nominal"
            }
           },
           "height": 120,
           "mark": "bar",
           "title": "1948",
           "width": 120
          },
          {
           "columns": 4,
           "data": {
            "name": "data-fa90c7186f4bb51957afa440e9fed2a1"
           },
           "encoding": {
            "x": {
             "field": "count",
             "type": "quantitative"
            },
            "y": {
             "field": "word",
             "type": "nominal"
            }
           },
           "height": 120,
           "mark": "bar",
           "title": "1949",
           "width": 120
          },
          {
           "columns": 4,
           "data": {
            "name": "data-8b1e1aa5750d85479baf6ed144068308"
           },
           "encoding": {
            "x": {
             "field": "count",
             "type": "quantitative"
            },
            "y": {
             "field": "word",
             "type": "nominal"
            }
           },
           "height": 120,
           "mark": "bar",
           "title": "1950",
           "width": 120
          }
         ]
        },
        {
         "data": {
          "name": "data-565bee0e0c9c3e859fb7ab0304ee8dc4"
         },
         "hconcat": [
          {
           "columns": 4,
           "encoding": {
            "x": {
             "field": "count",
             "type": "quantitative"
            },
            "y": {
             "field": "word",
             "type": "nominal"
            }
           },
           "height": 120,
           "mark": "bar",
           "title": "1951",
           "width": 120
          },
          {
           "columns": 4,
           "data": {
            "name": "data-a31bd40de9c11ed44c087302b8ae0045"
           },
           "encoding": {
            "x": {
             "field": "count",
             "type": "quantitative"
            },
            "y": {
             "field": "word",
             "type": "nominal"
            }
           },
           "height": 120,
           "mark": "bar",
           "title": "1952",
           "width": 120
          },
          {
           "columns": 4,
           "data": {
            "name": "data-c4adc354577db842767f0640fa8e8c2c"
           },
           "encoding": {
            "x": {
             "field": "count",
             "type": "quantitative"
            },
            "y": {
             "field": "word",
             "type": "nominal"
            }
           },
           "height": 120,
           "mark": "bar",
           "title": "1953",
           "width": 120
          },
          {
           "columns": 4,
           "data": {
            "name": "data-cf6627464a1cf1820d6c5d6b0aadd0ea"
           },
           "encoding": {
            "x": {
             "field": "count",
             "type": "quantitative"
            },
            "y": {
             "field": "word",
             "type": "nominal"
            }
           },
           "height": 120,
           "mark": "bar",
           "title": "1954",
           "width": 120
          }
         ]
        },
        {
         "data": {
          "name": "data-217ce60b35644a17768d2875b49f710d"
         },
         "hconcat": [
          {
           "columns": 4,
           "encoding": {
            "x": {
             "field": "count",
             "type": "quantitative"
            },
            "y": {
             "field": "word",
             "type": "nominal"
            }
           },
           "height": 120,
           "mark": "bar",
           "title": "1955",
           "width": 120
          },
          {
           "columns": 4,
           "data": {
            "name": "data-c93d6988222be04016e9976a4e7eb691"
           },
           "encoding": {
            "x": {
             "field": "count",
             "type": "quantitative"
            },
            "y": {
             "field": "word",
             "type": "nominal"
            }
           },
           "height": 120,
           "mark": "bar",
           "title": "1972",
           "width": 120
          },
          {
           "columns": 4,
           "data": {
            "name": "data-82c91bdab9e8920ae22346357d548fc9"
           },
           "encoding": {
            "x": {
             "field": "count",
             "type": "quantitative"
            },
            "y": {
             "field": "word",
             "type": "nominal"
            }
           },
           "height": 120,
           "mark": "bar",
           "title": "1975",
           "width": 120
          },
          {
           "columns": 4,
           "data": {
            "name": "data-07b6e9cda9c4271548eba5883c0e46ad"
           },
           "encoding": {
            "x": {
             "field": "count",
             "type": "quantitative"
            },
            "y": {
             "field": "word",
             "type": "nominal"
            }
           },
           "height": 120,
           "mark": "bar",
           "title": "1982",
           "width": 120
          }
         ]
        },
        {
         "data": {
          "name": "data-d35098bc96a0562635bc0612dc0430c7"
         },
         "hconcat": [
          {
           "columns": 4,
           "encoding": {
            "x": {
             "field": "count",
             "type": "quantitative"
            },
            "y": {
             "field": "word",
             "type": "nominal"
            }
           },
           "height": 120,
           "mark": "bar",
           "title": "1986",
           "width": 120
          },
          {
           "columns": 4,
           "data": {
            "name": "data-108029f983f62cf31c21020fe7fb44f3"
           },
           "encoding": {
            "x": {
             "field": "count",
             "type": "quantitative"
            },
            "y": {
             "field": "word",
             "type": "nominal"
            }
           },
           "height": 120,
           "mark": "bar",
           "title": "1987",
           "width": 120
          },
          {
           "columns": 4,
           "data": {
            "name": "data-076f52013e615ac326dceea8100dae7a"
           },
           "encoding": {
            "x": {
             "field": "count",
             "type": "quantitative"
            },
            "y": {
             "field": "word",
             "type": "nominal"
            }
           },
           "height": 120,
           "mark": "bar",
           "title": "2005",
           "width": 120
          }
         ]
        }
       ]
      },
      "image/png": "[encoded data removed]",
      "text/plain": [
       "<VegaLite 3 object>\n",
       "\n",
       "If you see this message, it means the renderer has not been properly enabled\n",
       "for the frontend that you are using. For more information, see\n",
       "https://altair-viz.github.io/user_guide/troubleshooting.html\n"
      ]
     },
     "execution_count": 41,
     "metadata": {},
     "output_type": "execute_result"
    }
   ],
   "source": [
    "compound_chart = alt.vconcat()\n",
    "years = df_years.index.tolist()\n",
    "# Number of columns\n",
    "cols = 4\n",
    "start = 0\n",
    "while start < len(years):\n",
    "    row = alt.hconcat()\n",
    "    for year in years[start:start+cols]:\n",
    "        df_year_word_count = pd.DataFrame([{'word': w, 'count': year_group_totals.loc[year][w]} for w in df_years.loc[year].tolist()])\n",
    "        chart = alt.Chart(df_year_word_count).mark_bar().encode(\n",
    "            y='word:N',\n",
    "            x='count:Q',\n",
    "        ).properties(width=120, height=120, title=str(year), columns=4)\n",
    "        row |= chart\n",
    "    compound_chart &= row\n",
    "    start += cols\n",
    "compound_chart"
   ]
  },
  {
   "cell_type": "markdown",
   "metadata": {},
   "source": [
    "## Visualise word frequencies over time"
   ]
  },
  {
   "cell_type": "code",
   "execution_count": 16,
   "metadata": {},
   "outputs": [],
   "source": [
    "def words_by_year(df, words):\n",
    "    df_words = pd.DataFrame()\n",
    "    for word in words:\n",
    "        try:\n",
    "            df_word = df.groupby(by='year').sum()[word].to_frame().reset_index().rename({word: 'count'}, axis=1)\n",
    "        except KeyError:\n",
    "            print(f\"'{word}' not found\")\n",
    "        else:\n",
    "            df_word['word'] = word\n",
    "            df_words = df_words.append(df_word, ignore_index=True)\n",
    "    return df_words"
   ]
  },
  {
   "cell_type": "code",
   "execution_count": 17,
   "metadata": {},
   "outputs": [
    {
     "name": "stdout",
     "output_type": "stream",
     "text": [
      "'racism' not found\n",
      "'racial' not found\n",
      "'white race' not found\n"
     ]
    }
   ],
   "source": [
    "df_words = words_by_year(df_freq_years, ['racism', 'racial', 'white race', 'chinese', 'kangaroo'])"
   ]
  },
  {
   "cell_type": "markdown",
   "metadata": {},
   "source": [
    "### Create a faceted chart"
   ]
  },
  {
   "cell_type": "code",
   "execution_count": 18,
   "metadata": {},
   "outputs": [
    {
     "data": {
      "application/vnd.vegalite.v3+json": {
       "$schema": "https://vega.github.io/schema/vega-lite/v3.4.0.json",
       "columns": 1,
       "config": {
        "mark": {
         "tooltip": null
        },
        "view": {
         "height": 300,
         "width": 400
        }
       },
       "data": {
        "name": "data-eb2de02a2256a9e8c35b864eeb0207b1"
       },
       "datasets": {
        "data-eb2de02a2256a9e8c35b864eeb0207b1": [
         {
          "count": 0,
          "word": "chinese",
          "year": 1860
         },
         {
          "count": 0,
          "word": "chinese",
          "year": 1862
         },
         {
          "count": 1,
          "word": "chinese",
          "year": 1863
         },
         {
          "count": 8,
          "word": "chinese",
          "year": 1864
         },
         {
          "count": 0,
          "word": "chinese",
          "year": 1867
         },
         {
          "count": 1,
          "word": "chinese",
          "year": 1872
         },
         {
          "count": 0,
          "word": "chinese",
          "year": 1873
         },
         {
          "count": 0,
          "word": "chinese",
          "year": 1874
         },
         {
          "count": 0,
          "word": "chinese",
          "year": 1877
         },
         {
          "count": 0,
          "word": "chinese",
          "year": 1878
         },
         {
          "count": 0,
          "word": "chinese",
          "year": 1879
         },
         {
          "count": 0,
          "word": "chinese",
          "year": 1880
         },
         {
          "count": 0,
          "word": "chinese",
          "year": 1881
         },
         {
          "count": 0,
          "word": "chinese",
          "year": 1883
         },
         {
          "count": 0,
          "word": "chinese",
          "year": 1884
         },
         {
          "count": 2,
          "word": "chinese",
          "year": 1885
         },
         {
          "count": 0,
          "word": "chinese",
          "year": 1886
         },
         {
          "count": 2,
          "word": "chinese",
          "year": 1887
         },
         {
          "count": 16,
          "word": "chinese",
          "year": 1888
         },
         {
          "count": 15,
          "word": "chinese",
          "year": 1889
         },
         {
          "count": 20,
          "word": "chinese",
          "year": 1890
         },
         {
          "count": 9,
          "word": "chinese",
          "year": 1891
         },
         {
          "count": 5,
          "word": "chinese",
          "year": 1892
         },
         {
          "count": 9,
          "word": "chinese",
          "year": 1893
         },
         {
          "count": 7,
          "word": "chinese",
          "year": 1894
         },
         {
          "count": 11,
          "word": "chinese",
          "year": 1895
         },
         {
          "count": 5,
          "word": "chinese",
          "year": 1896
         },
         {
          "count": 11,
          "word": "chinese",
          "year": 1897
         },
         {
          "count": 20,
          "word": "chinese",
          "year": 1898
         },
         {
          "count": 9,
          "word": "chinese",
          "year": 1899
         },
         {
          "count": 1,
          "word": "chinese",
          "year": 1900
         },
         {
          "count": 6,
          "word": "chinese",
          "year": 1901
         },
         {
          "count": 26,
          "word": "chinese",
          "year": 1902
         },
         {
          "count": 8,
          "word": "chinese",
          "year": 1903
         },
         {
          "count": 3,
          "word": "chinese",
          "year": 1904
         },
         {
          "count": 7,
          "word": "chinese",
          "year": 1905
         },
         {
          "count": 4,
          "word": "chinese",
          "year": 1906
         },
         {
          "count": 0,
          "word": "chinese",
          "year": 1907
         },
         {
          "count": 0,
          "word": "chinese",
          "year": 1908
         },
         {
          "count": 2,
          "word": "chinese",
          "year": 1909
         },
         {
          "count": 0,
          "word": "chinese",
          "year": 1910
         },
         {
          "count": 0,
          "word": "chinese",
          "year": 1911
         },
         {
          "count": 0,
          "word": "chinese",
          "year": 1912
         },
         {
          "count": 4,
          "word": "chinese",
          "year": 1913
         },
         {
          "count": 3,
          "word": "chinese",
          "year": 1914
         },
         {
          "count": 0,
          "word": "chinese",
          "year": 1915
         },
         {
          "count": 0,
          "word": "chinese",
          "year": 1916
         },
         {
          "count": 0,
          "word": "chinese",
          "year": 1917
         },
         {
          "count": 5,
          "word": "chinese",
          "year": 1918
         },
         {
          "count": 0,
          "word": "chinese",
          "year": 1919
         },
         {
          "count": 0,
          "word": "chinese",
          "year": 1920
         },
         {
          "count": 0,
          "word": "chinese",
          "year": 1921
         },
         {
          "count": 1,
          "word": "chinese",
          "year": 1922
         },
         {
          "count": 0,
          "word": "chinese",
          "year": 1923
         },
         {
          "count": 0,
          "word": "chinese",
          "year": 1924
         },
         {
          "count": 2,
          "word": "chinese",
          "year": 1925
         },
         {
          "count": 0,
          "word": "chinese",
          "year": 1926
         },
         {
          "count": 3,
          "word": "chinese",
          "year": 1927
         },
         {
          "count": 4,
          "word": "chinese",
          "year": 1928
         },
         {
          "count": 0,
          "word": "chinese",
          "year": 1929
         },
         {
          "count": 0,
          "word": "chinese",
          "year": 1930
         },
         {
          "count": 0,
          "word": "chinese",
          "year": 1931
         },
         {
          "count": 0,
          "word": "chinese",
          "year": 1932
         },
         {
          "count": 1,
          "word": "chinese",
          "year": 1933
         },
         {
          "count": 2,
          "word": "chinese",
          "year": 1934
         },
         {
          "count": 0,
          "word": "chinese",
          "year": 1935
         },
         {
          "count": 0,
          "word": "chinese",
          "year": 1936
         },
         {
          "count": 0,
          "word": "chinese",
          "year": 1937
         },
         {
          "count": 1,
          "word": "chinese",
          "year": 1938
         },
         {
          "count": 5,
          "word": "chinese",
          "year": 1939
         },
         {
          "count": 1,
          "word": "chinese",
          "year": 1940
         },
         {
          "count": 0,
          "word": "chinese",
          "year": 1941
         },
         {
          "count": 0,
          "word": "chinese",
          "year": 1942
         },
         {
          "count": 0,
          "word": "chinese",
          "year": 1944
         },
         {
          "count": 0,
          "word": "chinese",
          "year": 1945
         },
         {
          "count": 0,
          "word": "chinese",
          "year": 1946
         },
         {
          "count": 0,
          "word": "chinese",
          "year": 1947
         },
         {
          "count": 1,
          "word": "chinese",
          "year": 1948
         },
         {
          "count": 0,
          "word": "chinese",
          "year": 1949
         },
         {
          "count": 0,
          "word": "chinese",
          "year": 1950
         },
         {
          "count": 0,
          "word": "chinese",
          "year": 1951
         },
         {
          "count": 0,
          "word": "chinese",
          "year": 1952
         },
         {
          "count": 0,
          "word": "chinese",
          "year": 1953
         },
         {
          "count": 1,
          "word": "chinese",
          "year": 1954
         },
         {
          "count": 0,
          "word": "chinese",
          "year": 1955
         },
         {
          "count": 0,
          "word": "chinese",
          "year": 1972
         },
         {
          "count": 0,
          "word": "chinese",
          "year": 1975
         },
         {
          "count": 0,
          "word": "chinese",
          "year": 1982
         },
         {
          "count": 0,
          "word": "chinese",
          "year": 1986
         },
         {
          "count": 1,
          "word": "chinese",
          "year": 1987
         },
         {
          "count": 0,
          "word": "chinese",
          "year": 2005
         },
         {
          "count": 0,
          "word": "kangaroo",
          "year": 1860
         },
         {
          "count": 0,
          "word": "kangaroo",
          "year": 1862
         },
         {
          "count": 0,
          "word": "kangaroo",
          "year": 1863
         },
         {
          "count": 0,
          "word": "kangaroo",
          "year": 1864
         },
         {
          "count": 0,
          "word": "kangaroo",
          "year": 1867
         },
         {
          "count": 0,
          "word": "kangaroo",
          "year": 1872
         },
         {
          "count": 0,
          "word": "kangaroo",
          "year": 1873
         },
         {
          "count": 0,
          "word": "kangaroo",
          "year": 1874
         },
         {
          "count": 0,
          "word": "kangaroo",
          "year": 1877
         },
         {
          "count": 0,
          "word": "kangaroo",
          "year": 1878
         },
         {
          "count": 0,
          "word": "kangaroo",
          "year": 1879
         },
         {
          "count": 1,
          "word": "kangaroo",
          "year": 1880
         },
         {
          "count": 5,
          "word": "kangaroo",
          "year": 1881
         },
         {
          "count": 0,
          "word": "kangaroo",
          "year": 1883
         },
         {
          "count": 2,
          "word": "kangaroo",
          "year": 1884
         },
         {
          "count": 4,
          "word": "kangaroo",
          "year": 1885
         },
         {
          "count": 1,
          "word": "kangaroo",
          "year": 1886
         },
         {
          "count": 7,
          "word": "kangaroo",
          "year": 1887
         },
         {
          "count": 7,
          "word": "kangaroo",
          "year": 1888
         },
         {
          "count": 22,
          "word": "kangaroo",
          "year": 1889
         },
         {
          "count": 22,
          "word": "kangaroo",
          "year": 1890
         },
         {
          "count": 16,
          "word": "kangaroo",
          "year": 1891
         },
         {
          "count": 11,
          "word": "kangaroo",
          "year": 1892
         },
         {
          "count": 33,
          "word": "kangaroo",
          "year": 1893
         },
         {
          "count": 0,
          "word": "kangaroo",
          "year": 1894
         },
         {
          "count": 10,
          "word": "kangaroo",
          "year": 1895
         },
         {
          "count": 0,
          "word": "kangaroo",
          "year": 1896
         },
         {
          "count": 3,
          "word": "kangaroo",
          "year": 1897
         },
         {
          "count": 6,
          "word": "kangaroo",
          "year": 1898
         },
         {
          "count": 12,
          "word": "kangaroo",
          "year": 1899
         },
         {
          "count": 0,
          "word": "kangaroo",
          "year": 1900
         },
         {
          "count": 4,
          "word": "kangaroo",
          "year": 1901
         },
         {
          "count": 10,
          "word": "kangaroo",
          "year": 1902
         },
         {
          "count": 0,
          "word": "kangaroo",
          "year": 1903
         },
         {
          "count": 1,
          "word": "kangaroo",
          "year": 1904
         },
         {
          "count": 1,
          "word": "kangaroo",
          "year": 1905
         },
         {
          "count": 1,
          "word": "kangaroo",
          "year": 1906
         },
         {
          "count": 0,
          "word": "kangaroo",
          "year": 1907
         },
         {
          "count": 0,
          "word": "kangaroo",
          "year": 1908
         },
         {
          "count": 1,
          "word": "kangaroo",
          "year": 1909
         },
         {
          "count": 0,
          "word": "kangaroo",
          "year": 1910
         },
         {
          "count": 2,
          "word": "kangaroo",
          "year": 1911
         },
         {
          "count": 1,
          "word": "kangaroo",
          "year": 1912
         },
         {
          "count": 2,
          "word": "kangaroo",
          "year": 1913
         },
         {
          "count": 2,
          "word": "kangaroo",
          "year": 1914
         },
         {
          "count": 0,
          "word": "kangaroo",
          "year": 1915
         },
         {
          "count": 0,
          "word": "kangaroo",
          "year": 1916
         },
         {
          "count": 0,
          "word": "kangaroo",
          "year": 1917
         },
         {
          "count": 0,
          "word": "kangaroo",
          "year": 1918
         },
         {
          "count": 0,
          "word": "kangaroo",
          "year": 1919
         },
         {
          "count": 0,
          "word": "kangaroo",
          "year": 1920
         },
         {
          "count": 0,
          "word": "kangaroo",
          "year": 1921
         },
         {
          "count": 0,
          "word": "kangaroo",
          "year": 1922
         },
         {
          "count": 0,
          "word": "kangaroo",
          "year": 1923
         },
         {
          "count": 0,
          "word": "kangaroo",
          "year": 1924
         },
         {
          "count": 0,
          "word": "kangaroo",
          "year": 1925
         },
         {
          "count": 0,
          "word": "kangaroo",
          "year": 1926
         },
         {
          "count": 0,
          "word": "kangaroo",
          "year": 1927
         },
         {
          "count": 0,
          "word": "kangaroo",
          "year": 1928
         },
         {
          "count": 0,
          "word": "kangaroo",
          "year": 1929
         },
         {
          "count": 1,
          "word": "kangaroo",
          "year": 1930
         },
         {
          "count": 0,
          "word": "kangaroo",
          "year": 1931
         },
         {
          "count": 1,
          "word": "kangaroo",
          "year": 1932
         },
         {
          "count": 2,
          "word": "kangaroo",
          "year": 1933
         },
         {
          "count": 0,
          "word": "kangaroo",
          "year": 1934
         },
         {
          "count": 0,
          "word": "kangaroo",
          "year": 1935
         },
         {
          "count": 0,
          "word": "kangaroo",
          "year": 1936
         },
         {
          "count": 0,
          "word": "kangaroo",
          "year": 1937
         },
         {
          "count": 0,
          "word": "kangaroo",
          "year": 1938
         },
         {
          "count": 1,
          "word": "kangaroo",
          "year": 1939
         },
         {
          "count": 0,
          "word": "kangaroo",
          "year": 1940
         },
         {
          "count": 1,
          "word": "kangaroo",
          "year": 1941
         },
         {
          "count": 0,
          "word": "kangaroo",
          "year": 1942
         },
         {
          "count": 0,
          "word": "kangaroo",
          "year": 1944
         },
         {
          "count": 0,
          "word": "kangaroo",
          "year": 1945
         },
         {
          "count": 0,
          "word": "kangaroo",
          "year": 1946
         },
         {
          "count": 0,
          "word": "kangaroo",
          "year": 1947
         },
         {
          "count": 1,
          "word": "kangaroo",
          "year": 1948
         },
         {
          "count": 0,
          "word": "kangaroo",
          "year": 1949
         },
         {
          "count": 0,
          "word": "kangaroo",
          "year": 1950
         },
         {
          "count": 0,
          "word": "kangaroo",
          "year": 1951
         },
         {
          "count": 0,
          "word": "kangaroo",
          "year": 1952
         },
         {
          "count": 0,
          "word": "kangaroo",
          "year": 1953
         },
         {
          "count": 0,
          "word": "kangaroo",
          "year": 1954
         },
         {
          "count": 0,
          "word": "kangaroo",
          "year": 1955
         },
         {
          "count": 0,
          "word": "kangaroo",
          "year": 1972
         },
         {
          "count": 0,
          "word": "kangaroo",
          "year": 1975
         },
         {
          "count": 0,
          "word": "kangaroo",
          "year": 1982
         },
         {
          "count": 0,
          "word": "kangaroo",
          "year": 1986
         },
         {
          "count": 0,
          "word": "kangaroo",
          "year": 1987
         },
         {
          "count": 0,
          "word": "kangaroo",
          "year": 2005
         }
        ]
       },
       "encoding": {
        "color": {
         "field": "word",
         "type": "nominal"
        },
        "facet": {
         "field": "word",
         "type": "nominal"
        },
        "x": {
         "axis": {
          "format": "c",
          "title": "Year"
         },
         "field": "year",
         "type": "quantitative"
        },
        "y": {
         "field": "count",
         "type": "quantitative"
        }
       },
       "height": 100,
       "mark": "line",
       "width": 700
      },
      "image/png": "[encoded data removed]",
      "text/plain": [
       "<VegaLite 3 object>\n",
       "\n",
       "If you see this message, it means the renderer has not been properly enabled\n",
       "for the frontend that you are using. For more information, see\n",
       "https://altair-viz.github.io/user_guide/troubleshooting.html\n"
      ]
     },
     "execution_count": 18,
     "metadata": {},
     "output_type": "execute_result"
    }
   ],
   "source": [
    "alt.Chart(df_words.loc[df_words['year'] > 0]).mark_line().encode(\n",
    "    x=alt.X('year:Q', axis=alt.Axis(format='c', title='Year')),\n",
    "    y='count:Q',\n",
    "    color='word:N',\n",
    "    facet='word:N'\n",
    ").properties(width=700, height=100, columns=1)"
   ]
  },
  {
   "cell_type": "markdown",
   "metadata": {},
   "source": [
    "### Create a bubbleline chart"
   ]
  },
  {
   "cell_type": "code",
   "execution_count": 19,
   "metadata": {},
   "outputs": [
    {
     "data": {
      "application/vnd.vegalite.v3+json": {
       "$schema": "https://vega.github.io/schema/vega-lite/v3.4.0.json",
       "config": {
        "mark": {
         "tooltip": null
        },
        "view": {
         "height": 300,
         "width": 400
        }
       },
       "data": {
        "name": "data-eb2de02a2256a9e8c35b864eeb0207b1"
       },
       "datasets": {
        "data-eb2de02a2256a9e8c35b864eeb0207b1": [
         {
          "count": 0,
          "word": "chinese",
          "year": 1860
         },
         {
          "count": 0,
          "word": "chinese",
          "year": 1862
         },
         {
          "count": 1,
          "word": "chinese",
          "year": 1863
         },
         {
          "count": 8,
          "word": "chinese",
          "year": 1864
         },
         {
          "count": 0,
          "word": "chinese",
          "year": 1867
         },
         {
          "count": 1,
          "word": "chinese",
          "year": 1872
         },
         {
          "count": 0,
          "word": "chinese",
          "year": 1873
         },
         {
          "count": 0,
          "word": "chinese",
          "year": 1874
         },
         {
          "count": 0,
          "word": "chinese",
          "year": 1877
         },
         {
          "count": 0,
          "word": "chinese",
          "year": 1878
         },
         {
          "count": 0,
          "word": "chinese",
          "year": 1879
         },
         {
          "count": 0,
          "word": "chinese",
          "year": 1880
         },
         {
          "count": 0,
          "word": "chinese",
          "year": 1881
         },
         {
          "count": 0,
          "word": "chinese",
          "year": 1883
         },
         {
          "count": 0,
          "word": "chinese",
          "year": 1884
         },
         {
          "count": 2,
          "word": "chinese",
          "year": 1885
         },
         {
          "count": 0,
          "word": "chinese",
          "year": 1886
         },
         {
          "count": 2,
          "word": "chinese",
          "year": 1887
         },
         {
          "count": 16,
          "word": "chinese",
          "year": 1888
         },
         {
          "count": 15,
          "word": "chinese",
          "year": 1889
         },
         {
          "count": 20,
          "word": "chinese",
          "year": 1890
         },
         {
          "count": 9,
          "word": "chinese",
          "year": 1891
         },
         {
          "count": 5,
          "word": "chinese",
          "year": 1892
         },
         {
          "count": 9,
          "word": "chinese",
          "year": 1893
         },
         {
          "count": 7,
          "word": "chinese",
          "year": 1894
         },
         {
          "count": 11,
          "word": "chinese",
          "year": 1895
         },
         {
          "count": 5,
          "word": "chinese",
          "year": 1896
         },
         {
          "count": 11,
          "word": "chinese",
          "year": 1897
         },
         {
          "count": 20,
          "word": "chinese",
          "year": 1898
         },
         {
          "count": 9,
          "word": "chinese",
          "year": 1899
         },
         {
          "count": 1,
          "word": "chinese",
          "year": 1900
         },
         {
          "count": 6,
          "word": "chinese",
          "year": 1901
         },
         {
          "count": 26,
          "word": "chinese",
          "year": 1902
         },
         {
          "count": 8,
          "word": "chinese",
          "year": 1903
         },
         {
          "count": 3,
          "word": "chinese",
          "year": 1904
         },
         {
          "count": 7,
          "word": "chinese",
          "year": 1905
         },
         {
          "count": 4,
          "word": "chinese",
          "year": 1906
         },
         {
          "count": 0,
          "word": "chinese",
          "year": 1907
         },
         {
          "count": 0,
          "word": "chinese",
          "year": 1908
         },
         {
          "count": 2,
          "word": "chinese",
          "year": 1909
         },
         {
          "count": 0,
          "word": "chinese",
          "year": 1910
         },
         {
          "count": 0,
          "word": "chinese",
          "year": 1911
         },
         {
          "count": 0,
          "word": "chinese",
          "year": 1912
         },
         {
          "count": 4,
          "word": "chinese",
          "year": 1913
         },
         {
          "count": 3,
          "word": "chinese",
          "year": 1914
         },
         {
          "count": 0,
          "word": "chinese",
          "year": 1915
         },
         {
          "count": 0,
          "word": "chinese",
          "year": 1916
         },
         {
          "count": 0,
          "word": "chinese",
          "year": 1917
         },
         {
          "count": 5,
          "word": "chinese",
          "year": 1918
         },
         {
          "count": 0,
          "word": "chinese",
          "year": 1919
         },
         {
          "count": 0,
          "word": "chinese",
          "year": 1920
         },
         {
          "count": 0,
          "word": "chinese",
          "year": 1921
         },
         {
          "count": 1,
          "word": "chinese",
          "year": 1922
         },
         {
          "count": 0,
          "word": "chinese",
          "year": 1923
         },
         {
          "count": 0,
          "word": "chinese",
          "year": 1924
         },
         {
          "count": 2,
          "word": "chinese",
          "year": 1925
         },
         {
          "count": 0,
          "word": "chinese",
          "year": 1926
         },
         {
          "count": 3,
          "word": "chinese",
          "year": 1927
         },
         {
          "count": 4,
          "word": "chinese",
          "year": 1928
         },
         {
          "count": 0,
          "word": "chinese",
          "year": 1929
         },
         {
          "count": 0,
          "word": "chinese",
          "year": 1930
         },
         {
          "count": 0,
          "word": "chinese",
          "year": 1931
         },
         {
          "count": 0,
          "word": "chinese",
          "year": 1932
         },
         {
          "count": 1,
          "word": "chinese",
          "year": 1933
         },
         {
          "count": 2,
          "word": "chinese",
          "year": 1934
         },
         {
          "count": 0,
          "word": "chinese",
          "year": 1935
         },
         {
          "count": 0,
          "word": "chinese",
          "year": 1936
         },
         {
          "count": 0,
          "word": "chinese",
          "year": 1937
         },
         {
          "count": 1,
          "word": "chinese",
          "year": 1938
         },
         {
          "count": 5,
          "word": "chinese",
          "year": 1939
         },
         {
          "count": 1,
          "word": "chinese",
          "year": 1940
         },
         {
          "count": 0,
          "word": "chinese",
          "year": 1941
         },
         {
          "count": 0,
          "word": "chinese",
          "year": 1942
         },
         {
          "count": 0,
          "word": "chinese",
          "year": 1944
         },
         {
          "count": 0,
          "word": "chinese",
          "year": 1945
         },
         {
          "count": 0,
          "word": "chinese",
          "year": 1946
         },
         {
          "count": 0,
          "word": "chinese",
          "year": 1947
         },
         {
          "count": 1,
          "word": "chinese",
          "year": 1948
         },
         {
          "count": 0,
          "word": "chinese",
          "year": 1949
         },
         {
          "count": 0,
          "word": "chinese",
          "year": 1950
         },
         {
          "count": 0,
          "word": "chinese",
          "year": 1951
         },
         {
          "count": 0,
          "word": "chinese",
          "year": 1952
         },
         {
          "count": 0,
          "word": "chinese",
          "year": 1953
         },
         {
          "count": 1,
          "word": "chinese",
          "year": 1954
         },
         {
          "count": 0,
          "word": "chinese",
          "year": 1955
         },
         {
          "count": 0,
          "word": "chinese",
          "year": 1972
         },
         {
          "count": 0,
          "word": "chinese",
          "year": 1975
         },
         {
          "count": 0,
          "word": "chinese",
          "year": 1982
         },
         {
          "count": 0,
          "word": "chinese",
          "year": 1986
         },
         {
          "count": 1,
          "word": "chinese",
          "year": 1987
         },
         {
          "count": 0,
          "word": "chinese",
          "year": 2005
         },
         {
          "count": 0,
          "word": "kangaroo",
          "year": 1860
         },
         {
          "count": 0,
          "word": "kangaroo",
          "year": 1862
         },
         {
          "count": 0,
          "word": "kangaroo",
          "year": 1863
         },
         {
          "count": 0,
          "word": "kangaroo",
          "year": 1864
         },
         {
          "count": 0,
          "word": "kangaroo",
          "year": 1867
         },
         {
          "count": 0,
          "word": "kangaroo",
          "year": 1872
         },
         {
          "count": 0,
          "word": "kangaroo",
          "year": 1873
         },
         {
          "count": 0,
          "word": "kangaroo",
          "year": 1874
         },
         {
          "count": 0,
          "word": "kangaroo",
          "year": 1877
         },
         {
          "count": 0,
          "word": "kangaroo",
          "year": 1878
         },
         {
          "count": 0,
          "word": "kangaroo",
          "year": 1879
         },
         {
          "count": 1,
          "word": "kangaroo",
          "year": 1880
         },
         {
          "count": 5,
          "word": "kangaroo",
          "year": 1881
         },
         {
          "count": 0,
          "word": "kangaroo",
          "year": 1883
         },
         {
          "count": 2,
          "word": "kangaroo",
          "year": 1884
         },
         {
          "count": 4,
          "word": "kangaroo",
          "year": 1885
         },
         {
          "count": 1,
          "word": "kangaroo",
          "year": 1886
         },
         {
          "count": 7,
          "word": "kangaroo",
          "year": 1887
         },
         {
          "count": 7,
          "word": "kangaroo",
          "year": 1888
         },
         {
          "count": 22,
          "word": "kangaroo",
          "year": 1889
         },
         {
          "count": 22,
          "word": "kangaroo",
          "year": 1890
         },
         {
          "count": 16,
          "word": "kangaroo",
          "year": 1891
         },
         {
          "count": 11,
          "word": "kangaroo",
          "year": 1892
         },
         {
          "count": 33,
          "word": "kangaroo",
          "year": 1893
         },
         {
          "count": 0,
          "word": "kangaroo",
          "year": 1894
         },
         {
          "count": 10,
          "word": "kangaroo",
          "year": 1895
         },
         {
          "count": 0,
          "word": "kangaroo",
          "year": 1896
         },
         {
          "count": 3,
          "word": "kangaroo",
          "year": 1897
         },
         {
          "count": 6,
          "word": "kangaroo",
          "year": 1898
         },
         {
          "count": 12,
          "word": "kangaroo",
          "year": 1899
         },
         {
          "count": 0,
          "word": "kangaroo",
          "year": 1900
         },
         {
          "count": 4,
          "word": "kangaroo",
          "year": 1901
         },
         {
          "count": 10,
          "word": "kangaroo",
          "year": 1902
         },
         {
          "count": 0,
          "word": "kangaroo",
          "year": 1903
         },
         {
          "count": 1,
          "word": "kangaroo",
          "year": 1904
         },
         {
          "count": 1,
          "word": "kangaroo",
          "year": 1905
         },
         {
          "count": 1,
          "word": "kangaroo",
          "year": 1906
         },
         {
          "count": 0,
          "word": "kangaroo",
          "year": 1907
         },
         {
          "count": 0,
          "word": "kangaroo",
          "year": 1908
         },
         {
          "count": 1,
          "word": "kangaroo",
          "year": 1909
         },
         {
          "count": 0,
          "word": "kangaroo",
          "year": 1910
         },
         {
          "count": 2,
          "word": "kangaroo",
          "year": 1911
         },
         {
          "count": 1,
          "word": "kangaroo",
          "year": 1912
         },
         {
          "count": 2,
          "word": "kangaroo",
          "year": 1913
         },
         {
          "count": 2,
          "word": "kangaroo",
          "year": 1914
         },
         {
          "count": 0,
          "word": "kangaroo",
          "year": 1915
         },
         {
          "count": 0,
          "word": "kangaroo",
          "year": 1916
         },
         {
          "count": 0,
          "word": "kangaroo",
          "year": 1917
         },
         {
          "count": 0,
          "word": "kangaroo",
          "year": 1918
         },
         {
          "count": 0,
          "word": "kangaroo",
          "year": 1919
         },
         {
          "count": 0,
          "word": "kangaroo",
          "year": 1920
         },
         {
          "count": 0,
          "word": "kangaroo",
          "year": 1921
         },
         {
          "count": 0,
          "word": "kangaroo",
          "year": 1922
         },
         {
          "count": 0,
          "word": "kangaroo",
          "year": 1923
         },
         {
          "count": 0,
          "word": "kangaroo",
          "year": 1924
         },
         {
          "count": 0,
          "word": "kangaroo",
          "year": 1925
         },
         {
          "count": 0,
          "word": "kangaroo",
          "year": 1926
         },
         {
          "count": 0,
          "word": "kangaroo",
          "year": 1927
         },
         {
          "count": 0,
          "word": "kangaroo",
          "year": 1928
         },
         {
          "count": 0,
          "word": "kangaroo",
          "year": 1929
         },
         {
          "count": 1,
          "word": "kangaroo",
          "year": 1930
         },
         {
          "count": 0,
          "word": "kangaroo",
          "year": 1931
         },
         {
          "count": 1,
          "word": "kangaroo",
          "year": 1932
         },
         {
          "count": 2,
          "word": "kangaroo",
          "year": 1933
         },
         {
          "count": 0,
          "word": "kangaroo",
          "year": 1934
         },
         {
          "count": 0,
          "word": "kangaroo",
          "year": 1935
         },
         {
          "count": 0,
          "word": "kangaroo",
          "year": 1936
         },
         {
          "count": 0,
          "word": "kangaroo",
          "year": 1937
         },
         {
          "count": 0,
          "word": "kangaroo",
          "year": 1938
         },
         {
          "count": 1,
          "word": "kangaroo",
          "year": 1939
         },
         {
          "count": 0,
          "word": "kangaroo",
          "year": 1940
         },
         {
          "count": 1,
          "word": "kangaroo",
          "year": 1941
         },
         {
          "count": 0,
          "word": "kangaroo",
          "year": 1942
         },
         {
          "count": 0,
          "word": "kangaroo",
          "year": 1944
         },
         {
          "count": 0,
          "word": "kangaroo",
          "year": 1945
         },
         {
          "count": 0,
          "word": "kangaroo",
          "year": 1946
         },
         {
          "count": 0,
          "word": "kangaroo",
          "year": 1947
         },
         {
          "count": 1,
          "word": "kangaroo",
          "year": 1948
         },
         {
          "count": 0,
          "word": "kangaroo",
          "year": 1949
         },
         {
          "count": 0,
          "word": "kangaroo",
          "year": 1950
         },
         {
          "count": 0,
          "word": "kangaroo",
          "year": 1951
         },
         {
          "count": 0,
          "word": "kangaroo",
          "year": 1952
         },
         {
          "count": 0,
          "word": "kangaroo",
          "year": 1953
         },
         {
          "count": 0,
          "word": "kangaroo",
          "year": 1954
         },
         {
          "count": 0,
          "word": "kangaroo",
          "year": 1955
         },
         {
          "count": 0,
          "word": "kangaroo",
          "year": 1972
         },
         {
          "count": 0,
          "word": "kangaroo",
          "year": 1975
         },
         {
          "count": 0,
          "word": "kangaroo",
          "year": 1982
         },
         {
          "count": 0,
          "word": "kangaroo",
          "year": 1986
         },
         {
          "count": 0,
          "word": "kangaroo",
          "year": 1987
         },
         {
          "count": 0,
          "word": "kangaroo",
          "year": 2005
         }
        ]
       },
       "encoding": {
        "color": {
         "field": "word",
         "legend": null,
         "type": "nominal"
        },
        "size": {
         "field": "count",
         "legend": {
          "title": "Frequency"
         },
         "scale": {
          "range": [
           0,
           2000
          ]
         },
         "type": "quantitative"
        },
        "tooltip": [
         {
          "field": "word",
          "title": "Word",
          "type": "nominal"
         },
         {
          "field": "year",
          "title": "Year",
          "type": "ordinal"
         },
         {
          "field": "count",
          "format": ",",
          "title": "Frequency",
          "type": "quantitative"
         }
        ],
        "x": {
         "axis": {
          "format": "c",
          "labelAngle": 0,
          "title": "Year"
         },
         "field": "year",
         "type": "ordinal"
        },
        "y": {
         "field": "word",
         "title": "Word",
         "type": "nominal"
        }
       },
       "height": 300,
       "mark": {
        "opacity": 0.8,
        "stroke": "black",
        "strokeWidth": 1,
        "type": "circle"
       },
       "width": 700
      },
      "image/png": "[encoded data removed]",
      "text/plain": [
       "<VegaLite 3 object>\n",
       "\n",
       "If you see this message, it means the renderer has not been properly enabled\n",
       "for the frontend that you are using. For more information, see\n",
       "https://altair-viz.github.io/user_guide/troubleshooting.html\n"
      ]
     },
     "execution_count": 19,
     "metadata": {},
     "output_type": "execute_result"
    }
   ],
   "source": [
    "# Create a chart\n",
    "alt.Chart(df_words.loc[df_words['year'] > 0]).mark_circle(\n",
    "    \n",
    "    # Style the circles\n",
    "    opacity=0.8,\n",
    "    stroke='black',\n",
    "    strokeWidth=1\n",
    ").encode(\n",
    "    \n",
    "    # Year on the X axis\n",
    "    x=alt.X('year:O', axis=alt.Axis(format='c', title='Year', labelAngle=0)),\n",
    "    \n",
    "    # Object type on the Y axis\n",
    "    y=alt.Y('word:N', title='Word'),\n",
    "    \n",
    "    # Size of the circles represents the number of objects\n",
    "    size=alt.Size('count:Q',\n",
    "        scale=alt.Scale(range=[0, 2000]),\n",
    "        legend=alt.Legend(title='Frequency')\n",
    "    ),\n",
    "    \n",
    "    # Color the circles by object type\n",
    "    color=alt.Color('word:N', legend=None),\n",
    "    \n",
    "    # More details on hover\n",
    "    tooltip=[alt.Tooltip('word:N', title='Word'), alt.Tooltip('year:O', title='Year'), alt.Tooltip('count:Q', title='Frequency', format=',')]\n",
    ").properties(\n",
    "    width=700,\n",
    "    height=300\n",
    ")"
   ]
  },
  {
   "cell_type": "markdown",
   "metadata": {},
   "source": [
    "## Visualise word frequences by newspaper\n",
    "\n",
    "The file titles also include the id of the newspaper they were published in. For example, `18601224-13-5696044` was published in the newspaper with the id of `13`, which happenes to be *The Argus*."
   ]
  }
 ],
 "metadata": {
  "kernelspec": {
   "display_name": "Python 3",
   "language": "python",
   "name": "python3"
  },
  "language_info": {
   "codemirror_mode": {
    "name": "ipython",
    "version": 3
   },
   "file_extension": ".py",
   "mimetype": "text/x-python",
   "name": "python",
   "nbconvert_exporter": "python",
   "pygments_lexer": "ipython3",
   "version": "3.7.3"
  }
 },
 "nbformat": 4,
 "nbformat_minor": 4
}
