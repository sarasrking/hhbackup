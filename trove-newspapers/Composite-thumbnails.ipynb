{
 "cells": [
  {
   "cell_type": "markdown",
   "metadata": {},
   "source": [
    "# Make composite images from lots of Trove newspaper thumbnails\n",
    "\n",
    "This notebook starts with a search in Trove's newspapers. It uses the Trove API to work it's way through the search results. For each article it creates a thumbnail image using the [code from this notebook](Get-article-thumbnail.ipynb). Once this first stage is finished, you have a directory full of lots of thumbnails.\n",
    "\n",
    "The next stage takes all those thumbnails and pastes them one by one into a BIG image to create a composite, or mosaic.\n",
    "\n",
    "You'll need to think carefully about the number of results in your search, and the size of the image you want to create. Harvesting all the thumbnails can take a long time.\n",
    "\n",
    "Also, you need to be able to set a path to a font file, so it's probably best to run this notebook on your local machine rather than in a cloud service, so you have more control over things like font. You might also need to adjust the font size depending on the font you choose.\n",
    "\n",
    "Some examples:\n",
    "\n",
    "* [White Australia Policy](https://easyzoom.com/image/139535)\n",
    "* [Australian aviators, pilots, flyers, and airmen](https://www.easyzoom.com/imageaccess/9d26953ccdf5475cad9c11f308cd7988)"
   ]
  },
  {
   "cell_type": "code",
   "execution_count": 5,
   "metadata": {},
   "outputs": [],
   "source": [
    "import ipywidgets as widgets\n",
    "import requests\n",
    "import random\n",
    "import re\n",
    "import os\n",
    "from IPython.display import display, HTML, FileLink, clear_output\n",
    "from bs4 import BeautifulSoup\n",
    "from PIL import Image, ImageDraw, ImageFont\n",
    "from io import BytesIO\n",
    "from requests.adapters import HTTPAdapter\n",
    "from requests.packages.urllib3.util.retry import Retry\n",
    "from tqdm.auto import tqdm\n",
    "\n",
    "s = requests.Session()\n",
    "retries = Retry(total=5, backoff_factor=1, status_forcelist=[ 502, 503, 504 ])\n",
    "s.mount('https://', HTTPAdapter(max_retries=retries))\n",
    "s.mount('http://', HTTPAdapter(max_retries=retries))"
   ]
  },
  {
   "cell_type": "markdown",
   "metadata": {},
   "source": [
    "## Set your parameters\n",
    "\n",
    "Edit the values below as required."
   ]
  },
  {
   "cell_type": "code",
   "execution_count": 6,
   "metadata": {},
   "outputs": [],
   "source": [
    "font_path = '/Library/Fonts/Courier New.ttf'\n",
    "font_size = 12\n",
    "# Insert your search query\n",
    "query = 'title:\"spanish flu\"'\n",
    "# Insert your Trove API key\n",
    "api_key = 'bc6d2hs1ncduhmkh'\n",
    "size = 200 # Size of the thumbnails\n",
    "cols = 90 # The width of the final image will be cols x size\n",
    "rows = 55 # The height of the final image will be cols x size"
   ]
  },
  {
   "cell_type": "markdown",
   "metadata": {},
   "source": [
    "## Define some functions"
   ]
  },
  {
   "cell_type": "code",
   "execution_count": 7,
   "metadata": {},
   "outputs": [],
   "source": [
    "def get_article_top(article_url):\n",
    "    '''\n",
    "    Positional information about the article is attached to each line of the OCR output in data attributes.\n",
    "    This function loads the HTML version of the article and scrapes the x, y, and width values for the\n",
    "    top line of text (ie the top of the article).\n",
    "    '''\n",
    "    response = requests.get(article_url)\n",
    "    soup = BeautifulSoup(response.text, 'lxml')\n",
    "    # Lines of OCR are in divs with the class 'zone'\n",
    "    # 'onPage' limits to those on the current page\n",
    "    zones = soup.select('div.zone.onPage')\n",
    "    # Start with the first element, but...\n",
    "    top_element = zones[0]\n",
    "    top_y = int(top_element['data-y'])\n",
    "    # Illustrations might come after text even if they're above them on the page\n",
    "    # So loop through the zones to find the element with the lowest 'y' attribute\n",
    "    for zone in zones:\n",
    "        if int(zone['data-y']) < top_y:\n",
    "            top_y = int(zone['data-y'])\n",
    "            top_element = zone\n",
    "    top_x = int(top_element['data-x'])\n",
    "    top_w = int(top_element['data-w'])\n",
    "    return {'x': top_x, 'y': top_y, 'w': top_w}\n",
    "\n",
    "def get_thumbnail(article, size, font_path, font_size):\n",
    "    buffer = 0\n",
    "    try:\n",
    "        page_id = re.search(r'page\\/(\\d+)', article['trovePageUrl']).group(1)\n",
    "    except (AttributeError, KeyError):\n",
    "        thumb = None\n",
    "    else:\n",
    "        # Get position of top line of article\n",
    "        article_top = get_article_top(article['troveUrl'])\n",
    "        # Construct the url we need to download the image\n",
    "        page_url = 'https://trove.nla.gov.au/ndp/imageservice/nla.news-page{}/level{}'.format(page_id, 7)\n",
    "        # Download the page image\n",
    "        response = s.get(page_url, timeout=120)\n",
    "        # Open download as an image for editing\n",
    "        img = Image.open(BytesIO(response.content))\n",
    "        # Use coordinates of top line to create a square box to crop thumbnail\n",
    "        box = (article_top['x'] - buffer, article_top['y'] - buffer, article_top['x'] + article_top['w'] + buffer, article_top['y'] + article_top['w'] + buffer)\n",
    "        try:\n",
    "            # Crop image to create thumb\n",
    "            thumb = img.crop(box)\n",
    "        except OSError:\n",
    "            thumb = None\n",
    "        else:\n",
    "            # Resize thumb\n",
    "            thumb.thumbnail((size, size), Image.ANTIALIAS)\n",
    "            article_id = 'nla.news-article{}'.format(article['id'])\n",
    "            fnt = ImageFont.truetype(font_path, 12)\n",
    "            draw = ImageDraw.Draw(thumb)\n",
    "            try:\n",
    "                # Check if RGB\n",
    "                draw.rectangle([(0, size-10), (size, size)], fill=(255, 255, 255, 255))\n",
    "                draw.text((0,size-10), article_id, font=fnt, fill=(0, 0, 0, 255))\n",
    "            except TypeError:\n",
    "                # Must be grayscale\n",
    "                draw.rectangle([(0, size-10), (200, 200)], fill=(255))\n",
    "                draw.text((0,size-10), article_id, font=fnt, fill=(0))\n",
    "    return thumb\n",
    "        \n",
    "def get_total_results(params):\n",
    "    '''\n",
    "    Get the total number of results for a search.\n",
    "    '''\n",
    "    these_params = params.copy()\n",
    "    these_params['n'] = 0\n",
    "    response = s.get('https://api.trove.nla.gov.au/v2/result', params=these_params, timeout=60)\n",
    "    # print(response.url)\n",
    "    data = response.json()\n",
    "    return int(data['response']['zone'][0]['records']['total'])\n",
    "        \n",
    "def get_thumbnails(query, api_key, size, font_path, font_size):\n",
    "    #im = Image.new('RGB', (cols*size, rows*size))\n",
    "    params = {\n",
    "        'q': query,\n",
    "        'zone': 'newspaper',\n",
    "        'encoding': 'json',\n",
    "        'bulkHarvest': 'true',\n",
    "        'n': 100,\n",
    "        'key': api_key,\n",
    "        'reclevel': 'full'\n",
    "    }\n",
    "    start = '*'\n",
    "    total = get_total_results(params)\n",
    "    x = 0\n",
    "    y = 0\n",
    "    index = 1\n",
    "    with tqdm(total=total) as pbar:\n",
    "        while start:\n",
    "            params['s'] = start\n",
    "            response = s.get('https://api.trove.nla.gov.au/v2/result', params=params, timeout=60)\n",
    "            data = response.json()\n",
    "            # The nextStart parameter is used to get the next page of results.\n",
    "            # If there's no nextStart then it means we're on the last page of results.\n",
    "            try:\n",
    "                start = data['response']['zone'][0]['records']['nextStart']\n",
    "            except KeyError:\n",
    "                start = None\n",
    "            for article in data['response']['zone'][0]['records']['article']:\n",
    "                thumb_file = 'thumbs/{}-nla.news-article{}.jpg'.format(article['date'], article['id'])\n",
    "                if not os.path.exists(thumb_file):\n",
    "                    try:\n",
    "                        # Get page id\n",
    "                        page_id = re.search(r'page\\/(\\d+)', article['trovePageUrl']).group(1)\n",
    "                    except (AttributeError, KeyError):\n",
    "                         pass\n",
    "                    else:\n",
    "                        thumb = get_thumbnail(article, size, font_path, font_size)\n",
    "                        if thumb:\n",
    "                            thumb.save(thumb_file)\n",
    "                pbar.update(1)\n",
    "    \n",
    "def create_composite(cols, rows, size):\n",
    "    im = Image.new('RGB', (cols*size, rows*size))\n",
    "    thumbs = [t for t in os.listdir('thumbs') if t[-4:] == '.jpg']\n",
    "    # This will sort by date, comment it out if you don't want that\n",
    "    # thumbs = sorted(thumbs)\n",
    "    x = 0\n",
    "    y = 0\n",
    "    for index, thumb_file in tqdm(enumerate(thumbs, 1)):\n",
    "        thumb = Image.open('thumbs/{}'.format(thumb_file))\n",
    "        try:\n",
    "            im.paste(thumb, (x, y, x+size, y+size))\n",
    "        except ValueError:\n",
    "            pass\n",
    "        else:\n",
    "            if (index % cols) == 0:\n",
    "                x = 0\n",
    "                y += size\n",
    "            else:\n",
    "                x += size\n",
    "    im.save('composite-{}-{}.jpg'.format(cols, rows), quality=90)\n",
    "    "
   ]
  },
  {
   "cell_type": "markdown",
   "metadata": {},
   "source": [
    "## Create all the thumbnails"
   ]
  },
  {
   "cell_type": "code",
   "execution_count": 8,
   "metadata": {},
   "outputs": [
    {
     "data": {
      "application/vnd.jupyter.widget-view+json": {
       "model_id": "34b6704d853b4ab49544f96fe02f86b9",
       "version_major": 2,
       "version_minor": 0
      },
      "text/plain": [
       "HBox(children=(IntProgress(value=0, max=91), HTML(value='')))"
      ]
     },
     "metadata": {},
     "output_type": "display_data"
    },
    {
     "name": "stdout",
     "output_type": "stream",
     "text": [
      "\n"
     ]
    },
    {
     "ename": "OSError",
     "evalue": "cannot open resource",
     "output_type": "error",
     "traceback": [
      "\u001b[0;31m---------------------------------------------------------------------------\u001b[0m",
      "\u001b[0;31mOSError\u001b[0m                                   Traceback (most recent call last)",
      "\u001b[0;32m<ipython-input-8-a9d7528f8f1b>\u001b[0m in \u001b[0;36m<module>\u001b[0;34m\u001b[0m\n\u001b[0;32m----> 1\u001b[0;31m \u001b[0mget_thumbnails\u001b[0m\u001b[0;34m(\u001b[0m\u001b[0mquery\u001b[0m\u001b[0;34m,\u001b[0m \u001b[0mapi_key\u001b[0m\u001b[0;34m,\u001b[0m \u001b[0msize\u001b[0m\u001b[0;34m,\u001b[0m \u001b[0mfont_path\u001b[0m\u001b[0;34m,\u001b[0m \u001b[0mfont_size\u001b[0m\u001b[0;34m)\u001b[0m\u001b[0;34m\u001b[0m\u001b[0;34m\u001b[0m\u001b[0m\n\u001b[0m",
      "\u001b[0;32m<ipython-input-7-e5adadbecb7e>\u001b[0m in \u001b[0;36mget_thumbnails\u001b[0;34m(query, api_key, size, font_path, font_size)\u001b[0m\n\u001b[1;32m    108\u001b[0m                          \u001b[0;32mpass\u001b[0m\u001b[0;34m\u001b[0m\u001b[0;34m\u001b[0m\u001b[0m\n\u001b[1;32m    109\u001b[0m                     \u001b[0;32melse\u001b[0m\u001b[0;34m:\u001b[0m\u001b[0;34m\u001b[0m\u001b[0;34m\u001b[0m\u001b[0m\n\u001b[0;32m--> 110\u001b[0;31m                         \u001b[0mthumb\u001b[0m \u001b[0;34m=\u001b[0m \u001b[0mget_thumbnail\u001b[0m\u001b[0;34m(\u001b[0m\u001b[0marticle\u001b[0m\u001b[0;34m,\u001b[0m \u001b[0msize\u001b[0m\u001b[0;34m,\u001b[0m \u001b[0mfont_path\u001b[0m\u001b[0;34m,\u001b[0m \u001b[0mfont_size\u001b[0m\u001b[0;34m)\u001b[0m\u001b[0;34m\u001b[0m\u001b[0;34m\u001b[0m\u001b[0m\n\u001b[0m\u001b[1;32m    111\u001b[0m                         \u001b[0;32mif\u001b[0m \u001b[0mthumb\u001b[0m\u001b[0;34m:\u001b[0m\u001b[0;34m\u001b[0m\u001b[0;34m\u001b[0m\u001b[0m\n\u001b[1;32m    112\u001b[0m                             \u001b[0mthumb\u001b[0m\u001b[0;34m.\u001b[0m\u001b[0msave\u001b[0m\u001b[0;34m(\u001b[0m\u001b[0mthumb_file\u001b[0m\u001b[0;34m)\u001b[0m\u001b[0;34m\u001b[0m\u001b[0;34m\u001b[0m\u001b[0m\n",
      "\u001b[0;32m<ipython-input-7-e5adadbecb7e>\u001b[0m in \u001b[0;36mget_thumbnail\u001b[0;34m(article, size, font_path, font_size)\u001b[0m\n\u001b[1;32m     49\u001b[0m             \u001b[0mthumb\u001b[0m\u001b[0;34m.\u001b[0m\u001b[0mthumbnail\u001b[0m\u001b[0;34m(\u001b[0m\u001b[0;34m(\u001b[0m\u001b[0msize\u001b[0m\u001b[0;34m,\u001b[0m \u001b[0msize\u001b[0m\u001b[0;34m)\u001b[0m\u001b[0;34m,\u001b[0m \u001b[0mImage\u001b[0m\u001b[0;34m.\u001b[0m\u001b[0mANTIALIAS\u001b[0m\u001b[0;34m)\u001b[0m\u001b[0;34m\u001b[0m\u001b[0;34m\u001b[0m\u001b[0m\n\u001b[1;32m     50\u001b[0m             \u001b[0marticle_id\u001b[0m \u001b[0;34m=\u001b[0m \u001b[0;34m'nla.news-article{}'\u001b[0m\u001b[0;34m.\u001b[0m\u001b[0mformat\u001b[0m\u001b[0;34m(\u001b[0m\u001b[0marticle\u001b[0m\u001b[0;34m[\u001b[0m\u001b[0;34m'id'\u001b[0m\u001b[0;34m]\u001b[0m\u001b[0;34m)\u001b[0m\u001b[0;34m\u001b[0m\u001b[0;34m\u001b[0m\u001b[0m\n\u001b[0;32m---> 51\u001b[0;31m             \u001b[0mfnt\u001b[0m \u001b[0;34m=\u001b[0m \u001b[0mImageFont\u001b[0m\u001b[0;34m.\u001b[0m\u001b[0mtruetype\u001b[0m\u001b[0;34m(\u001b[0m\u001b[0mfont_path\u001b[0m\u001b[0;34m,\u001b[0m \u001b[0;36m12\u001b[0m\u001b[0;34m)\u001b[0m\u001b[0;34m\u001b[0m\u001b[0;34m\u001b[0m\u001b[0m\n\u001b[0m\u001b[1;32m     52\u001b[0m             \u001b[0mdraw\u001b[0m \u001b[0;34m=\u001b[0m \u001b[0mImageDraw\u001b[0m\u001b[0;34m.\u001b[0m\u001b[0mDraw\u001b[0m\u001b[0;34m(\u001b[0m\u001b[0mthumb\u001b[0m\u001b[0;34m)\u001b[0m\u001b[0;34m\u001b[0m\u001b[0;34m\u001b[0m\u001b[0m\n\u001b[1;32m     53\u001b[0m             \u001b[0;32mtry\u001b[0m\u001b[0;34m:\u001b[0m\u001b[0;34m\u001b[0m\u001b[0;34m\u001b[0m\u001b[0m\n",
      "\u001b[0;32m/opt/tljh/user/lib/python3.7/site-packages/PIL/ImageFont.py\u001b[0m in \u001b[0;36mtruetype\u001b[0;34m(font, size, index, encoding, layout_engine)\u001b[0m\n\u001b[1;32m    653\u001b[0m \u001b[0;34m\u001b[0m\u001b[0m\n\u001b[1;32m    654\u001b[0m     \u001b[0;32mtry\u001b[0m\u001b[0;34m:\u001b[0m\u001b[0;34m\u001b[0m\u001b[0;34m\u001b[0m\u001b[0m\n\u001b[0;32m--> 655\u001b[0;31m         \u001b[0;32mreturn\u001b[0m \u001b[0mfreetype\u001b[0m\u001b[0;34m(\u001b[0m\u001b[0mfont\u001b[0m\u001b[0;34m)\u001b[0m\u001b[0;34m\u001b[0m\u001b[0;34m\u001b[0m\u001b[0m\n\u001b[0m\u001b[1;32m    656\u001b[0m     \u001b[0;32mexcept\u001b[0m \u001b[0mOSError\u001b[0m\u001b[0;34m:\u001b[0m\u001b[0;34m\u001b[0m\u001b[0;34m\u001b[0m\u001b[0m\n\u001b[1;32m    657\u001b[0m         \u001b[0;32mif\u001b[0m \u001b[0;32mnot\u001b[0m \u001b[0misPath\u001b[0m\u001b[0;34m(\u001b[0m\u001b[0mfont\u001b[0m\u001b[0;34m)\u001b[0m\u001b[0;34m:\u001b[0m\u001b[0;34m\u001b[0m\u001b[0;34m\u001b[0m\u001b[0m\n",
      "\u001b[0;32m/opt/tljh/user/lib/python3.7/site-packages/PIL/ImageFont.py\u001b[0m in \u001b[0;36mfreetype\u001b[0;34m(font)\u001b[0m\n\u001b[1;32m    650\u001b[0m \u001b[0;34m\u001b[0m\u001b[0m\n\u001b[1;32m    651\u001b[0m     \u001b[0;32mdef\u001b[0m \u001b[0mfreetype\u001b[0m\u001b[0;34m(\u001b[0m\u001b[0mfont\u001b[0m\u001b[0;34m)\u001b[0m\u001b[0;34m:\u001b[0m\u001b[0;34m\u001b[0m\u001b[0;34m\u001b[0m\u001b[0m\n\u001b[0;32m--> 652\u001b[0;31m         \u001b[0;32mreturn\u001b[0m \u001b[0mFreeTypeFont\u001b[0m\u001b[0;34m(\u001b[0m\u001b[0mfont\u001b[0m\u001b[0;34m,\u001b[0m \u001b[0msize\u001b[0m\u001b[0;34m,\u001b[0m \u001b[0mindex\u001b[0m\u001b[0;34m,\u001b[0m \u001b[0mencoding\u001b[0m\u001b[0;34m,\u001b[0m \u001b[0mlayout_engine\u001b[0m\u001b[0;34m)\u001b[0m\u001b[0;34m\u001b[0m\u001b[0;34m\u001b[0m\u001b[0m\n\u001b[0m\u001b[1;32m    653\u001b[0m \u001b[0;34m\u001b[0m\u001b[0m\n\u001b[1;32m    654\u001b[0m     \u001b[0;32mtry\u001b[0m\u001b[0;34m:\u001b[0m\u001b[0;34m\u001b[0m\u001b[0;34m\u001b[0m\u001b[0m\n",
      "\u001b[0;32m/opt/tljh/user/lib/python3.7/site-packages/PIL/ImageFont.py\u001b[0m in \u001b[0;36m__init__\u001b[0;34m(self, font, size, index, encoding, layout_engine)\u001b[0m\n\u001b[1;32m    192\u001b[0m                     \u001b[0;32mreturn\u001b[0m\u001b[0;34m\u001b[0m\u001b[0;34m\u001b[0m\u001b[0m\n\u001b[1;32m    193\u001b[0m             self.font = core.getfont(\n\u001b[0;32m--> 194\u001b[0;31m                 \u001b[0mfont\u001b[0m\u001b[0;34m,\u001b[0m \u001b[0msize\u001b[0m\u001b[0;34m,\u001b[0m \u001b[0mindex\u001b[0m\u001b[0;34m,\u001b[0m \u001b[0mencoding\u001b[0m\u001b[0;34m,\u001b[0m \u001b[0mlayout_engine\u001b[0m\u001b[0;34m=\u001b[0m\u001b[0mlayout_engine\u001b[0m\u001b[0;34m\u001b[0m\u001b[0;34m\u001b[0m\u001b[0m\n\u001b[0m\u001b[1;32m    195\u001b[0m             )\n\u001b[1;32m    196\u001b[0m         \u001b[0;32melse\u001b[0m\u001b[0;34m:\u001b[0m\u001b[0;34m\u001b[0m\u001b[0;34m\u001b[0m\u001b[0m\n",
      "\u001b[0;31mOSError\u001b[0m: cannot open resource"
     ]
    }
   ],
   "source": [
    "get_thumbnails(query, api_key, size, font_path, font_size)"
   ]
  },
  {
   "cell_type": "markdown",
   "metadata": {},
   "source": [
    "## Turn the thumbnails into one big image"
   ]
  },
  {
   "cell_type": "code",
   "execution_count": null,
   "metadata": {},
   "outputs": [],
   "source": [
    "create_composite(cols, rows, size)"
   ]
  },
  {
   "cell_type": "markdown",
   "metadata": {},
   "source": [
    "----\n",
    "\n",
    "Created by [Tim Sherratt](https://timsherratt.org/) for the [GLAM Workbench](https://glam-workbench.github.io/)."
   ]
  }
 ],
 "metadata": {
  "kernelspec": {
   "display_name": "Python 3",
   "language": "python",
   "name": "python3"
  },
  "language_info": {
   "codemirror_mode": {
    "name": "ipython",
    "version": 3
   },
   "file_extension": ".py",
   "mimetype": "text/x-python",
   "name": "python",
   "nbconvert_exporter": "python",
   "pygments_lexer": "ipython3",
   "version": "3.7.3"
  }
 },
 "nbformat": 4,
 "nbformat_minor": 4
}
