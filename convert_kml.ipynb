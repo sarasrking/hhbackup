{
 "cells": [
  {
   "cell_type": "code",
   "execution_count": 33,
   "metadata": {},
   "outputs": [],
   "source": [
    "import requests\n",
    "import pandas as pd\n",
    "from bs4 import BeautifulSoup\n",
    "import re"
   ]
  },
  {
   "cell_type": "code",
   "execution_count": 2,
   "metadata": {},
   "outputs": [],
   "source": [
    "kml_file = 'https://dl.dropbox.com/s/jbzpfuc29fab3xd/anzacs.kml?dl=0'\n",
    "response = requests.get(kml_file)"
   ]
  },
  {
   "cell_type": "code",
   "execution_count": 3,
   "metadata": {},
   "outputs": [
    {
     "data": {
      "text/plain": [
       "200"
      ]
     },
     "execution_count": 3,
     "metadata": {},
     "output_type": "execute_result"
    }
   ],
   "source": [
    "response.status_code"
   ]
  },
  {
   "cell_type": "code",
   "execution_count": 17,
   "metadata": {},
   "outputs": [],
   "source": [
    "soup = BeautifulSoup(response.text)\n",
    "placemarks = soup.find_all('placemark')"
   ]
  },
  {
   "cell_type": "code",
   "execution_count": 47,
   "metadata": {},
   "outputs": [],
   "source": [
    "places = []\n",
    "for pm in placemarks:\n",
    "    name = pm.find('name').string\n",
    "    coords = pm.point.coordinates.string\n",
    "    longitude, latitude, _ = coords.split(',')\n",
    "    details = list(pm.description.stripped_strings)\n",
    "    for i, d in enumerate(details):\n",
    "        if d.startswith('Born'):\n",
    "            born = int(details[i+1])\n",
    "        elif d.startswith('Enlisted'):\n",
    "            enlisted = int(details[i+1])\n",
    "    link = pm.description.find('a')\n",
    "    try:\n",
    "        fullname = re.search(r'=(.+$)', link['href']).group(1)\n",
    "    except TypeError:\n",
    "        pass\n",
    "    else:\n",
    "        place_parts = fullname.split(', ')\n",
    "        if len(place_parts) == 3:\n",
    "            state = place_parts[1]\n",
    "            country = place_parts[2]\n",
    "        elif len(place_parts) == 2:\n",
    "            state = ''\n",
    "            country = place_parts[1]\n",
    "        elif len(place_parts) == 1:\n",
    "            state = ''\n",
    "            country = place_parts[0]\n",
    "        place = {\n",
    "            'name': name,\n",
    "            'display_name': fullname,\n",
    "            'state': state,\n",
    "            'country': country,\n",
    "            'born': born,\n",
    "            'enlisted': enlisted,\n",
    "            'latitude': latitude,\n",
    "            'longitude': longitude\n",
    "        }\n",
    "        places.append(place)"
   ]
  },
  {
   "cell_type": "code",
   "execution_count": 48,
   "metadata": {},
   "outputs": [],
   "source": [
    "df = pd.DataFrame(places)"
   ]
  },
  {
   "cell_type": "code",
   "execution_count": 49,
   "metadata": {},
   "outputs": [],
   "source": [
    "df.to_csv('b2455_places.csv', index=False)"
   ]
  },
  {
   "cell_type": "code",
   "execution_count": null,
   "metadata": {},
   "outputs": [],
   "source": []
  }
 ],
 "metadata": {
  "kernelspec": {
   "display_name": "Python 3",
   "language": "python",
   "name": "python3"
  },
  "language_info": {
   "codemirror_mode": {
    "name": "ipython",
    "version": 3
   },
   "file_extension": ".py",
   "mimetype": "text/x-python",
   "name": "python",
   "nbconvert_exporter": "python",
   "pygments_lexer": "ipython3",
   "version": "3.7.7"
  }
 },
 "nbformat": 4,
 "nbformat_minor": 4
}
