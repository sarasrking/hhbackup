{
 "cells": [
  {
   "cell_type": "code",
   "execution_count": 17,
   "metadata": {},
   "outputs": [],
   "source": [
    "import requests\n",
    "import pandas as pd\n",
    "import zipfile\n",
    "from zipfile import BadZipFile\n",
    "import io\n",
    "import os\n",
    "from tqdm.auto import tqdm\n",
    "import time\n",
    "from pathlib import Path"
   ]
  },
  {
   "cell_type": "code",
   "execution_count": 18,
   "metadata": {},
   "outputs": [],
   "source": [
    "df = pd.read_csv('https://raw.githubusercontent.com/GLAM-Workbench/trove-books/master/trove_digitised_books.csv')"
   ]
  },
  {
   "cell_type": "code",
   "execution_count": 25,
   "metadata": {},
   "outputs": [],
   "source": [
    "trove_ids = df.loc[df['pages'] == 2][['trove_id', 'pages']].to_dict('records')"
   ]
  },
  {
   "cell_type": "code",
   "execution_count": 28,
   "metadata": {},
   "outputs": [
    {
     "data": {
      "application/vnd.jupyter.widget-view+json": {
       "model_id": "73d13c0bc1b648499d8820fe2dbb1807",
       "version_major": 2,
       "version_minor": 0
      },
      "text/plain": [
       "HBox(children=(FloatProgress(value=0.0, max=1021.0), HTML(value='')))"
      ]
     },
     "metadata": {},
     "output_type": "display_data"
    },
    {
     "name": "stdout",
     "output_type": "stream",
     "text": [
      "\n"
     ]
    }
   ],
   "source": [
    "output_dir = Path('images', 'ephemera')\n",
    "output_dir.mkdir(parents=True, exist_ok=True)\n",
    "for trove_id in tqdm(trove_ids):\n",
    "    # Check to see if the first page of this issue has already been downloaded\n",
    "    file_path = Path(output_dir, f'{trove_id[\"trove_id\"]}-1.jpg')\n",
    "    if not file_path.exists():\n",
    "        url = f'https://nla.gov.au/{trove_id[\"trove_id\"]}/download?downloadOption=zip&firstPage=0&lastPage={trove_id[\"pages\"] - 1}'\n",
    "        # Get the file\n",
    "        r = requests.get(url)\n",
    "        # The image is in a zip, so we need to extract the contents into the output directory\n",
    "        try:\n",
    "            z = zipfile.ZipFile(io.BytesIO(r.content))\n",
    "            z.extractall(output_dir)\n",
    "        except BadZipFile:\n",
    "            pass\n",
    "        time.sleep(1)"
   ]
  },
  {
   "cell_type": "markdown",
   "metadata": {},
   "source": []
  },
  {
   "cell_type": "code",
   "execution_count": null,
   "metadata": {},
   "outputs": [],
   "source": []
  }
 ],
 "metadata": {
  "kernelspec": {
   "display_name": "Python 3",
   "language": "python",
   "name": "python3"
  },
  "language_info": {
   "codemirror_mode": {
    "name": "ipython",
    "version": 3
   },
   "file_extension": ".py",
   "mimetype": "text/x-python",
   "name": "python",
   "nbconvert_exporter": "python",
   "pygments_lexer": "ipython3",
   "version": "3.7.7"
  }
 },
 "nbformat": 4,
 "nbformat_minor": 4
}
