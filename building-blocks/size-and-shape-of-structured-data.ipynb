{
 "cells": [
  {
   "cell_type": "markdown",
   "metadata": {},
   "source": [
    "# The size and shape of a CSV file"
   ]
  },
  {
   "cell_type": "markdown",
   "metadata": {},
   "source": [
    "<div class=\"alert alert-info\"><img src=\"../images/hhicon.png\" width=\"50px\" style=\"vertical-align: bottom; margin-right: 10px;\">Remember to run each cell using <b>Shift+Enter</b>!</div>"
   ]
  },
  {
   "cell_type": "markdown",
   "metadata": {},
   "source": [
    "## Opening a CSV file"
   ]
  },
  {
   "cell_type": "code",
   "execution_count": 66,
   "metadata": {},
   "outputs": [],
   "source": [
    "import pandas as pd\n",
    "import altair as alt"
   ]
  },
  {
   "cell_type": "markdown",
   "metadata": {},
   "source": [
    "Using Pandas we can open a CSV file from a url – no need to download it first. To begin with, we open the CSV file and give it the name `df` (for 'DataFrame').\n",
    "\n",
    "In this case, we're opening the [Brisbane Hospital registers of deaths 1899 to 1913](https://data.qld.gov.au/dataset/34ff0384-e09a-4ba0-8ea4-f54534e1aace) from the Queensland State Archives."
   ]
  },
  {
   "cell_type": "code",
   "execution_count": 43,
   "metadata": {},
   "outputs": [],
   "source": [
    "df = pd.read_csv('https://www.data.qld.gov.au/dataset/34ff0384-e09a-4ba0-8ea4-f54534e1aace/resource/265df65a-372e-4f90-a6b8-5a47c30fc740/download/brisbane-hospital-deaths-1899-1913.csv')"
   ]
  },
  {
   "cell_type": "markdown",
   "metadata": {},
   "source": [
    "From now on we can just use `df` when we want to refer to the dataset. \n",
    "\n",
    "Pandas dataframes have lots of useful built-in tricks for exploring and analysing the dataset. We can use `.head()` to show us the first few rows."
   ]
  },
  {
   "cell_type": "code",
   "execution_count": 44,
   "metadata": {},
   "outputs": [
    {
     "data": {
      "text/html": [
       "<div>\n",
       "<style scoped>\n",
       "    .dataframe tbody tr th:only-of-type {\n",
       "        vertical-align: middle;\n",
       "    }\n",
       "\n",
       "    .dataframe tbody tr th {\n",
       "        vertical-align: top;\n",
       "    }\n",
       "\n",
       "    .dataframe thead th {\n",
       "        text-align: right;\n",
       "    }\n",
       "</style>\n",
       "<table border=\"1\" class=\"dataframe\">\n",
       "  <thead>\n",
       "    <tr style=\"text-align: right;\">\n",
       "      <th></th>\n",
       "      <th>Last name</th>\n",
       "      <th>Given names</th>\n",
       "      <th>Age</th>\n",
       "      <th>No.</th>\n",
       "      <th>Date of death</th>\n",
       "      <th>Prev sys</th>\n",
       "      <th>Item ID</th>\n",
       "      <th>Microfilm number</th>\n",
       "      <th>Index name</th>\n",
       "      <th>Description</th>\n",
       "      <th>Source</th>\n",
       "    </tr>\n",
       "  </thead>\n",
       "  <tbody>\n",
       "    <tr>\n",
       "      <th>0</th>\n",
       "      <td>ABBOTT</td>\n",
       "      <td>Albert</td>\n",
       "      <td>47.0</td>\n",
       "      <td>146.0</td>\n",
       "      <td>1907-06-24</td>\n",
       "      <td>HOS1/18</td>\n",
       "      <td>2887</td>\n",
       "      <td>Z1168</td>\n",
       "      <td>Brisbane Hospital deaths 1899-1913</td>\n",
       "      <td>Registers kept by the Brisbane Hospital record...</td>\n",
       "      <td>http://www.archivessearch.qld.gov.au/Search/It...</td>\n",
       "    </tr>\n",
       "    <tr>\n",
       "      <th>1</th>\n",
       "      <td>ABEL</td>\n",
       "      <td>Adam Phillip</td>\n",
       "      <td>45.0</td>\n",
       "      <td>205.0</td>\n",
       "      <td>1913-08-04</td>\n",
       "      <td>HOS1/18</td>\n",
       "      <td>2887</td>\n",
       "      <td>Z1168</td>\n",
       "      <td>Brisbane Hospital deaths 1899-1913</td>\n",
       "      <td>Registers kept by the Brisbane Hospital record...</td>\n",
       "      <td>http://www.archivessearch.qld.gov.au/Search/It...</td>\n",
       "    </tr>\n",
       "    <tr>\n",
       "      <th>2</th>\n",
       "      <td>ABEL</td>\n",
       "      <td>Johanna Pauline</td>\n",
       "      <td>40.0</td>\n",
       "      <td>283.0</td>\n",
       "      <td>1907-11-19</td>\n",
       "      <td>HOS1/18</td>\n",
       "      <td>2887</td>\n",
       "      <td>Z1168</td>\n",
       "      <td>Brisbane Hospital deaths 1899-1913</td>\n",
       "      <td>Registers kept by the Brisbane Hospital record...</td>\n",
       "      <td>http://www.archivessearch.qld.gov.au/Search/It...</td>\n",
       "    </tr>\n",
       "    <tr>\n",
       "      <th>3</th>\n",
       "      <td>ABRAHAM</td>\n",
       "      <td>August</td>\n",
       "      <td>71.0</td>\n",
       "      <td>190.0</td>\n",
       "      <td>1912-07-09</td>\n",
       "      <td>HOS1/18</td>\n",
       "      <td>2887</td>\n",
       "      <td>Z1168</td>\n",
       "      <td>Brisbane Hospital deaths 1899-1913</td>\n",
       "      <td>Registers kept by the Brisbane Hospital record...</td>\n",
       "      <td>http://www.archivessearch.qld.gov.au/Search/It...</td>\n",
       "    </tr>\n",
       "    <tr>\n",
       "      <th>4</th>\n",
       "      <td>ABRAHAM</td>\n",
       "      <td>Kubeel</td>\n",
       "      <td>30.0</td>\n",
       "      <td>239.0</td>\n",
       "      <td>1906-11-27</td>\n",
       "      <td>HOS1/18</td>\n",
       "      <td>2887</td>\n",
       "      <td>Z1168</td>\n",
       "      <td>Brisbane Hospital deaths 1899-1913</td>\n",
       "      <td>Registers kept by the Brisbane Hospital record...</td>\n",
       "      <td>http://www.archivessearch.qld.gov.au/Search/It...</td>\n",
       "    </tr>\n",
       "  </tbody>\n",
       "</table>\n",
       "</div>"
      ],
      "text/plain": [
       "  Last name      Given names   Age    No. Date of death Prev sys  Item ID  \\\n",
       "0    ABBOTT           Albert  47.0  146.0    1907-06-24  HOS1/18     2887   \n",
       "1      ABEL     Adam Phillip  45.0  205.0    1913-08-04  HOS1/18     2887   \n",
       "2      ABEL  Johanna Pauline  40.0  283.0    1907-11-19  HOS1/18     2887   \n",
       "3   ABRAHAM           August  71.0  190.0    1912-07-09  HOS1/18     2887   \n",
       "4   ABRAHAM           Kubeel  30.0  239.0    1906-11-27  HOS1/18     2887   \n",
       "\n",
       "  Microfilm number                          Index name  \\\n",
       "0            Z1168  Brisbane Hospital deaths 1899-1913   \n",
       "1            Z1168  Brisbane Hospital deaths 1899-1913   \n",
       "2            Z1168  Brisbane Hospital deaths 1899-1913   \n",
       "3            Z1168  Brisbane Hospital deaths 1899-1913   \n",
       "4            Z1168  Brisbane Hospital deaths 1899-1913   \n",
       "\n",
       "                                         Description  \\\n",
       "0  Registers kept by the Brisbane Hospital record...   \n",
       "1  Registers kept by the Brisbane Hospital record...   \n",
       "2  Registers kept by the Brisbane Hospital record...   \n",
       "3  Registers kept by the Brisbane Hospital record...   \n",
       "4  Registers kept by the Brisbane Hospital record...   \n",
       "\n",
       "                                              Source  \n",
       "0  http://www.archivessearch.qld.gov.au/Search/It...  \n",
       "1  http://www.archivessearch.qld.gov.au/Search/It...  \n",
       "2  http://www.archivessearch.qld.gov.au/Search/It...  \n",
       "3  http://www.archivessearch.qld.gov.au/Search/It...  \n",
       "4  http://www.archivessearch.qld.gov.au/Search/It...  "
      ]
     },
     "execution_count": 44,
     "metadata": {},
     "output_type": "execute_result"
    }
   ],
   "source": [
    "df.head()"
   ]
  },
  {
   "cell_type": "markdown",
   "metadata": {},
   "source": [
    "<div class=\"alert alert-info\"><img src=\"../images/hhicon.png\" width=\"50px\" style=\"vertical-align: bottom; margin-right: 10px;\">Try putting a number in the brackets after <code>.head</code>. What happens? (Remember to hit <b>Shift+Enter</b> to run the cell once you've changed it!)</div>"
   ]
  },
  {
   "cell_type": "markdown",
   "metadata": {},
   "source": [
    "## How big is the dataset?\n",
    "\n",
    "We can use `.shape` to give us the number of rows and columns in the dataset."
   ]
  },
  {
   "cell_type": "code",
   "execution_count": 45,
   "metadata": {},
   "outputs": [
    {
     "data": {
      "text/plain": [
       "(4866, 11)"
      ]
     },
     "execution_count": 45,
     "metadata": {},
     "output_type": "execute_result"
    }
   ],
   "source": [
    "df.shape"
   ]
  },
  {
   "cell_type": "markdown",
   "metadata": {},
   "source": [
    "So this dataset has 4,866 rows."
   ]
  },
  {
   "cell_type": "markdown",
   "metadata": {},
   "source": [
    "## Get the values of a single column"
   ]
  },
  {
   "cell_type": "markdown",
   "metadata": {},
   "source": [
    "To get the values of a single column (what Pandas calls a 'series'), just supply the column name in square brackets."
   ]
  },
  {
   "cell_type": "code",
   "execution_count": 46,
   "metadata": {},
   "outputs": [
    {
     "data": {
      "text/plain": [
       "0        ABBOTT\n",
       "1          ABEL\n",
       "2          ABEL\n",
       "3       ABRAHAM\n",
       "4       ABRAHAM\n",
       "         ...   \n",
       "4861    YOURELL\n",
       "4862        YUE\n",
       "4863    ZALLOTI\n",
       "4864      ZERBE\n",
       "4865    ZILLMAN\n",
       "Name: Last name, Length: 4866, dtype: object"
      ]
     },
     "execution_count": 46,
     "metadata": {},
     "output_type": "execute_result"
    }
   ],
   "source": [
    "df['Last name']"
   ]
  },
  {
   "cell_type": "markdown",
   "metadata": {},
   "source": [
    "Note that for ease of display, Pandas shows you just the first and last values."
   ]
  },
  {
   "cell_type": "markdown",
   "metadata": {},
   "source": [
    "## Get the values of a single row\n",
    "\n",
    "Rows in a dataframe are indexed – they're the numbers you can see in the left hand column. You can access any row by supplying it's index number to `.iloc`."
   ]
  },
  {
   "cell_type": "code",
   "execution_count": 47,
   "metadata": {},
   "outputs": [
    {
     "data": {
      "text/plain": [
       "Last name                                                     ABRAHAM\n",
       "Given names                                                    Kubeel\n",
       "Age                                                                30\n",
       "No.                                                               239\n",
       "Date of death                                              1906-11-27\n",
       "Prev sys                                                      HOS1/18\n",
       "Item ID                                                          2887\n",
       "Microfilm number                                                Z1168\n",
       "Index name                         Brisbane Hospital deaths 1899-1913\n",
       "Description         Registers kept by the Brisbane Hospital record...\n",
       "Source              http://www.archivessearch.qld.gov.au/Search/It...\n",
       "Name: 4, dtype: object"
      ]
     },
     "execution_count": 47,
     "metadata": {},
     "output_type": "execute_result"
    }
   ],
   "source": [
    "df.iloc[4]"
   ]
  },
  {
   "cell_type": "markdown",
   "metadata": {},
   "source": [
    "<div class=\"alert alert-info\"><img src=\"../images/hhicon.png\" width=\"50px\" style=\"vertical-align: bottom; margin-right: 10px;\">Try changing the number in the square brackets! What happens?</div>"
   ]
  },
  {
   "cell_type": "markdown",
   "metadata": {},
   "source": [
    "## Get all the rows that match a particular value\n",
    "\n",
    "We can also supply conditions to `.iloc` to filter rows by a particular column and value. So to find all the rows where the `Last name` was 'ABRAHAM'..."
   ]
  },
  {
   "cell_type": "code",
   "execution_count": 48,
   "metadata": {},
   "outputs": [
    {
     "data": {
      "text/html": [
       "<div>\n",
       "<style scoped>\n",
       "    .dataframe tbody tr th:only-of-type {\n",
       "        vertical-align: middle;\n",
       "    }\n",
       "\n",
       "    .dataframe tbody tr th {\n",
       "        vertical-align: top;\n",
       "    }\n",
       "\n",
       "    .dataframe thead th {\n",
       "        text-align: right;\n",
       "    }\n",
       "</style>\n",
       "<table border=\"1\" class=\"dataframe\">\n",
       "  <thead>\n",
       "    <tr style=\"text-align: right;\">\n",
       "      <th></th>\n",
       "      <th>Last name</th>\n",
       "      <th>Given names</th>\n",
       "      <th>Age</th>\n",
       "      <th>No.</th>\n",
       "      <th>Date of death</th>\n",
       "      <th>Prev sys</th>\n",
       "      <th>Item ID</th>\n",
       "      <th>Microfilm number</th>\n",
       "      <th>Index name</th>\n",
       "      <th>Description</th>\n",
       "      <th>Source</th>\n",
       "    </tr>\n",
       "  </thead>\n",
       "  <tbody>\n",
       "    <tr>\n",
       "      <th>3</th>\n",
       "      <td>ABRAHAM</td>\n",
       "      <td>August</td>\n",
       "      <td>71.0</td>\n",
       "      <td>190.0</td>\n",
       "      <td>1912-07-09</td>\n",
       "      <td>HOS1/18</td>\n",
       "      <td>2887</td>\n",
       "      <td>Z1168</td>\n",
       "      <td>Brisbane Hospital deaths 1899-1913</td>\n",
       "      <td>Registers kept by the Brisbane Hospital record...</td>\n",
       "      <td>http://www.archivessearch.qld.gov.au/Search/It...</td>\n",
       "    </tr>\n",
       "    <tr>\n",
       "      <th>4</th>\n",
       "      <td>ABRAHAM</td>\n",
       "      <td>Kubeel</td>\n",
       "      <td>30.0</td>\n",
       "      <td>239.0</td>\n",
       "      <td>1906-11-27</td>\n",
       "      <td>HOS1/18</td>\n",
       "      <td>2887</td>\n",
       "      <td>Z1168</td>\n",
       "      <td>Brisbane Hospital deaths 1899-1913</td>\n",
       "      <td>Registers kept by the Brisbane Hospital record...</td>\n",
       "      <td>http://www.archivessearch.qld.gov.au/Search/It...</td>\n",
       "    </tr>\n",
       "  </tbody>\n",
       "</table>\n",
       "</div>"
      ],
      "text/plain": [
       "  Last name Given names   Age    No. Date of death Prev sys  Item ID  \\\n",
       "3   ABRAHAM      August  71.0  190.0    1912-07-09  HOS1/18     2887   \n",
       "4   ABRAHAM      Kubeel  30.0  239.0    1906-11-27  HOS1/18     2887   \n",
       "\n",
       "  Microfilm number                          Index name  \\\n",
       "3            Z1168  Brisbane Hospital deaths 1899-1913   \n",
       "4            Z1168  Brisbane Hospital deaths 1899-1913   \n",
       "\n",
       "                                         Description  \\\n",
       "3  Registers kept by the Brisbane Hospital record...   \n",
       "4  Registers kept by the Brisbane Hospital record...   \n",
       "\n",
       "                                              Source  \n",
       "3  http://www.archivessearch.qld.gov.au/Search/It...  \n",
       "4  http://www.archivessearch.qld.gov.au/Search/It...  "
      ]
     },
     "execution_count": 48,
     "metadata": {},
     "output_type": "execute_result"
    }
   ],
   "source": [
    "df.loc[df['Last name'] == 'ABRAHAM']"
   ]
  },
  {
   "cell_type": "markdown",
   "metadata": {},
   "source": [
    "<div class=\"alert alert-info\"><img src=\"../images/hhicon.png\" width=\"50px\" style=\"vertical-align: bottom; margin-right: 10px;\">Try changing the value of the name – what about 'SMITH'? Remember to keep the quotes around the name.</div>"
   ]
  },
  {
   "cell_type": "markdown",
   "metadata": {},
   "source": [
    "## Find (or exclude) missing values\n",
    "\n",
    "To find all rows where `Age` is not available, we can use `.iloc` with `.isnull`."
   ]
  },
  {
   "cell_type": "code",
   "execution_count": 49,
   "metadata": {},
   "outputs": [
    {
     "data": {
      "text/html": [
       "<div>\n",
       "<style scoped>\n",
       "    .dataframe tbody tr th:only-of-type {\n",
       "        vertical-align: middle;\n",
       "    }\n",
       "\n",
       "    .dataframe tbody tr th {\n",
       "        vertical-align: top;\n",
       "    }\n",
       "\n",
       "    .dataframe thead th {\n",
       "        text-align: right;\n",
       "    }\n",
       "</style>\n",
       "<table border=\"1\" class=\"dataframe\">\n",
       "  <thead>\n",
       "    <tr style=\"text-align: right;\">\n",
       "      <th></th>\n",
       "      <th>Last name</th>\n",
       "      <th>Given names</th>\n",
       "      <th>Age</th>\n",
       "      <th>No.</th>\n",
       "      <th>Date of death</th>\n",
       "      <th>Prev sys</th>\n",
       "      <th>Item ID</th>\n",
       "      <th>Microfilm number</th>\n",
       "      <th>Index name</th>\n",
       "      <th>Description</th>\n",
       "      <th>Source</th>\n",
       "    </tr>\n",
       "  </thead>\n",
       "  <tbody>\n",
       "    <tr>\n",
       "      <th>18</th>\n",
       "      <td>ADAMS</td>\n",
       "      <td>Annie</td>\n",
       "      <td>NaN</td>\n",
       "      <td>NaN</td>\n",
       "      <td>1900-10-11</td>\n",
       "      <td>HOS1/18</td>\n",
       "      <td>2887</td>\n",
       "      <td>Z1168</td>\n",
       "      <td>Brisbane Hospital deaths 1899-1913</td>\n",
       "      <td>Registers kept by the Brisbane Hospital record...</td>\n",
       "      <td>http://www.archivessearch.qld.gov.au/Search/It...</td>\n",
       "    </tr>\n",
       "    <tr>\n",
       "      <th>19</th>\n",
       "      <td>ADAMS</td>\n",
       "      <td>Jane</td>\n",
       "      <td>NaN</td>\n",
       "      <td>NaN</td>\n",
       "      <td>1902-07-05</td>\n",
       "      <td>HOS1/18</td>\n",
       "      <td>2887</td>\n",
       "      <td>Z1168</td>\n",
       "      <td>Brisbane Hospital deaths 1899-1913</td>\n",
       "      <td>Registers kept by the Brisbane Hospital record...</td>\n",
       "      <td>http://www.archivessearch.qld.gov.au/Search/It...</td>\n",
       "    </tr>\n",
       "    <tr>\n",
       "      <th>20</th>\n",
       "      <td>ADAMS</td>\n",
       "      <td>Reg</td>\n",
       "      <td>NaN</td>\n",
       "      <td>NaN</td>\n",
       "      <td>1913-04-03</td>\n",
       "      <td>HOS1/18</td>\n",
       "      <td>2887</td>\n",
       "      <td>Z1168</td>\n",
       "      <td>Brisbane Hospital deaths 1899-1913</td>\n",
       "      <td>Registers kept by the Brisbane Hospital record...</td>\n",
       "      <td>http://www.archivessearch.qld.gov.au/Search/It...</td>\n",
       "    </tr>\n",
       "    <tr>\n",
       "      <th>59</th>\n",
       "      <td>AHERN</td>\n",
       "      <td>Patrick</td>\n",
       "      <td>NaN</td>\n",
       "      <td>NaN</td>\n",
       "      <td>1899-09-07</td>\n",
       "      <td>HOS1/18</td>\n",
       "      <td>2887</td>\n",
       "      <td>Z1168</td>\n",
       "      <td>Brisbane Hospital deaths 1899-1913</td>\n",
       "      <td>Registers kept by the Brisbane Hospital record...</td>\n",
       "      <td>http://www.archivessearch.qld.gov.au/Search/It...</td>\n",
       "    </tr>\n",
       "    <tr>\n",
       "      <th>72</th>\n",
       "      <td>ALEXANDROF</td>\n",
       "      <td>Alex</td>\n",
       "      <td>NaN</td>\n",
       "      <td>NaN</td>\n",
       "      <td>1911-01-17</td>\n",
       "      <td>HOS1/18</td>\n",
       "      <td>2887</td>\n",
       "      <td>Z1168</td>\n",
       "      <td>Brisbane Hospital deaths 1899-1913</td>\n",
       "      <td>Registers kept by the Brisbane Hospital record...</td>\n",
       "      <td>http://www.archivessearch.qld.gov.au/Search/It...</td>\n",
       "    </tr>\n",
       "    <tr>\n",
       "      <th>...</th>\n",
       "      <td>...</td>\n",
       "      <td>...</td>\n",
       "      <td>...</td>\n",
       "      <td>...</td>\n",
       "      <td>...</td>\n",
       "      <td>...</td>\n",
       "      <td>...</td>\n",
       "      <td>...</td>\n",
       "      <td>...</td>\n",
       "      <td>...</td>\n",
       "      <td>...</td>\n",
       "    </tr>\n",
       "    <tr>\n",
       "      <th>4834</th>\n",
       "      <td>WRIGHT</td>\n",
       "      <td>Henry</td>\n",
       "      <td>NaN</td>\n",
       "      <td>NaN</td>\n",
       "      <td>1899-07-28</td>\n",
       "      <td>HOS1/18</td>\n",
       "      <td>2887</td>\n",
       "      <td>Z1168</td>\n",
       "      <td>Brisbane Hospital deaths 1899-1913</td>\n",
       "      <td>Registers kept by the Brisbane Hospital record...</td>\n",
       "      <td>http://www.archivessearch.qld.gov.au/Search/It...</td>\n",
       "    </tr>\n",
       "    <tr>\n",
       "      <th>4839</th>\n",
       "      <td>WYATT</td>\n",
       "      <td>Norman</td>\n",
       "      <td>NaN</td>\n",
       "      <td>NaN</td>\n",
       "      <td>1907-03-25</td>\n",
       "      <td>HOS1/18</td>\n",
       "      <td>2887</td>\n",
       "      <td>Z1168</td>\n",
       "      <td>Brisbane Hospital deaths 1899-1913</td>\n",
       "      <td>Registers kept by the Brisbane Hospital record...</td>\n",
       "      <td>http://www.archivessearch.qld.gov.au/Search/It...</td>\n",
       "    </tr>\n",
       "    <tr>\n",
       "      <th>4842</th>\n",
       "      <td>WYNNE</td>\n",
       "      <td>Mary</td>\n",
       "      <td>NaN</td>\n",
       "      <td>NaN</td>\n",
       "      <td>1908-09-13</td>\n",
       "      <td>HOS1/18</td>\n",
       "      <td>2887</td>\n",
       "      <td>Z1168</td>\n",
       "      <td>Brisbane Hospital deaths 1899-1913</td>\n",
       "      <td>Registers kept by the Brisbane Hospital record...</td>\n",
       "      <td>http://www.archivessearch.qld.gov.au/Search/It...</td>\n",
       "    </tr>\n",
       "    <tr>\n",
       "      <th>4844</th>\n",
       "      <td>YARROW</td>\n",
       "      <td>Alice</td>\n",
       "      <td>NaN</td>\n",
       "      <td>NaN</td>\n",
       "      <td>1902-12-09</td>\n",
       "      <td>HOS1/18</td>\n",
       "      <td>2887</td>\n",
       "      <td>Z1168</td>\n",
       "      <td>Brisbane Hospital deaths 1899-1913</td>\n",
       "      <td>Registers kept by the Brisbane Hospital record...</td>\n",
       "      <td>http://www.archivessearch.qld.gov.au/Search/It...</td>\n",
       "    </tr>\n",
       "    <tr>\n",
       "      <th>4860</th>\n",
       "      <td>YOUNG</td>\n",
       "      <td>Henry</td>\n",
       "      <td>NaN</td>\n",
       "      <td>NaN</td>\n",
       "      <td>1906-09-29</td>\n",
       "      <td>HOS1/18</td>\n",
       "      <td>2887</td>\n",
       "      <td>Z1168</td>\n",
       "      <td>Brisbane Hospital deaths 1899-1913</td>\n",
       "      <td>Registers kept by the Brisbane Hospital record...</td>\n",
       "      <td>http://www.archivessearch.qld.gov.au/Search/It...</td>\n",
       "    </tr>\n",
       "  </tbody>\n",
       "</table>\n",
       "<p>334 rows × 11 columns</p>\n",
       "</div>"
      ],
      "text/plain": [
       "       Last name Given names  Age  No. Date of death Prev sys  Item ID  \\\n",
       "18         ADAMS       Annie  NaN  NaN    1900-10-11  HOS1/18     2887   \n",
       "19         ADAMS        Jane  NaN  NaN    1902-07-05  HOS1/18     2887   \n",
       "20         ADAMS         Reg  NaN  NaN    1913-04-03  HOS1/18     2887   \n",
       "59         AHERN     Patrick  NaN  NaN    1899-09-07  HOS1/18     2887   \n",
       "72    ALEXANDROF        Alex  NaN  NaN    1911-01-17  HOS1/18     2887   \n",
       "...          ...         ...  ...  ...           ...      ...      ...   \n",
       "4834      WRIGHT       Henry  NaN  NaN    1899-07-28  HOS1/18     2887   \n",
       "4839       WYATT      Norman  NaN  NaN    1907-03-25  HOS1/18     2887   \n",
       "4842       WYNNE        Mary  NaN  NaN    1908-09-13  HOS1/18     2887   \n",
       "4844      YARROW       Alice  NaN  NaN    1902-12-09  HOS1/18     2887   \n",
       "4860       YOUNG       Henry  NaN  NaN    1906-09-29  HOS1/18     2887   \n",
       "\n",
       "     Microfilm number                          Index name  \\\n",
       "18              Z1168  Brisbane Hospital deaths 1899-1913   \n",
       "19              Z1168  Brisbane Hospital deaths 1899-1913   \n",
       "20              Z1168  Brisbane Hospital deaths 1899-1913   \n",
       "59              Z1168  Brisbane Hospital deaths 1899-1913   \n",
       "72              Z1168  Brisbane Hospital deaths 1899-1913   \n",
       "...               ...                                 ...   \n",
       "4834            Z1168  Brisbane Hospital deaths 1899-1913   \n",
       "4839            Z1168  Brisbane Hospital deaths 1899-1913   \n",
       "4842            Z1168  Brisbane Hospital deaths 1899-1913   \n",
       "4844            Z1168  Brisbane Hospital deaths 1899-1913   \n",
       "4860            Z1168  Brisbane Hospital deaths 1899-1913   \n",
       "\n",
       "                                            Description  \\\n",
       "18    Registers kept by the Brisbane Hospital record...   \n",
       "19    Registers kept by the Brisbane Hospital record...   \n",
       "20    Registers kept by the Brisbane Hospital record...   \n",
       "59    Registers kept by the Brisbane Hospital record...   \n",
       "72    Registers kept by the Brisbane Hospital record...   \n",
       "...                                                 ...   \n",
       "4834  Registers kept by the Brisbane Hospital record...   \n",
       "4839  Registers kept by the Brisbane Hospital record...   \n",
       "4842  Registers kept by the Brisbane Hospital record...   \n",
       "4844  Registers kept by the Brisbane Hospital record...   \n",
       "4860  Registers kept by the Brisbane Hospital record...   \n",
       "\n",
       "                                                 Source  \n",
       "18    http://www.archivessearch.qld.gov.au/Search/It...  \n",
       "19    http://www.archivessearch.qld.gov.au/Search/It...  \n",
       "20    http://www.archivessearch.qld.gov.au/Search/It...  \n",
       "59    http://www.archivessearch.qld.gov.au/Search/It...  \n",
       "72    http://www.archivessearch.qld.gov.au/Search/It...  \n",
       "...                                                 ...  \n",
       "4834  http://www.archivessearch.qld.gov.au/Search/It...  \n",
       "4839  http://www.archivessearch.qld.gov.au/Search/It...  \n",
       "4842  http://www.archivessearch.qld.gov.au/Search/It...  \n",
       "4844  http://www.archivessearch.qld.gov.au/Search/It...  \n",
       "4860  http://www.archivessearch.qld.gov.au/Search/It...  \n",
       "\n",
       "[334 rows x 11 columns]"
      ]
     },
     "execution_count": 49,
     "metadata": {},
     "output_type": "execute_result"
    }
   ],
   "source": [
    "df.loc[df['Age'].isnull()]"
   ]
  },
  {
   "cell_type": "markdown",
   "metadata": {},
   "source": [
    "So there are 334 rows that don't have a value for `Age`. Note that Pandas represents a missing value as `NaN`.\n",
    "\n",
    "If we want to get all the available values for `Age` (without the `NaN`s), we can use `.dropna`."
   ]
  },
  {
   "cell_type": "code",
   "execution_count": 50,
   "metadata": {},
   "outputs": [
    {
     "data": {
      "text/plain": [
       "0       47.0\n",
       "1       45.0\n",
       "2       40.0\n",
       "3       71.0\n",
       "4       30.0\n",
       "        ... \n",
       "4861    43.0\n",
       "4862    63.0\n",
       "4863    46.0\n",
       "4864    71.0\n",
       "4865    44.0\n",
       "Name: Age, Length: 4532, dtype: float64"
      ]
     },
     "execution_count": 50,
     "metadata": {},
     "output_type": "execute_result"
    }
   ],
   "source": [
    "df['Age'].dropna()"
   ]
  },
  {
   "cell_type": "markdown",
   "metadata": {},
   "source": [
    "## Find the youngest and oldest ages\n",
    "\n",
    "Using `.min()` and `.max()` we can find the smallest and largest values in a field."
   ]
  },
  {
   "cell_type": "code",
   "execution_count": 51,
   "metadata": {},
   "outputs": [
    {
     "data": {
      "text/plain": [
       "0.0"
      ]
     },
     "execution_count": 51,
     "metadata": {},
     "output_type": "execute_result"
    }
   ],
   "source": [
    "df['Age'].min()"
   ]
  },
  {
   "cell_type": "code",
   "execution_count": 52,
   "metadata": {},
   "outputs": [
    {
     "data": {
      "text/plain": [
       "96.0"
      ]
     },
     "execution_count": 52,
     "metadata": {},
     "output_type": "execute_result"
    }
   ],
   "source": [
    "df['Age'].max()"
   ]
  },
  {
   "cell_type": "markdown",
   "metadata": {},
   "source": [
    "To find the index of the row with the largest value we can use `.idxmax()`. Then we can give that value to `.iloc` to get the details of that row. So who was the 96-year-old patient?"
   ]
  },
  {
   "cell_type": "code",
   "execution_count": 53,
   "metadata": {},
   "outputs": [
    {
     "data": {
      "text/plain": [
       "Last name                                                     O KEEFE\n",
       "Given names                                                      Mary\n",
       "Age                                                                96\n",
       "No.                                                                11\n",
       "Date of death                                              1904-01-15\n",
       "Prev sys                                                      HOS1/18\n",
       "Item ID                                                          2887\n",
       "Microfilm number                                                Z1168\n",
       "Index name                         Brisbane Hospital deaths 1899-1913\n",
       "Description         Registers kept by the Brisbane Hospital record...\n",
       "Source              http://www.archivessearch.qld.gov.au/Search/It...\n",
       "Name: 3338, dtype: object"
      ]
     },
     "execution_count": 53,
     "metadata": {},
     "output_type": "execute_result"
    }
   ],
   "source": [
    "df.loc[df['Age'].idxmax()]"
   ]
  },
  {
   "cell_type": "markdown",
   "metadata": {},
   "source": [
    "We can even find out the mean age at death – we just use `.mean()`."
   ]
  },
  {
   "cell_type": "code",
   "execution_count": 54,
   "metadata": {},
   "outputs": [
    {
     "data": {
      "text/plain": [
       "45.18556928508385"
      ]
     },
     "execution_count": 54,
     "metadata": {},
     "output_type": "execute_result"
    }
   ],
   "source": [
    "df['Age'].mean()"
   ]
  },
  {
   "cell_type": "markdown",
   "metadata": {},
   "source": [
    "<div class=\"alert alert-info\"><img src=\"../images/hhicon.png\" width=\"50px\" style=\"vertical-align: bottom; margin-right: 10px;\">A challenge! Can you use what you've learnt on this page to find all records where the age at death was recorded as 0? The answer is hidden below – click on the dots to reveal it.</div>"
   ]
  },
  {
   "cell_type": "code",
   "execution_count": null,
   "metadata": {
    "jupyter": {
     "source_hidden": true
    }
   },
   "outputs": [],
   "source": [
    "df.loc[df['Age'] == 0]"
   ]
  },
  {
   "cell_type": "markdown",
   "metadata": {},
   "source": [
    "## What format are the dates in?"
   ]
  },
  {
   "cell_type": "code",
   "execution_count": 63,
   "metadata": {},
   "outputs": [],
   "source": [
    "df['date'] = pd.to_datetime(df['Date of death'], errors='coerce')"
   ]
  },
  {
   "cell_type": "code",
   "execution_count": 65,
   "metadata": {},
   "outputs": [
    {
     "data": {
      "text/html": [
       "<div>\n",
       "<style scoped>\n",
       "    .dataframe tbody tr th:only-of-type {\n",
       "        vertical-align: middle;\n",
       "    }\n",
       "\n",
       "    .dataframe tbody tr th {\n",
       "        vertical-align: top;\n",
       "    }\n",
       "\n",
       "    .dataframe thead th {\n",
       "        text-align: right;\n",
       "    }\n",
       "</style>\n",
       "<table border=\"1\" class=\"dataframe\">\n",
       "  <thead>\n",
       "    <tr style=\"text-align: right;\">\n",
       "      <th></th>\n",
       "      <th>Last name</th>\n",
       "      <th>Given names</th>\n",
       "      <th>Age</th>\n",
       "      <th>No.</th>\n",
       "      <th>Date of death</th>\n",
       "      <th>Prev sys</th>\n",
       "      <th>Item ID</th>\n",
       "      <th>Microfilm number</th>\n",
       "      <th>Index name</th>\n",
       "      <th>Description</th>\n",
       "      <th>Source</th>\n",
       "      <th>date</th>\n",
       "    </tr>\n",
       "  </thead>\n",
       "  <tbody>\n",
       "    <tr>\n",
       "      <th>144</th>\n",
       "      <td>ASHTON</td>\n",
       "      <td>Daisy</td>\n",
       "      <td>NaN</td>\n",
       "      <td>NaN</td>\n",
       "      <td>NaN</td>\n",
       "      <td>HOS1/18</td>\n",
       "      <td>2887</td>\n",
       "      <td>Z1168</td>\n",
       "      <td>Brisbane Hospital deaths 1899-1913</td>\n",
       "      <td>Registers kept by the Brisbane Hospital record...</td>\n",
       "      <td>http://www.archivessearch.qld.gov.au/Search/It...</td>\n",
       "      <td>NaN</td>\n",
       "    </tr>\n",
       "    <tr>\n",
       "      <th>3380</th>\n",
       "      <td>OGILVIE</td>\n",
       "      <td>Hannah</td>\n",
       "      <td>NaN</td>\n",
       "      <td>NaN</td>\n",
       "      <td>Apr-08</td>\n",
       "      <td>HOS1/18</td>\n",
       "      <td>2887</td>\n",
       "      <td>Z1168</td>\n",
       "      <td>Brisbane Hospital deaths 1899-1913</td>\n",
       "      <td>Registers kept by the Brisbane Hospital record...</td>\n",
       "      <td>http://www.archivessearch.qld.gov.au/Search/It...</td>\n",
       "      <td>NaT</td>\n",
       "    </tr>\n",
       "  </tbody>\n",
       "</table>\n",
       "</div>"
      ],
      "text/plain": [
       "     Last name Given names  Age  No. Date of death Prev sys  Item ID  \\\n",
       "144     ASHTON       Daisy  NaN  NaN           NaN  HOS1/18     2887   \n",
       "3380   OGILVIE      Hannah  NaN  NaN        Apr-08  HOS1/18     2887   \n",
       "\n",
       "     Microfilm number                          Index name  \\\n",
       "144             Z1168  Brisbane Hospital deaths 1899-1913   \n",
       "3380            Z1168  Brisbane Hospital deaths 1899-1913   \n",
       "\n",
       "                                            Description  \\\n",
       "144   Registers kept by the Brisbane Hospital record...   \n",
       "3380  Registers kept by the Brisbane Hospital record...   \n",
       "\n",
       "                                                 Source date  \n",
       "144   http://www.archivessearch.qld.gov.au/Search/It...  NaN  \n",
       "3380  http://www.archivessearch.qld.gov.au/Search/It...  NaT  "
      ]
     },
     "execution_count": 65,
     "metadata": {},
     "output_type": "execute_result"
    }
   ],
   "source": [
    "df.loc[df['date'].isnull()]"
   ]
  },
  {
   "cell_type": "markdown",
   "metadata": {},
   "source": [
    "## What's next?"
   ]
  },
  {
   "cell_type": "markdown",
   "metadata": {},
   "source": [
    "Using this notebook as a template, try exploring the size and shape of a different CSV file. There's plenty to choose from in this [GLAM data list](https://glam-workbench.github.io/glam-datasets-from-gov-portals/). Copy the url of the CSV file and paste it into the `.read_csv()` cell at the top. Of course, the column names are likely to be different, so you'll have to adjust them to suit."
   ]
  },
  {
   "cell_type": "code",
   "execution_count": null,
   "metadata": {},
   "outputs": [],
   "source": []
  }
 ],
 "metadata": {
  "kernelspec": {
   "display_name": "Python 3",
   "language": "python",
   "name": "python3"
  },
  "language_info": {
   "codemirror_mode": {
    "name": "ipython",
    "version": 3
   },
   "file_extension": ".py",
   "mimetype": "text/x-python",
   "name": "python",
   "nbconvert_exporter": "python",
   "pygments_lexer": "ipython3",
   "version": "3.7.7"
  }
 },
 "nbformat": 4,
 "nbformat_minor": 4
}
