{
 "cells": [
  {
   "cell_type": "markdown",
   "metadata": {},
   "source": [
    "# A random item from the Museum of Victoria's collections"
   ]
  },
  {
   "cell_type": "code",
   "execution_count": 1,
   "metadata": {},
   "outputs": [],
   "source": [
    "import requests\n",
    "import random\n",
    "from IPython.display import Image, display, HTML\n",
    "import ipywidgets as widgets"
   ]
  },
  {
   "cell_type": "code",
   "execution_count": 2,
   "metadata": {},
   "outputs": [],
   "source": [
    "SEARCH_URL = 'https://collections.museumsvictoria.com.au/api/search'"
   ]
  },
  {
   "cell_type": "code",
   "execution_count": 3,
   "metadata": {},
   "outputs": [
    {
     "data": {
      "application/vnd.jupyter.widget-view+json": {
       "model_id": "87f27e807419453fa28835ae08b57383",
       "version_major": 2,
       "version_minor": 0
      },
      "text/plain": [
       "Button(description='Randomise!', style=ButtonStyle())"
      ]
     },
     "metadata": {},
     "output_type": "display_data"
    },
    {
     "data": {
      "application/vnd.jupyter.widget-view+json": {
       "model_id": "55432e293c344ad9a7981a8a40de5f3b",
       "version_major": 2,
       "version_minor": 0
      },
      "text/plain": [
       "Output()"
      ]
     },
     "metadata": {},
     "output_type": "display_data"
    }
   ],
   "source": [
    "def display_random(b):\n",
    "    out.clear_output()\n",
    "    params = {\n",
    "        'sort': 'random',\n",
    "        'hasimages': 'yes'\n",
    "    }\n",
    "    response = requests.get(SEARCH_URL, params=params)\n",
    "    record = random.choice(response.json())\n",
    "    with out:\n",
    "        display(HTML(f'<h3>{record[\"displayTitle\"]}</h3>'))\n",
    "        display(Image(url=record['media'][0]['small']['uri']))\n",
    "        display(HTML(f'<a href=\"https://collections.museumsvictoria.com.au/{record[\"id\"]}\">More info...</a>'))\n",
    "        \n",
    "go = widgets.Button(description='Randomise!')\n",
    "out = widgets.Output()\n",
    "go.on_click(display_random)\n",
    "display(go)\n",
    "display(out)"
   ]
  },
  {
   "cell_type": "code",
   "execution_count": null,
   "metadata": {},
   "outputs": [],
   "source": []
  }
 ],
 "metadata": {
  "kernelspec": {
   "display_name": "Python 3",
   "language": "python",
   "name": "python3"
  },
  "language_info": {
   "codemirror_mode": {
    "name": "ipython",
    "version": 3
   },
   "file_extension": ".py",
   "mimetype": "text/x-python",
   "name": "python",
   "nbconvert_exporter": "python",
   "pygments_lexer": "ipython3",
   "version": "3.7.3"
  }
 },
 "nbformat": 4,
 "nbformat_minor": 4
}
