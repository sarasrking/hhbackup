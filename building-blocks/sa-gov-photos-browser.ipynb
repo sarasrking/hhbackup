{
 "cells": [
  {
   "cell_type": "markdown",
   "metadata": {},
   "source": [
    "# Category browser for the SA Government Photographic Collection"
   ]
  },
  {
   "cell_type": "code",
   "execution_count": 105,
   "metadata": {},
   "outputs": [],
   "source": [
    "import requests\n",
    "import ipywidgets as widgets\n",
    "import pandas as pd\n",
    "from IPython.display import display, Image, HTML\n",
    "from io import BytesIO"
   ]
  },
  {
   "cell_type": "code",
   "execution_count": 3,
   "metadata": {},
   "outputs": [],
   "source": [
    "API_URL = 'http://data.history.sa.gov.au/sagpc'"
   ]
  },
  {
   "cell_type": "code",
   "execution_count": 146,
   "metadata": {},
   "outputs": [],
   "source": [
    "def format_category_name(category):\n",
    "    # There are a couple of top-level categories that are just containers, so we'll ignore them\n",
    "    level = category['level'] - 2\n",
    "    if level:\n",
    "        indent = f' {level * \"-\"} '\n",
    "    else:\n",
    "        indent = ''\n",
    "    return f'{indent}{category[\"name\"]}'\n",
    "\n",
    "def make_category_dropdown_data():\n",
    "    '''\n",
    "    Generate a list of label/id paris for use in a dropdown selector\n",
    "    '''\n",
    "    # Load the category data\n",
    "    df = pd.read_csv('sa-gov-photo-categories.csv')\n",
    "    # Create labels from names with identation by level (to show hierarchy)\n",
    "    df['labels'] = df.apply(format_category_name, axis='columns')\n",
    "    # Return labels/ids as a list of two element lists\n",
    "    options = df[['labels', 'id']].loc[df['level'] > 1].to_dict('split')['data']\n",
    "    return options\n",
    "\n",
    "def get_results(change):\n",
    "    '''\n",
    "    When a category is selected, get results for the category.\n",
    "    Display image and details for each item.\n",
    "    '''\n",
    "    if change['type'] == 'change' and change['name'] == 'value':\n",
    "        out.clear_output()\n",
    "        # Search for category\n",
    "        response = requests.get(f'{API_URL}/search/category/{change.new}')\n",
    "        data = response.json()\n",
    "        with out:\n",
    "            display(HTML(f'{data[\"totalcount\"]} results'))\n",
    "            # Display items\n",
    "            for item in data['items']:\n",
    "                # print(item)\n",
    "                image = widgets.HTML(f'<a href=\"{API_URL}/media/preview/{item[\"id\"]}\"><img src=\"{API_URL}/media/preview/{item[\"id\"]}?maxsize=400\" style=\"margin-top:20px; margin-right: 20px;\"></a>')\n",
    "                caption = widgets.HTML(f'<h4>{item[\"Title\"]}</h4><p>{item[\"Description\"]}</p>')\n",
    "                display(widgets.HBox([image, caption]))\n",
    "                                                  "
   ]
  },
  {
   "cell_type": "code",
   "execution_count": 145,
   "metadata": {},
   "outputs": [
    {
     "data": {
      "application/vnd.jupyter.widget-view+json": {
       "model_id": "518ab83e8e154cfbbbf5af29f6d1c8f0",
       "version_major": 2,
       "version_minor": 0
      },
      "text/plain": [
       "Dropdown(options=(['Clothing and Dress', 302], [' - Clothing 1900-1910', 354], [' - Clothing 1910-1920', 375],…"
      ]
     },
     "metadata": {},
     "output_type": "display_data"
    },
    {
     "data": {
      "application/vnd.jupyter.widget-view+json": {
       "model_id": "7b8bd7bf06ea460abfe0f735e2c3b22c",
       "version_major": 2,
       "version_minor": 0
      },
      "text/plain": [
       "Output()"
      ]
     },
     "metadata": {},
     "output_type": "display_data"
    }
   ],
   "source": [
    "# Create dropdown selector\n",
    "categories = widgets.Dropdown(options=make_category_dropdown_data())\n",
    "# When the selection changes do a search\n",
    "categories.observe(get_results)\n",
    "out = widgets.Output()\n",
    "display(categories)\n",
    "display(out)"
   ]
  },
  {
   "cell_type": "code",
   "execution_count": null,
   "metadata": {},
   "outputs": [],
   "source": []
  }
 ],
 "metadata": {
  "kernelspec": {
   "display_name": "Python 3",
   "language": "python",
   "name": "python3"
  },
  "language_info": {
   "codemirror_mode": {
    "name": "ipython",
    "version": 3
   },
   "file_extension": ".py",
   "mimetype": "text/x-python",
   "name": "python",
   "nbconvert_exporter": "python",
   "pygments_lexer": "ipython3",
   "version": "3.7.7"
  }
 },
 "nbformat": 4,
 "nbformat_minor": 4
}
