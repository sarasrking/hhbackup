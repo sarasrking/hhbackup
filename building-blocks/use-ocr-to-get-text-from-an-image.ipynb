{
 "cells": [
  {
   "cell_type": "markdown",
   "metadata": {},
   "source": [
    "# Use OCR to get text from an image (and images from text?)"
   ]
  },
  {
   "cell_type": "code",
   "execution_count": 1,
   "metadata": {},
   "outputs": [],
   "source": [
    "import pytesseract\n",
    "import tempfile\n",
    "import cv2\n",
    "from pathlib import Path"
   ]
  },
  {
   "cell_type": "markdown",
   "metadata": {},
   "source": [
    "OCR is easy to try, but hard to get right. Sometimes it just works, other times you need to pre-process the images, or adjust the default segmentation settings. At the very least, you probably want to convert colour images to greyscale.\n",
    "\n",
    "In this example we'll load [the image](../images/nla.obj-62330748-1.jpg) into OpenCV (that's the `cv2` prefix), and convert it to greyscale. Then we'll feed it to Tesseract to do the OCR. Because this is a poster, rater than a normal page of text, I've set the page segmentation model (`psm`) to 4, which looks at each line separately."
   ]
  },
  {
   "cell_type": "code",
   "execution_count": 3,
   "metadata": {},
   "outputs": [
    {
     "name": "stdout",
     "output_type": "stream",
     "text": [
      "aC\n",
      "\n",
      "BOX 2343, G.P.0. PREMIER'S DEPARTMENT\n",
      "ADELAIDE, 8.A, $001\n",
      "\n",
      "225 40811 F ADELAIDE, SOUTH AUSTRALIA\n",
      "reves RAST b\n",
      "Ww rerQeWkeA be Quore\n",
      "REF, AA,\n",
      "\n",
      "24 peo 1976\n",
      "\n",
      "———a\n",
      "Dear Mr. Bllicott,\n",
      "\n",
      "= am writing to you as Minteter in charge of the\n",
      "Classification of Publications Act in order to bring to your\n",
      "\n",
      "attention the present position in regard to eensorship within\n",
      "Australia.\n",
      "\n",
      "You will be oware that for many years the Vommonwealth\n",
      "Gevernment prohibited the importation of almost all pornographic\n",
      "material from overseas, but that more recently standards have\n",
      "been relaxed. Hach of the States has now eome method of\n",
      "controlling the sale of such material although there aro\n",
      "variations in standards; be expected and indeed\n",
      "the right to have local differences is one of the reasons for\n",
      "the of State Governments. However, the previous\n",
      " tepomeadg ped Government and the various States had mado some\n",
      "\n",
      "r & jewards a uniform system of classification, although\n",
      "it allowed for variations of standard if so desired by a\n",
      "State. I think that there is much merit in continuing\n",
      "with the proposal if at all possible.\n",
      "ms South Australie was the first State to introduce a\n",
      "be on of Publications Act which allowed vorying restrictions\n",
      "placed upon the sale and exhibition of pornographic material\n",
      "iy Tasmania hes introduced and operated 2 very\n",
      "‘similar Act. Oniy 2 few wooks ago tho New South Wales Government,\n",
      "\n",
      "_ also introduced a similer systeu. The South Australian Classifigation\n",
      "of Publications Board has recently re-essessed the type of een\n",
      "attracting the various range of prohibitions in the South Austrdlian\n",
      "legislation. They are set out in the attached list. In Tasmanin\n",
      "there is a provision for total prohibition which does not exist in\n",
      "the South Australian legislation as we can refuse to classify a\n",
      "publication so that the old Police Offences Act provisions\n",
      "effectively apply. In Tasmania they have adopted the some standards\n",
      "es South Australia in regard to unrestricted material but as a\n",
      "matter of course they have imposed all restrictions available if\n",
      "@ publication is to be restricted at all. At their last meeting\n",
      "they totally prohibited five publications relating to paedophilia.\n",
      "The Tasmanian Government hae largely used the South Australian\n",
      "advices for their classification by converting South Australian\n",
      "classifications to an appropriate but different Tasmanian\n",
      "classification. I understand that New South Wales commenced\n",
      "\n",
      "classification system on a similar basis to that applying\n",
      "ith Australie.\n"
     ]
    }
   ],
   "source": [
    "img = cv2.imread('7539064-p4.jpg')\n",
    "grey = cv2.cvtColor(img, cv2.COLOR_BGR2GRAY)\n",
    "text = pytesseract.image_to_string(grey, config='--psm 4')\n",
    "print(text)"
   ]
  },
  {
   "cell_type": "markdown",
   "metadata": {},
   "source": [
    "## Get images of the letters\n",
    "\n",
    "Pytesseract's `image_to_boxes()` option gives us back individual letters and their bounding boxes. We can then use these bounding boxes to crop images of the letters from the poster. Or at least that's the theory."
   ]
  },
  {
   "cell_type": "code",
   "execution_count": null,
   "metadata": {},
   "outputs": [],
   "source": [
    "Path('letters').mkdir(parents=True, exist_ok=True)\n",
    "h, w, c = img.shape\n",
    "boxes = pytesseract.image_to_boxes(grey, config='--psm 4 --oem 1') \n",
    "for i, b in enumerate(boxes.splitlines()):\n",
    "    b = b.split(' ')\n",
    "    # img = cv2.rectangle(img, (int(b[1]), h - int(b[2])), (int(b[3]), h - int(b[4])), (0, 255, 0), 2)\n",
    "    if b[0].isalpha():\n",
    "        # Note the weird way the coordinates are provided\n",
    "        letter = img[h - int(b[4]):h - int(b[2]), int(b[1]):int(b[3])]\n",
    "        cv2.imwrite(f'letters/{b[0]}-{i}.jpg', letter)                                                  \n",
    "cv2.imwrite('test.jpg', img)"
   ]
  },
  {
   "cell_type": "markdown",
   "metadata": {},
   "source": [
    "Have a look in the `letters` directory to see if it worked."
   ]
  },
  {
   "cell_type": "markdown",
   "metadata": {},
   "source": [
    "## What next?\n",
    "\n",
    "I found the poster I'm using as an example in the `book` zone of Trove. It's part of the ephemera collection. If you'd like to play with more like this, have a look at the [harvesting ephemera](nla.obj-62330748-1.jpg) notebook.\n",
    "\n",
    "What about experimenting with extracting text from other sources? Perhaps digitised files in the National Archives of Australia..."
   ]
  },
  {
   "cell_type": "markdown",
   "metadata": {},
   "source": [
    "----\n",
    "\n",
    "Created by [Tim Sherratt](https://timsherratt.org/) for the [GLAM Workbench](https://glam-workbench.github.io/)."
   ]
  }
 ],
 "metadata": {
  "kernelspec": {
   "display_name": "Python 3",
   "language": "python",
   "name": "python3"
  },
  "language_info": {
   "codemirror_mode": {
    "name": "ipython",
    "version": 3
   },
   "file_extension": ".py",
   "mimetype": "text/x-python",
   "name": "python",
   "nbconvert_exporter": "python",
   "pygments_lexer": "ipython3",
   "version": "3.7.3"
  }
 },
 "nbformat": 4,
 "nbformat_minor": 4
}
