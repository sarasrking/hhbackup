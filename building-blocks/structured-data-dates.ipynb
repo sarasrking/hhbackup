{
 "cells": [
  {
   "cell_type": "markdown",
   "metadata": {},
   "source": [
    "# Exploring a CSV file – dates, categories, and places"
   ]
  },
  {
   "cell_type": "code",
   "execution_count": 24,
   "metadata": {},
   "outputs": [],
   "source": [
    "import pandas as pd\n",
    "import altair as alt"
   ]
  },
  {
   "cell_type": "markdown",
   "metadata": {},
   "source": [
    ">Information about mining accidents published annually in the Queensland Legislative Assembly Votes and Proceedings (later known as Queensland Parliamentary Papers) from 1882 to 1945. "
   ]
  },
  {
   "cell_type": "code",
   "execution_count": 2,
   "metadata": {},
   "outputs": [],
   "source": [
    "# Queensland Mining accidents from SLQ\n",
    "csv_url = 'https://www.data.qld.gov.au/dataset/2e5b65d7-09d5-403f-a5d5-a552410f2d5d/resource/35ea936d-083e-4ad6-beab-e0fede2cd3a6/download/slqqldminingaccidents.csv'"
   ]
  },
  {
   "cell_type": "markdown",
   "metadata": {},
   "source": [
    "Trying to open this file with `pd.read_csv(csv_url)` will result in an encoding error. By default, Pandas expects files to use `utf-8` encoding, but if that doesn't work you can ask it to try other encoding schemes such as 'ISO-8859-1'. In some cases it might require a bit of trial and error to find the right encoding. The GLAM CSV Explorer tries 'utf-8', 'ISO-8859-1', and 'latin-1' before giving up."
   ]
  },
  {
   "cell_type": "code",
   "execution_count": 6,
   "metadata": {},
   "outputs": [
    {
     "data": {
      "text/html": [
       "<div>\n",
       "<style scoped>\n",
       "    .dataframe tbody tr th:only-of-type {\n",
       "        vertical-align: middle;\n",
       "    }\n",
       "\n",
       "    .dataframe tbody tr th {\n",
       "        vertical-align: top;\n",
       "    }\n",
       "\n",
       "    .dataframe thead th {\n",
       "        text-align: right;\n",
       "    }\n",
       "</style>\n",
       "<table border=\"1\" class=\"dataframe\">\n",
       "  <thead>\n",
       "    <tr style=\"text-align: right;\">\n",
       "      <th></th>\n",
       "      <th>'ID</th>\n",
       "      <th>Name</th>\n",
       "      <th>Field2</th>\n",
       "      <th>Year</th>\n",
       "      <th>Session</th>\n",
       "      <th>Page</th>\n",
       "      <th>Date</th>\n",
       "      <th>District</th>\n",
       "      <th>Geo-subject</th>\n",
       "      <th>Name Of Mine</th>\n",
       "      <th>Latitude</th>\n",
       "      <th>Longitude</th>\n",
       "      <th>Nature of Injuries</th>\n",
       "      <th>Remarks</th>\n",
       "      <th>Field1</th>\n",
       "      <th>Newspapers</th>\n",
       "      <th>Continue</th>\n",
       "    </tr>\n",
       "  </thead>\n",
       "  <tbody>\n",
       "    <tr>\n",
       "      <th>0</th>\n",
       "      <td>2652</td>\n",
       "      <td>Weir, W.</td>\n",
       "      <td>NaN</td>\n",
       "      <td>1908</td>\n",
       "      <td>3.0</td>\n",
       "      <td>573.0</td>\n",
       "      <td>(May 1907)</td>\n",
       "      <td>Charters Towers</td>\n",
       "      <td>Charters Towers (Qld.)</td>\n",
       "      <td>Mills United</td>\n",
       "      <td>-20.079251,146.257961</td>\n",
       "      <td>-20.079251,146.257961</td>\n",
       "      <td>NaN</td>\n",
       "      <td>Injured.  Fell off ladder in stopes and broke ...</td>\n",
       "      <td>NaN</td>\n",
       "      <td>NaN</td>\n",
       "      <td>NaN</td>\n",
       "    </tr>\n",
       "    <tr>\n",
       "      <th>1</th>\n",
       "      <td>2659</td>\n",
       "      <td>Martin, F.</td>\n",
       "      <td>NaN</td>\n",
       "      <td>1908</td>\n",
       "      <td>3.0</td>\n",
       "      <td>574.0</td>\n",
       "      <td>(May 1907)</td>\n",
       "      <td>Charters Towers</td>\n",
       "      <td>Charters Towers (Qld.)</td>\n",
       "      <td>Mills United</td>\n",
       "      <td>-20.079251,146.257961</td>\n",
       "      <td>-20.079251,146.257961</td>\n",
       "      <td>`</td>\n",
       "      <td>Injured.  Foot jammed while riding on tank in ...</td>\n",
       "      <td>NaN</td>\n",
       "      <td>NaN</td>\n",
       "      <td>NaN</td>\n",
       "    </tr>\n",
       "    <tr>\n",
       "      <th>2</th>\n",
       "      <td>2683</td>\n",
       "      <td>Williams, O.</td>\n",
       "      <td>NaN</td>\n",
       "      <td>1908</td>\n",
       "      <td>3.0</td>\n",
       "      <td>575.0</td>\n",
       "      <td>(May 1907)</td>\n",
       "      <td>Charters Towers</td>\n",
       "      <td>Charters Towers (Qld.)</td>\n",
       "      <td>Brilliant St. George G.M.</td>\n",
       "      <td>-20.075472,146.269151</td>\n",
       "      <td>-20.075472,146.269151</td>\n",
       "      <td>NaN</td>\n",
       "      <td>Injured.  Cut back by fall of stone.</td>\n",
       "      <td>NaN</td>\n",
       "      <td>NaN</td>\n",
       "      <td>NaN</td>\n",
       "    </tr>\n",
       "    <tr>\n",
       "      <th>3</th>\n",
       "      <td>2778</td>\n",
       "      <td>Morris, Edwd.</td>\n",
       "      <td>NaN</td>\n",
       "      <td>1908</td>\n",
       "      <td>3.0</td>\n",
       "      <td>581.0</td>\n",
       "      <td>(May 1907)</td>\n",
       "      <td>Charters Towers</td>\n",
       "      <td>Charters Towers (Qld.)</td>\n",
       "      <td>Mills United</td>\n",
       "      <td>-20.079251,146.257961</td>\n",
       "      <td>-20.079251,146.257961</td>\n",
       "      <td>NaN</td>\n",
       "      <td>Injured.  Received cut head through falling of...</td>\n",
       "      <td>NaN</td>\n",
       "      <td>NaN</td>\n",
       "      <td>NaN</td>\n",
       "    </tr>\n",
       "    <tr>\n",
       "      <th>4</th>\n",
       "      <td>2750</td>\n",
       "      <td>Bryden, J. H.</td>\n",
       "      <td>NaN</td>\n",
       "      <td>1908</td>\n",
       "      <td>3.0</td>\n",
       "      <td>579.0</td>\n",
       "      <td>(Jun 1907)</td>\n",
       "      <td>Charters Towers</td>\n",
       "      <td>Charters Towers (Qld.)</td>\n",
       "      <td>Mills United</td>\n",
       "      <td>-20.079251,146.257961</td>\n",
       "      <td>-20.079251,146.257961</td>\n",
       "      <td>NaN</td>\n",
       "      <td>Injured. Lost top of finger against chute in l...</td>\n",
       "      <td>NaN</td>\n",
       "      <td>NaN</td>\n",
       "      <td>NaN</td>\n",
       "    </tr>\n",
       "  </tbody>\n",
       "</table>\n",
       "</div>"
      ],
      "text/plain": [
       "    'ID           Name Field2  Year  Session   Page        Date  \\\n",
       "0  2652       Weir, W.    NaN  1908      3.0  573.0  (May 1907)   \n",
       "1  2659     Martin, F.    NaN  1908      3.0  574.0  (May 1907)   \n",
       "2  2683   Williams, O.    NaN  1908      3.0  575.0  (May 1907)   \n",
       "3  2778  Morris, Edwd.    NaN  1908      3.0  581.0  (May 1907)   \n",
       "4  2750  Bryden, J. H.    NaN  1908      3.0  579.0  (Jun 1907)   \n",
       "\n",
       "          District             Geo-subject               Name Of Mine  \\\n",
       "0  Charters Towers  Charters Towers (Qld.)               Mills United   \n",
       "1  Charters Towers  Charters Towers (Qld.)               Mills United   \n",
       "2  Charters Towers  Charters Towers (Qld.)  Brilliant St. George G.M.   \n",
       "3  Charters Towers  Charters Towers (Qld.)               Mills United   \n",
       "4  Charters Towers  Charters Towers (Qld.)               Mills United   \n",
       "\n",
       "                Latitude              Longitude Nature of Injuries  \\\n",
       "0  -20.079251,146.257961  -20.079251,146.257961                NaN   \n",
       "1  -20.079251,146.257961  -20.079251,146.257961                  `   \n",
       "2  -20.075472,146.269151  -20.075472,146.269151                NaN   \n",
       "3  -20.079251,146.257961  -20.079251,146.257961                NaN   \n",
       "4  -20.079251,146.257961  -20.079251,146.257961                NaN   \n",
       "\n",
       "                                             Remarks Field1 Newspapers  \\\n",
       "0  Injured.  Fell off ladder in stopes and broke ...    NaN        NaN   \n",
       "1  Injured.  Foot jammed while riding on tank in ...    NaN        NaN   \n",
       "2               Injured.  Cut back by fall of stone.    NaN        NaN   \n",
       "3  Injured.  Received cut head through falling of...    NaN        NaN   \n",
       "4  Injured. Lost top of finger against chute in l...    NaN        NaN   \n",
       "\n",
       "  Continue  \n",
       "0      NaN  \n",
       "1      NaN  \n",
       "2      NaN  \n",
       "3      NaN  \n",
       "4      NaN  "
      ]
     },
     "execution_count": 6,
     "metadata": {},
     "output_type": "execute_result"
    }
   ],
   "source": [
    "df = pd.read_csv(csv_url, encoding='ISO-8859-1')\n",
    "df.head()"
   ]
  },
  {
   "cell_type": "markdown",
   "metadata": {},
   "source": [
    "## Number of records\n",
    "\n",
    "Use `.shape` to find the rumber of rows and columns in the dataset."
   ]
  },
  {
   "cell_type": "code",
   "execution_count": 14,
   "metadata": {},
   "outputs": [
    {
     "data": {
      "text/plain": [
       "(8903, 17)"
      ]
     },
     "execution_count": 14,
     "metadata": {},
     "output_type": "execute_result"
    }
   ],
   "source": [
    "df.shape"
   ]
  },
  {
   "cell_type": "markdown",
   "metadata": {},
   "source": [
    " So there are are 8,903 rows in this CSV file."
   ]
  },
  {
   "cell_type": "markdown",
   "metadata": {},
   "source": [
    "## Examining dates\n",
    "\n",
    "It looks like there are two fields containing dates. 'Year' seems like its the year the accident was reported to Parliament. 'Date' looks like the actual date of the accident.\n",
    "\n",
    "The first question we might ask is does every record have a date? By using `.dropna()` we can exclude rows without a value and count what's left."
   ]
  },
  {
   "cell_type": "code",
   "execution_count": 64,
   "metadata": {},
   "outputs": [
    {
     "data": {
      "text/plain": [
       "(8903,)"
      ]
     },
     "execution_count": 64,
     "metadata": {},
     "output_type": "execute_result"
    }
   ],
   "source": [
    "df['Year'].dropna().shape"
   ]
  },
  {
   "cell_type": "markdown",
   "metadata": {},
   "source": [
    "If we compare this to the total number of rows above, we see that every row has a `Year`."
   ]
  },
  {
   "cell_type": "code",
   "execution_count": 63,
   "metadata": {},
   "outputs": [
    {
     "data": {
      "text/plain": [
       "(7255,)"
      ]
     },
     "execution_count": 63,
     "metadata": {},
     "output_type": "execute_result"
    }
   ],
   "source": [
    "df['Date'].dropna().shape"
   ]
  },
  {
   "cell_type": "markdown",
   "metadata": {},
   "source": [
    "But not every row has a `Date`. Let's have a look at the values in the `Date` field."
   ]
  },
  {
   "cell_type": "code",
   "execution_count": 65,
   "metadata": {},
   "outputs": [
    {
     "data": {
      "text/plain": [
       "0       (May 1907)\n",
       "1       (May 1907)\n",
       "2       (May 1907)\n",
       "3       (May 1907)\n",
       "4       (Jun 1907)\n",
       "           ...    \n",
       "7250    13/01/1900\n",
       "7251    12/01/1900\n",
       "7252    11/01/1900\n",
       "7253     7/01/1900\n",
       "7254     5/01/1900\n",
       "Name: Date, Length: 7255, dtype: object"
      ]
     },
     "execution_count": 65,
     "metadata": {},
     "output_type": "execute_result"
    }
   ],
   "source": [
    "df['Date'].dropna()"
   ]
  },
  {
   "cell_type": "markdown",
   "metadata": {},
   "source": [
    "So not only are some dates missing, but the format in which they're recorded varies. Let's try to normalise the values by extracting a year from the date. We're going to use a regular expression – `\\d{4}` – to look for a series of four numbers in the date string. We'll save the extracted year to a new column – `accident_year`."
   ]
  },
  {
   "cell_type": "code",
   "execution_count": 66,
   "metadata": {},
   "outputs": [],
   "source": [
    "df['accident_year'] = df['Date'].dropna().str.extract(r'(\\d{4})')"
   ]
  },
  {
   "cell_type": "markdown",
   "metadata": {},
   "source": [
    "By comparing the number of `accident_year` values to the number of `Date` values we can see how many dates we managed to extract years from."
   ]
  },
  {
   "cell_type": "code",
   "execution_count": 69,
   "metadata": {},
   "outputs": [
    {
     "data": {
      "text/plain": [
       "(7255,)"
      ]
     },
     "execution_count": 69,
     "metadata": {},
     "output_type": "execute_result"
    }
   ],
   "source": [
    "df['accident_year'].dropna().shape"
   ]
  },
  {
   "cell_type": "markdown",
   "metadata": {},
   "source": [
    "It's the same as the number of `Date` values – so we seem to have extracted a year from every available date."
   ]
  },
  {
   "cell_type": "code",
   "execution_count": 23,
   "metadata": {},
   "outputs": [
    {
     "data": {
      "text/html": [
       "<div>\n",
       "<style scoped>\n",
       "    .dataframe tbody tr th:only-of-type {\n",
       "        vertical-align: middle;\n",
       "    }\n",
       "\n",
       "    .dataframe tbody tr th {\n",
       "        vertical-align: top;\n",
       "    }\n",
       "\n",
       "    .dataframe thead th {\n",
       "        text-align: right;\n",
       "    }\n",
       "</style>\n",
       "<table border=\"1\" class=\"dataframe\">\n",
       "  <thead>\n",
       "    <tr style=\"text-align: right;\">\n",
       "      <th></th>\n",
       "      <th>'ID</th>\n",
       "      <th>Name</th>\n",
       "      <th>Field2</th>\n",
       "      <th>Year</th>\n",
       "      <th>Session</th>\n",
       "      <th>Page</th>\n",
       "      <th>Date</th>\n",
       "      <th>District</th>\n",
       "      <th>Geo-subject</th>\n",
       "      <th>Name Of Mine</th>\n",
       "      <th>Latitude</th>\n",
       "      <th>Longitude</th>\n",
       "      <th>Nature of Injuries</th>\n",
       "      <th>Remarks</th>\n",
       "      <th>Field1</th>\n",
       "      <th>Newspapers</th>\n",
       "      <th>Continue</th>\n",
       "      <th>accident_year</th>\n",
       "    </tr>\n",
       "  </thead>\n",
       "  <tbody>\n",
       "    <tr>\n",
       "      <th>7</th>\n",
       "      <td>8423</td>\n",
       "      <td>Mann, H.</td>\n",
       "      <td>NaN</td>\n",
       "      <td>1946</td>\n",
       "      <td>2.0</td>\n",
       "      <td>160.0</td>\n",
       "      <td>22/05/2012</td>\n",
       "      <td>Charters Towers</td>\n",
       "      <td>Charters Towers (Qld.)</td>\n",
       "      <td>Black Jack</td>\n",
       "      <td>-20.150396,146.221676</td>\n",
       "      <td>-20.150396,146.221676</td>\n",
       "      <td>NaN</td>\n",
       "      <td>Injured. Lacerated L hand, caused while break...</td>\n",
       "      <td>NaN</td>\n",
       "      <td>NaN</td>\n",
       "      <td>NaN</td>\n",
       "      <td>2012</td>\n",
       "    </tr>\n",
       "  </tbody>\n",
       "</table>\n",
       "</div>"
      ],
      "text/plain": [
       "    'ID      Name Field2  Year  Session   Page        Date         District  \\\n",
       "7  8423  Mann, H.    NaN  1946      2.0  160.0  22/05/2012  Charters Towers   \n",
       "\n",
       "              Geo-subject Name Of Mine               Latitude  \\\n",
       "7  Charters Towers (Qld.)   Black Jack  -20.150396,146.221676   \n",
       "\n",
       "               Longitude Nature of Injuries  \\\n",
       "7  -20.150396,146.221676                NaN   \n",
       "\n",
       "                                             Remarks Field1 Newspapers  \\\n",
       "7   Injured. Lacerated L hand, caused while break...    NaN        NaN   \n",
       "\n",
       "  Continue accident_year  \n",
       "7      NaN          2012  "
      ]
     },
     "execution_count": 23,
     "metadata": {},
     "output_type": "execute_result"
    }
   ],
   "source": [
    "df.loc[df['accident_year'] == '2012']"
   ]
  },
  {
   "cell_type": "code",
   "execution_count": 27,
   "metadata": {},
   "outputs": [
    {
     "data": {
      "text/html": [
       "<div>\n",
       "<style scoped>\n",
       "    .dataframe tbody tr th:only-of-type {\n",
       "        vertical-align: middle;\n",
       "    }\n",
       "\n",
       "    .dataframe tbody tr th {\n",
       "        vertical-align: top;\n",
       "    }\n",
       "\n",
       "    .dataframe thead th {\n",
       "        text-align: right;\n",
       "    }\n",
       "</style>\n",
       "<table border=\"1\" class=\"dataframe\">\n",
       "  <thead>\n",
       "    <tr style=\"text-align: right;\">\n",
       "      <th></th>\n",
       "      <th>year</th>\n",
       "      <th>accidents</th>\n",
       "    </tr>\n",
       "  </thead>\n",
       "  <tbody>\n",
       "    <tr>\n",
       "      <th>0</th>\n",
       "      <td>1935</td>\n",
       "      <td>384</td>\n",
       "    </tr>\n",
       "    <tr>\n",
       "      <th>1</th>\n",
       "      <td>1934</td>\n",
       "      <td>360</td>\n",
       "    </tr>\n",
       "    <tr>\n",
       "      <th>2</th>\n",
       "      <td>1912</td>\n",
       "      <td>348</td>\n",
       "    </tr>\n",
       "    <tr>\n",
       "      <th>3</th>\n",
       "      <td>1938</td>\n",
       "      <td>329</td>\n",
       "    </tr>\n",
       "    <tr>\n",
       "      <th>4</th>\n",
       "      <td>1932</td>\n",
       "      <td>239</td>\n",
       "    </tr>\n",
       "  </tbody>\n",
       "</table>\n",
       "</div>"
      ],
      "text/plain": [
       "   year  accidents\n",
       "0  1935        384\n",
       "1  1934        360\n",
       "2  1912        348\n",
       "3  1938        329\n",
       "4  1932        239"
      ]
     },
     "execution_count": 27,
     "metadata": {},
     "output_type": "execute_result"
    }
   ],
   "source": [
    "accidents_by_year = df['accident_year'].value_counts().to_frame().reset_index()\n",
    "accidents_by_year.columns = ['year', 'accidents']\n",
    "accidents_by_year.head()"
   ]
  },
  {
   "cell_type": "code",
   "execution_count": 42,
   "metadata": {},
   "outputs": [
    {
     "data": {
      "text/html": [
       "\n",
       "<div id=\"altair-viz-b3a163b03abf434e9242e35e75814c3b\"></div>\n",
       "<script type=\"text/javascript\">\n",
       "  (function(spec, embedOpt){\n",
       "    let outputDiv = document.currentScript.previousElementSibling;\n",
       "    if (outputDiv.id !== \"altair-viz-b3a163b03abf434e9242e35e75814c3b\") {\n",
       "      outputDiv = document.getElementById(\"altair-viz-b3a163b03abf434e9242e35e75814c3b\");\n",
       "    }\n",
       "    const paths = {\n",
       "      \"vega\": \"https://cdn.jsdelivr.net/npm//vega@5?noext\",\n",
       "      \"vega-lib\": \"https://cdn.jsdelivr.net/npm//vega-lib?noext\",\n",
       "      \"vega-lite\": \"https://cdn.jsdelivr.net/npm//vega-lite@4.8.1?noext\",\n",
       "      \"vega-embed\": \"https://cdn.jsdelivr.net/npm//vega-embed@6?noext\",\n",
       "    };\n",
       "\n",
       "    function loadScript(lib) {\n",
       "      return new Promise(function(resolve, reject) {\n",
       "        var s = document.createElement('script');\n",
       "        s.src = paths[lib];\n",
       "        s.async = true;\n",
       "        s.onload = () => resolve(paths[lib]);\n",
       "        s.onerror = () => reject(`Error loading script: ${paths[lib]}`);\n",
       "        document.getElementsByTagName(\"head\")[0].appendChild(s);\n",
       "      });\n",
       "    }\n",
       "\n",
       "    function showError(err) {\n",
       "      outputDiv.innerHTML = `<div class=\"error\" style=\"color:red;\">${err}</div>`;\n",
       "      throw err;\n",
       "    }\n",
       "\n",
       "    function displayChart(vegaEmbed) {\n",
       "      vegaEmbed(outputDiv, spec, embedOpt)\n",
       "        .catch(err => showError(`Javascript Error: ${err.message}<br>This usually means there's a typo in your chart specification. See the javascript console for the full traceback.`));\n",
       "    }\n",
       "\n",
       "    if(typeof define === \"function\" && define.amd) {\n",
       "      requirejs.config({paths});\n",
       "      require([\"vega-embed\"], displayChart, err => showError(`Error loading script: ${err.message}`));\n",
       "    } else if (typeof vegaEmbed === \"function\") {\n",
       "      displayChart(vegaEmbed);\n",
       "    } else {\n",
       "      loadScript(\"vega\")\n",
       "        .then(() => loadScript(\"vega-lite\"))\n",
       "        .then(() => loadScript(\"vega-embed\"))\n",
       "        .catch(showError)\n",
       "        .then(() => displayChart(vegaEmbed));\n",
       "    }\n",
       "  })({\"config\": {\"view\": {\"continuousWidth\": 400, \"continuousHeight\": 300}}, \"data\": {\"name\": \"data-54ae4bdf0c7a9f46cb2940a84328cd8c\"}, \"mark\": {\"type\": \"bar\", \"size\": 4}, \"encoding\": {\"x\": {\"type\": \"temporal\", \"field\": \"year\"}, \"y\": {\"type\": \"quantitative\", \"field\": \"accidents\"}}, \"width\": 600, \"$schema\": \"https://vega.github.io/schema/vega-lite/v4.8.1.json\", \"datasets\": {\"data-54ae4bdf0c7a9f46cb2940a84328cd8c\": [{\"year\": \"1935\", \"accidents\": 384}, {\"year\": \"1934\", \"accidents\": 360}, {\"year\": \"1912\", \"accidents\": 348}, {\"year\": \"1938\", \"accidents\": 329}, {\"year\": \"1932\", \"accidents\": 239}, {\"year\": \"1930\", \"accidents\": 239}, {\"year\": \"1933\", \"accidents\": 224}, {\"year\": \"1936\", \"accidents\": 218}, {\"year\": \"1929\", \"accidents\": 214}, {\"year\": \"1910\", \"accidents\": 212}, {\"year\": \"1931\", \"accidents\": 206}, {\"year\": \"1913\", \"accidents\": 204}, {\"year\": \"1942\", \"accidents\": 197}, {\"year\": \"1911\", \"accidents\": 194}, {\"year\": \"1943\", \"accidents\": 191}, {\"year\": \"1927\", \"accidents\": 184}, {\"year\": \"1906\", \"accidents\": 181}, {\"year\": \"1939\", \"accidents\": 178}, {\"year\": \"1937\", \"accidents\": 170}, {\"year\": \"1915\", \"accidents\": 170}, {\"year\": \"1909\", \"accidents\": 167}, {\"year\": \"1908\", \"accidents\": 166}, {\"year\": \"1914\", \"accidents\": 165}, {\"year\": \"1928\", \"accidents\": 149}, {\"year\": \"1904\", \"accidents\": 145}, {\"year\": \"1903\", \"accidents\": 144}, {\"year\": \"1907\", \"accidents\": 141}, {\"year\": \"1901\", \"accidents\": 136}, {\"year\": \"1924\", \"accidents\": 132}, {\"year\": \"1900\", \"accidents\": 132}, {\"year\": \"1921\", \"accidents\": 125}, {\"year\": \"1925\", \"accidents\": 124}, {\"year\": \"1916\", \"accidents\": 123}, {\"year\": \"1902\", \"accidents\": 122}, {\"year\": \"1905\", \"accidents\": 114}, {\"year\": \"1918\", \"accidents\": 91}, {\"year\": \"1923\", \"accidents\": 90}, {\"year\": \"1919\", \"accidents\": 76}, {\"year\": \"1917\", \"accidents\": 73}, {\"year\": \"1920\", \"accidents\": 70}, {\"year\": \"1922\", \"accidents\": 64}, {\"year\": \"1926\", \"accidents\": 62}, {\"year\": \"1890\", \"accidents\": 1}, {\"year\": \"2012\", \"accidents\": 1}]}}, {\"mode\": \"vega-lite\"});\n",
       "</script>"
      ],
      "text/plain": [
       "alt.Chart(...)"
      ]
     },
     "execution_count": 42,
     "metadata": {},
     "output_type": "execute_result"
    }
   ],
   "source": [
    "alt.Chart(accidents_by_year).mark_bar(size=4).encode(\n",
    "    x='year:T',\n",
    "    y='accidents:Q'\n",
    ").properties(width=600)"
   ]
  },
  {
   "cell_type": "code",
   "execution_count": 70,
   "metadata": {},
   "outputs": [
    {
     "data": {
      "text/plain": [
       "Killed              100\n",
       "Scalp wound          68\n",
       "Broken leg           43\n",
       "Bruised              41\n",
       "Crushed to death     33\n",
       "Bruises              30\n",
       "Fatal                23\n",
       "Severe bruises       20\n",
       "Fractured skull      19\n",
       "Bruised foot         19\n",
       "Slight bruises       19\n",
       "Leg broken           17\n",
       "Sprained ankle       16\n",
       "Scalp wounds         16\n",
       "Contusions           16\n",
       "Slightly bruised     15\n",
       "Drowned              14\n",
       "Hand injured         13\n",
       "Broken arm           13\n",
       "Fatally injured      12\n",
       "Name: Nature of Injuries, dtype: int64"
      ]
     },
     "execution_count": 70,
     "metadata": {},
     "output_type": "execute_result"
    }
   ],
   "source": [
    "df['Nature of Injuries'].value_counts()[:20]"
   ]
  },
  {
   "cell_type": "code",
   "execution_count": 71,
   "metadata": {},
   "outputs": [
    {
     "data": {
      "text/plain": [
       "Mount Morgan                    602\n",
       "Mount Isa Mines                 354\n",
       "Bowen State                     343\n",
       "Mount Morgan Mine               240\n",
       "State Smelters                  145\n",
       "Brilliant Extended              120\n",
       "Bowen Consolidated              116\n",
       "Chillagoe State Smelters        114\n",
       "Mount Mulligan                  114\n",
       "Aberdare Extended No. 1         108\n",
       "New Aberdare                    107\n",
       "Tannymorel                       84\n",
       "Mount Mulligan Colliery          76\n",
       "Noblevale No. 1                  76\n",
       "Scottish Gympie                  74\n",
       "Mount Morgan Reduction Works     70\n",
       "Blackheath                       70\n",
       "Mount Coolon                     69\n",
       "Mount Isa                        66\n",
       "Mills United                     64\n",
       "Name: Name Of Mine, dtype: int64"
      ]
     },
     "execution_count": 71,
     "metadata": {},
     "output_type": "execute_result"
    }
   ],
   "source": [
    "df['Name Of Mine'].value_counts()[:20]"
   ]
  },
  {
   "cell_type": "code",
   "execution_count": null,
   "metadata": {},
   "outputs": [],
   "source": []
  }
 ],
 "metadata": {
  "kernelspec": {
   "display_name": "Python 3",
   "language": "python",
   "name": "python3"
  },
  "language_info": {
   "codemirror_mode": {
    "name": "ipython",
    "version": 3
   },
   "file_extension": ".py",
   "mimetype": "text/x-python",
   "name": "python",
   "nbconvert_exporter": "python",
   "pygments_lexer": "ipython3",
   "version": "3.7.7"
  }
 },
 "nbformat": 4,
 "nbformat_minor": 4
}
