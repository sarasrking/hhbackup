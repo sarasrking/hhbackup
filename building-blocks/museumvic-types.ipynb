{
 "cells": [
  {
   "cell_type": "code",
   "execution_count": null,
   "metadata": {},
   "outputs": [],
   "source": []
  },
  {
   "cell_type": "code",
   "execution_count": 7,
   "metadata": {},
   "outputs": [],
   "source": [
    "SEARCH_URL = 'https://collections.museumsvictoria.com.au/api/search'\n",
    "\n",
    "RECORD_TYPES = [\n",
    "    'Specimen',\n",
    "    'Item',\n",
    "    'Article',\n",
    "    'Species'\n",
    "]\n",
    "\n",
    "ITEM_TYPES = [\n",
    "    'Specimen',\n",
    "    'Image',\n",
    "    'Object',\n",
    "    'Document',\n",
    "    'Audiovisual',\n",
    "    'Model'\n",
    "]"
   ]
  }
 ],
 "metadata": {
  "kernelspec": {
   "display_name": "Python 3",
   "language": "python",
   "name": "python3"
  },
  "language_info": {
   "codemirror_mode": {
    "name": "ipython",
    "version": 3
   },
   "file_extension": ".py",
   "mimetype": "text/x-python",
   "name": "python",
   "nbconvert_exporter": "python",
   "pygments_lexer": "ipython3",
   "version": "3.7.7"
  }
 },
 "nbformat": 4,
 "nbformat_minor": 4
}
